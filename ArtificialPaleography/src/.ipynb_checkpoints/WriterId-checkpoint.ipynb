{
 "cells": [
  {
   "cell_type": "markdown",
   "id": "73f46f42-d3d7-4520-b1cc-e00b965f797d",
   "metadata": {},
   "source": [
    "# LivreQuanti2023: Writer Identification\n",
    "\n",
    "Ce document exploite les données de l'entrepôt https://github.com/oriflamms/RegVat_ArchNatJJ_MOM_LBA_2019 correspondant aux publications : \n",
    "\n",
    "## Références\n",
    "\n",
    "Article\n",
    "* Stutzmann, Dominique, « Les écritures de la chancellerie pontificale dans le paysage européen (XIIe -XVe siècles) ». ed. O. Guyotjeannin, R. Große,  Les actes pontificaux. Un trésor à exploiter, sous presse\n",
    "\n",
    "Données \n",
    "* Stutzmann, Dominique. (2022). Handwriting of the papal chancery and beyond: Dataset [Data set]. Les actes pontificaux : un trésor à exploiter, Paris, France. Zenodo. https://doi.org/10.5281/zenodo.5805652 \n"
   ]
  },
  {
   "cell_type": "markdown",
   "id": "ccadb8ff-acfc-4d26-9163-4212b68884b1",
   "metadata": {},
   "source": [
    "## Environnement"
   ]
  },
  {
   "cell_type": "code",
   "execution_count": 52,
   "id": "fe352e68-71dd-49e9-bb4d-ef3eab540737",
   "metadata": {},
   "outputs": [
    {
     "name": "stdout",
     "output_type": "stream",
     "text": [
      "Requirement already satisfied: plotly in /home/stutzmann/anaconda3/lib/python3.9/site-packages (5.9.0)\n",
      "Requirement already satisfied: tenacity>=6.2.0 in /home/stutzmann/anaconda3/lib/python3.9/site-packages (from plotly) (8.2.2)\n"
     ]
    }
   ],
   "source": [
    "# Install and import the required packages\n",
    "\n",
    "!pip install plotly\n",
    "\n",
    "import pandas as pd\n",
    "import numpy as np\n",
    "import matplotlib.pyplot as plt\n",
    "from sklearn.decomposition import PCA\n",
    "from sklearn.manifold import TSNE\n",
    "from plotly.offline import plot\n",
    "import plotly.graph_objs as go\n",
    "import seaborn as sns\n",
    "import plotly.express as px"
   ]
  },
  {
   "cell_type": "markdown",
   "id": "d4e500c3-966c-42c3-92f6-9b1bc47f20ea",
   "metadata": {},
   "source": [
    "## Données"
   ]
  },
  {
   "cell_type": "code",
   "execution_count": 53,
   "id": "667a9580-0d84-46b1-b365-61df06c5bc43",
   "metadata": {},
   "outputs": [
    {
     "name": "stdout",
     "output_type": "stream",
     "text": [
      "(1914, 3078)\n",
      "        Unnamed: 0        D0     D1     D2     D3     D4   D5     D6     D7  \\\n",
      "0  RVAT4_00001.jpg  14283436  32873   7623  15534  14828  126   8971   8316   \n",
      "1  RVAT4_00002.jpg  13584675  51349  15708  37682  36624  241  34703  27512   \n",
      "2  RVAT4_00003.jpg  13741834  36193  11600  32443  27292  200  27967  26121   \n",
      "3  RVAT4_00004.jpg  13521816  47762  14795  37860  36741  435  32885  32928   \n",
      "4  RVAT4_00005.jpg  13830374  28539   8753  25447  23963  363  24173  24080   \n",
      "\n",
      "      D8  ...  D3067  D3068  D3069  D3070  D3071  Corpus  Volume  Date  Type1  \\\n",
      "0   7368  ...   3381   1198   1033   1983  12637    RVAT   RVAT4  1199    NaN   \n",
      "1  17862  ...  33232   6164  15669  23429  57500    RVAT   RVAT4  1199    NaN   \n",
      "2  14750  ...  37477   5843  17542  16825  35747    RVAT   RVAT4  1199    NaN   \n",
      "3  17327  ...  35913   5378  17474  18724  47689    RVAT   RVAT4  1199    NaN   \n",
      "4  11325  ...  37422   4939  18966  20779  64632    RVAT   RVAT4  1199    NaN   \n",
      "\n",
      "      Main  \n",
      "0  4_Table  \n",
      "1  4_Table  \n",
      "2  4_Table  \n",
      "3  4_Table  \n",
      "4  4_Table  \n",
      "\n",
      "[5 rows x 3078 columns]\n"
     ]
    }
   ],
   "source": [
    "# Load data files\n",
    "# Read the CSV file with specified column data types\n",
    "column_dtypes = {**{f\"V{i}\": str for i in range(0)}, **{f\"V{i}\": int for i in range(1, 3072)}, **{f\"V{i}\": str for i in range(3073, 3077)}}\n",
    "rvat = pd.read_csv(\"../data/WriterIdentification/DHIP.rvat4_8.csv\", sep=\",\", dtype=column_dtypes, low_memory=False)\n",
    "print(rvat.shape)\n",
    "print(rvat.head())"
   ]
  },
  {
   "cell_type": "markdown",
   "id": "f6d533ad-f6f6-4595-9186-07a81ae2c06c",
   "metadata": {},
   "source": [
    "## TSNE"
   ]
  },
  {
   "cell_type": "code",
   "execution_count": null,
   "id": "80444d13-7e15-4f7b-abc3-3429da9f0beb",
   "metadata": {},
   "outputs": [
    {
     "name": "stderr",
     "output_type": "stream",
     "text": [
      "Exception ignored on calling ctypes callback function: <function _ThreadpoolInfo._find_modules_with_dl_iterate_phdr.<locals>.match_module_callback at 0x7f7b60588dc0>\n",
      "Traceback (most recent call last):\n",
      "  File \"/home/stutzmann/anaconda3/lib/python3.9/site-packages/threadpoolctl.py\", line 400, in match_module_callback\n",
      "    self._make_module_from_path(filepath)\n",
      "  File \"/home/stutzmann/anaconda3/lib/python3.9/site-packages/threadpoolctl.py\", line 515, in _make_module_from_path\n",
      "    module = module_class(filepath, prefix, user_api, internal_api)\n",
      "  File \"/home/stutzmann/anaconda3/lib/python3.9/site-packages/threadpoolctl.py\", line 606, in __init__\n",
      "    self.version = self.get_version()\n",
      "  File \"/home/stutzmann/anaconda3/lib/python3.9/site-packages/threadpoolctl.py\", line 646, in get_version\n",
      "    config = get_config().split()\n",
      "AttributeError: 'NoneType' object has no attribute 'split'\n"
     ]
    },
    {
     "name": "stdout",
     "output_type": "stream",
     "text": [
      "[t-SNE] Computing 31 nearest neighbors...\n",
      "[t-SNE] Indexed 1914 samples in 0.010s...\n",
      "[t-SNE] Computed neighbors for 1914 samples in 1.037s...\n",
      "[t-SNE] Computed conditional probabilities for sample 1000 / 1914\n",
      "[t-SNE] Computed conditional probabilities for sample 1914 / 1914\n",
      "[t-SNE] Mean sigma: 73460.352132\n",
      "[t-SNE] KL divergence after 250 iterations with early exaggeration: 411.792236\n"
     ]
    }
   ],
   "source": [
    "%%time\n",
    "# Set seed\n",
    "seed = 4000\n",
    "\n",
    "# Set the parameters\n",
    "tsne = TSNE(n_components=2,\n",
    "            perplexity=10,\n",
    "            early_exaggeration=50,\n",
    "            init='pca',\n",
    "            learning_rate=50,\n",
    "            n_iter=1000,\n",
    "            verbose=1,\n",
    "            angle=0.0,\n",
    "            method='barnes_hut', \n",
    "            # method='exact', \n",
    "            random_state=seed)\n",
    "\n",
    "# Perform t-SNE\n",
    "\n",
    "rvat_tsne = tsne.fit_transform(rvat.iloc[:, 1:3073])\n",
    "\n",
    "\n",
    "\n",
    "# Create a DataFrame with t-SNE results and additional columns\n",
    "rvat_tsne_df = pd.DataFrame(rvat_tsne, columns=[\"x\", \"y\"])\n",
    "rvat_tsne_df[\"Volume\"] = rvat[\"Volume\"]\n",
    "rvat_tsne_df[\"Hand\"] = rvat[\"Main\"]\n",
    "rvat_tsne_df[\"Text\"] = rvat.index\n",
    "\n"
   ]
  },
  {
   "cell_type": "code",
   "execution_count": null,
   "id": "c3e11bf2-4ca5-4def-b073-74bccacc14c3",
   "metadata": {},
   "outputs": [],
   "source": [
    "# Visualize t-SNE using Plotly\n",
    "fig = px.scatter(rvat_tsne_df, x=\"x\", y=\"y\", color=\"Hand\", symbol=\"Hand\")\n",
    "fig.update_traces(textposition='top center')\n",
    "\n",
    "# Increase the size of the figure\n",
    "fig.update_layout(height=800, width=1000)\n",
    "\n",
    "# Save the Plotly visualization as an HTML page\n",
    "fig.write_html(\"RVAT_008_plotly_rtnse.html\")\n",
    "\n",
    "# Display the Plotly visualization\n",
    "fig.show()\n"
   ]
  },
  {
   "cell_type": "code",
   "execution_count": null,
   "id": "1eeb420e-ed54-4d28-b608-7378adf0d334",
   "metadata": {},
   "outputs": [],
   "source": []
  }
 ],
 "metadata": {
  "kernelspec": {
   "display_name": "Python 3 (ipykernel)",
   "language": "python",
   "name": "python3"
  },
  "language_info": {
   "codemirror_mode": {
    "name": "ipython",
    "version": 3
   },
   "file_extension": ".py",
   "mimetype": "text/x-python",
   "name": "python",
   "nbconvert_exporter": "python",
   "pygments_lexer": "ipython3",
   "version": "3.9.12"
  }
 },
 "nbformat": 4,
 "nbformat_minor": 5
}
