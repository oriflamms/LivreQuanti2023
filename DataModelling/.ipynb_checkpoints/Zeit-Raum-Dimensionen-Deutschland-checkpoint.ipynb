{
 "cells": [
  {
   "cell_type": "markdown",
   "id": "cad78c1f-a55c-4b05-ba3e-2dce3e642cce",
   "metadata": {},
   "source": [
    "# Beten nach Daten: statistiche Übersichten betr. Datum, Format und Entstehungsort"
   ]
  },
  {
   "cell_type": "markdown",
   "id": "b73d743e-21bb-4fa5-b1a4-3d1b380be834",
   "metadata": {},
   "source": [
    "<a href=\"https://colab.research.google.com/github/oriflamms/LivreQuanti2023/blob/main/DataModelling/Zeit-Raum-Dimensionen-Deutschland.ipynb\" target=\"_parent\"><img src=\"https://colab.research.google.com/assets/colab-badge.svg\" alt=\"Open In Colab\"/></a>"
   ]
  },
  {
   "cell_type": "markdown",
   "id": "08582314-ddef-45d4-b2cf-9bbab90623f9",
   "metadata": {},
   "source": [
    "# Environment"
   ]
  },
  {
   "cell_type": "code",
   "execution_count": null,
   "id": "c054aa05-8452-40c0-9c25-bb4127dddc74",
   "metadata": {
    "tags": []
   },
   "outputs": [],
   "source": [
    "import os, pandas as pd, numpy as np\n",
    "from urllib.request import urlopen\n",
    "\n",
    "from scipy.stats import chi2_contingency\n",
    "print(os.getcwd())\n",
    "# Set the maximum number of rows and columns to display\n",
    "pd.set_option('display.max_rows', None)\n",
    "pd.set_option('display.max_columns', None)"
   ]
  },
  {
   "cell_type": "markdown",
   "id": "6c453b70-e28d-4877-9b5f-b14338859507",
   "metadata": {},
   "source": [
    "# Data (capta)"
   ]
  },
  {
   "cell_type": "markdown",
   "id": "017472bf-c8a6-4ed4-8dc7-865a6acffb5c",
   "metadata": {},
   "source": [
    "## Load data"
   ]
  },
  {
   "cell_type": "markdown",
   "id": "965eb705-d1e3-4e82-ac57-0d3e91caf79e",
   "metadata": {},
   "source": [
    "Only if on Google Colab. Skip if used locally"
   ]
  },
  {
   "cell_type": "code",
   "execution_count": null,
   "id": "062d483e-f066-45a0-8fc7-e361abe213b3",
   "metadata": {},
   "outputs": [],
   "source": [
    "file_url_1 = 'https://raw.githubusercontent.com/oriflamms/LivreQuanti2023/main/DataModelling/Export_stutzmann_horae_t53_Manuscript_rich_20231109.xlsx'\n",
    "file_url_2 = 'https://raw.githubusercontent.com/oriflamms/LivreQuanti2023/main/DataModelling/t53_Manuscript_Country.csv'\n",
    "!wget {file_url_1}\n",
    "!wget {file_url_2}"
   ]
  },
  {
   "cell_type": "markdown",
   "id": "3baeec8e-c018-472d-9334-e264345f23b5",
   "metadata": {},
   "source": [
    "Back to main track if repo is cloned and used locally"
   ]
  },
  {
   "cell_type": "code",
   "execution_count": null,
   "id": "e747a4c8-79da-4ed0-8923-1fa18308f979",
   "metadata": {
    "tags": []
   },
   "outputs": [],
   "source": [
    "#df = pd.read_excel('./Export_stutzmann_horae_t53_numformat.xlsx', sheet_name='Capta')\n",
    "df = pd.read_excel('./Export_stutzmann_horae_t53_Manuscript_rich_20231109.xlsx', sheet_name='Tabelle2')\n",
    "df_country = pd.read_csv('./t53_Manuscript_Country.csv', sep=';')"
   ]
  },
  {
   "cell_type": "markdown",
   "id": "7f868d21-b38b-408d-b4ad-23c5e05131b1",
   "metadata": {},
   "source": [
    "## Check contents"
   ]
  },
  {
   "cell_type": "code",
   "execution_count": null,
   "id": "f85a9d6d-6369-4d72-8e6b-41ea09332e3a",
   "metadata": {
    "tags": []
   },
   "outputs": [],
   "source": [
    "print(df.shape)\n",
    "print(list(df.columns))\n",
    "df.head()"
   ]
  },
  {
   "cell_type": "code",
   "execution_count": null,
   "id": "a75bc5e3-bedc-4b1d-a499-b155391e8355",
   "metadata": {
    "tags": []
   },
   "outputs": [],
   "source": [
    "df_country.head()"
   ]
  },
  {
   "cell_type": "markdown",
   "id": "cfae785d-63e6-44c9-8ba5-9fcb6e91acce",
   "metadata": {},
   "source": [
    "## Merge dataframes based on \"Manuscript H-ID\" to add \"Country\" to main "
   ]
  },
  {
   "cell_type": "code",
   "execution_count": null,
   "id": "c3cb8aaf-097b-4268-bc32-500291470367",
   "metadata": {
    "tags": []
   },
   "outputs": [],
   "source": [
    "df = pd.merge(df, df_country[['Manuscript H-ID', 'Country']], on='Manuscript H-ID', how='left')\n",
    "df.shape"
   ]
  },
  {
   "cell_type": "code",
   "execution_count": null,
   "id": "c0f384c5-1db4-4bda-9abd-d2be8a59aab4",
   "metadata": {
    "tags": []
   },
   "outputs": [],
   "source": [
    "df.head()"
   ]
  },
  {
   "cell_type": "markdown",
   "id": "79eb4472-fc3e-4ee4-bffd-3b17c02ef6fd",
   "metadata": {
    "tags": []
   },
   "source": [
    "## Data types: check to allow for subsequent manipulation"
   ]
  },
  {
   "cell_type": "code",
   "execution_count": null,
   "id": "1852f1ae-a1e1-49e5-8911-f278e7a451bf",
   "metadata": {
    "tags": []
   },
   "outputs": [],
   "source": [
    "print(df['leaf dimensions : height (mm)'].dtypes)\n",
    "# print(df['leaf dimensions : height (mm)'].unique())\n",
    "print(df['origDate'].dtypes)\n",
    "# print(df['origDate'].unique())\n",
    "print(df['origDate : from'].dtypes)\n",
    "# print(df['origDate : from'].unique())\n",
    "print(df['origDate : to'].dtypes)\n",
    "# print(df['origDate : to'].unique())\n",
    "print(df['Country'].dtypes)\n",
    "# print(sorted(df['Country'].unique()))\n"
   ]
  },
  {
   "cell_type": "code",
   "execution_count": null,
   "id": "de4066f0-4e60-475d-abf4-7886e3ba9b9f",
   "metadata": {
    "tags": []
   },
   "outputs": [],
   "source": [
    "df['leaf dimensions : height (mm)'] = pd.to_numeric(df['leaf dimensions : height (mm)'], errors='coerce')\n",
    "df['leaf dimensions : width (mm)'] = pd.to_numeric(df['leaf dimensions : width (mm)'], errors='coerce')\n",
    "df['origDate'] = pd.to_numeric(df['origDate'], errors='coerce')\n",
    "df['origDate : from'] = pd.to_numeric(df['origDate : from'], errors='coerce')\n",
    "df['origDate : to'] = pd.to_numeric(df['origDate : to'], errors='coerce')\n",
    "df['Country'] = df['Country'].astype(str)"
   ]
  },
  {
   "cell_type": "markdown",
   "id": "b3e59422-94fe-412e-9c48-baab901ee67b",
   "metadata": {
    "tags": []
   },
   "source": [
    "# Data manipulation"
   ]
  },
  {
   "cell_type": "markdown",
   "id": "a3dafbed-5fc5-44c0-b6bf-4bf8b399cf99",
   "metadata": {
    "tags": []
   },
   "source": [
    "## Calculate \"average\" dates for manuscripts with precise dates and with dating intervals"
   ]
  },
  {
   "cell_type": "code",
   "execution_count": null,
   "id": "c11336d4-d9d2-4408-9f1c-8b05b6450c46",
   "metadata": {
    "tags": []
   },
   "outputs": [],
   "source": [
    "# Define a function to calculate the \"origDate-avg\"\n",
    "def calculate_origDate_avg(row):\n",
    "    if not pd.isna(row['origDate']):\n",
    "        return row['origDate']\n",
    "    elif not pd.isna(row['origDate : from']) and not pd.isna(row['origDate : to']):\n",
    "        return (row['origDate : from'] + row['origDate : to']) / 2\n",
    "    else:\n",
    "        return np.nan\n",
    "\n",
    "# Apply the function to create the new column\n",
    "df['origDate-avg'] = df.apply(calculate_origDate_avg, axis=1)\n",
    "# df['origDate-avg'] = df['origDate-avg'].round().astype(int)"
   ]
  },
  {
   "cell_type": "code",
   "execution_count": null,
   "id": "6464b5a1-5418-42c2-b861-2fd6293576d6",
   "metadata": {
    "tags": []
   },
   "outputs": [],
   "source": [
    "df.head()"
   ]
  },
  {
   "cell_type": "markdown",
   "id": "3b1c13d5-40c5-4806-8ef9-fbabab3a3644",
   "metadata": {},
   "source": [
    "## Limit data set to manuscripts with numeric dimensions"
   ]
  },
  {
   "cell_type": "markdown",
   "id": "af95c9c8-846f-4ddc-ac39-ec991f2cb18b",
   "metadata": {},
   "source": [
    "Drop rows with NaN, 0, or blank values, or for values less than 35 mm, which are typically fragments and cuttings which are not apt to represent the original manuscripts"
   ]
  },
  {
   "cell_type": "code",
   "execution_count": null,
   "id": "688593c2-5563-4776-929d-f6bce575f1bf",
   "metadata": {
    "tags": []
   },
   "outputs": [],
   "source": [
    "\n",
    "df = df.dropna(subset=['leaf dimensions : height (mm)'])\n",
    "df = df.dropna(subset=['leaf dimensions : width (mm)'])\n",
    "df = df[df['leaf dimensions : height (mm)'] > 35]\n",
    "df = df[df['leaf dimensions : width (mm)'] > 35]\n",
    "df.shape"
   ]
  },
  {
   "cell_type": "markdown",
   "id": "cced94fd-71a3-4dd6-b420-7b5975484db4",
   "metadata": {},
   "source": [
    "## Clean informations on countries"
   ]
  },
  {
   "cell_type": "markdown",
   "id": "b150ae6f-6f63-46d5-a258-9d00a6f2085d",
   "metadata": {},
   "source": [
    "Because the geographic origin is sometimes indicated in a list of several hypotheses, the \"Country\" information is repeated, be it the duplicaton of the same information (e.g. \"France|France\") or with conflicting informations (e.g. \"Germany|Austria).\n",
    "\n",
    "The following function reduces the duplicated and identical values to a single string and converts conflicting hypotheses to the information \"multiple countries\""
   ]
  },
  {
   "cell_type": "code",
   "execution_count": null,
   "id": "6e75faac-938a-4699-9745-77f296c2d041",
   "metadata": {
    "tags": []
   },
   "outputs": [],
   "source": [
    "def process_country(value):\n",
    "    countries = [country.strip() for country in value.split('|') if country.strip()]\n",
    "    \n",
    "    # Check if all values are the same\n",
    "    if len(set(countries)) == 1:\n",
    "        return countries[0]\n",
    "    else:\n",
    "        # If multiple values, return sorted and unique values\n",
    "        # return '|'.join(sorted(set(countries)))\n",
    "        return 'multiple countries'\n",
    "\n",
    "# Apply the function to create the new \"Processed_Country\" column\n",
    "df['Processed_Country'] = df['Country'].apply(process_country)"
   ]
  },
  {
   "cell_type": "markdown",
   "id": "e3d6dc80-f3f5-4c76-9b5e-0b990a1787e7",
   "metadata": {},
   "source": [
    "## Dimensions by DateRange (span of 50 years)"
   ]
  },
  {
   "cell_type": "markdown",
   "id": "3ff6161b-b924-47d2-96bd-f5eb3e8e956a",
   "metadata": {},
   "source": [
    "Instead of the manual grouping in Excel, the following code automates the creation of date categories by date range with an interval. The interval here is a suggested interval of 50 years."
   ]
  },
  {
   "cell_type": "code",
   "execution_count": null,
   "id": "8930fab1-1aae-43ed-9d64-133e263e3309",
   "metadata": {
    "tags": []
   },
   "outputs": [],
   "source": [
    "interval = 50"
   ]
  },
  {
   "cell_type": "code",
   "execution_count": null,
   "id": "877f917a-befa-4e5c-8f52-f93a685e4435",
   "metadata": {
    "tags": []
   },
   "outputs": [],
   "source": [
    "# Convert 'origDate-avg' to numeric, coercing errors to NaN\n",
    "df['origDate-avg'] = pd.to_numeric(df['origDate-avg'], errors='coerce')\n",
    "\n",
    "# Create a new column for the date range categories\n",
    "bins = range(1001, 2001, interval)\n",
    "labels = [f\"{start}-{start+interval-1}\" for start in bins[:-1]]\n",
    "df['DateRange'] = pd.cut(df['origDate-avg'], bins=bins, labels=labels, right=False)\n",
    "\n"
   ]
  },
  {
   "cell_type": "markdown",
   "id": "964c1348-68a9-49cc-98cb-7e9595a04f9c",
   "metadata": {},
   "source": [
    "# Categories and pivot tables"
   ]
  },
  {
   "cell_type": "markdown",
   "id": "ddea2908-7820-4ea4-ac94-df1267e4c1bf",
   "metadata": {},
   "source": [
    "## Dimensions by country"
   ]
  },
  {
   "cell_type": "code",
   "execution_count": null,
   "id": "06cf7e98-e367-496c-afa7-511df6cfa8c3",
   "metadata": {
    "tags": []
   },
   "outputs": [],
   "source": [
    "pivot_table_dimensions = df.pivot_table(\n",
    "    values=['leaf dimensions : height (mm)', 'leaf dimensions : width (mm)', 'Manuscript H-ID'],\n",
    "    index='Processed_Country',\n",
    "    aggfunc={\n",
    "        'leaf dimensions : height (mm)': 'mean',\n",
    "        'leaf dimensions : width (mm)': 'mean',\n",
    "        'Manuscript H-ID': 'count'\n",
    "    }\n",
    ").round(1)\n",
    "\n",
    "# Calculate the additional column for 'average of height x width'\n",
    "pivot_table_dimensions['average of height x width (cm²)'] = (\n",
    "    pivot_table_dimensions['leaf dimensions : height (mm)'] * \n",
    "    pivot_table_dimensions['leaf dimensions : width (mm)'] / 100\n",
    ").round(1)\n",
    "\n",
    "# Rename the columns for clarity\n",
    "pivot_table_dimensions = pivot_table_dimensions.rename(columns={\n",
    "    'leaf dimensions : height (mm)': 'average height (mm)',\n",
    "    'leaf dimensions : width (mm)': 'average width (mm)',\n",
    "    'Manuscript H-ID': 'count Manuscript H-ID'\n",
    "})\n",
    "\n",
    "# Display the pivot table\n",
    "pivot_table_dimensions\n",
    "\n"
   ]
  },
  {
   "cell_type": "markdown",
   "id": "9ce6705a-5060-4986-9cae-1a7e290e405a",
   "metadata": {},
   "source": [
    "## Dimensions by date range"
   ]
  },
  {
   "cell_type": "code",
   "execution_count": null,
   "id": "3df0024f-1573-421b-b85e-97859daf3823",
   "metadata": {
    "tags": []
   },
   "outputs": [],
   "source": [
    "pivot_table_dimensions_by_DateRange  = df.pivot_table(\n",
    "    values=['leaf dimensions : height (mm)', 'leaf dimensions : width (mm)', 'Manuscript H-ID'],\n",
    "    index='DateRange',\n",
    "    aggfunc={\n",
    "        'leaf dimensions : height (mm)': 'mean',\n",
    "        'leaf dimensions : width (mm)': 'mean',\n",
    "        'Manuscript H-ID': 'count'\n",
    "    }\n",
    ").round(1)\n",
    "\n",
    "# Calculate the additional column for 'average of height x width'\n",
    "pivot_table_dimensions_by_DateRange['average of height x width (cm²)'] = (\n",
    "    pivot_table_dimensions_by_DateRange['leaf dimensions : height (mm)'] * \n",
    "    pivot_table_dimensions_by_DateRange['leaf dimensions : width (mm)'] / 100\n",
    ").round(1)\n",
    "\n",
    "# Rename the columns for clarity\n",
    "pivot_table_dimensions_by_DateRange = pivot_table_dimensions_by_DateRange.rename(columns={\n",
    "    'leaf dimensions : height (mm)': 'average height (mm)',\n",
    "    'leaf dimensions : width (mm)': 'average width (mm)',\n",
    "    'Manuscript H-ID': 'count Manuscript H-ID'\n",
    "})\n",
    "\n",
    "# Display the pivot table\n",
    "pivot_table_dimensions_by_DateRange\n"
   ]
  },
  {
   "cell_type": "markdown",
   "id": "c44f25df-302c-409c-a68d-123dc9791939",
   "metadata": {},
   "source": [
    "## Dimensions by Date Range and Countries"
   ]
  },
  {
   "cell_type": "code",
   "execution_count": null,
   "id": "6909c489-72cf-42b1-9f58-81af0a0d4010",
   "metadata": {
    "tags": []
   },
   "outputs": [],
   "source": [
    "# Pivot table for average dimensions by DateRange and Country\n",
    "pivot_table_avg_dimensions = df.pivot_table(\n",
    "    values='leaf dimensions : height (mm)',\n",
    "    index=['DateRange', 'Processed_Country'],\n",
    "    aggfunc='mean',\n",
    "    margins=True,  # Add subtotals\n",
    "    margins_name='missing',  # Specify the name for the subtotal row\n",
    ").round(1)"
   ]
  },
  {
   "cell_type": "code",
   "execution_count": null,
   "id": "75cd7cb1-f32a-4943-89b2-e868567bec05",
   "metadata": {
    "tags": []
   },
   "outputs": [],
   "source": [
    "pivot_table_avg_dimensions"
   ]
  },
  {
   "cell_type": "code",
   "execution_count": null,
   "id": "5229eb31-aa84-4fc6-848d-790f6c2a30b8",
   "metadata": {
    "tags": []
   },
   "outputs": [],
   "source": [
    "# Pivot table for average dimensions by DateRange and Country\n",
    "pivot_table_avg_dimensions_full = df.pivot_table(\n",
    "    values=['leaf dimensions : height (mm)', 'Manuscript H-ID'],\n",
    "    index=['DateRange', 'Processed_Country'],\n",
    "    aggfunc={'leaf dimensions : height (mm)': 'mean', 'Manuscript H-ID': 'count'},\n",
    "    margins=True,  # Add subtotals\n",
    "    margins_name='missing',  # Specify the name for the subtotal row\n",
    ").round(1)\n",
    "\n",
    "pivot_table_avg_dimensions_full.head()\n"
   ]
  },
  {
   "cell_type": "markdown",
   "id": "5e0b2949-d82e-4bef-9ad1-a96dceac728b",
   "metadata": {},
   "source": [
    "# Correlation (khi2)"
   ]
  },
  {
   "cell_type": "markdown",
   "id": "2361385f-8a37-498b-a02e-13673a8bb984",
   "metadata": {},
   "source": [
    "## Date and Country"
   ]
  },
  {
   "cell_type": "code",
   "execution_count": null,
   "id": "5201bab7-6ee6-4d9a-9c37-78c7382d3b35",
   "metadata": {
    "tags": []
   },
   "outputs": [],
   "source": [
    "# Create a contingency table\n",
    "contingency_table = pd.crosstab(df['Processed_Country'], df['DateRange'])\n",
    "\n",
    "# Perform the chi-squared test\n",
    "chi2, p, _, _ = chi2_contingency(contingency_table)\n",
    "\n",
    "# Print the results\n",
    "print(\"Correlation between country and time intervals\")\n",
    "print(f\"Chi-squared value: {chi2}\")\n",
    "print(f\"P-value: {p}\")"
   ]
  },
  {
   "cell_type": "markdown",
   "id": "2939c61b-f0fb-4341-a25e-75807c9ba7f7",
   "metadata": {},
   "source": [
    "## Size and Date"
   ]
  },
  {
   "cell_type": "code",
   "execution_count": null,
   "id": "ce8786eb-b178-428a-92fe-b5f66254981a",
   "metadata": {
    "tags": []
   },
   "outputs": [],
   "source": [
    "# Create a new column for the date range categories\n",
    "bins = range(0, 900, 20)\n",
    "labels = [f\"{start}-{start+19}\" for start in bins[:-1]]\n",
    "df['heightRange'] = pd.cut(df['leaf dimensions : height (mm)'], bins=bins, labels=labels, right=False)\n",
    "\n",
    "\n",
    "# Create a contingency table\n",
    "contingency_table = pd.crosstab(df['heightRange'], df['DateRange'])\n",
    "\n",
    "# Perform the chi-squared test\n",
    "chi2, p, _, _ = chi2_contingency(contingency_table)\n",
    "\n",
    "# Print the results\n",
    "print(\"Correlation between size and time intervals\")\n",
    "print(f\"Chi-squared value: {chi2}\")\n",
    "print(f\"P-value: {p}\")"
   ]
  },
  {
   "cell_type": "markdown",
   "id": "c4a577ee-dab0-4e48-b058-4e9aaf9ebe71",
   "metadata": {
    "tags": []
   },
   "source": [
    "## Country and Size"
   ]
  },
  {
   "cell_type": "code",
   "execution_count": null,
   "id": "62a0902f-41c3-44c5-a12a-9b97079566ca",
   "metadata": {
    "tags": []
   },
   "outputs": [],
   "source": [
    "# Create a contingency table\n",
    "contingency_table = pd.crosstab(df['heightRange'], df['Country'])\n",
    "\n",
    "# Perform the chi-squared test\n",
    "chi2, p, _, _ = chi2_contingency(contingency_table)\n",
    "\n",
    "# Print the results\n",
    "print(\"Correlation between size and countries\")\n",
    "print(f\"Chi-squared value: {chi2}\")\n",
    "print(f\"P-value: {p}\")"
   ]
  }
 ],
 "metadata": {
  "kernelspec": {
   "display_name": "Python 3 (ipykernel)",
   "language": "python",
   "name": "python3"
  },
  "language_info": {
   "codemirror_mode": {
    "name": "ipython",
    "version": 3
   },
   "file_extension": ".py",
   "mimetype": "text/x-python",
   "name": "python",
   "nbconvert_exporter": "python",
   "pygments_lexer": "ipython3",
   "version": "3.11.5"
  },
  "toc-autonumbering": true
 },
 "nbformat": 4,
 "nbformat_minor": 5
}
