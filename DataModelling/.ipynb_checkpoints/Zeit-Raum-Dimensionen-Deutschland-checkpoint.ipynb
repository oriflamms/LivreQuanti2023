{
 "cells": [
  {
   "cell_type": "markdown",
   "id": "cad78c1f-a55c-4b05-ba3e-2dce3e642cce",
   "metadata": {},
   "source": [
    "# Beten nach Daten: statistiche Übersichten betr. Datum, Format und Entstehungsort"
   ]
  },
  {
   "cell_type": "markdown",
   "id": "b73d743e-21bb-4fa5-b1a4-3d1b380be834",
   "metadata": {},
   "source": [
    "<a href=\"https://colab.research.google.com/github/oriflamms/LivreQuanti2023/blob/main/DataModelling/Zeit-Raum-Dimensionen-Deutschland.ipynb\" target=\"_parent\"><img src=\"https://colab.research.google.com/assets/colab-badge.svg\" alt=\"Open In Colab\"/></a>"
   ]
  },
  {
   "cell_type": "markdown",
   "id": "08582314-ddef-45d4-b2cf-9bbab90623f9",
   "metadata": {},
   "source": [
    "# Environment"
   ]
  },
  {
   "cell_type": "code",
   "execution_count": null,
   "id": "c054aa05-8452-40c0-9c25-bb4127dddc74",
   "metadata": {
    "tags": []
   },
   "outputs": [],
   "source": [
    "import os, pandas as pd, numpy as np\n",
    "from urllib.request import urlopen\n",
    "\n",
    "from scipy.stats import chi2_contingency\n",
    "print(os.getcwd())\n",
    "# Set the maximum number of rows and columns to display\n",
    "pd.set_option('display.max_rows', None)\n",
    "pd.set_option('display.max_columns', None)"
   ]
  },
  {
   "cell_type": "markdown",
   "id": "6c453b70-e28d-4877-9b5f-b14338859507",
   "metadata": {},
   "source": [
    "# Data (capta)"
   ]
  },
  {
   "cell_type": "markdown",
   "id": "017472bf-c8a6-4ed4-8dc7-865a6acffb5c",
   "metadata": {},
   "source": [
    "## Load data and check contents"
   ]
  },
  {
   "cell_type": "markdown",
   "id": "965eb705-d1e3-4e82-ac57-0d3e91caf79e",
   "metadata": {},
   "source": [
    "Only if on Google Colab. Skip if used locally"
   ]
  },
  {
   "cell_type": "code",
   "execution_count": null,
   "id": "062d483e-f066-45a0-8fc7-e361abe213b3",
   "metadata": {},
   "outputs": [],
   "source": [
    "file_url_1 = 'https://raw.githubusercontent.com/oriflamms/LivreQuanti2023/main/DataModelling/Export_stutzmann_horae_t53_Manuscript_rich_20231109.xlsx'\n",
    "file_url_2 = 'https://raw.githubusercontent.com/oriflamms/LivreQuanti2023/main/DataModelling/t53_Manuscript_Country.csv'\n",
    "!wget {file_url_1}\n",
    "!wget {file_url_2}"
   ]
  },
  {
   "cell_type": "markdown",
   "id": "3baeec8e-c018-472d-9334-e264345f23b5",
   "metadata": {},
   "source": [
    "Back to main track if repo is cloned and used locally"
   ]
  },
  {
   "cell_type": "code",
   "execution_count": null,
   "id": "e747a4c8-79da-4ed0-8923-1fa18308f979",
   "metadata": {
    "tags": []
   },
   "outputs": [],
   "source": [
    "#df = pd.read_excel('./Export_stutzmann_horae_t53_numformat.xlsx', sheet_name='Capta')\n",
    "df = pd.read_excel('./Export_stutzmann_horae_t53_Manuscript_rich_20231109.xlsx', sheet_name='Tabelle2')\n",
    "df_country = pd.read_csv('./t53_Manuscript_Country.csv', sep=';')"
   ]
  },
  {
   "cell_type": "code",
   "execution_count": null,
   "id": "f85a9d6d-6369-4d72-8e6b-41ea09332e3a",
   "metadata": {
    "tags": []
   },
   "outputs": [],
   "source": [
    "print(df.shape)\n",
    "print(list(df.columns))\n",
    "df.head()"
   ]
  },
  {
   "cell_type": "code",
   "execution_count": null,
   "id": "482ffe06-cdac-4e5a-a819-0ee28e0af40f",
   "metadata": {
    "tags": []
   },
   "outputs": [],
   "source": [
    "print(df['leaf dimensions : height (mm)'].dtypes)\n",
    "# print(df['leaf dimensions : height (mm)'].unique())\n",
    "print(df['origDate'].dtypes)\n",
    "# print(df['origDate'].unique())\n",
    "print(df['origDate : from'].dtypes)\n",
    "# print(df['origDate : from'].unique())\n",
    "print(df['origDate : to'].dtypes)\n",
    "# print(df['origDate : to'].unique())\n"
   ]
  },
  {
   "cell_type": "code",
   "execution_count": null,
   "id": "a75bc5e3-bedc-4b1d-a499-b155391e8355",
   "metadata": {
    "tags": []
   },
   "outputs": [],
   "source": [
    "df_country.head()"
   ]
  },
  {
   "cell_type": "code",
   "execution_count": null,
   "id": "c3cb8aaf-097b-4268-bc32-500291470367",
   "metadata": {
    "tags": []
   },
   "outputs": [],
   "source": [
    "# Merge dataframes based on \"Manuscript H-ID\"\n",
    "df = pd.merge(df, df_country[['Manuscript H-ID', 'Country']], on='Manuscript H-ID', how='left')\n",
    "\n",
    "df.shape"
   ]
  },
  {
   "cell_type": "code",
   "execution_count": null,
   "id": "c0f384c5-1db4-4bda-9abd-d2be8a59aab4",
   "metadata": {
    "tags": []
   },
   "outputs": [],
   "source": [
    "df.head()"
   ]
  },
  {
   "cell_type": "code",
   "execution_count": null,
   "id": "de4066f0-4e60-475d-abf4-7886e3ba9b9f",
   "metadata": {
    "tags": []
   },
   "outputs": [],
   "source": [
    "df['leaf dimensions : height (mm)'] = pd.to_numeric(df['leaf dimensions : height (mm)'], errors='coerce')\n",
    "df['origDate'] = pd.to_numeric(df['origDate'], errors='coerce')\n",
    "df['origDate : from'] = pd.to_numeric(df['origDate : from'], errors='coerce')\n",
    "df['origDate : to'] = pd.to_numeric(df['origDate : to'], errors='coerce')\n",
    "df['Country'] = df['Country'].astype(str)"
   ]
  },
  {
   "cell_type": "code",
   "execution_count": null,
   "id": "888d23f2-d76c-4423-b9fd-09cc8e083071",
   "metadata": {
    "tags": []
   },
   "outputs": [],
   "source": [
    "print(df['leaf dimensions : height (mm)'].dtypes)\n",
    "print(sorted(df['leaf dimensions : height (mm)'].unique()))\n",
    "# print(df['origDate'].dtypes)\n",
    "print(sorted(df['origDate'].unique()))\n",
    "print(df['origDate : from'].dtypes)\n",
    "print(sorted(df['origDate : from'].unique()))\n",
    "print(df['origDate : to'].dtypes)\n",
    "print(sorted(df['origDate : to'].unique()))\n",
    "print(df['Country'].dtypes)\n",
    "print(sorted(df['Country'].unique()))\n"
   ]
  },
  {
   "cell_type": "code",
   "execution_count": null,
   "id": "c11336d4-d9d2-4408-9f1c-8b05b6450c46",
   "metadata": {
    "tags": []
   },
   "outputs": [],
   "source": [
    "# Define a function to calculate the \"origDate-avg\"\n",
    "def calculate_origDate_avg(row):\n",
    "    if not pd.isna(row['origDate']):\n",
    "        return row['origDate']\n",
    "    elif not pd.isna(row['origDate : from']) and not pd.isna(row['origDate : to']):\n",
    "        return (row['origDate : from'] + row['origDate : to']) / 2\n",
    "    else:\n",
    "        return np.nan\n",
    "\n",
    "# Apply the function to create the new column\n",
    "df['origDate-avg'] = df.apply(calculate_origDate_avg, axis=1)\n",
    "# df['origDate-avg'] = df['origDate-avg'].round().astype(int)"
   ]
  },
  {
   "cell_type": "code",
   "execution_count": null,
   "id": "6464b5a1-5418-42c2-b861-2fd6293576d6",
   "metadata": {
    "tags": []
   },
   "outputs": [],
   "source": [
    "df.head()"
   ]
  },
  {
   "cell_type": "markdown",
   "id": "3b1c13d5-40c5-4806-8ef9-fbabab3a3644",
   "metadata": {},
   "source": [
    "Convert data to numeric if needed. Reduce scope."
   ]
  },
  {
   "cell_type": "code",
   "execution_count": null,
   "id": "688593c2-5563-4776-929d-f6bce575f1bf",
   "metadata": {
    "tags": []
   },
   "outputs": [],
   "source": [
    "# Drop rows with NaN, 0, or blank values in columns A and C\n",
    "df = df.dropna(subset=['leaf dimensions : height (mm)'])\n",
    "df = df[df['leaf dimensions : height (mm)'] != 0]\n",
    "\n",
    "df.shape"
   ]
  },
  {
   "cell_type": "code",
   "execution_count": null,
   "id": "6e75faac-938a-4699-9745-77f296c2d041",
   "metadata": {
    "tags": []
   },
   "outputs": [],
   "source": [
    "def process_country(value):\n",
    "    countries = [country.strip() for country in value.split('|') if country.strip()]\n",
    "    \n",
    "    # Check if all values are the same\n",
    "    if len(set(countries)) == 1:\n",
    "        return countries[0]\n",
    "    else:\n",
    "        # If multiple values, return sorted and unique values\n",
    "        # return '|'.join(sorted(set(countries)))\n",
    "        return 'multiple countries'\n",
    "\n",
    "# Apply the function to create the new \"Processed_Country\" column\n",
    "df['Processed_Country'] = df['Country'].apply(process_country)"
   ]
  },
  {
   "cell_type": "markdown",
   "id": "964c1348-68a9-49cc-98cb-7e9595a04f9c",
   "metadata": {},
   "source": [
    "# Categories and pivot tables"
   ]
  },
  {
   "cell_type": "markdown",
   "id": "ddea2908-7820-4ea4-ac94-df1267e4c1bf",
   "metadata": {},
   "source": [
    "## Dimensions / Country"
   ]
  },
  {
   "cell_type": "code",
   "execution_count": null,
   "id": "06cf7e98-e367-496c-afa7-511df6cfa8c3",
   "metadata": {
    "tags": []
   },
   "outputs": [],
   "source": [
    "# Assuming 'df' is your DataFrame\n",
    "pivot_table_avg_dimensions_by_Country = df.pivot_table(values='leaf dimensions : height (mm)', index='Processed_Country', aggfunc='mean').round(1)\n",
    "\n",
    "# Display the pivot table\n",
    "print(pivot_table_avg_dimensions_by_Country)\n"
   ]
  },
  {
   "cell_type": "markdown",
   "id": "b792a882-83c5-4127-bedd-d35e6f66732e",
   "metadata": {},
   "source": [
    "## Dimensions by DateRange (span of 50 years)"
   ]
  },
  {
   "cell_type": "code",
   "execution_count": null,
   "id": "bc5fef4b-3245-4b2e-ac49-4ff8135552eb",
   "metadata": {
    "tags": []
   },
   "outputs": [],
   "source": [
    "# Convert 'origDate-avg' to numeric, coercing errors to NaN\n",
    "df['origDate-avg'] = pd.to_numeric(df['origDate-avg'], errors='coerce')\n",
    "\n",
    "# Create a new column for the date range categories\n",
    "bins = range(1001, 2001, 50)\n",
    "labels = [f\"{start}-{start+49}\" for start in bins[:-1]]\n",
    "df['DateRange'] = pd.cut(df['origDate-avg'], bins=bins, labels=labels, right=False)\n",
    "\n"
   ]
  },
  {
   "cell_type": "code",
   "execution_count": null,
   "id": "3df0024f-1573-421b-b85e-97859daf3823",
   "metadata": {
    "tags": []
   },
   "outputs": [],
   "source": [
    "pivot_table_avg_dimensions_by_DateRange = df.pivot_table(values='leaf dimensions : height (mm)', index='DateRange', aggfunc='mean').round(1)\n",
    "\n",
    "# Display the pivot table\n",
    "print(pivot_table_avg_dimensions_by_DateRange)\n"
   ]
  },
  {
   "cell_type": "code",
   "execution_count": null,
   "id": "63044356-f963-4001-a593-ea5e98622025",
   "metadata": {},
   "outputs": [],
   "source": []
  },
  {
   "cell_type": "code",
   "execution_count": null,
   "id": "6909c489-72cf-42b1-9f58-81af0a0d4010",
   "metadata": {
    "tags": []
   },
   "outputs": [],
   "source": [
    "# Pivot table for average dimensions by DateRange and Country\n",
    "pivot_table_avg_dimensions = df.pivot_table(\n",
    "    values='leaf dimensions : height (mm)',\n",
    "    index=['DateRange', 'Processed_Country'],\n",
    "    aggfunc='mean',\n",
    "    margins=True,  # Add subtotals\n",
    "    margins_name='missing',  # Specify the name for the subtotal row\n",
    ").round(1)"
   ]
  },
  {
   "cell_type": "code",
   "execution_count": null,
   "id": "75cd7cb1-f32a-4943-89b2-e868567bec05",
   "metadata": {
    "tags": []
   },
   "outputs": [],
   "source": [
    "pivot_table_avg_dimensions"
   ]
  },
  {
   "cell_type": "code",
   "execution_count": null,
   "id": "5229eb31-aa84-4fc6-848d-790f6c2a30b8",
   "metadata": {
    "tags": []
   },
   "outputs": [],
   "source": [
    "# Pivot table for average dimensions by DateRange and Country\n",
    "pivot_table_avg_dimensions_full = df.pivot_table(\n",
    "    values=['leaf dimensions : height (mm)', 'Manuscript H-ID'],\n",
    "    index=['DateRange', 'Processed_Country'],\n",
    "    aggfunc={'leaf dimensions : height (mm)': 'mean', 'Manuscript H-ID': 'count'},\n",
    "    margins=True,  # Add subtotals\n",
    "    margins_name='missing',  # Specify the name for the subtotal row\n",
    ").round(1)\n",
    "\n",
    "pivot_table_avg_dimensions_full.head()\n"
   ]
  },
  {
   "cell_type": "markdown",
   "id": "5e0b2949-d82e-4bef-9ad1-a96dceac728b",
   "metadata": {},
   "source": [
    "# Correlation (khi2)"
   ]
  },
  {
   "cell_type": "markdown",
   "id": "2361385f-8a37-498b-a02e-13673a8bb984",
   "metadata": {},
   "source": [
    "## Date and Country"
   ]
  },
  {
   "cell_type": "code",
   "execution_count": null,
   "id": "5201bab7-6ee6-4d9a-9c37-78c7382d3b35",
   "metadata": {
    "tags": []
   },
   "outputs": [],
   "source": [
    "# Create a contingency table\n",
    "contingency_table = pd.crosstab(df['Processed_Country'], df['DateRange'])\n",
    "\n",
    "# Perform the chi-squared test\n",
    "chi2, p, _, _ = chi2_contingency(contingency_table)\n",
    "\n",
    "# Print the results\n",
    "print(f\"Chi-squared value: {chi2}\")\n",
    "print(f\"P-value: {p}\")"
   ]
  },
  {
   "cell_type": "markdown",
   "id": "2939c61b-f0fb-4341-a25e-75807c9ba7f7",
   "metadata": {},
   "source": [
    "## Size and Date"
   ]
  },
  {
   "cell_type": "code",
   "execution_count": null,
   "id": "ce8786eb-b178-428a-92fe-b5f66254981a",
   "metadata": {
    "tags": []
   },
   "outputs": [],
   "source": [
    "# Create a new column for the date range categories\n",
    "bins = range(0, 900, 20)\n",
    "labels = [f\"{start}-{start+19}\" for start in bins[:-1]]\n",
    "df['heightRange'] = pd.cut(df['leaf dimensions : height (mm)'], bins=bins, labels=labels, right=False)\n",
    "\n",
    "\n",
    "# Create a contingency table\n",
    "contingency_table = pd.crosstab(df['heightRange'], df['DateRange'])\n",
    "\n",
    "# Perform the chi-squared test\n",
    "chi2, p, _, _ = chi2_contingency(contingency_table)\n",
    "\n",
    "# Print the results\n",
    "print(f\"Chi-squared value: {chi2}\")\n",
    "print(f\"P-value: {p}\")"
   ]
  },
  {
   "cell_type": "markdown",
   "id": "c4a577ee-dab0-4e48-b058-4e9aaf9ebe71",
   "metadata": {
    "tags": []
   },
   "source": [
    "## Country and Size"
   ]
  },
  {
   "cell_type": "code",
   "execution_count": null,
   "id": "62a0902f-41c3-44c5-a12a-9b97079566ca",
   "metadata": {
    "tags": []
   },
   "outputs": [],
   "source": [
    "# Create a contingency table\n",
    "contingency_table = pd.crosstab(df['heightRange'], df['Country'])\n",
    "\n",
    "# Perform the chi-squared test\n",
    "chi2, p, _, _ = chi2_contingency(contingency_table)\n",
    "\n",
    "# Print the results\n",
    "print(f\"Chi-squared value: {chi2}\")\n",
    "print(f\"P-value: {p}\")"
   ]
  },
  {
   "cell_type": "code",
   "execution_count": null,
   "id": "798692a4-b8c1-4bde-96d2-9b757342116e",
   "metadata": {},
   "outputs": [],
   "source": []
  }
 ],
 "metadata": {
  "kernelspec": {
   "display_name": "Python 3 (ipykernel)",
   "language": "python",
   "name": "python3"
  },
  "language_info": {
   "codemirror_mode": {
    "name": "ipython",
    "version": 3
   },
   "file_extension": ".py",
   "mimetype": "text/x-python",
   "name": "python",
   "nbconvert_exporter": "python",
   "pygments_lexer": "ipython3",
   "version": "3.11.5"
  }
 },
 "nbformat": 4,
 "nbformat_minor": 5
}
