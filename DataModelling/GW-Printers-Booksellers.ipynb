{
 "cells": [
  {
   "cell_type": "markdown",
   "metadata": {},
   "source": [
    "# Incunable editions of books of hours according to Gesamtkatalog der Wiegendrucke\n",
    "\n",
    "https://www.gesamtkatalogderwiegendrucke.de/docs/HORAE.htm\n"
   ]
  },
  {
   "cell_type": "markdown",
   "metadata": {},
   "source": [
    "<a href=\"https://colab.research.google.com/github/oriflamms/LivreQuanti2023/blob/main/DataModelling/GW-Printers-Booksellers.ipynb\" target=\"_parent\"><img src=\"https://colab.research.google.com/assets/colab-badge.svg\" alt=\"Open In Colab\"/></a>"
   ]
  },
  {
   "cell_type": "markdown",
   "metadata": {
    "tags": []
   },
   "source": [
    "## Import"
   ]
  },
  {
   "cell_type": "code",
   "execution_count": 1,
   "metadata": {
    "tags": []
   },
   "outputs": [],
   "source": [
    "import os, time, csv, requests, re\n",
    "from bs4 import BeautifulSoup\n"
   ]
  },
  {
   "cell_type": "markdown",
   "metadata": {},
   "source": [
    "# Data"
   ]
  },
  {
   "cell_type": "code",
   "execution_count": 2,
   "metadata": {
    "tags": []
   },
   "outputs": [],
   "source": [
    "url = \"https://www.gesamtkatalogderwiegendrucke.de/docs/HORAE.htm\"\n"
   ]
  },
  {
   "cell_type": "code",
   "execution_count": 3,
   "metadata": {
    "tags": []
   },
   "outputs": [
    {
     "name": "stdout",
     "output_type": "stream",
     "text": [
      "HTML page successfully loaded\n"
     ]
    }
   ],
   "source": [
    "#  GET request to retrieve the page content\n",
    "response = requests.get(url)\n",
    "\n",
    "# Check if request successful (status code 200)\n",
    "if response.status_code == 200:\n",
    "    # Retrieve HTML content\n",
    "    html_content = response.content\n",
    "    print(\"HTML page successfully loaded\")\n",
    "else:\n",
    "    print(f\"Request failed with status {response.status_code}\")"
   ]
  },
  {
   "cell_type": "markdown",
   "metadata": {},
   "source": [
    "# Sections"
   ]
  },
  {
   "cell_type": "code",
   "execution_count": 4,
   "metadata": {
    "tags": []
   },
   "outputs": [],
   "source": [
    "# Load HTML with BeautifulSoup\n",
    "soup = BeautifulSoup(html_content, 'html.parser')\n",
    "\n",
    "# Select <div> elements with @class 'wcsct' and specific title\n",
    "Diözesen_div = soup.find('div', class_='wcsct', string='Übersicht der Diözesen (außer Rom)')\n",
    "Datierte_div = soup.find('div', class_='wcsct', string='Chronologische Übersicht der datierten Ausgaben')\n",
    "Drucker_div = soup.find('div', class_='wcsct', string='Übersicht nach Druckorten und Druckern')\n",
    "Verleger_div = soup.find('div', class_='wcsct', string='Verlegerregister')\n",
    "Bohatta_div = soup.find('div', class_='wcsct', string='Nicht nachweisbare datierte Ausgaben nach Bohatta')\n",
    "Deutschland_div = soup.find('div', class_='wcsct', string='Deutschland und deutschsprachige Nachbarländer')\n"
   ]
  },
  {
   "cell_type": "markdown",
   "metadata": {
    "tags": []
   },
   "source": [
    "## Dioceses"
   ]
  },
  {
   "cell_type": "code",
   "execution_count": 5,
   "metadata": {
    "tags": []
   },
   "outputs": [
    {
     "name": "stdout",
     "output_type": "stream",
     "text": [
      "Aeduense (Autun)\n",
      "Ambianense (Amiens)\n",
      "Andegavense (Angers)\n",
      "Atrebatense (Arras)\n",
      "Aurelianense (Orléans)\n",
      "Autissiodorense (Auxerre)\n",
      "Baiocense (Bayeux)\n",
      "Belvacense (Beauvais)\n",
      "Bisuntinense (Besançon)\n",
      "Bituricense (Bourges)\n",
      "Cabilonense (Chalon-sur-Saône)\n",
      "Cameracense (Cambrai)\n",
      "Carnotense (Chartres)\n",
      "Catalaunense (Châlons-sur-Marne)\n",
      "Cenomanense (Le Mans)\n",
      "Coloniense (Köln)\n",
      "Constantiense (Coutances)\n",
      "Ebroicense (Évreux)\n",
      "Gebennense (Genf/Genève)\n",
      "Lemovicense (Limoges)\n",
      "Leodiense (Liège)\n",
      "Lexoviense (Lisieux)\n",
      "Lincopense (Linköping)\n",
      "Lugdunense (Lyon)\n",
      "Macloviense (Saint-Malo)\n",
      "Meldense (Meaux)\n",
      "Metense (Metz)\n",
      "Misnense (Meißen)\n",
      "Namnetense (Nantes)\n",
      "Noviomense (Noyon)\n",
      "Parisiense (Paris)\n",
      "Pictaviense (Poitiers)\n",
      "Redonense (Rennes)\n",
      "Remense (Reims)\n",
      "Rothomagense (Rouen)\n",
      "Salzeburgense (Salzburg)\n",
      "Santonense (Saintes)\n",
      "Sarum (Salisbury)\n",
      "Scarense (Skara)\n",
      "Tarantasiense (Tarentaise)\n",
      "Taruennense (Thèrouanne)\n",
      "Tolosanum (Toulouse)\n",
      "Traiectense (Utrecht)\n",
      "Trecense (Troyes)\n",
      "Tullense (Toul)\n",
      "Turonense (Tours)\n",
      "Turonense (Ecclesia maioris monasterii Turonensis, Marmoutier-lès-Tours)\n",
      "Valentinum (Valencia)\n",
      "Windeshemense (Windesheim)\n",
      "Xantonense s. Santonense\n",
      "[{'label1': 'Aeduense (Autun)', 'GWids': ['13066', '13327']}, {'label1': 'Ambianense (Amiens)', 'GWids': ['13325']}, {'label1': 'Andegavense (Angers)', 'GWids': ['13118', '13191', '13320']}, {'label1': 'Atrebatense (Arras)', 'GWids': ['13231']}, {'label1': 'Aurelianense (Orléans)', 'GWids': ['13302']}, {'label1': 'Autissiodorense (Auxerre)', 'GWids': ['13183', '13230']}, {'label1': 'Baiocense (Bayeux)', 'GWids': ['13133', '13201']}, {'label1': 'Belvacense (Beauvais)', 'GWids': ['13224']}, {'label1': 'Bisuntinense (Besançon)', 'GWids': ['13095']}, {'label1': 'Bituricense (Bourges)', 'GWids': ['13155', '13188', '13210', '13270', '13303']}, {'label1': 'Cabilonense (Chalon-sur-Saône)', 'GWids': ['13102']}, {'label1': 'Cameracense (Cambrai)', 'GWids': ['13109', '13120']}, {'label1': 'Carnotense (Chartres)', 'GWids': ['13178', '13218', '13261']}, {'label1': 'Catalaunense (Châlons-sur-Marne)', 'GWids': ['13170']}, {'label1': 'Cenomanense (Le Mans)', 'GWids': ['13056', '13068', '13084', '13138', '13213', '13214', '13225', '13288', '13302']}, {'label1': 'Coloniense (Köln)', 'GWids': ['12955']}, {'label1': 'Constantiense (Coutances)', 'GWids': ['13047']}, {'label1': 'Ebroicense (Évreux)', 'GWids': ['13033', '13205', '13319', 'Sp. 486a']}, {'label1': 'Gebennense (Genf/Genève)', 'GWids': ['13030']}, {'label1': 'Lemovicense (Limoges)', 'GWids': ['13165']}, {'label1': 'Leodiense (Liège)', 'GWids': ['13108', '13167', '13243', '13405']}, {'label1': 'Lexoviense (Lisieux)', 'GWids': ['13238', '13322']}, {'label1': 'Lincopense (Linköping)', 'GWids': ['13448']}, {'label1': 'Lugdunense (Lyon)', 'GWids': ['13072', '13175', '13184', '13192']}, {'label1': 'Macloviense (Saint-Malo)', 'GWids': ['13324']}, {'label1': 'Meldense (Meaux)', 'GWids': ['13207']}, {'label1': 'Metense (Metz)', 'GWids': ['13221']}, {'label1': 'Misnense (Meißen)', 'GWids': ['12956']}, {'label1': 'Namnetense (Nantes)', 'GWids': ['13040', 'Sp. 599a']}, {'label1': 'Noviomense (Noyon)', 'GWids': ['13219']}, {'label1': 'Parisiense (Paris)', 'GWids': ['13055', '13060', '13062', '13064', '13074', '13079', '13083', '13085', '13097', '13100', '13106', '13107', '13111', '13121', '13122', '13147', '13206', '13215', '13228', '13245', '13280', '13301', 'Sp. 483b', 'Sp. 483f', 'Sp. 599b', 'Sp. 633b', 'Sp. 643a', 'Sp. 654a']}, {'label1': 'Pictaviense (Poitiers)', 'GWids': ['13042', '13113', '13136', '13161', '13220', '13281']}, {'label1': 'Redonense (Rennes)', 'GWids': ['13127']}, {'label1': 'Remense (Reims)', 'GWids': ['13094']}, {'label1': 'Rothomagense (Rouen)', 'GWids': ['13052', '13057', '13139', '13168', '13193', '13212', '13239', '13282', '13323']}, {'label1': 'Salzeburgense (Salzburg)', 'GWids': ['13363', '13380']}, {'label1': 'Santonense (Saintes)', 'GWids': ['13099', '13160']}, {'label1': 'Sarum (Salisbury)', 'GWids': ['13013', '13014', '13015', '13016', '13017', '13018', '13019', '13020', '13021', '13022', '13023', '13024', '13025', '13026', '13027', '13028', '13048', '13049', '13051', '13052', '13093', '13128', '13129', '13156', '13176', '13211', '13216', '13235', '13251', '13299', '13321', '13377', '13402', '13407', 'Sp. 553b', 'Sp. 553c']}, {'label1': 'Scarense (Skara)', 'GWids': ['13448']}, {'label1': 'Tarantasiense (Tarentaise)', 'GWids': ['13032']}, {'label1': 'Taruennense (Thèrouanne)', 'GWids': ['13217']}, {'label1': 'Tolosanum (Toulouse)', 'GWids': ['13058']}, {'label1': 'Traiectense (Utrecht)', 'GWids': ['13403', '13404', '13406', '13413']}, {'label1': 'Trecense (Troyes)', 'GWids': ['13045', '1314110', '13152', '13240']}, {'label1': 'Tullense (Toul)', 'GWids': ['13180', '13232']}, {'label1': 'Turonense (Tours)', 'GWids': ['13142', '13203', '13226', '13283', '13293', '13302', '13304', 'Sp. 643a']}, {'label1': 'Turonense (Ecclesia maioris monasterii Turonensis, Marmoutier-lès-Tours)', 'GWids': ['13326']}, {'label1': 'Valentinum (Valencia)', 'GWids': ['13443']}, {'label1': 'Windeshemense (Windesheim)', 'GWids': ['13410']}]\n"
     ]
    }
   ],
   "source": [
    "ed_dioc = []\n",
    "tables_betw_divs = []\n",
    "GWids = ''\n",
    "\n",
    "current_element = Diözesen_div.find_next_sibling()\n",
    "while current_element and current_element != Datierte_div:\n",
    "    if current_element.name == 'table' and 'reftable' in current_element.get('class', []):\n",
    "        tables_betw_divs.append(current_element)\n",
    "    current_element = current_element.find_next_sibling()\n",
    "\n",
    "for table in tables_betw_divs:\n",
    "    # print(table)\n",
    "    label1 = table.select_one('tr td:first-child').get_text(strip=True)\n",
    "    print(label1)\n",
    "    \n",
    "    if table.select_one('tr td:nth-child(2)'):\n",
    "        GWids = table.select_one('tr td:nth-child(2)').text\n",
    "        # This regular expression uses a negative assertion (?!Sp\\.) and exclude occurrences of \"Sp.\" from being split\n",
    "        GWids_list = re.split(r'(?<!Sp)\\.\\s*', GWids)\n",
    "        # Clean list of GWids\n",
    "        GWids = [nombre.strip() for nombre in GWids_list]\n",
    "    \n",
    "        # Add results to the list\n",
    "        ed_dioc.append({\n",
    "            'label1': label1,\n",
    "            'GWids': GWids\n",
    "        })\n",
    "\n",
    "# Display results\n",
    "print(ed_dioc)\n",
    "    "
   ]
  },
  {
   "cell_type": "markdown",
   "metadata": {},
   "source": [
    "## Places, printers, booksellers"
   ]
  },
  {
   "cell_type": "markdown",
   "metadata": {},
   "source": [
    "The section \"Übersicht nach Druckorten und Druckern\" represents an index of all editions with their dates of publication. Each line is stored in a <table/> element, including the places of publication. We will take all the lines in this section and analyse them successively, storing the information about the place of publication for all the subsequent lines. \n",
    "\n",
    "The output is a variable that is a list containing all editions in form of dictionaries with values \"place\", \"label1\" and \"GWids\"."
   ]
  },
  {
   "cell_type": "code",
   "execution_count": 6,
   "metadata": {
    "tags": []
   },
   "outputs": [
    {
     "name": "stdout",
     "output_type": "stream",
     "text": [
      "[{'place': 'Antwerpen', 'label1': 'ohne Drucker , 1488', 'GWids': ['Sp. 701a']}, {'place': 'Antwerpen', 'label1': 'Adriaan van Liesveldt, 22.VI.1494', 'GWids': ['13404']}, {'place': 'Antwerpen', 'label1': 'Adriaan van Liesveldt, 22.VI.1494', 'GWids': ['13405']}, {'place': 'Antwerpen', 'label1': 'Adriaan van Liesveldt, 9.VIII.1494', 'GWids': ['13419']}, {'place': 'Antwerpen', 'label1': 'Adriaan van Liesveldt, 13.(?)VI.1495', 'GWids': ['13406']}, {'place': 'Antwerpen', 'label1': 'Adriaan van Liesveldt, 29.VII.1495', 'GWids': ['13421']}, {'place': 'Antwerpen', 'label1': 'Adriaan van Liesveldt, 1498(?)', 'GWids': ['13422']}, {'place': 'Antwerpen', 'label1': 'Govert Bac, nicht vor 1493', 'GWids': ['13418']}, {'place': 'Antwerpen', 'label1': 'Govert Bac , 1495', 'GWids': ['13420']}, {'place': 'Antwerpen', 'label1': 'Gerard Leeu, 1487', 'GWids': ['13400']}, {'place': 'Antwerpen', 'label1': 'Gerard Leeu, 14 87', 'GWids': ['13399']}, {'place': 'Antwerpen', 'label1': 'Gerard Leeu, 27.VII.1489', 'GWids': ['13401']}, {'place': 'Antwerpen', 'label1': 'Gerard Leeu, 16.VIII.1491', 'GWids': ['13417']}, {'place': 'Antwerpen', 'label1': 'Gerard Leeu, 13.III.1492', 'GWids': ['13403']}, {'place': 'Antwerpen', 'label1': 'Gerard Leeu oder Adriaan van Liesveldt, nicht vor 30.IV.1491, nicht nach 1492 oder nicht vor 1493/94, nicht nach 1500', 'GWids': ['13402']}, {'place': 'Augsburg', 'label1': 'Anton Sorg, um 1483', 'GWids': ['12982']}, {'place': 'Augsburg', 'label1': 'Anton Sorg, um 1485', 'GWids': ['12983']}, {'place': 'Augsburg', 'label1': 'Anton Sorg, 1487', 'GWids': ['12945']}, {'place': 'Augsburg', 'label1': 'Anton Sorg, 1489', 'GWids': ['12946']}, {'place': 'Augsburg', 'label1': 'Anton Sorg, 1492', 'GWids': ['12947']}, {'place': 'Augsburg', 'label1': 'Günther Zainer, 12.III.1471', 'GWids': ['12981']}, {'place': 'Barcelona', 'label1': 'Johann Gherlinc, vor 15.IV.1489', 'GWids': ['13439']}, {'place': 'Barcelona', 'label1': 'Johann Gherlinc, nicht vor 15.IV.1489, nicht nach 7.VI.1489(?)', 'GWids': ['13440']}, {'place': 'Basel', 'label1': 'Johann Amerbach, um 1482/86', 'GWids': ['12949']}, {'place': 'Basel', 'label1': 'Bernhard Richel, 15.VII.1480', 'GWids': ['12948']}, {'place': 'Basel', 'label1': 'Michael Wenssler, 1.IV.1491', 'GWids': ['12950']}, {'place': 'Basel', 'label1': 'Jakob Wolff, 13.IV.1498', 'GWids': ['12951']}, {'place': 'Bologna', 'label1': 'Ugo Rugerius, 23.II.1498', 'GWids': ['13390']}, {'place': 'Brügge', 'label1': 'William Caxton, um 1475', 'GWids': ['13407']}, {'place': 'Brüssel', 'label1': 'Fratres vitae communis, nicht vor 9.VI.1481, nicht nach 1484', 'GWids': ['13423']}, {'place': 'Delft', 'label1': 'Hendrik Eckert, 1498', 'GWids': ['13427']}, {'place': 'Delft', 'label1': 'Hendrik Eckert, 1498', 'GWids': ['13428']}, {'place': 'Delft', 'label1': 'Jakob van der Meer , 8.IV.1480', 'GWids': ['13424']}, {'place': 'Delft', 'label1': 'Jakob van der Meer, 19.VII.1484', 'GWids': ['13425']}, {'place': 'Delft', 'label1': 'Christian Snellaert, nicht vor 29.V.1490, nicht nach 10.VIII.1491', 'GWids': ['13426']}, {'place': 'Deutschland(?)', 'label1': 'ohne Drucker, nach 1500(?)', 'GWids': ['12944']}, {'place': 'Deventer', 'label1': 'Richard Paffraet, um 1478', 'GWids': ['13408']}, {'place': 'Deventer', 'label1': 'Richard Paffraet, um 1497', 'GWids': ['13409']}, {'place': 'Deventer', 'label1': 'Richard Paffraet, 1497', 'GWids': ['13410']}, {'place': 'Ferrara', 'label1': 'Andreas Belfortis, um 1475', 'GWids': ['13329']}, {'place': 'Ferrara', 'label1': 'Laurentius de Rubeis, 15.VII.1497', 'GWids': ['13330']}, {'place': 'Florenz', 'label1': 'ohne Drucker , 1482', 'GWids': ['Sp. 695a']}, {'place': 'Florenz', 'label1': 'Apud S. Jacobum de Ripoli, nicht nach August 1477', 'GWids': ['13391']}, {'place': 'Florenz', 'label1': 'Francesco di Dino, um 1487', 'GWids': ['13332']}, {'place': 'Florenz', 'label1': 'Antonio di Francesco, um 1488', 'GWids': ['13393']}, {'place': 'Florenz', 'label1': 'Nicolaus Laurentii, 5.VII.1483', 'GWids': ['13331']}, {'place': 'Florenz', 'label1': 'Laurentius de Morgianis und Johann Petri, 17.II.1 4 93', 'GWids': ['13394']}, {'place': 'Florenz', 'label1': 'Johann Petri, 23.XII.1486', 'GWids': ['13392']}, {'place': 'Genf', 'label1': 'Louis Cruse, um 1479', 'GWids': ['13029']}, {'place': 'Genf', 'label1': 'Louis Cruse, um 1479', 'GWids': ['13030']}, {'place': 'Genf', 'label1': 'Louis Cruse, um 1480', 'GWids': ['13031']}, {'place': 'Genf', 'label1': 'Drucker des Missale Romanum (H 11399) (Louis Cruse?) , um 1493/95', 'GWids': ['13032']}, {'place': 'Gent', 'label1': 'Arend de Keysere, nicht vor 1487', 'GWids': ['13411']}, {'place': 'Gent', 'label1': 'Arend de Keysere, nicht vor 1487', 'GWids': ['13412']}, {'place': 'Gouda', 'label1': 'Collacie Broeders, 20.IV.1496', 'GWids': ['13429']}, {'place': 'Gouda', 'label1': 'Gerard Leeu, um 1483/84', 'GWids': ['13413']}, {'place': 'Goupillières', 'label1': 'Michel Andrieu, 8.V.1491', 'GWids': ['13033']}, {'place': 'Hasselt', 'label1': 'Peregrinus Barmentlo , 1488', 'GWids': ['13430']}, {'place': 'Hasselt', 'label1': 'Peregrinus Barmentlo , 1490', 'GWids': ['13431']}, {'place': 'Ingolstadt', 'label1': 'Drucker des Celtis (Johann Kachelofen), um 1492', 'GWids': ['12952']}, {'place': 'Italien', 'label1': 'Drucker der Horae (GW 13328) , nicht nach 1500', 'GWids': ['13328']}, {'place': 'Kirchheim', 'label1': 'Markus Reinhard, nicht vor 1490', 'GWids': ['12953']}, {'place': 'Kirchheim', 'label1': 'Markus Reinhard, nicht nach 1491', 'GWids': ['12954']}, {'place': 'Kirchheim', 'label1': 'Markus Reinhard, 1490', 'GWids': ['Sp. 436a']}, {'place': 'Kirchheim', 'label1': 'Markus Reinhard , 1491', 'GWids': ['12984']}, {'place': 'Köln', 'label1': 'Drucker der Getzijden (GW 12997) , um 1485', 'GWids': ['12997']}, {'place': 'Köln', 'label1': 'Retro Minores, um 1500', 'GWids': ['12955']}, {'place': 'Krakau', 'label1': 'Sweipolt Fiol, 1491', 'GWids': ['13447']}, {'place': 'Leiden', 'label1': 'Hugo Janszoen, 1494–1495', 'GWids': ['13432']}, {'place': 'Leiden', 'label1': 'Hugo Janszoen , 1497', 'GWids': ['13433']}, {'place': 'Leiden', 'label1': 'Hugo Janszoen , 1498', 'GWids': ['13434']}, {'place': 'Leiden', 'label1': 'Hugo Janszoen , 1500', 'GWids': ['13435']}, {'place': 'Leiden', 'label1': 'Hugo Janszoen, nach 1500(?)', 'GWids': ['13436']}, {'place': 'Leipzig', 'label1': 'Konrad Kachelofen, um 1495', 'GWids': ['12956']}, {'place': 'Leipzig', 'label1': 'Konrad Kachelofen, um 1500', 'GWids': ['12998']}, {'place': 'Leipzig', 'label1': 'Melchior Lotter, 14 99', 'GWids': ['12957']}, {'place': 'Leipzig', 'label1': 'Melchior Lotter, nach 1500(?)', 'GWids': ['12958']}, {'place': 'London', 'label1': 'Julian Notary, Jean Barbier und I. H. für Wynkyn de Worde, 3.IV.1497', 'GWids': ['13017']}, {'place': 'London', 'label1': 'Richard Pynson, um 1493', 'GWids': ['13014']}, {'place': 'London', 'label1': 'Richard Pynson, um 1497', 'GWids': ['13015']}, {'place': 'London', 'label1': 'Richard Pynson, um 1497', 'GWids': ['13016']}, {'place': 'London', 'label1': 'Richard Pynson, um 1498', 'GWids': ['13018']}, {'place': 'London', 'label1': 'Richard Pynson, um 1500', 'GWids': ['13019']}, {'place': 'London', 'label1': 'Richard Pynson, um 1500', 'GWids': ['13020']}, {'place': 'London', 'label1': 'Wilhelmus de Machlinia, um 1484', 'GWids': ['13013']}, {'place': 'Lübeck', 'label1': 'Steffen Arndes, 1496', 'GWids': ['13006']}, {'place': 'Lübeck', 'label1': 'Steffen Arndes, um 1497', 'GWids': ['13008']}, {'place': 'Lübeck', 'label1': 'Steffen Arndes, 1497', 'GWids': ['13009']}, {'place': 'Lübeck', 'label1': 'Steffen Arndes, 1499', 'GWids': ['13011']}, {'place': 'Lübeck', 'label1': 'Lukas Brandis, um 1477/78, nicht nach 1490', 'GWids': ['12959']}, {'place': 'Lübeck', 'label1': 'Lukas Brandis, um 1478', 'GWids': ['12999']}, {'place': 'Lübeck', 'label1': 'Lukas Brandis(?), um 1499(?)', 'GWids': ['13010']}, {'place': 'Lübeck', 'label1': 'Matthäus Brandis, um 1488', 'GWids': ['12960']}, {'place': 'Lübeck', 'label1': 'Drucker von Sixtus IV., Ave Maria (Einbl 389), um 1497(?)', 'GWids': ['13007']}, {'place': 'Lübeck', 'label1': 'Bartholomäus Ghotan, um 1484', 'GWids': ['13001']}, {'place': 'Lübeck', 'label1': 'Bartholomäus Ghotan, um 1484', 'GWids': ['13002']}, {'place': 'Lübeck', 'label1': 'Bartholomäus Ghotan, 1485', 'GWids': ['13003']}, {'place': 'Lübeck', 'label1': 'Bartholomäus Ghotan(?), um 1490', 'GWids': ['13005']}, {'place': 'Lübeck', 'label1': 'Mohnkopfdrucker (Hans van Ghetelen) , 1487', 'GWids': ['13004']}, {'place': 'Lübeck', 'label1': 'Mohnkopfdrucker (Hans van Ghetelen) , 1489', 'GWids': ['12961']}, {'place': 'Lübeck', 'label1': 'Johann Snell, um 1482', 'GWids': ['13000']}, {'place': 'Lyon', 'label1': 'Nicolaus de Benedictis für Boninus de Boninis, 20.V.1499', 'GWids': ['13038']}, {'place': 'Lyon', 'label1': 'Nicolaus de Benedictis für Boninus de Boninis, 20.III.1499', 'GWids': ['13037']}, {'place': 'Lyon', 'label1': 'Jean Du Pré, 11.IX.1490', 'GWids': ['13035']}, {'place': 'Lyon', 'label1': 'Jean Du Pré, nach 1491(?)', 'GWids': ['13036']}, {'place': 'Lyon', 'label1': 'Jacobinus Suigus und Nicolaus de Benedictis für Boninus de Boninis, 26.VIII.1500 vielmehr 1501', 'GWids': ['Sp. 429a']}, {'place': 'Lyon', 'label1': 'Jean Trechsel, um 1489', 'GWids': ['13034']}, {'place': 'Lyon', 'label1': 'Jean de Vingle(?), um 1500', 'GWids': ['13039']}, {'place': 'Magdeburg', 'label1': 'Moritz Brandis, um 1500', 'GWids': ['12962']}, {'place': 'Magdeburg', 'label1': 'Moritz Brandis, um 1500', 'GWids': ['12963']}, {'place': 'Magdeburg', 'label1': 'Albert Ravenstein und Joachim Westval, um 1483/84', 'GWids': ['13012']}, {'place': 'Mailand', 'label1': 'Christoph Valdarfer, 1.IV.1485', 'GWids': ['13334']}, {'place': 'Mailand', 'label1': 'Antonius Zarotus, um 1475', 'GWids': ['13333']}, {'place': 'Memmingen', 'label1': 'Albrecht Kunne, um 1483/86', 'GWids': ['12964']}, {'place': 'Montserrat', 'label1': 'Johann Luschner, um 1499', 'GWids': ['13441']}, {'place': 'Nantes', 'label1': 'Etienne Larcher, 27.I. um 1498', 'GWids': ['13040']}, {'place': 'Neapel', 'label1': 'Ayolfus de Cantono, 22.III.1496', 'GWids': ['13347']}, {'place': 'Neapel', 'label1': 'Konrad Guldenmund, 1477', 'GWids': ['13336']}, {'place': 'Neapel', 'label1': 'Martin von Amsterdam für Andreas Ihyracensis, 27.I.1499', 'GWids': ['13350']}, {'place': 'Neapel', 'label1': 'Matthias von Olmütz, 11.VI.1476', 'GWids': ['13335']}, {'place': 'Neapel', 'label1': 'Matthias von Olmütz, 18.(?)XI.14 76/77(?)', 'GWids': ['1333510']}, {'place': 'Neapel', 'label1': 'Matthias von Olmütz, 10.XI.1478', 'GWids': ['13337']}, {'place': 'Neapel', 'label1': 'Matthias von Olmütz, 30.VI.1486', 'GWids': ['13338']}, {'place': 'Neapel', 'label1': 'Matthias von Olmütz, 3.X.1486', 'GWids': ['13339']}, {'place': 'Neapel', 'label1': 'Matthias von Olmütz , 3.X.1487', 'GWids': ['13340']}, {'place': 'Neapel', 'label1': 'Matthias von Olmütz, 15.X.1488', 'GWids': ['13342']}, {'place': 'Neapel', 'label1': 'Matthias von Olmütz, 5.III.1490', 'GWids': ['13343']}, {'place': 'Neapel', 'label1': 'Matthias von Olmütz, 10.II.1492', 'GWids': ['13345']}, {'place': 'Neapel', 'label1': 'Christian Preller, 15.XI.1487', 'GWids': ['13341']}, {'place': 'Neapel', 'label1': 'Christian Preller für Antoine Gontier , 9.IV.1490', 'GWids': ['13343']}, {'place': 'Neapel', 'label1': 'Christian Preller, 13.VIII.1495', 'GWids': ['13346']}, {'place': 'Neapel', 'label1': 'Christian Preller, 26.III.1496', 'GWids': ['13348']}, {'place': 'Neapel', 'label1': 'Christian Preller, 22.I.1498', 'GWids': ['13349']}, {'place': 'Niederlande', 'label1': 'ohne Drucker', 'GWids': ['Sp. 712a']}, {'place': 'Niederlande', 'label1': 'ohne Drucker, nicht vor 1493', 'GWids': ['13398']}, {'place': 'Nürnberg', 'label1': 'Friedrich Creussner, um 1495', 'GWids': ['12986']}, {'place': 'Nürnberg', 'label1': 'Drucker der Rochuslegende (H 13928), um 1481', 'GWids': ['12985']}, {'place': 'Nürnberg', 'label1': 'Fratres Ordinis Eremitarum S. Augustini, um 1482', 'GWids': ['12965']}, {'place': 'Nürnberg', 'label1': 'Friedrich Peypus für Johann Koberger, 1500', 'GWids': ['Sp. 443a']}, {'place': 'Paris', 'label1': 'ohne Drucker, um 1500', 'GWids': ['13049']}, {'place': 'Paris', 'label1': 'ohne Drucker, nicht vor 1515', 'GWids': ['Sp. 553a']}, {'place': 'Paris', 'label1': 'ohne Drucker, um 1520', 'GWids': ['Sp. 487a']}, {'place': 'Paris', 'label1': 'ohne Drucker, nach 1.XI.1503', 'GWids': ['Sp. 654a']}, {'place': 'Paris', 'label1': 'Guillaume Anabat für Gilles und Germain Hardouyn, um 1505', 'GWids': ['Sp. 519b']}, {'place': 'Paris', 'label1': 'Guillaume Anabat für Gilles und Germain Hardouyn, um 1505', 'GWids': ['Sp. 633a']}, {'place': 'Paris', 'label1': 'André Bocard, um 1500', 'GWids': ['13258']}, {'place': 'Paris', 'label1': 'André Bocard für Antoine Vérard(?), um 1500', 'GWids': ['13234']}, {'place': 'Paris', 'label1': 'André Bocard(?) für Antoine Vérard, 2.V.1500', 'GWids': ['13300']}, {'place': 'Paris', 'label1': 'André Bocard für Antoine Vérard , 14.VIII.1500', 'GWids': ['13302']}, {'place': 'Paris', 'label1': 'André Bocard für Antoine Vérard, 14.VIII.1500 vielmehr nicht vor 1503', 'GWids': ['Sp. 643a']}, {'place': 'Paris', 'label1': 'André Bocard , 22.X.1500', 'GWids': ['13103']}, {'place': 'Paris', 'label1': 'André Bocard , 20.I.150001', 'GWids': ['13105']}, {'place': 'Paris', 'label1': 'André Bocard , 20.I.150001', 'GWids': ['13106']}, {'place': 'Paris', 'label1': 'André Bocard für Antoine Vérard, 9.II.150001', 'GWids': ['13304']}, {'place': 'Paris', 'label1': 'André Bocard für Antoine Vérard, 9.II.150001', 'GWids': ['13303']}, {'place': 'Paris', 'label1': 'Jean Bonhomme, um 1486/90', 'GWids': ['13053']}, {'place': 'Paris', 'label1': 'Jean Bonhomme, um 1486/90', 'GWids': ['13050']}, {'place': 'Paris', 'label1': 'Antoine Caillaut für Antoine Vérard, 8.X.1488', 'GWids': ['13266']}, {'place': 'Paris', 'label1': 'Antoine Caillaut für Antoine Vérard, 8.I.148889', 'GWids': ['13131']}, {'place': 'Paris', 'label1': 'Antoine Caillaut für Antoine Vérard, 8.II.148990', 'GWids': ['13172']}, {'place': 'Paris', 'label1': 'Antoine Caillaut, um 1490', 'GWids': ['13289']}, {'place': 'Paris', 'label1': 'Antoine Chappiel für Germain Hardouyn, 5.X. 1504', 'GWids': ['Sp. 655a']}, {'place': 'Paris', 'label1': 'für(?) Jean de Coulonces, nicht vor 1500', 'GWids': ['13261']}, {'place': 'Paris', 'label1': 'Drucker der Horae (GW 13092), vor 10.VII.1493', 'GWids': ['13092']}, {'place': 'Paris', 'label1': 'Jean Du Pré, um 1485', 'GWids': ['13142']}, {'place': 'Paris', 'label1': 'Jean Du Pré für Antoine Vérard, 12.IX.1485', 'GWids': ['13143']}, {'place': 'Paris', 'label1': 'Jean Du Pré für Antoine Vérard, 6.II.148586', 'GWids': ['13144']}, {'place': 'Paris', 'label1': 'Jean Du Pré für Antoine Vérard, 21.VIII.1486', 'GWids': ['13054']}, {'place': 'Paris', 'label1': 'Jean Du Pré, um 1487', 'GWids': ['13063']}, {'place': 'Paris', 'label1': 'Jean Du Pré für Antoine Vérard, 7.VII.1487', 'GWids': ['13055']}, {'place': 'Paris', 'label1': 'Jean Du Pré, 18.II.148788', 'GWids': ['13111']}, {'place': 'Paris', 'label1': 'Jean Du Pré, 28.III.148788', 'GWids': ['13316']}, {'place': 'Paris', 'label1': 'Jean Du Pré, um 1488', 'GWids': ['13064']}, {'place': 'Paris', 'label1': 'Jean Du Pré(?) , um 1488(?)', 'GWids': ['13051']}, {'place': 'Paris', 'label1': 'Jean Du Pré, um 1488', 'GWids': ['13065']}, {'place': 'Paris', 'label1': 'Jean Du Pré, nicht vor 1488', 'GWids': ['13066']}, {'place': 'Paris', 'label1': 'Jean Du Pré, 10.V.1488', 'GWids': ['13264']}, {'place': 'Paris', 'label1': 'Jean Du Pré, 10.V.1488', 'GWids': ['13265']}, {'place': 'Paris', 'label1': 'Jean Du Pré, vor 19.II.1489', 'GWids': ['13067']}, {'place': 'Paris', 'label1': 'Jean Du Pré, 4.II.148889', 'GWids': ['13246']}, {'place': 'Paris', 'label1': 'Jean Du Pré für Antoine Vérard, 3.IV.148889', 'GWids': ['13267']}, {'place': 'Paris', 'label1': 'Jean Du Pré, um 1489', 'GWids': ['13068']}, {'place': 'Paris', 'label1': 'Jean Du Pré für Denis Meslier, 14.II.148990', 'GWids': ['13069']}, {'place': 'Paris', 'label1': 'Jean Du Pré, um 1490', 'GWids': ['13070']}, {'place': 'Paris', 'label1': 'Jean Du Pré, 9.XII. um 1490', 'GWids': ['13284']}, {'place': 'Paris', 'label1': 'Jean Du Pré, 1490', 'GWids': ['13114']}, {'place': 'Paris', 'label1': 'Jean Du Pré für Antoine Caillaut, um 1491', 'GWids': ['13071']}, {'place': 'Paris', 'label1': 'Jean Du Pré(?), um 1492', 'GWids': ['13056']}, {'place': 'Paris', 'label1': 'Jean Du Pré, nicht vor 1492(?)', 'GWids': ['13116']}, {'place': 'Paris', 'label1': 'Jean Du Pré(?), vor 1493(?)', 'GWids': ['13072']}, {'place': 'Paris', 'label1': 'Jean Du Pré , 17.V.1495', 'GWids': ['13094']}, {'place': 'Paris', 'label1': 'Jean Du Pré , 20.VI.1495', 'GWids': ['13095']}, {'place': 'Paris', 'label1': 'Jean Du Pré, 18.VII.1495', 'GWids': ['13098']}, {'place': 'Paris', 'label1': 'Jean Du Pré, 10.III.149596', 'GWids': ['13076']}, {'place': 'Paris', 'label1': 'Ulrich Gering und Berthold Remboldt, 16.XII.1494', 'GWids': ['13061']}, {'place': 'Paris', 'label1': 'Ulrich Gering und Berthold Remboldt, 15.X. 1496(?)', 'GWids': ['13062']}, {'place': 'Paris', 'label1': 'Ulrich Gering und Berthold Remboldt für Simon Vostre, 8.IX.1498', 'GWids': ['13245']}, {'place': 'Paris', 'label1': 'Ulrich Gering und Berthold Remboldt, 7.III.149899', 'GWids': ['13083']}, {'place': 'Paris', 'label1': 'Johann Higman, vor 1497(?)', 'GWids': ['13077']}, {'place': 'Paris', 'label1': 'Johann Higman für Willem Houtmaert in Antwerpen, 1497', 'GWids': ['13080']}, {'place': 'Paris', 'label1': 'Nicolas Higman für Simon Vostre, nach 1500', 'GWids': ['Sp. 598a']}, {'place': 'Paris', 'label1': 'Nicolas Higman für Simon Vostre, nach 1500', 'GWids': ['Sp. 598b']}, {'place': 'Paris', 'label1': 'Wolfgang Hopyl, 10.IX.1500', 'GWids': ['13086']}, {'place': 'Paris', 'label1': 'Etienne Jehannot für Johannes de Campis in Cambrai, 26.II.149495', 'GWids': ['13120']}, {'place': 'Paris', 'label1': 'Etienne Jehannot, um 1497', 'GWids': ['13122']}, {'place': 'Paris', 'label1': 'Etienne Jehannot, um 1497', 'GWids': ['13078']}, {'place': 'Paris', 'label1': 'Etienne Jehannot für Pierre Regnault in Caen, um 1497', 'GWids': ['13193']}, {'place': 'Paris', 'label1': 'Etienne Jehannot für Antoine Vérard, um 1497', 'GWids': ['13308']}, {'place': 'Paris', 'label1': 'Etienne Jehannot, nach 1497(?)', 'GWids': ['13046']}, {'place': 'Paris', 'label1': 'Etienne Jehannot, um 1497/98', 'GWids': ['13194']}, {'place': 'Paris', 'label1': 'Etienne Jehannot für Antoine Vérard, um 1497/98', 'GWids': ['13309']}, {'place': 'Paris', 'label1': 'Etienne Jehannot, um 1497/99', 'GWids': ['13123']}, {'place': 'Paris', 'label1': 'Etienne Jehannot, um 1497/99', 'GWids': ['13124']}, {'place': 'Paris', 'label1': 'Etienne Jehannot für Jean Petit, um 1497/99', 'GWids': ['13125']}, {'place': 'Paris', 'label1': 'Etienne Jehannot für Pierre Regnault in Caen, um 1497/99', 'GWids': ['13127']}, {'place': 'Paris', 'label1': 'Etienne Jehannot für Denis Roce, um 1497/99', 'GWids': ['13126']}, {'place': 'Paris', 'label1': 'Etienne Jehannot, um 1497/99', 'GWids': ['13129']}, {'place': 'Paris', 'label1': 'Etienne Jehannot, um 1497/99', 'GWids': ['13128']}, {'place': 'Paris', 'label1': 'Etienne Jehannot für die Brüder de Marnef, um 1497/99', 'GWids': ['13155']}, {'place': 'Paris', 'label1': 'Etienne Jehannot, 15.VII.1497', 'GWids': ['13197']}, {'place': 'Paris', 'label1': 'Etienne Jehannot, 21.VIII.1497', 'GWids': ['13199']}, {'place': 'Paris', 'label1': 'Etienne Jehannot für Pierre Pasquier, 20.IX.1497', 'GWids': ['13058']}, {'place': 'Paris', 'label1': 'Etienne Jehannot, 20.X.1497', 'GWids': ['13200']}, {'place': 'Paris', 'label1': 'Etienne Jehannot für Pierre Regnault in Caen, 31.X.1497', 'GWids': ['13201']}, {'place': 'Paris', 'label1': 'Etienne Jehannot , 15.XI.1497', 'GWids': ['13159']}, {'place': 'Paris', 'label1': 'Etienne Jehannot, um 1498', 'GWids': ['13099']}, {'place': 'Paris', 'label1': 'Etienne Jehannot für Antoine Vérard, um 1498', 'GWids': ['13272']}, {'place': 'Paris', 'label1': 'Etienne Jehannot, nicht vor 1498', 'GWids': ['13311']}, {'place': 'Paris', 'label1': 'Etienne Jehannot für Jean Poitevin , 15.V.1498', 'GWids': ['13214']}, {'place': 'Paris', 'label1': 'Etienne Jehannot, 15.V.1498', 'GWids': ['13213']}, {'place': 'Paris', 'label1': 'Etienne Jehannot für Jean Poitevin , 15.V.1498', 'GWids': ['13215']}, {'place': 'Paris', 'label1': 'Etienne Jehannot für Antoine Vérard, nach 21.VIII.1498', 'GWids': ['13313']}, {'place': 'Paris', 'label1': 'Etienne Jehannot für Antoine Vérard, 10.VIII.1498', 'GWids': ['13312']}, {'place': 'Paris', 'label1': 'Etienne Jehannot für Gilles Hardouyn, 31.VIII.1498', 'GWids': ['13162']}, {'place': 'Paris', 'label1': 'Etienne Jehannot für Jean Poitevin, 27.IX.1498', 'GWids': ['13164']}, {'place': 'Paris', 'label1': 'Etienne Jehannot für Jean Poitevin , 20.II.149899', 'GWids': ['13224']}, {'place': 'Paris', 'label1': 'Etienne Jehannot für Jean Poitevin , 20.II.149899', 'GWids': ['13226']}, {'place': 'Paris', 'label1': 'Etienne Jehannot für Jean Poitevin , 20.II.149899', 'GWids': ['13225']}, {'place': 'Paris', 'label1': 'Etienne Jehannot für Antoine Vérard, vor 13.X.1499', 'GWids': ['13295']}, {'place': 'Paris', 'label1': 'Etienne Jehannot für Antoine Vérard, nicht nach 25.X.1499', 'GWids': ['13227']}, {'place': 'Paris', 'label1': 'Etienne Jehannot für Jean Poitevin, um 1499', 'GWids': ['13235']}, {'place': 'Paris', 'label1': 'Etienne Jehannot für Jean Poitevin, um 1499', 'GWids': ['13228']}, {'place': 'Paris', 'label1': 'Etienne Jehannot(?), 20.II.14991500', 'GWids': ['13165']}, {'place': 'Paris', 'label1': 'Etienne Jehannot, um 1500', 'GWids': ['13278']}, {'place': 'Paris', 'label1': 'Etienne Jehannot, um 1500', 'GWids': ['13167']}, {'place': 'Paris', 'label1': 'Etienne Jehannot oder Jean Jehannot, nicht vor 1500', 'GWids': ['13299']}, {'place': 'Paris', 'label1': 'Jean Jehannot für Nicolaus Lecomte, 1498', 'GWids': ['13211']}, {'place': 'Paris', 'label1': 'Thielmann Kerver für Robert Macé in Caen, 4.V.1498', 'GWids': ['13047']}, {'place': 'Paris', 'label1': 'Thielmann Kerver, 26.IX.1498', 'GWids': ['13163']}, {'place': 'Paris', 'label1': 'Thielmann Kerver, 28.X.1498', 'GWids': ['13298']}, {'place': 'Paris', 'label1': 'Thielmann Kerver, 9.IV.1499', 'GWids': ['13100']}, {'place': 'Paris', 'label1': 'Thielmann Kerver für Gilles Remacle, 16.IX.1499', 'GWids': ['13285']}, {'place': 'Paris', 'label1': 'Thielmann Kerver für Hugues Pageot in Dijon, 7.X.1499', 'GWids': ['13102']}, {'place': 'Paris', 'label1': 'Thielmann Kerver für Guillaume Eustace, um 1500', 'GWids': ['13286']}, {'place': 'Paris', 'label1': 'Thielmann Kerver, 12.II.1500', 'GWids': ['13171']}, {'place': 'Paris', 'label1': 'Thielmann Kerver, 15.III.1500', 'GWids': ['13237']}, {'place': 'Paris', 'label1': 'Thielmann Kerver für Jean Petit in Paris und Pierre Cochery in Le Mans, 29.V.1500', 'GWids': ['13288']}, {'place': 'Paris', 'label1': 'Thielmann Kerver für Guillaume Eustace, 20.VI.1500', 'GWids': ['13301']}, {'place': 'Paris', 'label1': 'Thielmann Kerver für Gilles Remacle, 26.VI.1500', 'GWids': ['13169']}, {'place': 'Paris', 'label1': 'Thielmann Kerver für Gauche Preta in Châlons, 9.VIII. nach 1500(?)', 'GWids': ['13170']}, {'place': 'Paris', 'label1': 'Thielmann Kerver, 24.X. 1500(?)', 'GWids': ['13168']}, {'place': 'Paris', 'label1': 'Thielmann Kerver für sich selbst, Gilles Remacle und Guillaume Eustace, 14.XI. 1500(?)', 'GWids': ['13315']}, {'place': 'Paris', 'label1': 'Thielmann Kerver, nach 1500', 'GWids': ['Sp. 646a']}, {'place': 'Paris', 'label1': 'Thielmann Kerver für Gilles Remacle, 5.I.150001', 'GWids': ['13104']}, {'place': 'Paris', 'label1': 'Thielmann Kerver für Gilles Remacle, 3.II.150001', 'GWids': ['13107']}, {'place': 'Paris', 'label1': 'Thielmann Kerver für Gilles Remacle, 8.II.150001', 'GWids': ['13108']}, {'place': 'Paris', 'label1': 'Thielmann Kerver für Gilles Remacle, 15.III.150001', 'GWids': ['13109']}, {'place': 'Paris', 'label1': 'Thielmann Kerver für Guillaume Eustace, 15.III.150001', 'GWids': ['13244']}, {'place': 'Paris', 'label1': 'Thielmann Kerver, 10.IV.150001', 'GWids': ['13110']}, {'place': 'Paris', 'label1': 'Thielmann Kerver für Gilles Remacle, 5.VIII.1502', 'GWids': ['Sp. 519a']}, {'place': 'Paris', 'label1': 'Pierre Le Dru und Etienne Jehannot, um 1497', 'GWids': ['13079']}, {'place': 'Paris', 'label1': 'Pierre Le Dru und Etienne Jehannot für Robin Challot, vor 27.IX.1498', 'GWids': ['13081']}, {'place': 'Paris', 'label1': 'Pierre Le Dru(?) für Jean Poitevin, 8.III.14991500', 'GWids': ['13166']}, {'place': 'Paris', 'label1': 'Pierre Le Dru(?) für Jean Poitevin, um 1502/03', 'GWids': ['Sp. 553c']}, {'place': 'Paris', 'label1': 'Guillaume Le Rouge für Antoine Vérard, nicht vor 1502', 'GWids': ['Sp. 553b']}, {'place': 'Paris', 'label1': 'Pierre Le Rouge, um 1490', 'GWids': ['13087']}, {'place': 'Paris', 'label1': 'Pierre Le Rouge(?) für Antoine Vérard, um 1490', 'GWids': ['13041']}, {'place': 'Paris', 'label1': 'Pierre Le Rouge(?) für Antoine Vérard, 20.VIII.1490', 'GWids': ['13268']}, {'place': 'Paris', 'label1': 'Pierre Le Rouge für Vincent Commin, 9.V.1491', 'GWids': ['13271']}, {'place': 'Paris', 'label1': 'Pierre Levet für Antoine Vérard, 20.II.148889', 'GWids': ['13173']}, {'place': 'Paris', 'label1': 'Guy Marchant für Antoine Vérard, 5.I.148990', 'GWids': ['13089']}, {'place': 'Paris', 'label1': 'Guy Marchant für Antoine Vérard(?), um 1490', 'GWids': ['13059']}, {'place': 'Paris', 'label1': 'Denis Meslier, um 1490', 'GWids': ['13174']}, {'place': 'Paris', 'label1': 'Denis Meslier, 8.V. um 1491/92', 'GWids': ['13270']}, {'place': 'Paris', 'label1': 'Denis Meslier, um 1491', 'GWids': ['13269']}, {'place': 'Paris', 'label1': 'Jean Morand(?) für Jean de Coulonces bzw. Robin Challot, 2.VII.1492', 'GWids': ['13137']}, {'place': 'Paris', 'label1': 'Jean Morand(?), um 1493(?)', 'GWids': ['13149']}, {'place': 'Paris', 'label1': 'Jean Morand für Geoffroi de Marnef, 12.II.149293', 'GWids': ['13117']}, {'place': 'Paris', 'label1': 'Jean Morand für Enguilbert de Marnef und Jean Alexandre, 7.III.149293', 'GWids': ['13118']}, {'place': 'Paris', 'label1': 'Jean Morand für Geoffroi de Marnef, 20.VI.1493', 'GWids': ['13151']}, {'place': 'Paris', 'label1': 'Jean Morand für Geoffroi de Marnef, 13.VIII.1493', 'GWids': ['13152']}, {'place': 'Paris', 'label1': 'Jean Morand(?) für Antoine Vérard, 8.VII.1495', 'GWids': ['13097']}, {'place': 'Paris', 'label1': 'Jean Morand(?) für Antoine Vérard, 8.VII.1495', 'GWids': ['13096']}, {'place': 'Paris', 'label1': 'Jean Morand für Antoine Vérard, 22.X.1498', 'GWids': ['13275']}, {'place': 'Paris', 'label1': 'Laurent Philippe, 10.VII.1493', 'GWids': ['13119']}, {'place': 'Paris', 'label1': 'Johann Philippi für Thielmann Kerver in Paris und Jean Richard in Rouen, 1497', 'GWids': ['13156']}, {'place': 'Paris', 'label1': 'Johann Philippi für Thielmann Kerver, 27.VI.1497', 'GWids': ['13157']}, {'place': 'Paris', 'label1': 'Johann Philippi für Thielmann Kerver, 15.VII.1497', 'GWids': ['13158']}, {'place': 'Paris', 'label1': 'Johann Philippi für Thielmann Kerver, 20.XII.1497', 'GWids': ['13297']}, {'place': 'Paris', 'label1': 'Johann Philippi für Jacques Bezanceau in Poitiers und Thielmann Kerver in Paris , 16.I.149798', 'GWids': ['13160']}, {'place': 'Paris', 'label1': 'Johann Philippi, nicht vor 1500', 'GWids': ['13130']}, {'place': 'Paris', 'label1': 'Philippe Pigouchet für die Brüder de Marnef, um 1491/92', 'GWids': ['13145']}, {'place': 'Paris', 'label1': 'Philippe Pigouchet für Simon Vostre, 1491', 'GWids': ['13042']}, {'place': 'Paris', 'label1': 'Philippe Pigouchet für Simon Vostre, 11.VII.1491', 'GWids': ['13290']}, {'place': 'Paris', 'label1': 'Philippe Pigouchet für Simon Vostre, 5.VIII.1491', 'GWids': ['13146']}, {'place': 'Paris', 'label1': 'Philippe Pigouchet z.T. für die Brüder de Marnef, 1.XII.1491', 'GWids': ['13147']}, {'place': 'Paris', 'label1': 'Philippe Pigouchet für Simon Vostre, 24.XII.1491', 'GWids': ['13090']}, {'place': 'Paris', 'label1': 'Philippe Pigouchet für Simon Vostre, 5.I.149192', 'GWids': ['13291']}, {'place': 'Paris', 'label1': 'Philippe Pigouchet für Simon Vostre, 20.I.149192', 'GWids': ['13292']}, {'place': 'Paris', 'label1': 'Philippe Pigouchet, 21.II.149192', 'GWids': ['13132']}, {'place': 'Paris', 'label1': 'Philippe Pigouchet für Simon Vostre, 1.III.149192', 'GWids': ['13148']}, {'place': 'Paris', 'label1': 'Philippe Pigouchet für Simon Vostre, 13.III.149192', 'GWids': ['13293']}, {'place': 'Paris', 'label1': 'Philippe Pigouchet, um 1492', 'GWids': ['13135']}, {'place': 'Paris', 'label1': 'Philippe Pigouchet, um 1492', 'GWids': ['13133']}, {'place': 'Paris', 'label1': 'Philippe Pigouchet, um 1492', 'GWids': ['13134']}, {'place': 'Paris', 'label1': 'Philippe Pigouchet für Simon Vostre, um 1492', 'GWids': ['13043']}, {'place': 'Paris', 'label1': 'Philippe Pigouchet, um 1492/93', 'GWids': ['13175']}, {'place': 'Paris', 'label1': 'Philippe Pigouchet für Simon Vostre, 7.V.1492', 'GWids': ['13136']}, {'place': 'Paris', 'label1': 'Philippe Pigouchet für Simon Vostre, 8.V.1492', 'GWids': ['13091']}, {'place': 'Paris', 'label1': 'Philippe Pigouchet für Simon Vostre, 17.XI.1492', 'GWids': ['13044']}, {'place': 'Paris', 'label1': 'Philippe Pigouchet für Simon Vostre, 22.II.149293', 'GWids': ['13138']}, {'place': 'Paris', 'label1': 'Philippe Pigouchet für Pierre Regnault in Caen, 11.III.149293', 'GWids': ['13139']}, {'place': 'Paris', 'label1': 'Philippe Pigouchet für sich selbst und die Brüder de Marnef, um 1493', 'GWids': ['13150']}, {'place': 'Paris', 'label1': 'Philippe Pigouchet, um 1493', 'GWids': ['13073']}, {'place': 'Paris', 'label1': 'Philippe Pigouchet für Simon Vostre, 2.VIII.1493', 'GWids': ['13294']}, {'place': 'Paris', 'label1': 'Philippe Pigouchet für Simon Vostre, 22.VIII.1493', 'GWids': ['13153']}, {'place': 'Paris', 'label1': 'Philippe Pigouchet für Toussaint de Montjay, 26.IX.1493', 'GWids': ['13060']}, {'place': 'Paris', 'label1': 'Philippe Pigouchet für Simon Vostre, 4.XII.1493', 'GWids': ['13140']}, {'place': 'Paris', 'label1': 'Philippe Pigouchet für Jean Richard in Rouen, 1494', 'GWids': ['13176']}, {'place': 'Paris', 'label1': 'Philippe Pigouchet, 19.IV.1494', 'GWids': ['13177']}, {'place': 'Paris', 'label1': 'Philippe Pigouchet für Simon Vostre, 2.VI.1494', 'GWids': ['13178']}, {'place': 'Paris', 'label1': 'Philippe Pigouchet für Simon Vostre, 21.VIII.1494', 'GWids': ['13179']}, {'place': 'Paris', 'label1': 'Philippe Pigouchet für Simon Vostre, 23.X.1494', 'GWids': ['13154']}, {'place': 'Paris', 'label1': 'Philippe Pigouchet, 9.XII.1494', 'GWids': ['13180']}, {'place': 'Paris', 'label1': 'Philippe Pigouchet, 20.XII.1494', 'GWids': ['13181']}, {'place': 'Paris', 'label1': 'Philippe Pigouchet für Jean Du Bois in Auxerre(?) , 1495', 'GWids': ['13183']}, {'place': 'Paris', 'label1': 'Philippe Pigouchet für Simon Vostre, 13.III.149495', 'GWids': ['13182']}, {'place': 'Paris', 'label1': 'Philippe Pigouchet für Simon Vostre, 4.VII.1495', 'GWids': ['13074']}, {'place': 'Paris', 'label1': 'Philippe Pigouchet für Toussaint de Montjay, 30.VII.1495', 'GWids': ['13184']}, {'place': 'Paris', 'label1': 'Philippe Pigouchet, August/September 1495', 'GWids': ['13075']}, {'place': 'Paris', 'label1': 'Philippe Pigouchet für Simon Vostre, 6.X.1495', 'GWids': ['13306']}, {'place': 'Paris', 'label1': 'Philippe Pigouchet für Simon Vostre, 13.XI.1495', 'GWids': ['13185']}, {'place': 'Paris', 'label1': 'Philippe Pigouchet für Simon Vostre, 31.XII.1495', 'GWids': ['13248']}, {'place': 'Paris', 'label1': 'Philippe Pigouchet für Simon Vostre, 13.II.149596', 'GWids': ['13186']}, {'place': 'Paris', 'label1': 'Philippe Pigouchet für Simon Vostre, 22.V.1496', 'GWids': ['13187']}, {'place': 'Paris', 'label1': 'Philippe Pigouchet für Macé Panthoul in Troyes, 20.VII.1496', 'GWids': ['13045']}, {'place': 'Paris', 'label1': 'Philippe Pigouchet für Simon Vostre, 20.VIII.1496', 'GWids': ['13249']}, {'place': 'Paris', 'label1': 'Philippe Pigouchet für Simon Vostre, 17.IX.1496', 'GWids': ['13307']}, {'place': 'Paris', 'label1': 'Philippe Pigouchet für Simon Vostre, 19.XII.1496', 'GWids': ['13188']}, {'place': 'Paris', 'label1': 'Philippe Pigouchet für Simon Vostre, 23.I.149697', 'GWids': ['13189']}, {'place': 'Paris', 'label1': 'Philippe Pigouchet für Simon Vostre, 23.I.149697', 'GWids': ['13190']}, {'place': 'Paris', 'label1': 'Philippe Pigouchet für Simon Vostre, 15.II.149697', 'GWids': ['13191']}, {'place': 'Paris', 'label1': 'Philippe Pigouchet für Simon Vostre, 15.II.149697', 'GWids': ['13192']}, {'place': 'Paris', 'label1': 'Philippe Pigouchet für Simon Vostre, 20.III.149697 und 17.IV.1497', 'GWids': ['13250']}, {'place': 'Paris', 'label1': 'Philippe Pigouchet für Simon Vostre, um 1497', 'GWids': ['13251']}, {'place': 'Paris', 'label1': 'Philippe Pigouchet für Simon Vostre, 17.IV.1497(?)', 'GWids': ['13195']}, {'place': 'Paris', 'label1': 'Philippe Pigouchet für Simon Vostre, 9.VI.1497', 'GWids': ['13252']}, {'place': 'Paris', 'label1': 'Philippe Pigouchet für Simon Vostre, 7.VII.1497', 'GWids': ['13196']}, {'place': 'Paris', 'label1': 'Philippe Pigouchet für Simon Vostre, 8.VIII.1497', 'GWids': ['13198']}, {'place': 'Paris', 'label1': 'Philippe Pigouchet für Simon Vostre, 4.XI.1497', 'GWids': ['13310']}, {'place': 'Paris', 'label1': 'Philippe Pigouchet, 16.XI.1497', 'GWids': ['13202']}, {'place': 'Paris', 'label1': 'Philippe Pigouchet für Simon Vostre, 21.XI.1497', 'GWids': ['13203']}, {'place': 'Paris', 'label1': 'Philippe Pigouchet für Simon Vostre, 21.XI.14 97/98(?)', 'GWids': ['13204']}, {'place': 'Paris', 'label1': 'Philippe Pigouchet für Simon Vostre, 4.XII.1497', 'GWids': ['13205']}, {'place': 'Paris', 'label1': 'Philippe Pigouchet für Simon Vostre, 23.XII.1497', 'GWids': ['13206']}, {'place': 'Paris', 'label1': 'Philippe Pigouchet für Simon Vostre, 25.II.149798', 'GWids': ['13208']}, {'place': 'Paris', 'label1': 'Philippe Pigouchet für Simon Vostre, 25.II.149798', 'GWids': ['13207']}, {'place': 'Paris', 'label1': 'Philippe Pigouchet für Simon Vostre, 6.III.149798', 'GWids': ['13209']}, {'place': 'Paris', 'label1': 'Philippe Pigouchet, um 1498', 'GWids': ['13141']}, {'place': 'Paris', 'label1': 'Philippe Pigouchet, um 1498', 'GWids': ['13082']}, {'place': 'Paris', 'label1': 'Philippe Pigouchet für Simon Vostre, 30.IV.1498', 'GWids': ['13212']}, {'place': 'Paris', 'label1': 'Philippe Pigouchet für Simon Vostre, 16.V.1498', 'GWids': ['13216']}, {'place': 'Paris', 'label1': 'Philippe Pigouchet für Simon Vostre, 9.VI.1498', 'GWids': ['13217']}, {'place': 'Paris', 'label1': 'Philippe Pigouchet für Simon Vostre, 8.VIII.1498', 'GWids': ['13220']}, {'place': 'Paris', 'label1': 'Philippe Pigouchet für Simon Vostre, 8.VIII.1498', 'GWids': ['13219']}, {'place': 'Paris', 'label1': 'Philippe Pigouchet für Simon Vostre, 8.VIII.1498', 'GWids': ['13218']}, {'place': 'Paris', 'label1': 'Philippe Pigouchet, vor 22.VIII.1498', 'GWids': ['13210']}, {'place': 'Paris', 'label1': 'Philippe Pigouchet für Simon Vostre, 22.VIII.1498', 'GWids': ['13314']}, {'place': 'Paris', 'label1': 'Philippe Pigouchet für Simon Vostre, 16.IX.1498', 'GWids': ['13253']}, {'place': 'Paris', 'label1': 'Philippe Pigouchet für Simon Vostre, 16.IX.1498', 'GWids': ['13254']}, {'place': 'Paris', 'label1': 'Philippe Pigouchet für Jean Magdalene in Metz, 8.XI.1498', 'GWids': ['13221']}, {'place': 'Paris', 'label1': 'Philippe Pigouchet für Simon Vostre, 23.XI.1498', 'GWids': ['13222']}, {'place': 'Paris', 'label1': 'Philippe Pigouchet für Simon Vostre, 11.XII.1498', 'GWids': ['13223']}, {'place': 'Paris', 'label1': 'Philippe Pigouchet, um 1499', 'GWids': ['13255']}, {'place': 'Paris', 'label1': 'Philippe Pigouchet für Simon Vostre, 19.IV.1499', 'GWids': ['13229']}, {'place': 'Paris', 'label1': 'Philippe Pigouchet für Simon Vostre, 12.VI.1499', 'GWids': ['13230']}, {'place': 'Paris', 'label1': 'Philippe Pigouchet für Simon Vostre, 6.VII.1499', 'GWids': ['13048']}, {'place': 'Paris', 'label1': 'Philippe Pigouchet für Simon Vostre, 15.X.1499', 'GWids': ['13256']}, {'place': 'Paris', 'label1': 'Philippe Pigouchet für Simon Vostre, 22.XI.1499', 'GWids': ['13257']}, {'place': 'Paris', 'label1': 'Philippe Pigouchet für Simon Vostre, 20.XII.1499', 'GWids': ['13232']}, {'place': 'Paris', 'label1': 'Philippe Pigouchet für Jean Lagache in Arras, 20.XII.1499', 'GWids': ['13231']}, {'place': 'Paris', 'label1': 'Philippe Pigouchet für Macé Panthoul in Troyes, 20.I.14991500', 'GWids': ['1314110']}, {'place': 'Paris', 'label1': 'Philippe Pigouchet, 11.II.14991500', 'GWids': ['13233']}, {'place': 'Paris', 'label1': 'Philippe Pigouchet, um 1500', 'GWids': ['13236']}, {'place': 'Paris', 'label1': 'Philippe Pigouchet für Simon Vostre, um 1500', 'GWids': ['13260']}, {'place': 'Paris', 'label1': 'Philippe Pigouchet für Simon Vostre, um 1500', 'GWids': ['13318']}, {'place': 'Paris', 'label1': 'Philippe Pigouchet für Simon Vostre, um 1500', 'GWids': ['13259']}, {'place': 'Paris', 'label1': 'Philippe Pigouchet für Simon Vostre, 25.IV.1500', 'GWids': ['13084']}, {'place': 'Paris', 'label1': 'Philippe Pigouchet für Simon Vostre, 25.IV.1500', 'GWids': ['13085']}, {'place': 'Paris', 'label1': 'Philippe Pigouchet für Simon Vostre, 28.IV.1500', 'GWids': ['13238']}, {'place': 'Paris', 'label1': 'Philippe Pigouchet für Simon Vostre, 28.IV.1500', 'GWids': ['13239']}, {'place': 'Paris', 'label1': 'Philippe Pigouchet für Simon Vostre, 25.VI.1500', 'GWids': ['13240']}, {'place': 'Paris', 'label1': 'Philippe Pigouchet für Simon Vostre, 28.VI.1500', 'GWids': ['13241']}, {'place': 'Paris', 'label1': 'Philippe Pigouchet für Simon Vostre, 27.VII.1500', 'GWids': ['13242']}, {'place': 'Paris', 'label1': 'Philippe Pigouchet , 12.X.1500', 'GWids': ['13243']}, {'place': 'Paris', 'label1': 'Philippe Pigouchet für Narcisse Bruno, 13.II.150001(?)', 'GWids': ['13262']}, {'place': 'Paris', 'label1': 'Philippe Pigouchet für Simon Vostre, nach 1500(?)', 'GWids': ['13263']}, {'place': 'Paris', 'label1': 'Philippe Pigouchet für Simon Vostre, nicht vor 1501', 'GWids': ['Sp. 599a']}, {'place': 'Paris', 'label1': 'Jean Poitevin , 2.VII.1498', 'GWids': ['13273']}, {'place': 'Paris', 'label1': 'Jean Poitevin , 15.X.1498', 'GWids': ['13274']}, {'place': 'Paris', 'label1': 'Pierre Roffet, nicht vor 1524', 'GWids': ['Sp. 633b']}, {'place': 'Paris', 'label1': 'Michel Toulouse, 3.III. nicht nach 1496', 'GWids': ['13121']}, {'place': 'Paris', 'label1': 'Antoine Vérard, 27.II.148788', 'GWids': ['13088']}, {'place': 'Paris', 'label1': 'Antoine Vérard, um 1488/90', 'GWids': ['13279']}, {'place': 'Paris', 'label1': 'Antoine Vérard, 20.X.1489', 'GWids': ['13112']}, {'place': 'Paris', 'label1': 'Antoine Vérard, 20.II.148990', 'GWids': ['13113']}, {'place': 'Paris', 'label1': 'Antoine Vérard, 10.IV.148990', 'GWids': ['13317']}, {'place': 'Paris', 'label1': 'Antoine Vérard, um 1490', 'GWids': ['13280']}, {'place': 'Paris', 'label1': 'Antoine Vérard, um 1490', 'GWids': ['13281']}, {'place': 'Paris', 'label1': 'Antoine Vérard, um 1490', 'GWids': ['13282']}, {'place': 'Paris', 'label1': 'Antoine Vérard, um 1490', 'GWids': ['13283']}, {'place': 'Paris', 'label1': 'Antoine Vérard, um 1490', 'GWids': ['13247']}, {'place': 'Paris', 'label1': 'Antoine Vérard, um 1490', 'GWids': ['13296']}, {'place': 'Paris', 'label1': 'Antoine Vérard, 20.VII.1490', 'GWids': ['13115']}, {'place': 'Paris', 'label1': 'Antoine Vérard, vor 25.X.1499', 'GWids': ['13277']}, {'place': 'Paris', 'label1': 'Antoine Vérard, vor 25.X.1499', 'GWids': ['13276']}, {'place': 'Paris', 'label1': 'Antoine Vérard(?), um 1500(?)', 'GWids': ['13287']}, {'place': 'Paris', 'label1': 'für Antoine Vérard(?), nach 1500', 'GWids': ['Sp. 599b']}, {'place': 'Paris', 'label1': 'für Antoine Vérard, 18.VIII.1502', 'GWids': ['Sp. 646b']}, {'place': 'Paris', 'label1': 'für Simon Vostre, nach 1500', 'GWids': ['Sp. 612a']}, {'place': 'Paris', 'label1': 'für Simon Vostre, nicht vor 1512', 'GWids': ['Sp. 486a']}, {'place': 'Paris', 'label1': 'Georg Wolff, um 1490', 'GWids': ['13052']}, {'place': 'Paris', 'label1': 'Georg Wolff und Johann Philippi, 20.IX.1494', 'GWids': ['13305']}, {'place': 'Paris', 'label1': 'Georg Wolff und Thielmann Kerver für Geoffroi de Marnef, 28.VI.1498', 'GWids': ['13161']}, {'place': 'Paris', 'label1': 'Georg Wolff und Thielmann Kerver, 26.IV.1499', 'GWids': ['13101']}, {'place': 'Paris oder Rouen', 'label1': 'Drucker des Breviarium Rothomagense (GW 5437), um 1480', 'GWids': ['13057']}, {'place': 'Paris oder Rouen', 'label1': 'Drucker der Horae ad usum Sarum (GW 13093) , 1495', 'GWids': ['13093']}, {'place': 'Poitiers', 'label1': 'Jean Bouyer, um 1479', 'GWids': ['13319']}, {'place': 'Poitiers', 'label1': 'Jean Bouyer und Pierre Bellescullée, um 1489', 'GWids': ['13320']}, {'place': 'Reutlingen', 'label1': 'Michael Greyff, 1492', 'GWids': ['12987']}, {'place': 'Rom', 'label1': 'Johann Bulle, um 1478/79', 'GWids': ['13352']}, {'place': 'Rom', 'label1': 'Georg Herolt , 17.III.1481', 'GWids': ['13353']}, {'place': 'Rom', 'label1': 'Theobald Schenkbecher, um 1473', 'GWids': ['13351']}, {'place': 'Rouen', 'label1': 'ohne Drucker, um 1494(?)', 'GWids': ['13321']}, {'place': 'Rouen', 'label1': 'Jean Le Bourgeois, um 1499', 'GWids': ['13325']}, {'place': 'Rouen', 'label1': 'Jacques Le Forestier, 4.X.1494', 'GWids': ['13322']}, {'place': 'Rouen', 'label1': 'Jacques Le Forestier, um 1498', 'GWids': ['13323']}, {'place': 'Rouen', 'label1': 'Jacques Le Forestier für Robert Macé in Caen, 30.V.1498', 'GWids': ['13324']}, {'place': 'Schoonhoven', 'label1': 'Fratres apud S. Michaelem in den Hem , 5.X.1496', 'GWids': ['13437']}, {'place': 'Schoonhoven', 'label1': 'Fratres apud S. Michaelem in den Hem , 28.III.1498', 'GWids': ['13438']}, {'place': 'Schoonhoven', 'label1': 'Fratres apud S. Michaelem in den Hem, 12.III.1500', 'GWids': ['13414']}, {'place': 'Schoonhoven', 'label1': 'Fratres apud S. Michaelem in den Hem, nach 1500(?)', 'GWids': ['13415']}, {'place': 'Schoonhoven', 'label1': 'Fratres apud S. Michaelem in den Hem, nach 1500(?)', 'GWids': ['13416']}, {'place': 'Speyer', 'label1': 'Peter Drach d.M. , 21.I.1488', 'GWids': ['12966']}, {'place': 'Strassburg', 'label1': 'Drucker des Henricus Ariminensis (Georg Reyser), um 1478', 'GWids': ['12967']}, {'place': 'Strassburg', 'label1': 'Johann Grüninger, nicht nach 1496', 'GWids': ['12968']}, {'place': 'Strassburg', 'label1': 'Johann Grüninger, nach 28.III. 1498', 'GWids': ['12970']}, {'place': 'Strassburg', 'label1': 'Johann Grüninger, 1500', 'GWids': ['12971']}, {'place': 'Strassburg', 'label1': 'Johann Grüninger, 31.I.1500', 'GWids': ['12972']}, {'place': 'Strassburg', 'label1': 'Wilhelm Schaffener, 13.III.1498', 'GWids': ['12969']}, {'place': 'Strassburg', 'label1': 'Wilhelm Schaffener, 15.III.1500', 'GWids': ['12973']}, {'place': 'Stuttgart', 'label1': 'Drucker der Erwählung Maximilians (H 10929), um 1486', 'GWids': ['12974']}, {'place': 'Tours', 'label1': 'Mathieu Latheron auf Veranlassung von Jean Turreau, 7.V.1496', 'GWids': ['13326']}, {'place': 'Troyes', 'label1': 'Guillaume Le Rouge, 31.I.149394', 'GWids': ['13327']}, {'place': 'Turin', 'label1': 'Jacobinus Suigus und Nicolaus de Benedictis, 31.I.1495', 'GWids': ['13354']}, {'place': 'Ulm', 'label1': 'Konrad Dinckmut, um 1480', 'GWids': ['12989']}, {'place': 'Ulm', 'label1': 'Konrad Dinckmut, 1484', 'GWids': ['12990']}, {'place': 'Ulm', 'label1': 'Konrad Dinckmut, nicht nach 1485', 'GWids': ['12976']}, {'place': 'Ulm', 'label1': 'Konrad Dinckmut, um 1487', 'GWids': ['12977']}, {'place': 'Ulm', 'label1': 'Konrad Dinckmut, um 1488/91', 'GWids': ['12991']}, {'place': 'Ulm', 'label1': 'Konrad Dinckmut, 1491', 'GWids': ['12993']}, {'place': 'Ulm', 'label1': 'Johann Reger, um 1491', 'GWids': ['12992']}, {'place': 'Ulm', 'label1': 'Johann Reger, 3.VI.1491', 'GWids': ['12994']}, {'place': 'Ulm', 'label1': 'Johann Schäffler, 22.IX.1492', 'GWids': ['12979']}, {'place': 'Ulm', 'label1': 'Johann Schäffler, um 1493', 'GWids': ['12995']}, {'place': 'Ulm', 'label1': 'Johann Schäffler, 1494', 'GWids': ['12980']}, {'place': 'Ulm', 'label1': 'Johann Zainer d.Ä., um 1476', 'GWids': ['12988']}, {'place': 'Ulm', 'label1': 'Johann Zainer d.Ä., um 1482', 'GWids': ['12975']}, {'place': 'Ulm', 'label1': 'Johann Zainer d.Ä., um 1488', 'GWids': ['12978']}, {'place': 'Urach', 'label1': 'Konrad Fyner, um 1482', 'GWids': ['12996']}, {'place': 'Vadstena', 'label1': 'Monasterium S. Birgittae, vor 15.X.1495', 'GWids': ['13448']}, {'place': 'Valencia', 'label1': 'Drucker des Officium BMV (GW 13442) , 7.XI.1486', 'GWids': ['13442']}, {'place': 'Valencia', 'label1': 'Peter Hagembach und Leonhard Hutz für Jacobus de Villa, 21.II.1494', 'GWids': ['13443']}, {'place': 'Venedig', 'label1': 'ohne Drucker, um 1474', 'GWids': ['Sp. 674a']}, {'place': 'Venedig', 'label1': 'Georgius Arrivabene und Paganinus de Paganinis, 1484', 'GWids': ['13364']}, {'place': 'Venedig', 'label1': 'Georgius Arrivabene und Paganinus de Paganinis, 1.IV.1485', 'GWids': ['13366']}, {'place': 'Venedig', 'label1': 'Bernardinus de Choris, 29.III.1488', 'GWids': ['13395']}, {'place': 'Venedig', 'label1': 'Christoph Arnold , 13.VI.1478', 'GWids': ['13360']}, {'place': 'Venedig', 'label1': 'Drucker der Horae (GW 13397) , um 1495(?)', 'GWids': ['13397']}, {'place': 'Venedig', 'label1': 'Johann Emerich, 6.V.1493', 'GWids': ['13376']}, {'place': 'Venedig', 'label1': 'Johann Emerich, 30.XI.1494', 'GWids': ['13379']}, {'place': 'Venedig', 'label1': 'Johann Emerich für Lucantonio Giunta, 31.VII.1496', 'GWids': ['13381']}, {'place': 'Venedig', 'label1': 'Johann Emerich für Lucantonio Giunta, 31.VIII.1496', 'GWids': ['13382']}, {'place': 'Venedig', 'label1': 'Johann Emerich , 9.V.1497', 'GWids': ['13383']}, {'place': 'Venedig', 'label1': 'Johann Emerich für Lucantonio Giunta , 31.VII.1497', 'GWids': ['13384']}, {'place': 'Venedig', 'label1': 'Johann Emerich für Lucantonio Giunta, 30.IX.1498', 'GWids': ['13387']}, {'place': 'Venedig', 'label1': 'Johann Emerich für Lucantonio Giunta, 21.V.1499', 'GWids': ['13388']}, {'place': 'Venedig', 'label1': 'Nicolaus Girardengus, 10.XI.1481', 'GWids': ['13361']}, {'place': 'Venedig', 'label1': 'Johann Hamann, 1488', 'GWids': ['13368']}, {'place': 'Venedig', 'label1': 'Johann Hamann, 1490', 'GWids': ['13370']}, {'place': 'Venedig', 'label1': 'Johann Hamann, 4.XII.1490', 'GWids': ['13371']}, {'place': 'Venedig', 'label1': 'Johann Hamann, 3.XII.1491', 'GWids': ['13372']}, {'place': 'Venedig', 'label1': 'Johann Hamann, 4.II.149293', 'GWids': ['13374']}, {'place': 'Venedig', 'label1': 'Johann Hamann, 14 93', 'GWids': ['13375']}, {'place': 'Venedig', 'label1': 'Johann Hamann für Gerard Barrevelt und Frederick Egmondt, 1494', 'GWids': ['13377']}, {'place': 'Venedig', 'label1': 'Johann Hamann für Johann Volkarth, 14.XI.1495', 'GWids': ['13380']}, {'place': 'Venedig', 'label1': 'Johann Hamann für Octavianus Scotus, 1.X.1497', 'GWids': ['13385']}, {'place': 'Venedig', 'label1': 'Nicolas Jenson', 'GWids': ['Sp. 674b']}, {'place': 'Venedig', 'label1': 'Nicolas Jenson, 1474', 'GWids': ['13355']}, {'place': 'Venedig', 'label1': 'Nicolas Jenson, um 1475', 'GWids': ['13356']}, {'place': 'Venedig', 'label1': 'Nicolas Jenson für? Raphael Zovenzonius, um 1475', 'GWids': ['13357']}, {'place': 'Venedig', 'label1': 'Nicolas Jenson, 1475', 'GWids': ['13358']}, {'place': 'Venedig', 'label1': 'Johann Leoviller, um 1485/88', 'GWids': ['13365']}, {'place': 'Venedig', 'label1': 'Johann Leoviller, 1486', 'GWids': ['13367']}, {'place': 'Venedig', 'label1': 'Aldus Manutius, 5.XII.1497', 'GWids': ['13396']}, {'place': 'Venedig', 'label1': 'Nikolaus von Frankfurt, 1482', 'GWids': ['13363']}, {'place': 'Venedig', 'label1': 'Andreas de Paltaszichis, 20.IV.1478', 'GWids': ['13359']}, {'place': 'Venedig', 'label1': 'Theodorus de Ragazonibus, 12.VII.1492', 'GWids': ['13373']}, {'place': 'Venedig', 'label1': 'Hieronymus de Sanctis, 26.IV.1494', 'GWids': ['13378']}, {'place': 'Venedig', 'label1': 'Andreas Torresanus für Johann von Köln, Nicolas Jenson und Genossen, 22.XII.1481', 'GWids': ['13362']}, {'place': 'Venedig', 'label1': 'Andreas Torresanus, 23.VII.1489', 'GWids': ['13369']}, {'place': 'Venedig', 'label1': 'Bernardinus de Vitalibus, Januar 14 9 3 vielmehr 1533', 'GWids': ['Sp. 693a']}, {'place': 'Venedig', 'label1': 'Antonius de Zanchis, 14.VII.1498', 'GWids': ['13386']}, {'place': 'Verona', 'label1': 'Boninus de Boninis, 24.X.1481', 'GWids': ['13389']}, {'place': 'Westminster', 'label1': 'William Caxton, um 1478', 'GWids': ['13021']}, {'place': 'Westminster', 'label1': 'William Caxton, um 1484', 'GWids': ['13022']}, {'place': 'Westminster', 'label1': 'William Caxton oder Wynkyn de Worde, um 1491/94', 'GWids': ['13023']}, {'place': 'Westminster', 'label1': 'William Caxton oder Wynkyn de Worde, um 1491/94', 'GWids': ['13024']}, {'place': 'Westminster', 'label1': 'Julian Notary, 2.IV.1500', 'GWids': ['13028']}, {'place': 'Westminster', 'label1': 'Wynkyn de Worde auf Veranlassung von Elisabeth(von York), Königin von England, und Margaret Beaufort, um 1493', 'GWids': ['13025']}, {'place': 'Westminster', 'label1': 'Wynkyn de Worde, um 1493/94', 'GWids': ['13026']}, {'place': 'Westminster', 'label1': 'Wynkyn de Worde, um 1494', 'GWids': ['13027']}, {'place': 'Zaragoza', 'label1': 'Georg Coci und Genossen, 30.VII.1500', 'GWids': ['13446']}, {'place': 'Zaragoza', 'label1': 'Paul Hurus, um 1490', 'GWids': ['13444']}, {'place': 'Zaragoza', 'label1': 'Paul Hurus, 9.III.1499', 'GWids': ['13445']}]\n"
     ]
    }
   ],
   "source": [
    "place_printer = []\n",
    "tables_betw_divs = []\n",
    "current_element = Drucker_div.find_next_sibling()\n",
    "\n",
    "while current_element and current_element != Verleger_div:\n",
    "    if current_element.name == 'table' and 'reftable' in current_element.get('class', []):\n",
    "        tables_betw_divs.append(current_element)\n",
    "    current_element = current_element.find_next_sibling()\n",
    "\n",
    "place = ''\n",
    "    \n",
    "for table in tables_betw_divs:\n",
    "    \n",
    "    if table.select_one('tr td:nth-child(2)'):\n",
    "        label1 = table.select_one('tr td:first-child').text\n",
    "        \n",
    "        ### NOTA BENE : THE FOLLOWING LINE REMOVES SQUARE BRACKETS, THEREFORE ALL INDICATIONS THAT AN INFORMATION PIECE IS NOT IN THE SOURCE\n",
    "        \n",
    "        label1 = re.sub(r'[\\[\\]\\s]+', ' ', label1).strip()\n",
    "        \n",
    "        # print(label1)\n",
    "\n",
    "        # Modification de la fonction de split en utilisant une expression régulière\n",
    "        GWids = table.select_one('tr td:nth-child(2)').text\n",
    "        GWids_list = re.split(r'(?<!Sp)\\.\\s*', GWids)\n",
    "        # Nettoyer les espaces autour de chaque nombre\n",
    "        GWids_list_propre = [nombre.strip() for nombre in GWids_list]\n",
    "        GWids = GWids_list_propre\n",
    "\n",
    "        # print(GWids)\n",
    "\n",
    "        # Ajouter les résultats à la liste\n",
    "        place_printer.append({\n",
    "            'place': place,\n",
    "            'label1': label1,\n",
    "            'GWids': GWids\n",
    "        })\n",
    "    else:\n",
    "        place = table.select_one('tr td:first-child').text\n",
    "        \n",
    "# Afficher les résultats\n",
    "print(place_printer)\n"
   ]
  },
  {
   "cell_type": "markdown",
   "metadata": {},
   "source": [
    "The value of \"label1\" is generally \"Name of the printer\" + comma + \"date\". But we have to check if it is consistent. In order to be able to deal adequately with the content of \"label1\" and be able to split the information, we select the values with multiple commas."
   ]
  },
  {
   "cell_type": "code",
   "execution_count": 7,
   "metadata": {
    "tags": []
   },
   "outputs": [
    {
     "name": "stdout",
     "output_type": "stream",
     "text": [
      "['Julian Notary, Jean Barbier und I. H. für Wynkyn de Worde, 3.IV.1497', 'Fratres vitae communis, nicht vor 9.VI.1481, nicht nach 1484', 'Wynkyn de Worde auf Veranlassung von Elisabeth(von York), Königin von England, und Margaret Beaufort, um 1493', 'Lukas Brandis, um 1477/78, nicht nach 1490', 'Christian Snellaert, nicht vor 29.V.1490, nicht nach 10.VIII.1491', 'Drucker von Sixtus IV., Ave Maria (Einbl 389), um 1497(?)', 'Thielmann Kerver für sich selbst, Gilles Remacle und Guillaume Eustace, 14.XI. 1500(?)', 'Johann Gherlinc, nicht vor 15.IV.1489, nicht nach 7.VI.1489(?)', 'Andreas Torresanus für Johann von Köln, Nicolas Jenson und Genossen, 22.XII.1481', 'Gerard Leeu oder Adriaan van Liesveldt, nicht vor 30.IV.1491, nicht nach 1492 oder nicht vor 1493/94, nicht nach 1500']\n"
     ]
    }
   ],
   "source": [
    "# Use a set to collect unique values of the \"series\" item\n",
    "unique_series = set(item['label1'] for item in place_printer)\n",
    "\n",
    "# Convert the set back to a list if needed\n",
    "unique_series_list = list(unique_series)\n",
    "\n",
    "# print(unique_series_list)\n",
    "\n",
    "# Select items with multiple commas\n",
    "multiple_commas_list = [series for series in unique_series_list if series.count(',') > 1]\n",
    "\n",
    "print(multiple_commas_list)"
   ]
  },
  {
   "cell_type": "markdown",
   "metadata": {},
   "source": [
    "It appears that except for one more complicated item, we can use the following rule : if there are multiple commas, then: either the last one is followed by a string containing \"nicht\" and we have to take the string following the second to last comma as the date, or the general rule still applies. In both cases, we have to start from the end, as we do not know how many commas there are."
   ]
  },
  {
   "cell_type": "code",
   "execution_count": 8,
   "metadata": {
    "tags": []
   },
   "outputs": [
    {
     "name": "stdout",
     "output_type": "stream",
     "text": [
      "{'place': 'Antwerpen', 'GWids': 'Sp. 701a', 'printer': 'ohne Drucker', 'date': '1488'}\n",
      "{'place': 'Antwerpen', 'GWids': '13404', 'printer': 'Adriaan van Liesveldt', 'date': '22.VI.1494'}\n",
      "{'place': 'Antwerpen', 'GWids': '13405', 'printer': 'Adriaan van Liesveldt', 'date': '22.VI.1494'}\n",
      "{'place': 'Antwerpen', 'GWids': '13419', 'printer': 'Adriaan van Liesveldt', 'date': '9.VIII.1494'}\n",
      "{'place': 'Antwerpen', 'GWids': '13406', 'printer': 'Adriaan van Liesveldt', 'date': '13.(?)VI.1495'}\n",
      "{'place': 'Antwerpen', 'GWids': '13421', 'printer': 'Adriaan van Liesveldt', 'date': '29.VII.1495'}\n",
      "{'place': 'Antwerpen', 'GWids': '13422', 'printer': 'Adriaan van Liesveldt', 'date': '1498(?)'}\n",
      "{'place': 'Antwerpen', 'GWids': '13418', 'printer': 'Govert Bac', 'date': 'nicht vor 1493'}\n",
      "{'place': 'Antwerpen', 'GWids': '13420', 'printer': 'Govert Bac', 'date': '1495'}\n",
      "{'place': 'Antwerpen', 'GWids': '13400', 'printer': 'Gerard Leeu', 'date': '1487'}\n",
      "{'place': 'Antwerpen', 'GWids': '13399', 'printer': 'Gerard Leeu', 'date': '14 87'}\n",
      "{'place': 'Antwerpen', 'GWids': '13401', 'printer': 'Gerard Leeu', 'date': '27.VII.1489'}\n",
      "{'place': 'Antwerpen', 'GWids': '13417', 'printer': 'Gerard Leeu', 'date': '16.VIII.1491'}\n",
      "{'place': 'Antwerpen', 'GWids': '13403', 'printer': 'Gerard Leeu', 'date': '13.III.1492'}\n",
      "{'place': 'Antwerpen', 'GWids': '13402', 'printer': 'Gerard Leeu oder Adriaan van Liesveldt', 'date': 'nicht vor 30.IV.1491, nicht nach 1492 oder nicht vor 1493/94, nicht nach 1500'}\n",
      "{'place': 'Augsburg', 'GWids': '12982', 'printer': 'Anton Sorg', 'date': 'um 1483'}\n",
      "{'place': 'Augsburg', 'GWids': '12983', 'printer': 'Anton Sorg', 'date': 'um 1485'}\n",
      "{'place': 'Augsburg', 'GWids': '12945', 'printer': 'Anton Sorg', 'date': '1487'}\n",
      "{'place': 'Augsburg', 'GWids': '12946', 'printer': 'Anton Sorg', 'date': '1489'}\n",
      "{'place': 'Augsburg', 'GWids': '12947', 'printer': 'Anton Sorg', 'date': '1492'}\n",
      "{'place': 'Augsburg', 'GWids': '12981', 'printer': 'Günther Zainer', 'date': '12.III.1471'}\n",
      "{'place': 'Barcelona', 'GWids': '13439', 'printer': 'Johann Gherlinc', 'date': 'vor 15.IV.1489'}\n",
      "{'place': 'Barcelona', 'GWids': '13440', 'printer': 'Johann Gherlinc', 'date': 'nicht vor 15.IV.1489, nicht nach 7.VI.1489(?)'}\n",
      "{'place': 'Basel', 'GWids': '12949', 'printer': 'Johann Amerbach', 'date': 'um 1482/86'}\n",
      "{'place': 'Basel', 'GWids': '12948', 'printer': 'Bernhard Richel', 'date': '15.VII.1480'}\n",
      "{'place': 'Basel', 'GWids': '12950', 'printer': 'Michael Wenssler', 'date': '1.IV.1491'}\n",
      "{'place': 'Basel', 'GWids': '12951', 'printer': 'Jakob Wolff', 'date': '13.IV.1498'}\n",
      "{'place': 'Bologna', 'GWids': '13390', 'printer': 'Ugo Rugerius', 'date': '23.II.1498'}\n",
      "{'place': 'Brügge', 'GWids': '13407', 'printer': 'William Caxton', 'date': 'um 1475'}\n",
      "{'place': 'Brüssel', 'GWids': '13423', 'printer': 'Fratres vitae communis', 'date': 'nicht vor 9.VI.1481, nicht nach 1484'}\n",
      "{'place': 'Delft', 'GWids': '13427', 'printer': 'Hendrik Eckert', 'date': '1498'}\n",
      "{'place': 'Delft', 'GWids': '13428', 'printer': 'Hendrik Eckert', 'date': '1498'}\n",
      "{'place': 'Delft', 'GWids': '13424', 'printer': 'Jakob van der Meer', 'date': '8.IV.1480'}\n",
      "{'place': 'Delft', 'GWids': '13425', 'printer': 'Jakob van der Meer', 'date': '19.VII.1484'}\n",
      "{'place': 'Delft', 'GWids': '13426', 'printer': 'Christian Snellaert', 'date': 'nicht vor 29.V.1490, nicht nach 10.VIII.1491'}\n",
      "{'place': 'Deutschland(?)', 'GWids': '12944', 'printer': 'ohne Drucker', 'date': 'nach 1500(?)'}\n",
      "{'place': 'Deventer', 'GWids': '13408', 'printer': 'Richard Paffraet', 'date': 'um 1478'}\n",
      "{'place': 'Deventer', 'GWids': '13409', 'printer': 'Richard Paffraet', 'date': 'um 1497'}\n",
      "{'place': 'Deventer', 'GWids': '13410', 'printer': 'Richard Paffraet', 'date': '1497'}\n",
      "{'place': 'Ferrara', 'GWids': '13329', 'printer': 'Andreas Belfortis', 'date': 'um 1475'}\n",
      "{'place': 'Ferrara', 'GWids': '13330', 'printer': 'Laurentius de Rubeis', 'date': '15.VII.1497'}\n",
      "{'place': 'Florenz', 'GWids': 'Sp. 695a', 'printer': 'ohne Drucker', 'date': '1482'}\n",
      "{'place': 'Florenz', 'GWids': '13391', 'printer': 'Apud S. Jacobum de Ripoli', 'date': 'nicht nach August 1477'}\n",
      "{'place': 'Florenz', 'GWids': '13332', 'printer': 'Francesco di Dino', 'date': 'um 1487'}\n",
      "{'place': 'Florenz', 'GWids': '13393', 'printer': 'Antonio di Francesco', 'date': 'um 1488'}\n",
      "{'place': 'Florenz', 'GWids': '13331', 'printer': 'Nicolaus Laurentii', 'date': '5.VII.1483'}\n",
      "{'place': 'Florenz', 'GWids': '13394', 'printer': 'Laurentius de Morgianis und Johann Petri', 'date': '17.II.1 4 93'}\n",
      "{'place': 'Florenz', 'GWids': '13392', 'printer': 'Johann Petri', 'date': '23.XII.1486'}\n",
      "{'place': 'Genf', 'GWids': '13029', 'printer': 'Louis Cruse', 'date': 'um 1479'}\n",
      "{'place': 'Genf', 'GWids': '13030', 'printer': 'Louis Cruse', 'date': 'um 1479'}\n",
      "{'place': 'Genf', 'GWids': '13031', 'printer': 'Louis Cruse', 'date': 'um 1480'}\n",
      "{'place': 'Genf', 'GWids': '13032', 'printer': 'Drucker des Missale Romanum (H 11399) (Louis Cruse?)', 'date': 'um 1493/95'}\n",
      "{'place': 'Gent', 'GWids': '13411', 'printer': 'Arend de Keysere', 'date': 'nicht vor 1487'}\n",
      "{'place': 'Gent', 'GWids': '13412', 'printer': 'Arend de Keysere', 'date': 'nicht vor 1487'}\n",
      "{'place': 'Gouda', 'GWids': '13429', 'printer': 'Collacie Broeders', 'date': '20.IV.1496'}\n",
      "{'place': 'Gouda', 'GWids': '13413', 'printer': 'Gerard Leeu', 'date': 'um 1483/84'}\n",
      "{'place': 'Goupillières', 'GWids': '13033', 'printer': 'Michel Andrieu', 'date': '8.V.1491'}\n",
      "{'place': 'Hasselt', 'GWids': '13430', 'printer': 'Peregrinus Barmentlo', 'date': '1488'}\n",
      "{'place': 'Hasselt', 'GWids': '13431', 'printer': 'Peregrinus Barmentlo', 'date': '1490'}\n",
      "{'place': 'Ingolstadt', 'GWids': '12952', 'printer': 'Drucker des Celtis (Johann Kachelofen)', 'date': 'um 1492'}\n",
      "{'place': 'Italien', 'GWids': '13328', 'printer': 'Drucker der Horae (GW 13328)', 'date': 'nicht nach 1500'}\n",
      "{'place': 'Kirchheim', 'GWids': '12953', 'printer': 'Markus Reinhard', 'date': 'nicht vor 1490'}\n",
      "{'place': 'Kirchheim', 'GWids': '12954', 'printer': 'Markus Reinhard', 'date': 'nicht nach 1491'}\n",
      "{'place': 'Kirchheim', 'GWids': 'Sp. 436a', 'printer': 'Markus Reinhard', 'date': '1490'}\n",
      "{'place': 'Kirchheim', 'GWids': '12984', 'printer': 'Markus Reinhard', 'date': '1491'}\n",
      "{'place': 'Köln', 'GWids': '12997', 'printer': 'Drucker der Getzijden (GW 12997)', 'date': 'um 1485'}\n",
      "{'place': 'Köln', 'GWids': '12955', 'printer': 'Retro Minores', 'date': 'um 1500'}\n",
      "{'place': 'Krakau', 'GWids': '13447', 'printer': 'Sweipolt Fiol', 'date': '1491'}\n",
      "{'place': 'Leiden', 'GWids': '13432', 'printer': 'Hugo Janszoen', 'date': '1494–1495'}\n",
      "{'place': 'Leiden', 'GWids': '13433', 'printer': 'Hugo Janszoen', 'date': '1497'}\n",
      "{'place': 'Leiden', 'GWids': '13434', 'printer': 'Hugo Janszoen', 'date': '1498'}\n",
      "{'place': 'Leiden', 'GWids': '13435', 'printer': 'Hugo Janszoen', 'date': '1500'}\n",
      "{'place': 'Leiden', 'GWids': '13436', 'printer': 'Hugo Janszoen', 'date': 'nach 1500(?)'}\n",
      "{'place': 'Leipzig', 'GWids': '12956', 'printer': 'Konrad Kachelofen', 'date': 'um 1495'}\n",
      "{'place': 'Leipzig', 'GWids': '12998', 'printer': 'Konrad Kachelofen', 'date': 'um 1500'}\n",
      "{'place': 'Leipzig', 'GWids': '12957', 'printer': 'Melchior Lotter', 'date': '14 99'}\n",
      "{'place': 'Leipzig', 'GWids': '12958', 'printer': 'Melchior Lotter', 'date': 'nach 1500(?)'}\n",
      "{'place': 'London', 'GWids': '13017', 'printer': 'Julian Notary, Jean Barbier und I. H. für Wynkyn de Worde', 'date': '3.IV.1497'}\n",
      "{'place': 'London', 'GWids': '13014', 'printer': 'Richard Pynson', 'date': 'um 1493'}\n",
      "{'place': 'London', 'GWids': '13015', 'printer': 'Richard Pynson', 'date': 'um 1497'}\n",
      "{'place': 'London', 'GWids': '13016', 'printer': 'Richard Pynson', 'date': 'um 1497'}\n",
      "{'place': 'London', 'GWids': '13018', 'printer': 'Richard Pynson', 'date': 'um 1498'}\n",
      "{'place': 'London', 'GWids': '13019', 'printer': 'Richard Pynson', 'date': 'um 1500'}\n",
      "{'place': 'London', 'GWids': '13020', 'printer': 'Richard Pynson', 'date': 'um 1500'}\n",
      "{'place': 'London', 'GWids': '13013', 'printer': 'Wilhelmus de Machlinia', 'date': 'um 1484'}\n",
      "{'place': 'Lübeck', 'GWids': '13006', 'printer': 'Steffen Arndes', 'date': '1496'}\n",
      "{'place': 'Lübeck', 'GWids': '13008', 'printer': 'Steffen Arndes', 'date': 'um 1497'}\n",
      "{'place': 'Lübeck', 'GWids': '13009', 'printer': 'Steffen Arndes', 'date': '1497'}\n",
      "{'place': 'Lübeck', 'GWids': '13011', 'printer': 'Steffen Arndes', 'date': '1499'}\n",
      "{'place': 'Lübeck', 'GWids': '12959', 'printer': 'Lukas Brandis', 'date': 'um 1477/78, nicht nach 1490'}\n",
      "{'place': 'Lübeck', 'GWids': '12999', 'printer': 'Lukas Brandis', 'date': 'um 1478'}\n",
      "{'place': 'Lübeck', 'GWids': '13010', 'printer': 'Lukas Brandis(?)', 'date': 'um 1499(?)'}\n",
      "{'place': 'Lübeck', 'GWids': '12960', 'printer': 'Matthäus Brandis', 'date': 'um 1488'}\n",
      "{'place': 'Lübeck', 'GWids': '13007', 'printer': 'Drucker von Sixtus IV., Ave Maria (Einbl 389)', 'date': 'um 1497(?)'}\n",
      "{'place': 'Lübeck', 'GWids': '13001', 'printer': 'Bartholomäus Ghotan', 'date': 'um 1484'}\n",
      "{'place': 'Lübeck', 'GWids': '13002', 'printer': 'Bartholomäus Ghotan', 'date': 'um 1484'}\n",
      "{'place': 'Lübeck', 'GWids': '13003', 'printer': 'Bartholomäus Ghotan', 'date': '1485'}\n",
      "{'place': 'Lübeck', 'GWids': '13005', 'printer': 'Bartholomäus Ghotan(?)', 'date': 'um 1490'}\n",
      "{'place': 'Lübeck', 'GWids': '13004', 'printer': 'Mohnkopfdrucker (Hans van Ghetelen)', 'date': '1487'}\n",
      "{'place': 'Lübeck', 'GWids': '12961', 'printer': 'Mohnkopfdrucker (Hans van Ghetelen)', 'date': '1489'}\n",
      "{'place': 'Lübeck', 'GWids': '13000', 'printer': 'Johann Snell', 'date': 'um 1482'}\n",
      "{'place': 'Lyon', 'GWids': '13038', 'printer': 'Nicolaus de Benedictis für Boninus de Boninis', 'date': '20.V.1499'}\n",
      "{'place': 'Lyon', 'GWids': '13037', 'printer': 'Nicolaus de Benedictis für Boninus de Boninis', 'date': '20.III.1499'}\n",
      "{'place': 'Lyon', 'GWids': '13035', 'printer': 'Jean Du Pré', 'date': '11.IX.1490'}\n",
      "{'place': 'Lyon', 'GWids': '13036', 'printer': 'Jean Du Pré', 'date': 'nach 1491(?)'}\n",
      "{'place': 'Lyon', 'GWids': 'Sp. 429a', 'printer': 'Jacobinus Suigus und Nicolaus de Benedictis für Boninus de Boninis', 'date': '26.VIII.1500 vielmehr 1501'}\n",
      "{'place': 'Lyon', 'GWids': '13034', 'printer': 'Jean Trechsel', 'date': 'um 1489'}\n",
      "{'place': 'Lyon', 'GWids': '13039', 'printer': 'Jean de Vingle(?)', 'date': 'um 1500'}\n",
      "{'place': 'Magdeburg', 'GWids': '12962', 'printer': 'Moritz Brandis', 'date': 'um 1500'}\n",
      "{'place': 'Magdeburg', 'GWids': '12963', 'printer': 'Moritz Brandis', 'date': 'um 1500'}\n",
      "{'place': 'Magdeburg', 'GWids': '13012', 'printer': 'Albert Ravenstein und Joachim Westval', 'date': 'um 1483/84'}\n",
      "{'place': 'Mailand', 'GWids': '13334', 'printer': 'Christoph Valdarfer', 'date': '1.IV.1485'}\n",
      "{'place': 'Mailand', 'GWids': '13333', 'printer': 'Antonius Zarotus', 'date': 'um 1475'}\n",
      "{'place': 'Memmingen', 'GWids': '12964', 'printer': 'Albrecht Kunne', 'date': 'um 1483/86'}\n",
      "{'place': 'Montserrat', 'GWids': '13441', 'printer': 'Johann Luschner', 'date': 'um 1499'}\n",
      "{'place': 'Nantes', 'GWids': '13040', 'printer': 'Etienne Larcher', 'date': '27.I. um 1498'}\n",
      "{'place': 'Neapel', 'GWids': '13347', 'printer': 'Ayolfus de Cantono', 'date': '22.III.1496'}\n",
      "{'place': 'Neapel', 'GWids': '13336', 'printer': 'Konrad Guldenmund', 'date': '1477'}\n",
      "{'place': 'Neapel', 'GWids': '13350', 'printer': 'Martin von Amsterdam für Andreas Ihyracensis', 'date': '27.I.1499'}\n",
      "{'place': 'Neapel', 'GWids': '13335', 'printer': 'Matthias von Olmütz', 'date': '11.VI.1476'}\n",
      "{'place': 'Neapel', 'GWids': '1333510', 'printer': 'Matthias von Olmütz', 'date': '18.(?)XI.14 76/77(?)'}\n",
      "{'place': 'Neapel', 'GWids': '13337', 'printer': 'Matthias von Olmütz', 'date': '10.XI.1478'}\n",
      "{'place': 'Neapel', 'GWids': '13338', 'printer': 'Matthias von Olmütz', 'date': '30.VI.1486'}\n",
      "{'place': 'Neapel', 'GWids': '13339', 'printer': 'Matthias von Olmütz', 'date': '3.X.1486'}\n",
      "{'place': 'Neapel', 'GWids': '13340', 'printer': 'Matthias von Olmütz', 'date': '3.X.1487'}\n",
      "{'place': 'Neapel', 'GWids': '13342', 'printer': 'Matthias von Olmütz', 'date': '15.X.1488'}\n",
      "{'place': 'Neapel', 'GWids': '13343', 'printer': 'Matthias von Olmütz', 'date': '5.III.1490'}\n",
      "{'place': 'Neapel', 'GWids': '13345', 'printer': 'Matthias von Olmütz', 'date': '10.II.1492'}\n",
      "{'place': 'Neapel', 'GWids': '13341', 'printer': 'Christian Preller', 'date': '15.XI.1487'}\n",
      "{'place': 'Neapel', 'GWids': '13343', 'printer': 'Christian Preller für Antoine Gontier', 'date': '9.IV.1490'}\n",
      "{'place': 'Neapel', 'GWids': '13346', 'printer': 'Christian Preller', 'date': '13.VIII.1495'}\n",
      "{'place': 'Neapel', 'GWids': '13348', 'printer': 'Christian Preller', 'date': '26.III.1496'}\n",
      "{'place': 'Neapel', 'GWids': '13349', 'printer': 'Christian Preller', 'date': '22.I.1498'}\n",
      "{'place': 'Niederlande', 'GWids': 'Sp. 712a', 'printer': 'ohne Drucker'}\n",
      "{'place': 'Niederlande', 'GWids': '13398', 'printer': 'ohne Drucker', 'date': 'nicht vor 1493'}\n",
      "{'place': 'Nürnberg', 'GWids': '12986', 'printer': 'Friedrich Creussner', 'date': 'um 1495'}\n",
      "{'place': 'Nürnberg', 'GWids': '12985', 'printer': 'Drucker der Rochuslegende (H 13928)', 'date': 'um 1481'}\n",
      "{'place': 'Nürnberg', 'GWids': '12965', 'printer': 'Fratres Ordinis Eremitarum S. Augustini', 'date': 'um 1482'}\n",
      "{'place': 'Nürnberg', 'GWids': 'Sp. 443a', 'printer': 'Friedrich Peypus für Johann Koberger', 'date': '1500'}\n",
      "{'place': 'Paris', 'GWids': '13049', 'printer': 'ohne Drucker', 'date': 'um 1500'}\n",
      "{'place': 'Paris', 'GWids': 'Sp. 553a', 'printer': 'ohne Drucker', 'date': 'nicht vor 1515'}\n",
      "{'place': 'Paris', 'GWids': 'Sp. 487a', 'printer': 'ohne Drucker', 'date': 'um 1520'}\n",
      "{'place': 'Paris', 'GWids': 'Sp. 654a', 'printer': 'ohne Drucker', 'date': 'nach 1.XI.1503'}\n",
      "{'place': 'Paris', 'GWids': 'Sp. 519b', 'printer': 'Guillaume Anabat für Gilles und Germain Hardouyn', 'date': 'um 1505'}\n",
      "{'place': 'Paris', 'GWids': 'Sp. 633a', 'printer': 'Guillaume Anabat für Gilles und Germain Hardouyn', 'date': 'um 1505'}\n",
      "{'place': 'Paris', 'GWids': '13258', 'printer': 'André Bocard', 'date': 'um 1500'}\n",
      "{'place': 'Paris', 'GWids': '13234', 'printer': 'André Bocard für Antoine Vérard(?)', 'date': 'um 1500'}\n",
      "{'place': 'Paris', 'GWids': '13300', 'printer': 'André Bocard(?) für Antoine Vérard', 'date': '2.V.1500'}\n",
      "{'place': 'Paris', 'GWids': '13302', 'printer': 'André Bocard für Antoine Vérard', 'date': '14.VIII.1500'}\n",
      "{'place': 'Paris', 'GWids': 'Sp. 643a', 'printer': 'André Bocard für Antoine Vérard', 'date': '14.VIII.1500 vielmehr nicht vor 1503'}\n",
      "{'place': 'Paris', 'GWids': '13103', 'printer': 'André Bocard', 'date': '22.X.1500'}\n",
      "{'place': 'Paris', 'GWids': '13105', 'printer': 'André Bocard', 'date': '20.I.150001'}\n",
      "{'place': 'Paris', 'GWids': '13106', 'printer': 'André Bocard', 'date': '20.I.150001'}\n",
      "{'place': 'Paris', 'GWids': '13304', 'printer': 'André Bocard für Antoine Vérard', 'date': '9.II.150001'}\n",
      "{'place': 'Paris', 'GWids': '13303', 'printer': 'André Bocard für Antoine Vérard', 'date': '9.II.150001'}\n",
      "{'place': 'Paris', 'GWids': '13053', 'printer': 'Jean Bonhomme', 'date': 'um 1486/90'}\n",
      "{'place': 'Paris', 'GWids': '13050', 'printer': 'Jean Bonhomme', 'date': 'um 1486/90'}\n",
      "{'place': 'Paris', 'GWids': '13266', 'printer': 'Antoine Caillaut für Antoine Vérard', 'date': '8.X.1488'}\n",
      "{'place': 'Paris', 'GWids': '13131', 'printer': 'Antoine Caillaut für Antoine Vérard', 'date': '8.I.148889'}\n",
      "{'place': 'Paris', 'GWids': '13172', 'printer': 'Antoine Caillaut für Antoine Vérard', 'date': '8.II.148990'}\n",
      "{'place': 'Paris', 'GWids': '13289', 'printer': 'Antoine Caillaut', 'date': 'um 1490'}\n",
      "{'place': 'Paris', 'GWids': 'Sp. 655a', 'printer': 'Antoine Chappiel für Germain Hardouyn', 'date': '5.X. 1504'}\n",
      "{'place': 'Paris', 'GWids': '13261', 'printer': 'für(?) Jean de Coulonces', 'date': 'nicht vor 1500'}\n",
      "{'place': 'Paris', 'GWids': '13092', 'printer': 'Drucker der Horae (GW 13092)', 'date': 'vor 10.VII.1493'}\n",
      "{'place': 'Paris', 'GWids': '13142', 'printer': 'Jean Du Pré', 'date': 'um 1485'}\n",
      "{'place': 'Paris', 'GWids': '13143', 'printer': 'Jean Du Pré für Antoine Vérard', 'date': '12.IX.1485'}\n",
      "{'place': 'Paris', 'GWids': '13144', 'printer': 'Jean Du Pré für Antoine Vérard', 'date': '6.II.148586'}\n",
      "{'place': 'Paris', 'GWids': '13054', 'printer': 'Jean Du Pré für Antoine Vérard', 'date': '21.VIII.1486'}\n",
      "{'place': 'Paris', 'GWids': '13063', 'printer': 'Jean Du Pré', 'date': 'um 1487'}\n",
      "{'place': 'Paris', 'GWids': '13055', 'printer': 'Jean Du Pré für Antoine Vérard', 'date': '7.VII.1487'}\n",
      "{'place': 'Paris', 'GWids': '13111', 'printer': 'Jean Du Pré', 'date': '18.II.148788'}\n",
      "{'place': 'Paris', 'GWids': '13316', 'printer': 'Jean Du Pré', 'date': '28.III.148788'}\n",
      "{'place': 'Paris', 'GWids': '13064', 'printer': 'Jean Du Pré', 'date': 'um 1488'}\n",
      "{'place': 'Paris', 'GWids': '13051', 'printer': 'Jean Du Pré(?)', 'date': 'um 1488(?)'}\n",
      "{'place': 'Paris', 'GWids': '13065', 'printer': 'Jean Du Pré', 'date': 'um 1488'}\n",
      "{'place': 'Paris', 'GWids': '13066', 'printer': 'Jean Du Pré', 'date': 'nicht vor 1488'}\n",
      "{'place': 'Paris', 'GWids': '13264', 'printer': 'Jean Du Pré', 'date': '10.V.1488'}\n",
      "{'place': 'Paris', 'GWids': '13265', 'printer': 'Jean Du Pré', 'date': '10.V.1488'}\n",
      "{'place': 'Paris', 'GWids': '13067', 'printer': 'Jean Du Pré', 'date': 'vor 19.II.1489'}\n",
      "{'place': 'Paris', 'GWids': '13246', 'printer': 'Jean Du Pré', 'date': '4.II.148889'}\n",
      "{'place': 'Paris', 'GWids': '13267', 'printer': 'Jean Du Pré für Antoine Vérard', 'date': '3.IV.148889'}\n",
      "{'place': 'Paris', 'GWids': '13068', 'printer': 'Jean Du Pré', 'date': 'um 1489'}\n",
      "{'place': 'Paris', 'GWids': '13069', 'printer': 'Jean Du Pré für Denis Meslier', 'date': '14.II.148990'}\n",
      "{'place': 'Paris', 'GWids': '13070', 'printer': 'Jean Du Pré', 'date': 'um 1490'}\n",
      "{'place': 'Paris', 'GWids': '13284', 'printer': 'Jean Du Pré', 'date': '9.XII. um 1490'}\n",
      "{'place': 'Paris', 'GWids': '13114', 'printer': 'Jean Du Pré', 'date': '1490'}\n",
      "{'place': 'Paris', 'GWids': '13071', 'printer': 'Jean Du Pré für Antoine Caillaut', 'date': 'um 1491'}\n",
      "{'place': 'Paris', 'GWids': '13056', 'printer': 'Jean Du Pré(?)', 'date': 'um 1492'}\n",
      "{'place': 'Paris', 'GWids': '13116', 'printer': 'Jean Du Pré', 'date': 'nicht vor 1492(?)'}\n",
      "{'place': 'Paris', 'GWids': '13072', 'printer': 'Jean Du Pré(?)', 'date': 'vor 1493(?)'}\n",
      "{'place': 'Paris', 'GWids': '13094', 'printer': 'Jean Du Pré', 'date': '17.V.1495'}\n",
      "{'place': 'Paris', 'GWids': '13095', 'printer': 'Jean Du Pré', 'date': '20.VI.1495'}\n",
      "{'place': 'Paris', 'GWids': '13098', 'printer': 'Jean Du Pré', 'date': '18.VII.1495'}\n",
      "{'place': 'Paris', 'GWids': '13076', 'printer': 'Jean Du Pré', 'date': '10.III.149596'}\n",
      "{'place': 'Paris', 'GWids': '13061', 'printer': 'Ulrich Gering und Berthold Remboldt', 'date': '16.XII.1494'}\n",
      "{'place': 'Paris', 'GWids': '13062', 'printer': 'Ulrich Gering und Berthold Remboldt', 'date': '15.X. 1496(?)'}\n",
      "{'place': 'Paris', 'GWids': '13245', 'printer': 'Ulrich Gering und Berthold Remboldt für Simon Vostre', 'date': '8.IX.1498'}\n",
      "{'place': 'Paris', 'GWids': '13083', 'printer': 'Ulrich Gering und Berthold Remboldt', 'date': '7.III.149899'}\n",
      "{'place': 'Paris', 'GWids': '13077', 'printer': 'Johann Higman', 'date': 'vor 1497(?)'}\n",
      "{'place': 'Paris', 'GWids': '13080', 'printer': 'Johann Higman für Willem Houtmaert in Antwerpen', 'date': '1497'}\n",
      "{'place': 'Paris', 'GWids': 'Sp. 598a', 'printer': 'Nicolas Higman für Simon Vostre', 'date': 'nach 1500'}\n",
      "{'place': 'Paris', 'GWids': 'Sp. 598b', 'printer': 'Nicolas Higman für Simon Vostre', 'date': 'nach 1500'}\n",
      "{'place': 'Paris', 'GWids': '13086', 'printer': 'Wolfgang Hopyl', 'date': '10.IX.1500'}\n",
      "{'place': 'Paris', 'GWids': '13120', 'printer': 'Etienne Jehannot für Johannes de Campis in Cambrai', 'date': '26.II.149495'}\n",
      "{'place': 'Paris', 'GWids': '13122', 'printer': 'Etienne Jehannot', 'date': 'um 1497'}\n",
      "{'place': 'Paris', 'GWids': '13078', 'printer': 'Etienne Jehannot', 'date': 'um 1497'}\n",
      "{'place': 'Paris', 'GWids': '13193', 'printer': 'Etienne Jehannot für Pierre Regnault in Caen', 'date': 'um 1497'}\n",
      "{'place': 'Paris', 'GWids': '13308', 'printer': 'Etienne Jehannot für Antoine Vérard', 'date': 'um 1497'}\n",
      "{'place': 'Paris', 'GWids': '13046', 'printer': 'Etienne Jehannot', 'date': 'nach 1497(?)'}\n",
      "{'place': 'Paris', 'GWids': '13194', 'printer': 'Etienne Jehannot', 'date': 'um 1497/98'}\n",
      "{'place': 'Paris', 'GWids': '13309', 'printer': 'Etienne Jehannot für Antoine Vérard', 'date': 'um 1497/98'}\n",
      "{'place': 'Paris', 'GWids': '13123', 'printer': 'Etienne Jehannot', 'date': 'um 1497/99'}\n",
      "{'place': 'Paris', 'GWids': '13124', 'printer': 'Etienne Jehannot', 'date': 'um 1497/99'}\n",
      "{'place': 'Paris', 'GWids': '13125', 'printer': 'Etienne Jehannot für Jean Petit', 'date': 'um 1497/99'}\n",
      "{'place': 'Paris', 'GWids': '13127', 'printer': 'Etienne Jehannot für Pierre Regnault in Caen', 'date': 'um 1497/99'}\n",
      "{'place': 'Paris', 'GWids': '13126', 'printer': 'Etienne Jehannot für Denis Roce', 'date': 'um 1497/99'}\n",
      "{'place': 'Paris', 'GWids': '13129', 'printer': 'Etienne Jehannot', 'date': 'um 1497/99'}\n",
      "{'place': 'Paris', 'GWids': '13128', 'printer': 'Etienne Jehannot', 'date': 'um 1497/99'}\n",
      "{'place': 'Paris', 'GWids': '13155', 'printer': 'Etienne Jehannot für die Brüder de Marnef', 'date': 'um 1497/99'}\n",
      "{'place': 'Paris', 'GWids': '13197', 'printer': 'Etienne Jehannot', 'date': '15.VII.1497'}\n",
      "{'place': 'Paris', 'GWids': '13199', 'printer': 'Etienne Jehannot', 'date': '21.VIII.1497'}\n",
      "{'place': 'Paris', 'GWids': '13058', 'printer': 'Etienne Jehannot für Pierre Pasquier', 'date': '20.IX.1497'}\n",
      "{'place': 'Paris', 'GWids': '13200', 'printer': 'Etienne Jehannot', 'date': '20.X.1497'}\n",
      "{'place': 'Paris', 'GWids': '13201', 'printer': 'Etienne Jehannot für Pierre Regnault in Caen', 'date': '31.X.1497'}\n",
      "{'place': 'Paris', 'GWids': '13159', 'printer': 'Etienne Jehannot', 'date': '15.XI.1497'}\n",
      "{'place': 'Paris', 'GWids': '13099', 'printer': 'Etienne Jehannot', 'date': 'um 1498'}\n",
      "{'place': 'Paris', 'GWids': '13272', 'printer': 'Etienne Jehannot für Antoine Vérard', 'date': 'um 1498'}\n",
      "{'place': 'Paris', 'GWids': '13311', 'printer': 'Etienne Jehannot', 'date': 'nicht vor 1498'}\n",
      "{'place': 'Paris', 'GWids': '13214', 'printer': 'Etienne Jehannot für Jean Poitevin', 'date': '15.V.1498'}\n",
      "{'place': 'Paris', 'GWids': '13213', 'printer': 'Etienne Jehannot', 'date': '15.V.1498'}\n",
      "{'place': 'Paris', 'GWids': '13215', 'printer': 'Etienne Jehannot für Jean Poitevin', 'date': '15.V.1498'}\n",
      "{'place': 'Paris', 'GWids': '13313', 'printer': 'Etienne Jehannot für Antoine Vérard', 'date': 'nach 21.VIII.1498'}\n",
      "{'place': 'Paris', 'GWids': '13312', 'printer': 'Etienne Jehannot für Antoine Vérard', 'date': '10.VIII.1498'}\n",
      "{'place': 'Paris', 'GWids': '13162', 'printer': 'Etienne Jehannot für Gilles Hardouyn', 'date': '31.VIII.1498'}\n",
      "{'place': 'Paris', 'GWids': '13164', 'printer': 'Etienne Jehannot für Jean Poitevin', 'date': '27.IX.1498'}\n",
      "{'place': 'Paris', 'GWids': '13224', 'printer': 'Etienne Jehannot für Jean Poitevin', 'date': '20.II.149899'}\n",
      "{'place': 'Paris', 'GWids': '13226', 'printer': 'Etienne Jehannot für Jean Poitevin', 'date': '20.II.149899'}\n",
      "{'place': 'Paris', 'GWids': '13225', 'printer': 'Etienne Jehannot für Jean Poitevin', 'date': '20.II.149899'}\n",
      "{'place': 'Paris', 'GWids': '13295', 'printer': 'Etienne Jehannot für Antoine Vérard', 'date': 'vor 13.X.1499'}\n",
      "{'place': 'Paris', 'GWids': '13227', 'printer': 'Etienne Jehannot für Antoine Vérard', 'date': 'nicht nach 25.X.1499'}\n",
      "{'place': 'Paris', 'GWids': '13235', 'printer': 'Etienne Jehannot für Jean Poitevin', 'date': 'um 1499'}\n",
      "{'place': 'Paris', 'GWids': '13228', 'printer': 'Etienne Jehannot für Jean Poitevin', 'date': 'um 1499'}\n",
      "{'place': 'Paris', 'GWids': '13165', 'printer': 'Etienne Jehannot(?)', 'date': '20.II.14991500'}\n",
      "{'place': 'Paris', 'GWids': '13278', 'printer': 'Etienne Jehannot', 'date': 'um 1500'}\n",
      "{'place': 'Paris', 'GWids': '13167', 'printer': 'Etienne Jehannot', 'date': 'um 1500'}\n",
      "{'place': 'Paris', 'GWids': '13299', 'printer': 'Etienne Jehannot oder Jean Jehannot', 'date': 'nicht vor 1500'}\n",
      "{'place': 'Paris', 'GWids': '13211', 'printer': 'Jean Jehannot für Nicolaus Lecomte', 'date': '1498'}\n",
      "{'place': 'Paris', 'GWids': '13047', 'printer': 'Thielmann Kerver für Robert Macé in Caen', 'date': '4.V.1498'}\n",
      "{'place': 'Paris', 'GWids': '13163', 'printer': 'Thielmann Kerver', 'date': '26.IX.1498'}\n",
      "{'place': 'Paris', 'GWids': '13298', 'printer': 'Thielmann Kerver', 'date': '28.X.1498'}\n",
      "{'place': 'Paris', 'GWids': '13100', 'printer': 'Thielmann Kerver', 'date': '9.IV.1499'}\n",
      "{'place': 'Paris', 'GWids': '13285', 'printer': 'Thielmann Kerver für Gilles Remacle', 'date': '16.IX.1499'}\n",
      "{'place': 'Paris', 'GWids': '13102', 'printer': 'Thielmann Kerver für Hugues Pageot in Dijon', 'date': '7.X.1499'}\n",
      "{'place': 'Paris', 'GWids': '13286', 'printer': 'Thielmann Kerver für Guillaume Eustace', 'date': 'um 1500'}\n",
      "{'place': 'Paris', 'GWids': '13171', 'printer': 'Thielmann Kerver', 'date': '12.II.1500'}\n",
      "{'place': 'Paris', 'GWids': '13237', 'printer': 'Thielmann Kerver', 'date': '15.III.1500'}\n",
      "{'place': 'Paris', 'GWids': '13288', 'printer': 'Thielmann Kerver für Jean Petit in Paris und Pierre Cochery in Le Mans', 'date': '29.V.1500'}\n",
      "{'place': 'Paris', 'GWids': '13301', 'printer': 'Thielmann Kerver für Guillaume Eustace', 'date': '20.VI.1500'}\n",
      "{'place': 'Paris', 'GWids': '13169', 'printer': 'Thielmann Kerver für Gilles Remacle', 'date': '26.VI.1500'}\n",
      "{'place': 'Paris', 'GWids': '13170', 'printer': 'Thielmann Kerver für Gauche Preta in Châlons', 'date': '9.VIII. nach 1500(?)'}\n",
      "{'place': 'Paris', 'GWids': '13168', 'printer': 'Thielmann Kerver', 'date': '24.X. 1500(?)'}\n",
      "{'place': 'Paris', 'GWids': '13315', 'printer': 'Thielmann Kerver für sich selbst, Gilles Remacle und Guillaume Eustace', 'date': '14.XI. 1500(?)'}\n",
      "{'place': 'Paris', 'GWids': 'Sp. 646a', 'printer': 'Thielmann Kerver', 'date': 'nach 1500'}\n",
      "{'place': 'Paris', 'GWids': '13104', 'printer': 'Thielmann Kerver für Gilles Remacle', 'date': '5.I.150001'}\n",
      "{'place': 'Paris', 'GWids': '13107', 'printer': 'Thielmann Kerver für Gilles Remacle', 'date': '3.II.150001'}\n",
      "{'place': 'Paris', 'GWids': '13108', 'printer': 'Thielmann Kerver für Gilles Remacle', 'date': '8.II.150001'}\n",
      "{'place': 'Paris', 'GWids': '13109', 'printer': 'Thielmann Kerver für Gilles Remacle', 'date': '15.III.150001'}\n",
      "{'place': 'Paris', 'GWids': '13244', 'printer': 'Thielmann Kerver für Guillaume Eustace', 'date': '15.III.150001'}\n",
      "{'place': 'Paris', 'GWids': '13110', 'printer': 'Thielmann Kerver', 'date': '10.IV.150001'}\n",
      "{'place': 'Paris', 'GWids': 'Sp. 519a', 'printer': 'Thielmann Kerver für Gilles Remacle', 'date': '5.VIII.1502'}\n",
      "{'place': 'Paris', 'GWids': '13079', 'printer': 'Pierre Le Dru und Etienne Jehannot', 'date': 'um 1497'}\n",
      "{'place': 'Paris', 'GWids': '13081', 'printer': 'Pierre Le Dru und Etienne Jehannot für Robin Challot', 'date': 'vor 27.IX.1498'}\n",
      "{'place': 'Paris', 'GWids': '13166', 'printer': 'Pierre Le Dru(?) für Jean Poitevin', 'date': '8.III.14991500'}\n",
      "{'place': 'Paris', 'GWids': 'Sp. 553c', 'printer': 'Pierre Le Dru(?) für Jean Poitevin', 'date': 'um 1502/03'}\n",
      "{'place': 'Paris', 'GWids': 'Sp. 553b', 'printer': 'Guillaume Le Rouge für Antoine Vérard', 'date': 'nicht vor 1502'}\n",
      "{'place': 'Paris', 'GWids': '13087', 'printer': 'Pierre Le Rouge', 'date': 'um 1490'}\n",
      "{'place': 'Paris', 'GWids': '13041', 'printer': 'Pierre Le Rouge(?) für Antoine Vérard', 'date': 'um 1490'}\n",
      "{'place': 'Paris', 'GWids': '13268', 'printer': 'Pierre Le Rouge(?) für Antoine Vérard', 'date': '20.VIII.1490'}\n",
      "{'place': 'Paris', 'GWids': '13271', 'printer': 'Pierre Le Rouge für Vincent Commin', 'date': '9.V.1491'}\n",
      "{'place': 'Paris', 'GWids': '13173', 'printer': 'Pierre Levet für Antoine Vérard', 'date': '20.II.148889'}\n",
      "{'place': 'Paris', 'GWids': '13089', 'printer': 'Guy Marchant für Antoine Vérard', 'date': '5.I.148990'}\n",
      "{'place': 'Paris', 'GWids': '13059', 'printer': 'Guy Marchant für Antoine Vérard(?)', 'date': 'um 1490'}\n",
      "{'place': 'Paris', 'GWids': '13174', 'printer': 'Denis Meslier', 'date': 'um 1490'}\n",
      "{'place': 'Paris', 'GWids': '13270', 'printer': 'Denis Meslier', 'date': '8.V. um 1491/92'}\n",
      "{'place': 'Paris', 'GWids': '13269', 'printer': 'Denis Meslier', 'date': 'um 1491'}\n",
      "{'place': 'Paris', 'GWids': '13137', 'printer': 'Jean Morand(?) für Jean de Coulonces bzw. Robin Challot', 'date': '2.VII.1492'}\n",
      "{'place': 'Paris', 'GWids': '13149', 'printer': 'Jean Morand(?)', 'date': 'um 1493(?)'}\n",
      "{'place': 'Paris', 'GWids': '13117', 'printer': 'Jean Morand für Geoffroi de Marnef', 'date': '12.II.149293'}\n",
      "{'place': 'Paris', 'GWids': '13118', 'printer': 'Jean Morand für Enguilbert de Marnef und Jean Alexandre', 'date': '7.III.149293'}\n",
      "{'place': 'Paris', 'GWids': '13151', 'printer': 'Jean Morand für Geoffroi de Marnef', 'date': '20.VI.1493'}\n",
      "{'place': 'Paris', 'GWids': '13152', 'printer': 'Jean Morand für Geoffroi de Marnef', 'date': '13.VIII.1493'}\n",
      "{'place': 'Paris', 'GWids': '13097', 'printer': 'Jean Morand(?) für Antoine Vérard', 'date': '8.VII.1495'}\n",
      "{'place': 'Paris', 'GWids': '13096', 'printer': 'Jean Morand(?) für Antoine Vérard', 'date': '8.VII.1495'}\n",
      "{'place': 'Paris', 'GWids': '13275', 'printer': 'Jean Morand für Antoine Vérard', 'date': '22.X.1498'}\n",
      "{'place': 'Paris', 'GWids': '13119', 'printer': 'Laurent Philippe', 'date': '10.VII.1493'}\n",
      "{'place': 'Paris', 'GWids': '13156', 'printer': 'Johann Philippi für Thielmann Kerver in Paris und Jean Richard in Rouen', 'date': '1497'}\n",
      "{'place': 'Paris', 'GWids': '13157', 'printer': 'Johann Philippi für Thielmann Kerver', 'date': '27.VI.1497'}\n",
      "{'place': 'Paris', 'GWids': '13158', 'printer': 'Johann Philippi für Thielmann Kerver', 'date': '15.VII.1497'}\n",
      "{'place': 'Paris', 'GWids': '13297', 'printer': 'Johann Philippi für Thielmann Kerver', 'date': '20.XII.1497'}\n",
      "{'place': 'Paris', 'GWids': '13160', 'printer': 'Johann Philippi für Jacques Bezanceau in Poitiers und Thielmann Kerver in Paris', 'date': '16.I.149798'}\n",
      "{'place': 'Paris', 'GWids': '13130', 'printer': 'Johann Philippi', 'date': 'nicht vor 1500'}\n",
      "{'place': 'Paris', 'GWids': '13145', 'printer': 'Philippe Pigouchet für die Brüder de Marnef', 'date': 'um 1491/92'}\n",
      "{'place': 'Paris', 'GWids': '13042', 'printer': 'Philippe Pigouchet für Simon Vostre', 'date': '1491'}\n",
      "{'place': 'Paris', 'GWids': '13290', 'printer': 'Philippe Pigouchet für Simon Vostre', 'date': '11.VII.1491'}\n",
      "{'place': 'Paris', 'GWids': '13146', 'printer': 'Philippe Pigouchet für Simon Vostre', 'date': '5.VIII.1491'}\n",
      "{'place': 'Paris', 'GWids': '13147', 'printer': 'Philippe Pigouchet z.T. für die Brüder de Marnef', 'date': '1.XII.1491'}\n",
      "{'place': 'Paris', 'GWids': '13090', 'printer': 'Philippe Pigouchet für Simon Vostre', 'date': '24.XII.1491'}\n",
      "{'place': 'Paris', 'GWids': '13291', 'printer': 'Philippe Pigouchet für Simon Vostre', 'date': '5.I.149192'}\n",
      "{'place': 'Paris', 'GWids': '13292', 'printer': 'Philippe Pigouchet für Simon Vostre', 'date': '20.I.149192'}\n",
      "{'place': 'Paris', 'GWids': '13132', 'printer': 'Philippe Pigouchet', 'date': '21.II.149192'}\n",
      "{'place': 'Paris', 'GWids': '13148', 'printer': 'Philippe Pigouchet für Simon Vostre', 'date': '1.III.149192'}\n",
      "{'place': 'Paris', 'GWids': '13293', 'printer': 'Philippe Pigouchet für Simon Vostre', 'date': '13.III.149192'}\n",
      "{'place': 'Paris', 'GWids': '13135', 'printer': 'Philippe Pigouchet', 'date': 'um 1492'}\n",
      "{'place': 'Paris', 'GWids': '13133', 'printer': 'Philippe Pigouchet', 'date': 'um 1492'}\n",
      "{'place': 'Paris', 'GWids': '13134', 'printer': 'Philippe Pigouchet', 'date': 'um 1492'}\n",
      "{'place': 'Paris', 'GWids': '13043', 'printer': 'Philippe Pigouchet für Simon Vostre', 'date': 'um 1492'}\n",
      "{'place': 'Paris', 'GWids': '13175', 'printer': 'Philippe Pigouchet', 'date': 'um 1492/93'}\n",
      "{'place': 'Paris', 'GWids': '13136', 'printer': 'Philippe Pigouchet für Simon Vostre', 'date': '7.V.1492'}\n",
      "{'place': 'Paris', 'GWids': '13091', 'printer': 'Philippe Pigouchet für Simon Vostre', 'date': '8.V.1492'}\n",
      "{'place': 'Paris', 'GWids': '13044', 'printer': 'Philippe Pigouchet für Simon Vostre', 'date': '17.XI.1492'}\n",
      "{'place': 'Paris', 'GWids': '13138', 'printer': 'Philippe Pigouchet für Simon Vostre', 'date': '22.II.149293'}\n",
      "{'place': 'Paris', 'GWids': '13139', 'printer': 'Philippe Pigouchet für Pierre Regnault in Caen', 'date': '11.III.149293'}\n",
      "{'place': 'Paris', 'GWids': '13150', 'printer': 'Philippe Pigouchet für sich selbst und die Brüder de Marnef', 'date': 'um 1493'}\n",
      "{'place': 'Paris', 'GWids': '13073', 'printer': 'Philippe Pigouchet', 'date': 'um 1493'}\n",
      "{'place': 'Paris', 'GWids': '13294', 'printer': 'Philippe Pigouchet für Simon Vostre', 'date': '2.VIII.1493'}\n",
      "{'place': 'Paris', 'GWids': '13153', 'printer': 'Philippe Pigouchet für Simon Vostre', 'date': '22.VIII.1493'}\n",
      "{'place': 'Paris', 'GWids': '13060', 'printer': 'Philippe Pigouchet für Toussaint de Montjay', 'date': '26.IX.1493'}\n",
      "{'place': 'Paris', 'GWids': '13140', 'printer': 'Philippe Pigouchet für Simon Vostre', 'date': '4.XII.1493'}\n",
      "{'place': 'Paris', 'GWids': '13176', 'printer': 'Philippe Pigouchet für Jean Richard in Rouen', 'date': '1494'}\n",
      "{'place': 'Paris', 'GWids': '13177', 'printer': 'Philippe Pigouchet', 'date': '19.IV.1494'}\n",
      "{'place': 'Paris', 'GWids': '13178', 'printer': 'Philippe Pigouchet für Simon Vostre', 'date': '2.VI.1494'}\n",
      "{'place': 'Paris', 'GWids': '13179', 'printer': 'Philippe Pigouchet für Simon Vostre', 'date': '21.VIII.1494'}\n",
      "{'place': 'Paris', 'GWids': '13154', 'printer': 'Philippe Pigouchet für Simon Vostre', 'date': '23.X.1494'}\n",
      "{'place': 'Paris', 'GWids': '13180', 'printer': 'Philippe Pigouchet', 'date': '9.XII.1494'}\n",
      "{'place': 'Paris', 'GWids': '13181', 'printer': 'Philippe Pigouchet', 'date': '20.XII.1494'}\n",
      "{'place': 'Paris', 'GWids': '13183', 'printer': 'Philippe Pigouchet für Jean Du Bois in Auxerre(?)', 'date': '1495'}\n",
      "{'place': 'Paris', 'GWids': '13182', 'printer': 'Philippe Pigouchet für Simon Vostre', 'date': '13.III.149495'}\n",
      "{'place': 'Paris', 'GWids': '13074', 'printer': 'Philippe Pigouchet für Simon Vostre', 'date': '4.VII.1495'}\n",
      "{'place': 'Paris', 'GWids': '13184', 'printer': 'Philippe Pigouchet für Toussaint de Montjay', 'date': '30.VII.1495'}\n",
      "{'place': 'Paris', 'GWids': '13075', 'printer': 'Philippe Pigouchet', 'date': 'August/September 1495'}\n",
      "{'place': 'Paris', 'GWids': '13306', 'printer': 'Philippe Pigouchet für Simon Vostre', 'date': '6.X.1495'}\n",
      "{'place': 'Paris', 'GWids': '13185', 'printer': 'Philippe Pigouchet für Simon Vostre', 'date': '13.XI.1495'}\n",
      "{'place': 'Paris', 'GWids': '13248', 'printer': 'Philippe Pigouchet für Simon Vostre', 'date': '31.XII.1495'}\n",
      "{'place': 'Paris', 'GWids': '13186', 'printer': 'Philippe Pigouchet für Simon Vostre', 'date': '13.II.149596'}\n",
      "{'place': 'Paris', 'GWids': '13187', 'printer': 'Philippe Pigouchet für Simon Vostre', 'date': '22.V.1496'}\n",
      "{'place': 'Paris', 'GWids': '13045', 'printer': 'Philippe Pigouchet für Macé Panthoul in Troyes', 'date': '20.VII.1496'}\n",
      "{'place': 'Paris', 'GWids': '13249', 'printer': 'Philippe Pigouchet für Simon Vostre', 'date': '20.VIII.1496'}\n",
      "{'place': 'Paris', 'GWids': '13307', 'printer': 'Philippe Pigouchet für Simon Vostre', 'date': '17.IX.1496'}\n",
      "{'place': 'Paris', 'GWids': '13188', 'printer': 'Philippe Pigouchet für Simon Vostre', 'date': '19.XII.1496'}\n",
      "{'place': 'Paris', 'GWids': '13189', 'printer': 'Philippe Pigouchet für Simon Vostre', 'date': '23.I.149697'}\n",
      "{'place': 'Paris', 'GWids': '13190', 'printer': 'Philippe Pigouchet für Simon Vostre', 'date': '23.I.149697'}\n",
      "{'place': 'Paris', 'GWids': '13191', 'printer': 'Philippe Pigouchet für Simon Vostre', 'date': '15.II.149697'}\n",
      "{'place': 'Paris', 'GWids': '13192', 'printer': 'Philippe Pigouchet für Simon Vostre', 'date': '15.II.149697'}\n",
      "{'place': 'Paris', 'GWids': '13250', 'printer': 'Philippe Pigouchet für Simon Vostre', 'date': '20.III.149697 und 17.IV.1497'}\n",
      "{'place': 'Paris', 'GWids': '13251', 'printer': 'Philippe Pigouchet für Simon Vostre', 'date': 'um 1497'}\n",
      "{'place': 'Paris', 'GWids': '13195', 'printer': 'Philippe Pigouchet für Simon Vostre', 'date': '17.IV.1497(?)'}\n",
      "{'place': 'Paris', 'GWids': '13252', 'printer': 'Philippe Pigouchet für Simon Vostre', 'date': '9.VI.1497'}\n",
      "{'place': 'Paris', 'GWids': '13196', 'printer': 'Philippe Pigouchet für Simon Vostre', 'date': '7.VII.1497'}\n",
      "{'place': 'Paris', 'GWids': '13198', 'printer': 'Philippe Pigouchet für Simon Vostre', 'date': '8.VIII.1497'}\n",
      "{'place': 'Paris', 'GWids': '13310', 'printer': 'Philippe Pigouchet für Simon Vostre', 'date': '4.XI.1497'}\n",
      "{'place': 'Paris', 'GWids': '13202', 'printer': 'Philippe Pigouchet', 'date': '16.XI.1497'}\n",
      "{'place': 'Paris', 'GWids': '13203', 'printer': 'Philippe Pigouchet für Simon Vostre', 'date': '21.XI.1497'}\n",
      "{'place': 'Paris', 'GWids': '13204', 'printer': 'Philippe Pigouchet für Simon Vostre', 'date': '21.XI.14 97/98(?)'}\n",
      "{'place': 'Paris', 'GWids': '13205', 'printer': 'Philippe Pigouchet für Simon Vostre', 'date': '4.XII.1497'}\n",
      "{'place': 'Paris', 'GWids': '13206', 'printer': 'Philippe Pigouchet für Simon Vostre', 'date': '23.XII.1497'}\n",
      "{'place': 'Paris', 'GWids': '13208', 'printer': 'Philippe Pigouchet für Simon Vostre', 'date': '25.II.149798'}\n",
      "{'place': 'Paris', 'GWids': '13207', 'printer': 'Philippe Pigouchet für Simon Vostre', 'date': '25.II.149798'}\n",
      "{'place': 'Paris', 'GWids': '13209', 'printer': 'Philippe Pigouchet für Simon Vostre', 'date': '6.III.149798'}\n",
      "{'place': 'Paris', 'GWids': '13141', 'printer': 'Philippe Pigouchet', 'date': 'um 1498'}\n",
      "{'place': 'Paris', 'GWids': '13082', 'printer': 'Philippe Pigouchet', 'date': 'um 1498'}\n",
      "{'place': 'Paris', 'GWids': '13212', 'printer': 'Philippe Pigouchet für Simon Vostre', 'date': '30.IV.1498'}\n",
      "{'place': 'Paris', 'GWids': '13216', 'printer': 'Philippe Pigouchet für Simon Vostre', 'date': '16.V.1498'}\n",
      "{'place': 'Paris', 'GWids': '13217', 'printer': 'Philippe Pigouchet für Simon Vostre', 'date': '9.VI.1498'}\n",
      "{'place': 'Paris', 'GWids': '13220', 'printer': 'Philippe Pigouchet für Simon Vostre', 'date': '8.VIII.1498'}\n",
      "{'place': 'Paris', 'GWids': '13219', 'printer': 'Philippe Pigouchet für Simon Vostre', 'date': '8.VIII.1498'}\n",
      "{'place': 'Paris', 'GWids': '13218', 'printer': 'Philippe Pigouchet für Simon Vostre', 'date': '8.VIII.1498'}\n",
      "{'place': 'Paris', 'GWids': '13210', 'printer': 'Philippe Pigouchet', 'date': 'vor 22.VIII.1498'}\n",
      "{'place': 'Paris', 'GWids': '13314', 'printer': 'Philippe Pigouchet für Simon Vostre', 'date': '22.VIII.1498'}\n",
      "{'place': 'Paris', 'GWids': '13253', 'printer': 'Philippe Pigouchet für Simon Vostre', 'date': '16.IX.1498'}\n",
      "{'place': 'Paris', 'GWids': '13254', 'printer': 'Philippe Pigouchet für Simon Vostre', 'date': '16.IX.1498'}\n",
      "{'place': 'Paris', 'GWids': '13221', 'printer': 'Philippe Pigouchet für Jean Magdalene in Metz', 'date': '8.XI.1498'}\n",
      "{'place': 'Paris', 'GWids': '13222', 'printer': 'Philippe Pigouchet für Simon Vostre', 'date': '23.XI.1498'}\n",
      "{'place': 'Paris', 'GWids': '13223', 'printer': 'Philippe Pigouchet für Simon Vostre', 'date': '11.XII.1498'}\n",
      "{'place': 'Paris', 'GWids': '13255', 'printer': 'Philippe Pigouchet', 'date': 'um 1499'}\n",
      "{'place': 'Paris', 'GWids': '13229', 'printer': 'Philippe Pigouchet für Simon Vostre', 'date': '19.IV.1499'}\n",
      "{'place': 'Paris', 'GWids': '13230', 'printer': 'Philippe Pigouchet für Simon Vostre', 'date': '12.VI.1499'}\n",
      "{'place': 'Paris', 'GWids': '13048', 'printer': 'Philippe Pigouchet für Simon Vostre', 'date': '6.VII.1499'}\n",
      "{'place': 'Paris', 'GWids': '13256', 'printer': 'Philippe Pigouchet für Simon Vostre', 'date': '15.X.1499'}\n",
      "{'place': 'Paris', 'GWids': '13257', 'printer': 'Philippe Pigouchet für Simon Vostre', 'date': '22.XI.1499'}\n",
      "{'place': 'Paris', 'GWids': '13232', 'printer': 'Philippe Pigouchet für Simon Vostre', 'date': '20.XII.1499'}\n",
      "{'place': 'Paris', 'GWids': '13231', 'printer': 'Philippe Pigouchet für Jean Lagache in Arras', 'date': '20.XII.1499'}\n",
      "{'place': 'Paris', 'GWids': '1314110', 'printer': 'Philippe Pigouchet für Macé Panthoul in Troyes', 'date': '20.I.14991500'}\n",
      "{'place': 'Paris', 'GWids': '13233', 'printer': 'Philippe Pigouchet', 'date': '11.II.14991500'}\n",
      "{'place': 'Paris', 'GWids': '13236', 'printer': 'Philippe Pigouchet', 'date': 'um 1500'}\n",
      "{'place': 'Paris', 'GWids': '13260', 'printer': 'Philippe Pigouchet für Simon Vostre', 'date': 'um 1500'}\n",
      "{'place': 'Paris', 'GWids': '13318', 'printer': 'Philippe Pigouchet für Simon Vostre', 'date': 'um 1500'}\n",
      "{'place': 'Paris', 'GWids': '13259', 'printer': 'Philippe Pigouchet für Simon Vostre', 'date': 'um 1500'}\n",
      "{'place': 'Paris', 'GWids': '13084', 'printer': 'Philippe Pigouchet für Simon Vostre', 'date': '25.IV.1500'}\n",
      "{'place': 'Paris', 'GWids': '13085', 'printer': 'Philippe Pigouchet für Simon Vostre', 'date': '25.IV.1500'}\n",
      "{'place': 'Paris', 'GWids': '13238', 'printer': 'Philippe Pigouchet für Simon Vostre', 'date': '28.IV.1500'}\n",
      "{'place': 'Paris', 'GWids': '13239', 'printer': 'Philippe Pigouchet für Simon Vostre', 'date': '28.IV.1500'}\n",
      "{'place': 'Paris', 'GWids': '13240', 'printer': 'Philippe Pigouchet für Simon Vostre', 'date': '25.VI.1500'}\n",
      "{'place': 'Paris', 'GWids': '13241', 'printer': 'Philippe Pigouchet für Simon Vostre', 'date': '28.VI.1500'}\n",
      "{'place': 'Paris', 'GWids': '13242', 'printer': 'Philippe Pigouchet für Simon Vostre', 'date': '27.VII.1500'}\n",
      "{'place': 'Paris', 'GWids': '13243', 'printer': 'Philippe Pigouchet', 'date': '12.X.1500'}\n",
      "{'place': 'Paris', 'GWids': '13262', 'printer': 'Philippe Pigouchet für Narcisse Bruno', 'date': '13.II.150001(?)'}\n",
      "{'place': 'Paris', 'GWids': '13263', 'printer': 'Philippe Pigouchet für Simon Vostre', 'date': 'nach 1500(?)'}\n",
      "{'place': 'Paris', 'GWids': 'Sp. 599a', 'printer': 'Philippe Pigouchet für Simon Vostre', 'date': 'nicht vor 1501'}\n",
      "{'place': 'Paris', 'GWids': '13273', 'printer': 'Jean Poitevin', 'date': '2.VII.1498'}\n",
      "{'place': 'Paris', 'GWids': '13274', 'printer': 'Jean Poitevin', 'date': '15.X.1498'}\n",
      "{'place': 'Paris', 'GWids': 'Sp. 633b', 'printer': 'Pierre Roffet', 'date': 'nicht vor 1524'}\n",
      "{'place': 'Paris', 'GWids': '13121', 'printer': 'Michel Toulouse', 'date': '3.III. nicht nach 1496'}\n",
      "{'place': 'Paris', 'GWids': '13088', 'printer': 'Antoine Vérard', 'date': '27.II.148788'}\n",
      "{'place': 'Paris', 'GWids': '13279', 'printer': 'Antoine Vérard', 'date': 'um 1488/90'}\n",
      "{'place': 'Paris', 'GWids': '13112', 'printer': 'Antoine Vérard', 'date': '20.X.1489'}\n",
      "{'place': 'Paris', 'GWids': '13113', 'printer': 'Antoine Vérard', 'date': '20.II.148990'}\n",
      "{'place': 'Paris', 'GWids': '13317', 'printer': 'Antoine Vérard', 'date': '10.IV.148990'}\n",
      "{'place': 'Paris', 'GWids': '13280', 'printer': 'Antoine Vérard', 'date': 'um 1490'}\n",
      "{'place': 'Paris', 'GWids': '13281', 'printer': 'Antoine Vérard', 'date': 'um 1490'}\n",
      "{'place': 'Paris', 'GWids': '13282', 'printer': 'Antoine Vérard', 'date': 'um 1490'}\n",
      "{'place': 'Paris', 'GWids': '13283', 'printer': 'Antoine Vérard', 'date': 'um 1490'}\n",
      "{'place': 'Paris', 'GWids': '13247', 'printer': 'Antoine Vérard', 'date': 'um 1490'}\n",
      "{'place': 'Paris', 'GWids': '13296', 'printer': 'Antoine Vérard', 'date': 'um 1490'}\n",
      "{'place': 'Paris', 'GWids': '13115', 'printer': 'Antoine Vérard', 'date': '20.VII.1490'}\n",
      "{'place': 'Paris', 'GWids': '13277', 'printer': 'Antoine Vérard', 'date': 'vor 25.X.1499'}\n",
      "{'place': 'Paris', 'GWids': '13276', 'printer': 'Antoine Vérard', 'date': 'vor 25.X.1499'}\n",
      "{'place': 'Paris', 'GWids': '13287', 'printer': 'Antoine Vérard(?)', 'date': 'um 1500(?)'}\n",
      "{'place': 'Paris', 'GWids': 'Sp. 599b', 'printer': 'für Antoine Vérard(?)', 'date': 'nach 1500'}\n",
      "{'place': 'Paris', 'GWids': 'Sp. 646b', 'printer': 'für Antoine Vérard', 'date': '18.VIII.1502'}\n",
      "{'place': 'Paris', 'GWids': 'Sp. 612a', 'printer': 'für Simon Vostre', 'date': 'nach 1500'}\n",
      "{'place': 'Paris', 'GWids': 'Sp. 486a', 'printer': 'für Simon Vostre', 'date': 'nicht vor 1512'}\n",
      "{'place': 'Paris', 'GWids': '13052', 'printer': 'Georg Wolff', 'date': 'um 1490'}\n",
      "{'place': 'Paris', 'GWids': '13305', 'printer': 'Georg Wolff und Johann Philippi', 'date': '20.IX.1494'}\n",
      "{'place': 'Paris', 'GWids': '13161', 'printer': 'Georg Wolff und Thielmann Kerver für Geoffroi de Marnef', 'date': '28.VI.1498'}\n",
      "{'place': 'Paris', 'GWids': '13101', 'printer': 'Georg Wolff und Thielmann Kerver', 'date': '26.IV.1499'}\n",
      "{'place': 'Paris oder Rouen', 'GWids': '13057', 'printer': 'Drucker des Breviarium Rothomagense (GW 5437)', 'date': 'um 1480'}\n",
      "{'place': 'Paris oder Rouen', 'GWids': '13093', 'printer': 'Drucker der Horae ad usum Sarum (GW 13093)', 'date': '1495'}\n",
      "{'place': 'Poitiers', 'GWids': '13319', 'printer': 'Jean Bouyer', 'date': 'um 1479'}\n",
      "{'place': 'Poitiers', 'GWids': '13320', 'printer': 'Jean Bouyer und Pierre Bellescullée', 'date': 'um 1489'}\n",
      "{'place': 'Reutlingen', 'GWids': '12987', 'printer': 'Michael Greyff', 'date': '1492'}\n",
      "{'place': 'Rom', 'GWids': '13352', 'printer': 'Johann Bulle', 'date': 'um 1478/79'}\n",
      "{'place': 'Rom', 'GWids': '13353', 'printer': 'Georg Herolt', 'date': '17.III.1481'}\n",
      "{'place': 'Rom', 'GWids': '13351', 'printer': 'Theobald Schenkbecher', 'date': 'um 1473'}\n",
      "{'place': 'Rouen', 'GWids': '13321', 'printer': 'ohne Drucker', 'date': 'um 1494(?)'}\n",
      "{'place': 'Rouen', 'GWids': '13325', 'printer': 'Jean Le Bourgeois', 'date': 'um 1499'}\n",
      "{'place': 'Rouen', 'GWids': '13322', 'printer': 'Jacques Le Forestier', 'date': '4.X.1494'}\n",
      "{'place': 'Rouen', 'GWids': '13323', 'printer': 'Jacques Le Forestier', 'date': 'um 1498'}\n",
      "{'place': 'Rouen', 'GWids': '13324', 'printer': 'Jacques Le Forestier für Robert Macé in Caen', 'date': '30.V.1498'}\n",
      "{'place': 'Schoonhoven', 'GWids': '13437', 'printer': 'Fratres apud S. Michaelem in den Hem', 'date': '5.X.1496'}\n",
      "{'place': 'Schoonhoven', 'GWids': '13438', 'printer': 'Fratres apud S. Michaelem in den Hem', 'date': '28.III.1498'}\n",
      "{'place': 'Schoonhoven', 'GWids': '13414', 'printer': 'Fratres apud S. Michaelem in den Hem', 'date': '12.III.1500'}\n",
      "{'place': 'Schoonhoven', 'GWids': '13415', 'printer': 'Fratres apud S. Michaelem in den Hem', 'date': 'nach 1500(?)'}\n",
      "{'place': 'Schoonhoven', 'GWids': '13416', 'printer': 'Fratres apud S. Michaelem in den Hem', 'date': 'nach 1500(?)'}\n",
      "{'place': 'Speyer', 'GWids': '12966', 'printer': 'Peter Drach d.M.', 'date': '21.I.1488'}\n",
      "{'place': 'Strassburg', 'GWids': '12967', 'printer': 'Drucker des Henricus Ariminensis (Georg Reyser)', 'date': 'um 1478'}\n",
      "{'place': 'Strassburg', 'GWids': '12968', 'printer': 'Johann Grüninger', 'date': 'nicht nach 1496'}\n",
      "{'place': 'Strassburg', 'GWids': '12970', 'printer': 'Johann Grüninger', 'date': 'nach 28.III. 1498'}\n",
      "{'place': 'Strassburg', 'GWids': '12971', 'printer': 'Johann Grüninger', 'date': '1500'}\n",
      "{'place': 'Strassburg', 'GWids': '12972', 'printer': 'Johann Grüninger', 'date': '31.I.1500'}\n",
      "{'place': 'Strassburg', 'GWids': '12969', 'printer': 'Wilhelm Schaffener', 'date': '13.III.1498'}\n",
      "{'place': 'Strassburg', 'GWids': '12973', 'printer': 'Wilhelm Schaffener', 'date': '15.III.1500'}\n",
      "{'place': 'Stuttgart', 'GWids': '12974', 'printer': 'Drucker der Erwählung Maximilians (H 10929)', 'date': 'um 1486'}\n",
      "{'place': 'Tours', 'GWids': '13326', 'printer': 'Mathieu Latheron auf Veranlassung von Jean Turreau', 'date': '7.V.1496'}\n",
      "{'place': 'Troyes', 'GWids': '13327', 'printer': 'Guillaume Le Rouge', 'date': '31.I.149394'}\n",
      "{'place': 'Turin', 'GWids': '13354', 'printer': 'Jacobinus Suigus und Nicolaus de Benedictis', 'date': '31.I.1495'}\n",
      "{'place': 'Ulm', 'GWids': '12989', 'printer': 'Konrad Dinckmut', 'date': 'um 1480'}\n",
      "{'place': 'Ulm', 'GWids': '12990', 'printer': 'Konrad Dinckmut', 'date': '1484'}\n",
      "{'place': 'Ulm', 'GWids': '12976', 'printer': 'Konrad Dinckmut', 'date': 'nicht nach 1485'}\n",
      "{'place': 'Ulm', 'GWids': '12977', 'printer': 'Konrad Dinckmut', 'date': 'um 1487'}\n",
      "{'place': 'Ulm', 'GWids': '12991', 'printer': 'Konrad Dinckmut', 'date': 'um 1488/91'}\n",
      "{'place': 'Ulm', 'GWids': '12993', 'printer': 'Konrad Dinckmut', 'date': '1491'}\n",
      "{'place': 'Ulm', 'GWids': '12992', 'printer': 'Johann Reger', 'date': 'um 1491'}\n",
      "{'place': 'Ulm', 'GWids': '12994', 'printer': 'Johann Reger', 'date': '3.VI.1491'}\n",
      "{'place': 'Ulm', 'GWids': '12979', 'printer': 'Johann Schäffler', 'date': '22.IX.1492'}\n",
      "{'place': 'Ulm', 'GWids': '12995', 'printer': 'Johann Schäffler', 'date': 'um 1493'}\n",
      "{'place': 'Ulm', 'GWids': '12980', 'printer': 'Johann Schäffler', 'date': '1494'}\n",
      "{'place': 'Ulm', 'GWids': '12988', 'printer': 'Johann Zainer d.Ä.', 'date': 'um 1476'}\n",
      "{'place': 'Ulm', 'GWids': '12975', 'printer': 'Johann Zainer d.Ä.', 'date': 'um 1482'}\n",
      "{'place': 'Ulm', 'GWids': '12978', 'printer': 'Johann Zainer d.Ä.', 'date': 'um 1488'}\n",
      "{'place': 'Urach', 'GWids': '12996', 'printer': 'Konrad Fyner', 'date': 'um 1482'}\n",
      "{'place': 'Vadstena', 'GWids': '13448', 'printer': 'Monasterium S. Birgittae', 'date': 'vor 15.X.1495'}\n",
      "{'place': 'Valencia', 'GWids': '13442', 'printer': 'Drucker des Officium BMV (GW 13442)', 'date': '7.XI.1486'}\n",
      "{'place': 'Valencia', 'GWids': '13443', 'printer': 'Peter Hagembach und Leonhard Hutz für Jacobus de Villa', 'date': '21.II.1494'}\n",
      "{'place': 'Venedig', 'GWids': 'Sp. 674a', 'printer': 'ohne Drucker', 'date': 'um 1474'}\n",
      "{'place': 'Venedig', 'GWids': '13364', 'printer': 'Georgius Arrivabene und Paganinus de Paganinis', 'date': '1484'}\n",
      "{'place': 'Venedig', 'GWids': '13366', 'printer': 'Georgius Arrivabene und Paganinus de Paganinis', 'date': '1.IV.1485'}\n",
      "{'place': 'Venedig', 'GWids': '13395', 'printer': 'Bernardinus de Choris', 'date': '29.III.1488'}\n",
      "{'place': 'Venedig', 'GWids': '13360', 'printer': 'Christoph Arnold', 'date': '13.VI.1478'}\n",
      "{'place': 'Venedig', 'GWids': '13397', 'printer': 'Drucker der Horae (GW 13397)', 'date': 'um 1495(?)'}\n",
      "{'place': 'Venedig', 'GWids': '13376', 'printer': 'Johann Emerich', 'date': '6.V.1493'}\n",
      "{'place': 'Venedig', 'GWids': '13379', 'printer': 'Johann Emerich', 'date': '30.XI.1494'}\n",
      "{'place': 'Venedig', 'GWids': '13381', 'printer': 'Johann Emerich für Lucantonio Giunta', 'date': '31.VII.1496'}\n",
      "{'place': 'Venedig', 'GWids': '13382', 'printer': 'Johann Emerich für Lucantonio Giunta', 'date': '31.VIII.1496'}\n",
      "{'place': 'Venedig', 'GWids': '13383', 'printer': 'Johann Emerich', 'date': '9.V.1497'}\n",
      "{'place': 'Venedig', 'GWids': '13384', 'printer': 'Johann Emerich für Lucantonio Giunta', 'date': '31.VII.1497'}\n",
      "{'place': 'Venedig', 'GWids': '13387', 'printer': 'Johann Emerich für Lucantonio Giunta', 'date': '30.IX.1498'}\n",
      "{'place': 'Venedig', 'GWids': '13388', 'printer': 'Johann Emerich für Lucantonio Giunta', 'date': '21.V.1499'}\n",
      "{'place': 'Venedig', 'GWids': '13361', 'printer': 'Nicolaus Girardengus', 'date': '10.XI.1481'}\n",
      "{'place': 'Venedig', 'GWids': '13368', 'printer': 'Johann Hamann', 'date': '1488'}\n",
      "{'place': 'Venedig', 'GWids': '13370', 'printer': 'Johann Hamann', 'date': '1490'}\n",
      "{'place': 'Venedig', 'GWids': '13371', 'printer': 'Johann Hamann', 'date': '4.XII.1490'}\n",
      "{'place': 'Venedig', 'GWids': '13372', 'printer': 'Johann Hamann', 'date': '3.XII.1491'}\n",
      "{'place': 'Venedig', 'GWids': '13374', 'printer': 'Johann Hamann', 'date': '4.II.149293'}\n",
      "{'place': 'Venedig', 'GWids': '13375', 'printer': 'Johann Hamann', 'date': '14 93'}\n",
      "{'place': 'Venedig', 'GWids': '13377', 'printer': 'Johann Hamann für Gerard Barrevelt und Frederick Egmondt', 'date': '1494'}\n",
      "{'place': 'Venedig', 'GWids': '13380', 'printer': 'Johann Hamann für Johann Volkarth', 'date': '14.XI.1495'}\n",
      "{'place': 'Venedig', 'GWids': '13385', 'printer': 'Johann Hamann für Octavianus Scotus', 'date': '1.X.1497'}\n",
      "{'place': 'Venedig', 'GWids': 'Sp. 674b', 'printer': 'Nicolas Jenson'}\n",
      "{'place': 'Venedig', 'GWids': '13355', 'printer': 'Nicolas Jenson', 'date': '1474'}\n",
      "{'place': 'Venedig', 'GWids': '13356', 'printer': 'Nicolas Jenson', 'date': 'um 1475'}\n",
      "{'place': 'Venedig', 'GWids': '13357', 'printer': 'Nicolas Jenson für? Raphael Zovenzonius', 'date': 'um 1475'}\n",
      "{'place': 'Venedig', 'GWids': '13358', 'printer': 'Nicolas Jenson', 'date': '1475'}\n",
      "{'place': 'Venedig', 'GWids': '13365', 'printer': 'Johann Leoviller', 'date': 'um 1485/88'}\n",
      "{'place': 'Venedig', 'GWids': '13367', 'printer': 'Johann Leoviller', 'date': '1486'}\n",
      "{'place': 'Venedig', 'GWids': '13396', 'printer': 'Aldus Manutius', 'date': '5.XII.1497'}\n",
      "{'place': 'Venedig', 'GWids': '13363', 'printer': 'Nikolaus von Frankfurt', 'date': '1482'}\n",
      "{'place': 'Venedig', 'GWids': '13359', 'printer': 'Andreas de Paltaszichis', 'date': '20.IV.1478'}\n",
      "{'place': 'Venedig', 'GWids': '13373', 'printer': 'Theodorus de Ragazonibus', 'date': '12.VII.1492'}\n",
      "{'place': 'Venedig', 'GWids': '13378', 'printer': 'Hieronymus de Sanctis', 'date': '26.IV.1494'}\n",
      "{'place': 'Venedig', 'GWids': '13362', 'printer': 'Andreas Torresanus für Johann von Köln, Nicolas Jenson und Genossen', 'date': '22.XII.1481'}\n",
      "{'place': 'Venedig', 'GWids': '13369', 'printer': 'Andreas Torresanus', 'date': '23.VII.1489'}\n",
      "{'place': 'Venedig', 'GWids': 'Sp. 693a', 'printer': 'Bernardinus de Vitalibus', 'date': 'Januar 14 9 3 vielmehr 1533'}\n",
      "{'place': 'Venedig', 'GWids': '13386', 'printer': 'Antonius de Zanchis', 'date': '14.VII.1498'}\n",
      "{'place': 'Verona', 'GWids': '13389', 'printer': 'Boninus de Boninis', 'date': '24.X.1481'}\n",
      "{'place': 'Westminster', 'GWids': '13021', 'printer': 'William Caxton', 'date': 'um 1478'}\n",
      "{'place': 'Westminster', 'GWids': '13022', 'printer': 'William Caxton', 'date': 'um 1484'}\n",
      "{'place': 'Westminster', 'GWids': '13023', 'printer': 'William Caxton oder Wynkyn de Worde', 'date': 'um 1491/94'}\n",
      "{'place': 'Westminster', 'GWids': '13024', 'printer': 'William Caxton oder Wynkyn de Worde', 'date': 'um 1491/94'}\n",
      "{'place': 'Westminster', 'GWids': '13028', 'printer': 'Julian Notary', 'date': '2.IV.1500'}\n",
      "{'place': 'Westminster', 'GWids': '13025', 'printer': 'Wynkyn de Worde auf Veranlassung von Elisabeth(von York), Königin von England, und Margaret Beaufort', 'date': 'um 1493'}\n",
      "{'place': 'Westminster', 'GWids': '13026', 'printer': 'Wynkyn de Worde', 'date': 'um 1493/94'}\n",
      "{'place': 'Westminster', 'GWids': '13027', 'printer': 'Wynkyn de Worde', 'date': 'um 1494'}\n",
      "{'place': 'Zaragoza', 'GWids': '13446', 'printer': 'Georg Coci und Genossen', 'date': '30.VII.1500'}\n",
      "{'place': 'Zaragoza', 'GWids': '13444', 'printer': 'Paul Hurus', 'date': 'um 1490'}\n",
      "{'place': 'Zaragoza', 'GWids': '13445', 'printer': 'Paul Hurus', 'date': '9.III.1499'}\n"
     ]
    }
   ],
   "source": [
    "new_data = []\n",
    "\n",
    "for statement in place_printer:\n",
    "    # Create a copy of the dictionary to avoid modifying the original\n",
    "    entry = statement.copy()\n",
    "    entry['GWids'] = str(entry['GWids'][0])\n",
    "    # Split the \"label1\" using commas\n",
    "    label1_parts = entry['label1'].split(', ')\n",
    "    \n",
    "    if entry['label1'] == 'Gerard Leeu oder Adriaan van Liesveldt, nicht vor 30.IV.1491, nicht nach 1492 oder nicht vor 1493/94, nicht nach 1500':\n",
    "        entry['printer'] = 'Gerard Leeu oder Adriaan van Liesveldt'\n",
    "        entry['date'] = 'nicht vor 30.IV.1491, nicht nach 1492 oder nicht vor 1493/94, nicht nach 1500'\n",
    "    elif len(label1_parts) == 2:\n",
    "        # If there's only one comma, assign the parts directly\n",
    "        entry['printer'] = label1_parts[0].strip()\n",
    "        entry['date'] = label1_parts[1].strip()\n",
    "    elif len(label1_parts) > 2:\n",
    "        # If there are multiple commas, check if the last part contains \"nicht\"\n",
    "        if \"nicht\" in label1_parts[-1].strip():\n",
    "            # If \"nicht\" is present, take the concatenation of the last two parts as \"date\"\n",
    "            entry['printer'] = ', '.join(label1_parts[:-2])\n",
    "            entry['date'] = ', '.join(label1_parts[-2:])\n",
    "        else:\n",
    "            # If \"nicht\" is not present, take the concatenation of the last two parts as \"date\"\n",
    "            entry['printer'] = ', '.join(label1_parts[:-1])\n",
    "            entry['date'] = ', '.join(label1_parts[-1:])\n",
    "            \n",
    "    else:\n",
    "        entry['printer'] = entry['label1']\n",
    "    # Remove the original \"label1\" key\n",
    "    entry.pop('label1', None)\n",
    "\n",
    "    # Append the modified entry to the new_data list\n",
    "    new_data.append(entry)\n",
    "\n",
    "# Display the modified data\n",
    "for entry in new_data:\n",
    "    print(entry)\n"
   ]
  },
  {
   "cell_type": "markdown",
   "metadata": {},
   "source": [
    "The following code allows to check the values of the different fields"
   ]
  },
  {
   "cell_type": "code",
   "execution_count": 9,
   "metadata": {
    "tags": []
   },
   "outputs": [
    {
     "name": "stdout",
     "output_type": "stream",
     "text": [
      "Philippe Pigouchet für sich selbst und die Brüder de Marnef\n",
      "Thielmann Kerver für Jean Petit in Paris und Pierre Cochery in Le Mans\n",
      "Jean Bouyer\n",
      "Jacques Le Forestier für Robert Macé in Caen\n",
      "Friedrich Peypus für Johann Koberger\n",
      "Anton Sorg\n",
      "Jacques Le Forestier\n",
      "Jakob Wolff\n",
      "Jean Trechsel\n",
      "Albrecht Kunne\n",
      "Jean Bonhomme\n",
      "Johann Zainer d.Ä.\n",
      "Drucker von Sixtus IV., Ave Maria (Einbl 389)\n",
      "Philippe Pigouchet für Jean Richard in Rouen\n",
      "Etienne Jehannot oder Jean Jehannot\n",
      "Johann Leoviller\n",
      "Lukas Brandis\n",
      "Wynkyn de Worde\n",
      "Theodorus de Ragazonibus\n",
      "Drucker des Celtis (Johann Kachelofen)\n",
      "Jean Du Pré für Antoine Caillaut\n",
      "Jean Morand für Geoffroi de Marnef\n",
      "Albert Ravenstein und Joachim Westval\n",
      "Johann Higman für Willem Houtmaert in Antwerpen\n",
      "Pierre Le Dru und Etienne Jehannot für Robin Challot\n",
      "Drucker der Getzijden (GW 12997)\n",
      "Pierre Le Rouge für Vincent Commin\n",
      "Georg Wolff und Thielmann Kerver für Geoffroi de Marnef\n",
      "Francesco di Dino\n",
      "Antoine Chappiel für Germain Hardouyn\n",
      "Etienne Jehannot für Pierre Regnault in Caen\n",
      "Peter Drach d.M.\n",
      "Jean Du Pré für Denis Meslier\n",
      "Philippe Pigouchet\n",
      "Guillaume Anabat für Gilles und Germain Hardouyn\n",
      "André Bocard für Antoine Vérard(?)\n",
      "Bartholomäus Ghotan(?)\n",
      "Denis Meslier\n",
      "Philippe Pigouchet für Jean Du Bois in Auxerre(?)\n",
      "Jean Bouyer und Pierre Bellescullée\n",
      "Jean Du Pré\n",
      "Jean Du Pré für Antoine Vérard\n",
      "Jacobinus Suigus und Nicolaus de Benedictis\n",
      "Etienne Larcher\n",
      "Konrad Dinckmut\n",
      "Pierre Roffet\n",
      "Georg Wolff und Thielmann Kerver\n",
      "Adriaan van Liesveldt\n",
      "Laurentius de Morgianis und Johann Petri\n",
      "Drucker des Henricus Ariminensis (Georg Reyser)\n",
      "Guillaume Le Rouge\n",
      "Laurentius de Rubeis\n",
      "Philippe Pigouchet für Jean Lagache in Arras\n",
      "Fratres vitae communis\n",
      "Ugo Rugerius\n",
      "Jean Morand(?) für Antoine Vérard\n",
      "Jacobinus Suigus und Nicolaus de Benedictis für Boninus de Boninis\n",
      "Jean de Vingle(?)\n",
      "Antonius Zarotus\n",
      "Drucker der Rochuslegende (H 13928)\n",
      "Wilhelm Schaffener\n",
      "Johann Grüninger\n",
      "Christian Snellaert\n",
      "Thielmann Kerver für Gauche Preta in Châlons\n",
      "Theobald Schenkbecher\n",
      "Johann Hamann für Gerard Barrevelt und Frederick Egmondt\n",
      "André Bocard(?) für Antoine Vérard\n",
      "Etienne Jehannot für Antoine Vérard\n",
      "Mathieu Latheron auf Veranlassung von Jean Turreau\n",
      "Ulrich Gering und Berthold Remboldt für Simon Vostre\n",
      "Hugo Janszoen\n",
      "Michel Andrieu\n",
      "Etienne Jehannot für die Brüder de Marnef\n",
      "Drucker des Missale Romanum (H 11399) (Louis Cruse?)\n",
      "für Simon Vostre\n",
      "Peter Hagembach und Leonhard Hutz für Jacobus de Villa\n",
      "Jean Morand für Enguilbert de Marnef und Jean Alexandre\n",
      "Georg Wolff und Johann Philippi\n",
      "Retro Minores\n",
      "Johann Hamann für Johann Volkarth\n",
      "Philippe Pigouchet für Pierre Regnault in Caen\n",
      "Philippe Pigouchet für Macé Panthoul in Troyes\n",
      "Jean Du Pré(?)\n",
      "Fratres apud S. Michaelem in den Hem\n",
      "Christian Preller für Antoine Gontier\n",
      "Nicolas Higman für Simon Vostre\n",
      "Guillaume Le Rouge für Antoine Vérard\n",
      "Johann Philippi für Thielmann Kerver\n",
      "Nicolas Jenson für? Raphael Zovenzonius\n",
      "für Antoine Vérard\n",
      "Gerard Leeu oder Adriaan van Liesveldt\n",
      "Drucker der Horae (GW 13092)\n",
      "Antoine Caillaut\n",
      "Bernardinus de Choris\n",
      "Etienne Jehannot für Johannes de Campis in Cambrai\n",
      "Antoine Vérard(?)\n",
      "Jakob van der Meer\n",
      "Georgius Arrivabene und Paganinus de Paganinis\n",
      "Mohnkopfdrucker (Hans van Ghetelen)\n",
      "Christoph Arnold\n",
      "Aldus Manutius\n",
      "Johann Philippi\n",
      "Johann Philippi für Thielmann Kerver in Paris und Jean Richard in Rouen\n",
      "Johann Bulle\n",
      "Johann Petri\n",
      "Bartholomäus Ghotan\n",
      "Thielmann Kerver für Gilles Remacle\n",
      "Georg Coci und Genossen\n",
      "Richard Paffraet\n",
      "Philippe Pigouchet für Toussaint de Montjay\n",
      "Friedrich Creussner\n",
      "Andreas Torresanus\n",
      "Thielmann Kerver für sich selbst, Gilles Remacle und Guillaume Eustace\n",
      "Wilhelmus de Machlinia\n",
      "für Antoine Vérard(?)\n",
      "Etienne Jehannot für Gilles Hardouyn\n",
      "Drucker des Breviarium Rothomagense (GW 5437)\n",
      "Johann Hamann\n",
      "Markus Reinhard\n",
      "Johann Snell\n",
      "Thielmann Kerver für Guillaume Eustace\n",
      "Pierre Le Dru(?) für Jean Poitevin\n",
      "Konrad Fyner\n",
      "Nicolaus Girardengus\n",
      "Richard Pynson\n",
      "Pierre Le Dru und Etienne Jehannot\n",
      "Johann Luschner\n",
      "Philippe Pigouchet für Jean Magdalene in Metz\n",
      "Christian Preller\n",
      "William Caxton oder Wynkyn de Worde\n",
      "Johann Gherlinc\n",
      "Hendrik Eckert\n",
      "Antoine Vérard\n",
      "Michel Toulouse\n",
      "Collacie Broeders\n",
      "Pierre Levet für Antoine Vérard\n",
      "Johann Emerich für Lucantonio Giunta\n",
      "Philippe Pigouchet für Narcisse Bruno\n",
      "Bernardinus de Vitalibus\n",
      "Jean Poitevin\n",
      "Hieronymus de Sanctis\n",
      "Philippe Pigouchet für Simon Vostre\n",
      "Georg Wolff\n",
      "Guy Marchant für Antoine Vérard(?)\n",
      "Drucker des Officium BMV (GW 13442)\n",
      "Etienne Jehannot für Jean Poitevin\n",
      "Georg Herolt\n",
      "Ulrich Gering und Berthold Remboldt\n",
      "Guy Marchant für Antoine Vérard\n",
      "Antonius de Zanchis\n",
      "André Bocard für Antoine Vérard\n",
      "Lukas Brandis(?)\n",
      "Etienne Jehannot für Pierre Pasquier\n",
      "Jean Le Bourgeois\n",
      "Wynkyn de Worde auf Veranlassung von Elisabeth(von York), Königin von England, und Margaret Beaufort\n",
      "Peregrinus Barmentlo\n",
      "Sweipolt Fiol\n",
      "Etienne Jehannot für Denis Roce\n",
      "Johann Hamann für Octavianus Scotus\n",
      "Philippe Pigouchet z.T. für die Brüder de Marnef\n",
      "Thielmann Kerver für Hugues Pageot in Dijon\n",
      "Apud S. Jacobum de Ripoli\n",
      "Louis Cruse\n",
      "Drucker der Erwählung Maximilians (H 10929)\n",
      "Jean Jehannot für Nicolaus Lecomte\n",
      "Jean Morand(?)\n",
      "Antoine Caillaut für Antoine Vérard\n",
      "Konrad Kachelofen\n",
      "Jean Morand(?) für Jean de Coulonces bzw. Robin Challot\n",
      "Arend de Keysere\n",
      "Boninus de Boninis\n",
      "Johann Higman\n",
      "Drucker der Horae (GW 13397)\n",
      "William Caxton\n",
      "Moritz Brandis\n",
      "Govert Bac\n",
      "Julian Notary, Jean Barbier und I. H. für Wynkyn de Worde\n",
      "Matthias von Olmütz\n",
      "Melchior Lotter\n",
      "Gerard Leeu\n",
      "Matthäus Brandis\n",
      "Nicolaus de Benedictis für Boninus de Boninis\n",
      "für(?) Jean de Coulonces\n",
      "Drucker der Horae ad usum Sarum (GW 13093)\n",
      "Andreas Torresanus für Johann von Köln, Nicolas Jenson und Genossen\n",
      "Julian Notary\n",
      "Martin von Amsterdam für Andreas Ihyracensis\n",
      "Konrad Guldenmund\n",
      "Etienne Jehannot für Jean Petit\n",
      "Pierre Le Rouge\n",
      "Bernhard Richel\n",
      "Steffen Arndes\n",
      "Fratres Ordinis Eremitarum S. Augustini\n",
      "Wolfgang Hopyl\n",
      "Johann Philippi für Jacques Bezanceau in Poitiers und Thielmann Kerver in Paris\n",
      "Philippe Pigouchet für die Brüder de Marnef\n",
      "Thielmann Kerver\n",
      "Günther Zainer\n",
      "Laurent Philippe\n",
      "Johann Schäffler\n",
      "André Bocard\n",
      "Michael Wenssler\n",
      "Johann Amerbach\n",
      "Nicolas Jenson\n",
      "Nicolaus Laurentii\n",
      "Drucker der Horae (GW 13328)\n",
      "Pierre Le Rouge(?) für Antoine Vérard\n",
      "Johann Emerich\n",
      "Etienne Jehannot(?)\n",
      "Johann Reger\n",
      "Monasterium S. Birgittae\n",
      "Andreas Belfortis\n",
      "Jean Morand für Antoine Vérard\n",
      "Thielmann Kerver für Robert Macé in Caen\n",
      "Ayolfus de Cantono\n",
      "Andreas de Paltaszichis\n",
      "Christoph Valdarfer\n",
      "Nikolaus von Frankfurt\n",
      "Etienne Jehannot\n",
      "ohne Drucker\n",
      "Michael Greyff\n",
      "Paul Hurus\n",
      "Antonio di Francesco\n"
     ]
    }
   ],
   "source": [
    "\n",
    "key = 'printer'\n",
    "\n",
    "# Use a set to collect unique values of one of the keys in the items when the key is present\n",
    "unique_series = set(item[key] for item in new_data if key in item)\n",
    "# Convert the set back to a list if needed\n",
    "unique_series_list = list(unique_series)\n",
    "\n",
    "print('\\n'.join(unique_series_list))"
   ]
  },
  {
   "cell_type": "markdown",
   "metadata": {},
   "source": [
    "In the printer fiel, we see that some are acting in behalf of booksellers. The information is given in the statement \"N.\" + \"für\" + \"N.\". We separate both information pieces."
   ]
  },
  {
   "cell_type": "code",
   "execution_count": 10,
   "metadata": {
    "tags": []
   },
   "outputs": [
    {
     "name": "stdout",
     "output_type": "stream",
     "text": [
      "{'place': 'Antwerpen', 'GWids': 'Sp. 701a', 'printer': 'ohne Drucker', 'date': '1488'}\n",
      "{'place': 'Antwerpen', 'GWids': '13404', 'printer': 'Adriaan van Liesveldt', 'date': '22.VI.1494'}\n",
      "{'place': 'Antwerpen', 'GWids': '13405', 'printer': 'Adriaan van Liesveldt', 'date': '22.VI.1494'}\n",
      "{'place': 'Antwerpen', 'GWids': '13419', 'printer': 'Adriaan van Liesveldt', 'date': '9.VIII.1494'}\n",
      "{'place': 'Antwerpen', 'GWids': '13406', 'printer': 'Adriaan van Liesveldt', 'date': '13.(?)VI.1495'}\n",
      "{'place': 'Antwerpen', 'GWids': '13421', 'printer': 'Adriaan van Liesveldt', 'date': '29.VII.1495'}\n",
      "{'place': 'Antwerpen', 'GWids': '13422', 'printer': 'Adriaan van Liesveldt', 'date': '1498(?)'}\n",
      "{'place': 'Antwerpen', 'GWids': '13418', 'printer': 'Govert Bac', 'date': 'nicht vor 1493'}\n",
      "{'place': 'Antwerpen', 'GWids': '13420', 'printer': 'Govert Bac', 'date': '1495'}\n",
      "{'place': 'Antwerpen', 'GWids': '13400', 'printer': 'Gerard Leeu', 'date': '1487'}\n",
      "{'place': 'Antwerpen', 'GWids': '13399', 'printer': 'Gerard Leeu', 'date': '14 87'}\n",
      "{'place': 'Antwerpen', 'GWids': '13401', 'printer': 'Gerard Leeu', 'date': '27.VII.1489'}\n",
      "{'place': 'Antwerpen', 'GWids': '13417', 'printer': 'Gerard Leeu', 'date': '16.VIII.1491'}\n",
      "{'place': 'Antwerpen', 'GWids': '13403', 'printer': 'Gerard Leeu', 'date': '13.III.1492'}\n",
      "{'place': 'Antwerpen', 'GWids': '13402', 'printer': 'Gerard Leeu oder Adriaan van Liesveldt', 'date': 'nicht vor 30.IV.1491, nicht nach 1492 oder nicht vor 1493/94, nicht nach 1500'}\n",
      "{'place': 'Augsburg', 'GWids': '12982', 'printer': 'Anton Sorg', 'date': 'um 1483'}\n",
      "{'place': 'Augsburg', 'GWids': '12983', 'printer': 'Anton Sorg', 'date': 'um 1485'}\n",
      "{'place': 'Augsburg', 'GWids': '12945', 'printer': 'Anton Sorg', 'date': '1487'}\n",
      "{'place': 'Augsburg', 'GWids': '12946', 'printer': 'Anton Sorg', 'date': '1489'}\n",
      "{'place': 'Augsburg', 'GWids': '12947', 'printer': 'Anton Sorg', 'date': '1492'}\n",
      "{'place': 'Augsburg', 'GWids': '12981', 'printer': 'Günther Zainer', 'date': '12.III.1471'}\n",
      "{'place': 'Barcelona', 'GWids': '13439', 'printer': 'Johann Gherlinc', 'date': 'vor 15.IV.1489'}\n",
      "{'place': 'Barcelona', 'GWids': '13440', 'printer': 'Johann Gherlinc', 'date': 'nicht vor 15.IV.1489, nicht nach 7.VI.1489(?)'}\n",
      "{'place': 'Basel', 'GWids': '12949', 'printer': 'Johann Amerbach', 'date': 'um 1482/86'}\n",
      "{'place': 'Basel', 'GWids': '12948', 'printer': 'Bernhard Richel', 'date': '15.VII.1480'}\n",
      "{'place': 'Basel', 'GWids': '12950', 'printer': 'Michael Wenssler', 'date': '1.IV.1491'}\n",
      "{'place': 'Basel', 'GWids': '12951', 'printer': 'Jakob Wolff', 'date': '13.IV.1498'}\n",
      "{'place': 'Bologna', 'GWids': '13390', 'printer': 'Ugo Rugerius', 'date': '23.II.1498'}\n",
      "{'place': 'Brügge', 'GWids': '13407', 'printer': 'William Caxton', 'date': 'um 1475'}\n",
      "{'place': 'Brüssel', 'GWids': '13423', 'printer': 'Fratres vitae communis', 'date': 'nicht vor 9.VI.1481, nicht nach 1484'}\n",
      "{'place': 'Delft', 'GWids': '13427', 'printer': 'Hendrik Eckert', 'date': '1498'}\n",
      "{'place': 'Delft', 'GWids': '13428', 'printer': 'Hendrik Eckert', 'date': '1498'}\n",
      "{'place': 'Delft', 'GWids': '13424', 'printer': 'Jakob van der Meer', 'date': '8.IV.1480'}\n",
      "{'place': 'Delft', 'GWids': '13425', 'printer': 'Jakob van der Meer', 'date': '19.VII.1484'}\n",
      "{'place': 'Delft', 'GWids': '13426', 'printer': 'Christian Snellaert', 'date': 'nicht vor 29.V.1490, nicht nach 10.VIII.1491'}\n",
      "{'place': 'Deutschland(?)', 'GWids': '12944', 'printer': 'ohne Drucker', 'date': 'nach 1500(?)'}\n",
      "{'place': 'Deventer', 'GWids': '13408', 'printer': 'Richard Paffraet', 'date': 'um 1478'}\n",
      "{'place': 'Deventer', 'GWids': '13409', 'printer': 'Richard Paffraet', 'date': 'um 1497'}\n",
      "{'place': 'Deventer', 'GWids': '13410', 'printer': 'Richard Paffraet', 'date': '1497'}\n",
      "{'place': 'Ferrara', 'GWids': '13329', 'printer': 'Andreas Belfortis', 'date': 'um 1475'}\n",
      "{'place': 'Ferrara', 'GWids': '13330', 'printer': 'Laurentius de Rubeis', 'date': '15.VII.1497'}\n",
      "{'place': 'Florenz', 'GWids': 'Sp. 695a', 'printer': 'ohne Drucker', 'date': '1482'}\n",
      "{'place': 'Florenz', 'GWids': '13391', 'printer': 'Apud S. Jacobum de Ripoli', 'date': 'nicht nach August 1477'}\n",
      "{'place': 'Florenz', 'GWids': '13332', 'printer': 'Francesco di Dino', 'date': 'um 1487'}\n",
      "{'place': 'Florenz', 'GWids': '13393', 'printer': 'Antonio di Francesco', 'date': 'um 1488'}\n",
      "{'place': 'Florenz', 'GWids': '13331', 'printer': 'Nicolaus Laurentii', 'date': '5.VII.1483'}\n",
      "{'place': 'Florenz', 'GWids': '13394', 'printer': 'Laurentius de Morgianis und Johann Petri', 'date': '17.II.1 4 93'}\n",
      "{'place': 'Florenz', 'GWids': '13392', 'printer': 'Johann Petri', 'date': '23.XII.1486'}\n",
      "{'place': 'Genf', 'GWids': '13029', 'printer': 'Louis Cruse', 'date': 'um 1479'}\n",
      "{'place': 'Genf', 'GWids': '13030', 'printer': 'Louis Cruse', 'date': 'um 1479'}\n",
      "{'place': 'Genf', 'GWids': '13031', 'printer': 'Louis Cruse', 'date': 'um 1480'}\n",
      "{'place': 'Genf', 'GWids': '13032', 'printer': 'Drucker des Missale Romanum (H 11399) (Louis Cruse?)', 'date': 'um 1493/95'}\n",
      "{'place': 'Gent', 'GWids': '13411', 'printer': 'Arend de Keysere', 'date': 'nicht vor 1487'}\n",
      "{'place': 'Gent', 'GWids': '13412', 'printer': 'Arend de Keysere', 'date': 'nicht vor 1487'}\n",
      "{'place': 'Gouda', 'GWids': '13429', 'printer': 'Collacie Broeders', 'date': '20.IV.1496'}\n",
      "{'place': 'Gouda', 'GWids': '13413', 'printer': 'Gerard Leeu', 'date': 'um 1483/84'}\n",
      "{'place': 'Goupillières', 'GWids': '13033', 'printer': 'Michel Andrieu', 'date': '8.V.1491'}\n",
      "{'place': 'Hasselt', 'GWids': '13430', 'printer': 'Peregrinus Barmentlo', 'date': '1488'}\n",
      "{'place': 'Hasselt', 'GWids': '13431', 'printer': 'Peregrinus Barmentlo', 'date': '1490'}\n",
      "{'place': 'Ingolstadt', 'GWids': '12952', 'printer': 'Drucker des Celtis (Johann Kachelofen)', 'date': 'um 1492'}\n",
      "{'place': 'Italien', 'GWids': '13328', 'printer': 'Drucker der Horae (GW 13328)', 'date': 'nicht nach 1500'}\n",
      "{'place': 'Kirchheim', 'GWids': '12953', 'printer': 'Markus Reinhard', 'date': 'nicht vor 1490'}\n",
      "{'place': 'Kirchheim', 'GWids': '12954', 'printer': 'Markus Reinhard', 'date': 'nicht nach 1491'}\n",
      "{'place': 'Kirchheim', 'GWids': 'Sp. 436a', 'printer': 'Markus Reinhard', 'date': '1490'}\n",
      "{'place': 'Kirchheim', 'GWids': '12984', 'printer': 'Markus Reinhard', 'date': '1491'}\n",
      "{'place': 'Köln', 'GWids': '12997', 'printer': 'Drucker der Getzijden (GW 12997)', 'date': 'um 1485'}\n",
      "{'place': 'Köln', 'GWids': '12955', 'printer': 'Retro Minores', 'date': 'um 1500'}\n",
      "{'place': 'Krakau', 'GWids': '13447', 'printer': 'Sweipolt Fiol', 'date': '1491'}\n",
      "{'place': 'Leiden', 'GWids': '13432', 'printer': 'Hugo Janszoen', 'date': '1494–1495'}\n",
      "{'place': 'Leiden', 'GWids': '13433', 'printer': 'Hugo Janszoen', 'date': '1497'}\n",
      "{'place': 'Leiden', 'GWids': '13434', 'printer': 'Hugo Janszoen', 'date': '1498'}\n",
      "{'place': 'Leiden', 'GWids': '13435', 'printer': 'Hugo Janszoen', 'date': '1500'}\n",
      "{'place': 'Leiden', 'GWids': '13436', 'printer': 'Hugo Janszoen', 'date': 'nach 1500(?)'}\n",
      "{'place': 'Leipzig', 'GWids': '12956', 'printer': 'Konrad Kachelofen', 'date': 'um 1495'}\n",
      "{'place': 'Leipzig', 'GWids': '12998', 'printer': 'Konrad Kachelofen', 'date': 'um 1500'}\n",
      "{'place': 'Leipzig', 'GWids': '12957', 'printer': 'Melchior Lotter', 'date': '14 99'}\n",
      "{'place': 'Leipzig', 'GWids': '12958', 'printer': 'Melchior Lotter', 'date': 'nach 1500(?)'}\n",
      "{'place': 'London', 'GWids': '13017', 'printer': 'Julian Notary, Jean Barbier und I. H.', 'date': '3.IV.1497', 'bookseller': 'Wynkyn de Worde'}\n",
      "{'place': 'London', 'GWids': '13014', 'printer': 'Richard Pynson', 'date': 'um 1493'}\n",
      "{'place': 'London', 'GWids': '13015', 'printer': 'Richard Pynson', 'date': 'um 1497'}\n",
      "{'place': 'London', 'GWids': '13016', 'printer': 'Richard Pynson', 'date': 'um 1497'}\n",
      "{'place': 'London', 'GWids': '13018', 'printer': 'Richard Pynson', 'date': 'um 1498'}\n",
      "{'place': 'London', 'GWids': '13019', 'printer': 'Richard Pynson', 'date': 'um 1500'}\n",
      "{'place': 'London', 'GWids': '13020', 'printer': 'Richard Pynson', 'date': 'um 1500'}\n",
      "{'place': 'London', 'GWids': '13013', 'printer': 'Wilhelmus de Machlinia', 'date': 'um 1484'}\n",
      "{'place': 'Lübeck', 'GWids': '13006', 'printer': 'Steffen Arndes', 'date': '1496'}\n",
      "{'place': 'Lübeck', 'GWids': '13008', 'printer': 'Steffen Arndes', 'date': 'um 1497'}\n",
      "{'place': 'Lübeck', 'GWids': '13009', 'printer': 'Steffen Arndes', 'date': '1497'}\n",
      "{'place': 'Lübeck', 'GWids': '13011', 'printer': 'Steffen Arndes', 'date': '1499'}\n",
      "{'place': 'Lübeck', 'GWids': '12959', 'printer': 'Lukas Brandis', 'date': 'um 1477/78, nicht nach 1490'}\n",
      "{'place': 'Lübeck', 'GWids': '12999', 'printer': 'Lukas Brandis', 'date': 'um 1478'}\n",
      "{'place': 'Lübeck', 'GWids': '13010', 'printer': 'Lukas Brandis(?)', 'date': 'um 1499(?)'}\n",
      "{'place': 'Lübeck', 'GWids': '12960', 'printer': 'Matthäus Brandis', 'date': 'um 1488'}\n",
      "{'place': 'Lübeck', 'GWids': '13007', 'printer': 'Drucker von Sixtus IV., Ave Maria (Einbl 389)', 'date': 'um 1497(?)'}\n",
      "{'place': 'Lübeck', 'GWids': '13001', 'printer': 'Bartholomäus Ghotan', 'date': 'um 1484'}\n",
      "{'place': 'Lübeck', 'GWids': '13002', 'printer': 'Bartholomäus Ghotan', 'date': 'um 1484'}\n",
      "{'place': 'Lübeck', 'GWids': '13003', 'printer': 'Bartholomäus Ghotan', 'date': '1485'}\n",
      "{'place': 'Lübeck', 'GWids': '13005', 'printer': 'Bartholomäus Ghotan(?)', 'date': 'um 1490'}\n",
      "{'place': 'Lübeck', 'GWids': '13004', 'printer': 'Mohnkopfdrucker (Hans van Ghetelen)', 'date': '1487'}\n",
      "{'place': 'Lübeck', 'GWids': '12961', 'printer': 'Mohnkopfdrucker (Hans van Ghetelen)', 'date': '1489'}\n",
      "{'place': 'Lübeck', 'GWids': '13000', 'printer': 'Johann Snell', 'date': 'um 1482'}\n",
      "{'place': 'Lyon', 'GWids': '13038', 'printer': 'Nicolaus de Benedictis', 'date': '20.V.1499', 'bookseller': 'Boninus de Boninis'}\n",
      "{'place': 'Lyon', 'GWids': '13037', 'printer': 'Nicolaus de Benedictis', 'date': '20.III.1499', 'bookseller': 'Boninus de Boninis'}\n",
      "{'place': 'Lyon', 'GWids': '13035', 'printer': 'Jean Du Pré', 'date': '11.IX.1490'}\n",
      "{'place': 'Lyon', 'GWids': '13036', 'printer': 'Jean Du Pré', 'date': 'nach 1491(?)'}\n",
      "{'place': 'Lyon', 'GWids': 'Sp. 429a', 'printer': 'Jacobinus Suigus und Nicolaus de Benedictis', 'date': '26.VIII.1500 vielmehr 1501', 'bookseller': 'Boninus de Boninis'}\n",
      "{'place': 'Lyon', 'GWids': '13034', 'printer': 'Jean Trechsel', 'date': 'um 1489'}\n",
      "{'place': 'Lyon', 'GWids': '13039', 'printer': 'Jean de Vingle(?)', 'date': 'um 1500'}\n",
      "{'place': 'Magdeburg', 'GWids': '12962', 'printer': 'Moritz Brandis', 'date': 'um 1500'}\n",
      "{'place': 'Magdeburg', 'GWids': '12963', 'printer': 'Moritz Brandis', 'date': 'um 1500'}\n",
      "{'place': 'Magdeburg', 'GWids': '13012', 'printer': 'Albert Ravenstein und Joachim Westval', 'date': 'um 1483/84'}\n",
      "{'place': 'Mailand', 'GWids': '13334', 'printer': 'Christoph Valdarfer', 'date': '1.IV.1485'}\n",
      "{'place': 'Mailand', 'GWids': '13333', 'printer': 'Antonius Zarotus', 'date': 'um 1475'}\n",
      "{'place': 'Memmingen', 'GWids': '12964', 'printer': 'Albrecht Kunne', 'date': 'um 1483/86'}\n",
      "{'place': 'Montserrat', 'GWids': '13441', 'printer': 'Johann Luschner', 'date': 'um 1499'}\n",
      "{'place': 'Nantes', 'GWids': '13040', 'printer': 'Etienne Larcher', 'date': '27.I. um 1498'}\n",
      "{'place': 'Neapel', 'GWids': '13347', 'printer': 'Ayolfus de Cantono', 'date': '22.III.1496'}\n",
      "{'place': 'Neapel', 'GWids': '13336', 'printer': 'Konrad Guldenmund', 'date': '1477'}\n",
      "{'place': 'Neapel', 'GWids': '13350', 'printer': 'Martin von Amsterdam', 'date': '27.I.1499', 'bookseller': 'Andreas Ihyracensis'}\n",
      "{'place': 'Neapel', 'GWids': '13335', 'printer': 'Matthias von Olmütz', 'date': '11.VI.1476'}\n",
      "{'place': 'Neapel', 'GWids': '1333510', 'printer': 'Matthias von Olmütz', 'date': '18.(?)XI.14 76/77(?)'}\n",
      "{'place': 'Neapel', 'GWids': '13337', 'printer': 'Matthias von Olmütz', 'date': '10.XI.1478'}\n",
      "{'place': 'Neapel', 'GWids': '13338', 'printer': 'Matthias von Olmütz', 'date': '30.VI.1486'}\n",
      "{'place': 'Neapel', 'GWids': '13339', 'printer': 'Matthias von Olmütz', 'date': '3.X.1486'}\n",
      "{'place': 'Neapel', 'GWids': '13340', 'printer': 'Matthias von Olmütz', 'date': '3.X.1487'}\n",
      "{'place': 'Neapel', 'GWids': '13342', 'printer': 'Matthias von Olmütz', 'date': '15.X.1488'}\n",
      "{'place': 'Neapel', 'GWids': '13343', 'printer': 'Matthias von Olmütz', 'date': '5.III.1490'}\n",
      "{'place': 'Neapel', 'GWids': '13345', 'printer': 'Matthias von Olmütz', 'date': '10.II.1492'}\n",
      "{'place': 'Neapel', 'GWids': '13341', 'printer': 'Christian Preller', 'date': '15.XI.1487'}\n",
      "{'place': 'Neapel', 'GWids': '13343', 'printer': 'Christian Preller', 'date': '9.IV.1490', 'bookseller': 'Antoine Gontier'}\n",
      "{'place': 'Neapel', 'GWids': '13346', 'printer': 'Christian Preller', 'date': '13.VIII.1495'}\n",
      "{'place': 'Neapel', 'GWids': '13348', 'printer': 'Christian Preller', 'date': '26.III.1496'}\n",
      "{'place': 'Neapel', 'GWids': '13349', 'printer': 'Christian Preller', 'date': '22.I.1498'}\n",
      "{'place': 'Niederlande', 'GWids': 'Sp. 712a', 'printer': 'ohne Drucker'}\n",
      "{'place': 'Niederlande', 'GWids': '13398', 'printer': 'ohne Drucker', 'date': 'nicht vor 1493'}\n",
      "{'place': 'Nürnberg', 'GWids': '12986', 'printer': 'Friedrich Creussner', 'date': 'um 1495'}\n",
      "{'place': 'Nürnberg', 'GWids': '12985', 'printer': 'Drucker der Rochuslegende (H 13928)', 'date': 'um 1481'}\n",
      "{'place': 'Nürnberg', 'GWids': '12965', 'printer': 'Fratres Ordinis Eremitarum S. Augustini', 'date': 'um 1482'}\n",
      "{'place': 'Nürnberg', 'GWids': 'Sp. 443a', 'printer': 'Friedrich Peypus', 'date': '1500', 'bookseller': 'Johann Koberger'}\n",
      "{'place': 'Paris', 'GWids': '13049', 'printer': 'ohne Drucker', 'date': 'um 1500'}\n",
      "{'place': 'Paris', 'GWids': 'Sp. 553a', 'printer': 'ohne Drucker', 'date': 'nicht vor 1515'}\n",
      "{'place': 'Paris', 'GWids': 'Sp. 487a', 'printer': 'ohne Drucker', 'date': 'um 1520'}\n",
      "{'place': 'Paris', 'GWids': 'Sp. 654a', 'printer': 'ohne Drucker', 'date': 'nach 1.XI.1503'}\n",
      "{'place': 'Paris', 'GWids': 'Sp. 519b', 'printer': 'Guillaume Anabat', 'date': 'um 1505', 'bookseller': 'Gilles und Germain Hardouyn'}\n",
      "{'place': 'Paris', 'GWids': 'Sp. 633a', 'printer': 'Guillaume Anabat', 'date': 'um 1505', 'bookseller': 'Gilles und Germain Hardouyn'}\n",
      "{'place': 'Paris', 'GWids': '13258', 'printer': 'André Bocard', 'date': 'um 1500'}\n",
      "{'place': 'Paris', 'GWids': '13234', 'printer': 'André Bocard', 'date': 'um 1500', 'bookseller': 'Antoine Vérard(?)'}\n",
      "{'place': 'Paris', 'GWids': '13300', 'printer': 'André Bocard(?)', 'date': '2.V.1500', 'bookseller': 'Antoine Vérard'}\n",
      "{'place': 'Paris', 'GWids': '13302', 'printer': 'André Bocard', 'date': '14.VIII.1500', 'bookseller': 'Antoine Vérard'}\n",
      "{'place': 'Paris', 'GWids': 'Sp. 643a', 'printer': 'André Bocard', 'date': '14.VIII.1500 vielmehr nicht vor 1503', 'bookseller': 'Antoine Vérard'}\n",
      "{'place': 'Paris', 'GWids': '13103', 'printer': 'André Bocard', 'date': '22.X.1500'}\n",
      "{'place': 'Paris', 'GWids': '13105', 'printer': 'André Bocard', 'date': '20.I.150001'}\n",
      "{'place': 'Paris', 'GWids': '13106', 'printer': 'André Bocard', 'date': '20.I.150001'}\n",
      "{'place': 'Paris', 'GWids': '13304', 'printer': 'André Bocard', 'date': '9.II.150001', 'bookseller': 'Antoine Vérard'}\n",
      "{'place': 'Paris', 'GWids': '13303', 'printer': 'André Bocard', 'date': '9.II.150001', 'bookseller': 'Antoine Vérard'}\n",
      "{'place': 'Paris', 'GWids': '13053', 'printer': 'Jean Bonhomme', 'date': 'um 1486/90'}\n",
      "{'place': 'Paris', 'GWids': '13050', 'printer': 'Jean Bonhomme', 'date': 'um 1486/90'}\n",
      "{'place': 'Paris', 'GWids': '13266', 'printer': 'Antoine Caillaut', 'date': '8.X.1488', 'bookseller': 'Antoine Vérard'}\n",
      "{'place': 'Paris', 'GWids': '13131', 'printer': 'Antoine Caillaut', 'date': '8.I.148889', 'bookseller': 'Antoine Vérard'}\n",
      "{'place': 'Paris', 'GWids': '13172', 'printer': 'Antoine Caillaut', 'date': '8.II.148990', 'bookseller': 'Antoine Vérard'}\n",
      "{'place': 'Paris', 'GWids': '13289', 'printer': 'Antoine Caillaut', 'date': 'um 1490'}\n",
      "{'place': 'Paris', 'GWids': 'Sp. 655a', 'printer': 'Antoine Chappiel', 'date': '5.X. 1504', 'bookseller': 'Germain Hardouyn'}\n",
      "{'place': 'Paris', 'GWids': '13261', 'date': 'nicht vor 1500', 'bookseller': '(?) Jean de Coulonces'}\n",
      "{'place': 'Paris', 'GWids': '13092', 'printer': 'Drucker der Horae (GW 13092)', 'date': 'vor 10.VII.1493'}\n",
      "{'place': 'Paris', 'GWids': '13142', 'printer': 'Jean Du Pré', 'date': 'um 1485'}\n",
      "{'place': 'Paris', 'GWids': '13143', 'printer': 'Jean Du Pré', 'date': '12.IX.1485', 'bookseller': 'Antoine Vérard'}\n",
      "{'place': 'Paris', 'GWids': '13144', 'printer': 'Jean Du Pré', 'date': '6.II.148586', 'bookseller': 'Antoine Vérard'}\n",
      "{'place': 'Paris', 'GWids': '13054', 'printer': 'Jean Du Pré', 'date': '21.VIII.1486', 'bookseller': 'Antoine Vérard'}\n",
      "{'place': 'Paris', 'GWids': '13063', 'printer': 'Jean Du Pré', 'date': 'um 1487'}\n",
      "{'place': 'Paris', 'GWids': '13055', 'printer': 'Jean Du Pré', 'date': '7.VII.1487', 'bookseller': 'Antoine Vérard'}\n",
      "{'place': 'Paris', 'GWids': '13111', 'printer': 'Jean Du Pré', 'date': '18.II.148788'}\n",
      "{'place': 'Paris', 'GWids': '13316', 'printer': 'Jean Du Pré', 'date': '28.III.148788'}\n",
      "{'place': 'Paris', 'GWids': '13064', 'printer': 'Jean Du Pré', 'date': 'um 1488'}\n",
      "{'place': 'Paris', 'GWids': '13051', 'printer': 'Jean Du Pré(?)', 'date': 'um 1488(?)'}\n",
      "{'place': 'Paris', 'GWids': '13065', 'printer': 'Jean Du Pré', 'date': 'um 1488'}\n",
      "{'place': 'Paris', 'GWids': '13066', 'printer': 'Jean Du Pré', 'date': 'nicht vor 1488'}\n",
      "{'place': 'Paris', 'GWids': '13264', 'printer': 'Jean Du Pré', 'date': '10.V.1488'}\n",
      "{'place': 'Paris', 'GWids': '13265', 'printer': 'Jean Du Pré', 'date': '10.V.1488'}\n",
      "{'place': 'Paris', 'GWids': '13067', 'printer': 'Jean Du Pré', 'date': 'vor 19.II.1489'}\n",
      "{'place': 'Paris', 'GWids': '13246', 'printer': 'Jean Du Pré', 'date': '4.II.148889'}\n",
      "{'place': 'Paris', 'GWids': '13267', 'printer': 'Jean Du Pré', 'date': '3.IV.148889', 'bookseller': 'Antoine Vérard'}\n",
      "{'place': 'Paris', 'GWids': '13068', 'printer': 'Jean Du Pré', 'date': 'um 1489'}\n",
      "{'place': 'Paris', 'GWids': '13069', 'printer': 'Jean Du Pré', 'date': '14.II.148990', 'bookseller': 'Denis Meslier'}\n",
      "{'place': 'Paris', 'GWids': '13070', 'printer': 'Jean Du Pré', 'date': 'um 1490'}\n",
      "{'place': 'Paris', 'GWids': '13284', 'printer': 'Jean Du Pré', 'date': '9.XII. um 1490'}\n",
      "{'place': 'Paris', 'GWids': '13114', 'printer': 'Jean Du Pré', 'date': '1490'}\n",
      "{'place': 'Paris', 'GWids': '13071', 'printer': 'Jean Du Pré', 'date': 'um 1491', 'bookseller': 'Antoine Caillaut'}\n",
      "{'place': 'Paris', 'GWids': '13056', 'printer': 'Jean Du Pré(?)', 'date': 'um 1492'}\n",
      "{'place': 'Paris', 'GWids': '13116', 'printer': 'Jean Du Pré', 'date': 'nicht vor 1492(?)'}\n",
      "{'place': 'Paris', 'GWids': '13072', 'printer': 'Jean Du Pré(?)', 'date': 'vor 1493(?)'}\n",
      "{'place': 'Paris', 'GWids': '13094', 'printer': 'Jean Du Pré', 'date': '17.V.1495'}\n",
      "{'place': 'Paris', 'GWids': '13095', 'printer': 'Jean Du Pré', 'date': '20.VI.1495'}\n",
      "{'place': 'Paris', 'GWids': '13098', 'printer': 'Jean Du Pré', 'date': '18.VII.1495'}\n",
      "{'place': 'Paris', 'GWids': '13076', 'printer': 'Jean Du Pré', 'date': '10.III.149596'}\n",
      "{'place': 'Paris', 'GWids': '13061', 'printer': 'Ulrich Gering und Berthold Remboldt', 'date': '16.XII.1494'}\n",
      "{'place': 'Paris', 'GWids': '13062', 'printer': 'Ulrich Gering und Berthold Remboldt', 'date': '15.X. 1496(?)'}\n",
      "{'place': 'Paris', 'GWids': '13245', 'printer': 'Ulrich Gering und Berthold Remboldt', 'date': '8.IX.1498', 'bookseller': 'Simon Vostre'}\n",
      "{'place': 'Paris', 'GWids': '13083', 'printer': 'Ulrich Gering und Berthold Remboldt', 'date': '7.III.149899'}\n",
      "{'place': 'Paris', 'GWids': '13077', 'printer': 'Johann Higman', 'date': 'vor 1497(?)'}\n",
      "{'place': 'Paris', 'GWids': '13080', 'printer': 'Johann Higman', 'date': '1497', 'bookseller': 'Willem Houtmaert in Antwerpen'}\n",
      "{'place': 'Paris', 'GWids': 'Sp. 598a', 'printer': 'Nicolas Higman', 'date': 'nach 1500', 'bookseller': 'Simon Vostre'}\n",
      "{'place': 'Paris', 'GWids': 'Sp. 598b', 'printer': 'Nicolas Higman', 'date': 'nach 1500', 'bookseller': 'Simon Vostre'}\n",
      "{'place': 'Paris', 'GWids': '13086', 'printer': 'Wolfgang Hopyl', 'date': '10.IX.1500'}\n",
      "{'place': 'Paris', 'GWids': '13120', 'printer': 'Etienne Jehannot', 'date': '26.II.149495', 'bookseller': 'Johannes de Campis in Cambrai'}\n",
      "{'place': 'Paris', 'GWids': '13122', 'printer': 'Etienne Jehannot', 'date': 'um 1497'}\n",
      "{'place': 'Paris', 'GWids': '13078', 'printer': 'Etienne Jehannot', 'date': 'um 1497'}\n",
      "{'place': 'Paris', 'GWids': '13193', 'printer': 'Etienne Jehannot', 'date': 'um 1497', 'bookseller': 'Pierre Regnault in Caen'}\n",
      "{'place': 'Paris', 'GWids': '13308', 'printer': 'Etienne Jehannot', 'date': 'um 1497', 'bookseller': 'Antoine Vérard'}\n",
      "{'place': 'Paris', 'GWids': '13046', 'printer': 'Etienne Jehannot', 'date': 'nach 1497(?)'}\n",
      "{'place': 'Paris', 'GWids': '13194', 'printer': 'Etienne Jehannot', 'date': 'um 1497/98'}\n",
      "{'place': 'Paris', 'GWids': '13309', 'printer': 'Etienne Jehannot', 'date': 'um 1497/98', 'bookseller': 'Antoine Vérard'}\n",
      "{'place': 'Paris', 'GWids': '13123', 'printer': 'Etienne Jehannot', 'date': 'um 1497/99'}\n",
      "{'place': 'Paris', 'GWids': '13124', 'printer': 'Etienne Jehannot', 'date': 'um 1497/99'}\n",
      "{'place': 'Paris', 'GWids': '13125', 'printer': 'Etienne Jehannot', 'date': 'um 1497/99', 'bookseller': 'Jean Petit'}\n",
      "{'place': 'Paris', 'GWids': '13127', 'printer': 'Etienne Jehannot', 'date': 'um 1497/99', 'bookseller': 'Pierre Regnault in Caen'}\n",
      "{'place': 'Paris', 'GWids': '13126', 'printer': 'Etienne Jehannot', 'date': 'um 1497/99', 'bookseller': 'Denis Roce'}\n",
      "{'place': 'Paris', 'GWids': '13129', 'printer': 'Etienne Jehannot', 'date': 'um 1497/99'}\n",
      "{'place': 'Paris', 'GWids': '13128', 'printer': 'Etienne Jehannot', 'date': 'um 1497/99'}\n",
      "{'place': 'Paris', 'GWids': '13155', 'printer': 'Etienne Jehannot', 'date': 'um 1497/99', 'bookseller': 'die Brüder de Marnef'}\n",
      "{'place': 'Paris', 'GWids': '13197', 'printer': 'Etienne Jehannot', 'date': '15.VII.1497'}\n",
      "{'place': 'Paris', 'GWids': '13199', 'printer': 'Etienne Jehannot', 'date': '21.VIII.1497'}\n",
      "{'place': 'Paris', 'GWids': '13058', 'printer': 'Etienne Jehannot', 'date': '20.IX.1497', 'bookseller': 'Pierre Pasquier'}\n",
      "{'place': 'Paris', 'GWids': '13200', 'printer': 'Etienne Jehannot', 'date': '20.X.1497'}\n",
      "{'place': 'Paris', 'GWids': '13201', 'printer': 'Etienne Jehannot', 'date': '31.X.1497', 'bookseller': 'Pierre Regnault in Caen'}\n",
      "{'place': 'Paris', 'GWids': '13159', 'printer': 'Etienne Jehannot', 'date': '15.XI.1497'}\n",
      "{'place': 'Paris', 'GWids': '13099', 'printer': 'Etienne Jehannot', 'date': 'um 1498'}\n",
      "{'place': 'Paris', 'GWids': '13272', 'printer': 'Etienne Jehannot', 'date': 'um 1498', 'bookseller': 'Antoine Vérard'}\n",
      "{'place': 'Paris', 'GWids': '13311', 'printer': 'Etienne Jehannot', 'date': 'nicht vor 1498'}\n",
      "{'place': 'Paris', 'GWids': '13214', 'printer': 'Etienne Jehannot', 'date': '15.V.1498', 'bookseller': 'Jean Poitevin'}\n",
      "{'place': 'Paris', 'GWids': '13213', 'printer': 'Etienne Jehannot', 'date': '15.V.1498'}\n",
      "{'place': 'Paris', 'GWids': '13215', 'printer': 'Etienne Jehannot', 'date': '15.V.1498', 'bookseller': 'Jean Poitevin'}\n",
      "{'place': 'Paris', 'GWids': '13313', 'printer': 'Etienne Jehannot', 'date': 'nach 21.VIII.1498', 'bookseller': 'Antoine Vérard'}\n",
      "{'place': 'Paris', 'GWids': '13312', 'printer': 'Etienne Jehannot', 'date': '10.VIII.1498', 'bookseller': 'Antoine Vérard'}\n",
      "{'place': 'Paris', 'GWids': '13162', 'printer': 'Etienne Jehannot', 'date': '31.VIII.1498', 'bookseller': 'Gilles Hardouyn'}\n",
      "{'place': 'Paris', 'GWids': '13164', 'printer': 'Etienne Jehannot', 'date': '27.IX.1498', 'bookseller': 'Jean Poitevin'}\n",
      "{'place': 'Paris', 'GWids': '13224', 'printer': 'Etienne Jehannot', 'date': '20.II.149899', 'bookseller': 'Jean Poitevin'}\n",
      "{'place': 'Paris', 'GWids': '13226', 'printer': 'Etienne Jehannot', 'date': '20.II.149899', 'bookseller': 'Jean Poitevin'}\n",
      "{'place': 'Paris', 'GWids': '13225', 'printer': 'Etienne Jehannot', 'date': '20.II.149899', 'bookseller': 'Jean Poitevin'}\n",
      "{'place': 'Paris', 'GWids': '13295', 'printer': 'Etienne Jehannot', 'date': 'vor 13.X.1499', 'bookseller': 'Antoine Vérard'}\n",
      "{'place': 'Paris', 'GWids': '13227', 'printer': 'Etienne Jehannot', 'date': 'nicht nach 25.X.1499', 'bookseller': 'Antoine Vérard'}\n",
      "{'place': 'Paris', 'GWids': '13235', 'printer': 'Etienne Jehannot', 'date': 'um 1499', 'bookseller': 'Jean Poitevin'}\n",
      "{'place': 'Paris', 'GWids': '13228', 'printer': 'Etienne Jehannot', 'date': 'um 1499', 'bookseller': 'Jean Poitevin'}\n",
      "{'place': 'Paris', 'GWids': '13165', 'printer': 'Etienne Jehannot(?)', 'date': '20.II.14991500'}\n",
      "{'place': 'Paris', 'GWids': '13278', 'printer': 'Etienne Jehannot', 'date': 'um 1500'}\n",
      "{'place': 'Paris', 'GWids': '13167', 'printer': 'Etienne Jehannot', 'date': 'um 1500'}\n",
      "{'place': 'Paris', 'GWids': '13299', 'printer': 'Etienne Jehannot oder Jean Jehannot', 'date': 'nicht vor 1500'}\n",
      "{'place': 'Paris', 'GWids': '13211', 'printer': 'Jean Jehannot', 'date': '1498', 'bookseller': 'Nicolaus Lecomte'}\n",
      "{'place': 'Paris', 'GWids': '13047', 'printer': 'Thielmann Kerver', 'date': '4.V.1498', 'bookseller': 'Robert Macé in Caen'}\n",
      "{'place': 'Paris', 'GWids': '13163', 'printer': 'Thielmann Kerver', 'date': '26.IX.1498'}\n",
      "{'place': 'Paris', 'GWids': '13298', 'printer': 'Thielmann Kerver', 'date': '28.X.1498'}\n",
      "{'place': 'Paris', 'GWids': '13100', 'printer': 'Thielmann Kerver', 'date': '9.IV.1499'}\n",
      "{'place': 'Paris', 'GWids': '13285', 'printer': 'Thielmann Kerver', 'date': '16.IX.1499', 'bookseller': 'Gilles Remacle'}\n",
      "{'place': 'Paris', 'GWids': '13102', 'printer': 'Thielmann Kerver', 'date': '7.X.1499', 'bookseller': 'Hugues Pageot in Dijon'}\n",
      "{'place': 'Paris', 'GWids': '13286', 'printer': 'Thielmann Kerver', 'date': 'um 1500', 'bookseller': 'Guillaume Eustace'}\n",
      "{'place': 'Paris', 'GWids': '13171', 'printer': 'Thielmann Kerver', 'date': '12.II.1500'}\n",
      "{'place': 'Paris', 'GWids': '13237', 'printer': 'Thielmann Kerver', 'date': '15.III.1500'}\n",
      "{'place': 'Paris', 'GWids': '13288', 'printer': 'Thielmann Kerver', 'date': '29.V.1500', 'bookseller': 'Jean Petit in Paris und Pierre Cochery in Le Mans'}\n",
      "{'place': 'Paris', 'GWids': '13301', 'printer': 'Thielmann Kerver', 'date': '20.VI.1500', 'bookseller': 'Guillaume Eustace'}\n",
      "{'place': 'Paris', 'GWids': '13169', 'printer': 'Thielmann Kerver', 'date': '26.VI.1500', 'bookseller': 'Gilles Remacle'}\n",
      "{'place': 'Paris', 'GWids': '13170', 'printer': 'Thielmann Kerver', 'date': '9.VIII. nach 1500(?)', 'bookseller': 'Gauche Preta in Châlons'}\n",
      "{'place': 'Paris', 'GWids': '13168', 'printer': 'Thielmann Kerver', 'date': '24.X. 1500(?)'}\n",
      "{'place': 'Paris', 'GWids': '13315', 'printer': 'Thielmann Kerver', 'date': '14.XI. 1500(?)', 'bookseller': 'sich selbst, Gilles Remacle und Guillaume Eustace'}\n",
      "{'place': 'Paris', 'GWids': 'Sp. 646a', 'printer': 'Thielmann Kerver', 'date': 'nach 1500'}\n",
      "{'place': 'Paris', 'GWids': '13104', 'printer': 'Thielmann Kerver', 'date': '5.I.150001', 'bookseller': 'Gilles Remacle'}\n",
      "{'place': 'Paris', 'GWids': '13107', 'printer': 'Thielmann Kerver', 'date': '3.II.150001', 'bookseller': 'Gilles Remacle'}\n",
      "{'place': 'Paris', 'GWids': '13108', 'printer': 'Thielmann Kerver', 'date': '8.II.150001', 'bookseller': 'Gilles Remacle'}\n",
      "{'place': 'Paris', 'GWids': '13109', 'printer': 'Thielmann Kerver', 'date': '15.III.150001', 'bookseller': 'Gilles Remacle'}\n",
      "{'place': 'Paris', 'GWids': '13244', 'printer': 'Thielmann Kerver', 'date': '15.III.150001', 'bookseller': 'Guillaume Eustace'}\n",
      "{'place': 'Paris', 'GWids': '13110', 'printer': 'Thielmann Kerver', 'date': '10.IV.150001'}\n",
      "{'place': 'Paris', 'GWids': 'Sp. 519a', 'printer': 'Thielmann Kerver', 'date': '5.VIII.1502', 'bookseller': 'Gilles Remacle'}\n",
      "{'place': 'Paris', 'GWids': '13079', 'printer': 'Pierre Le Dru und Etienne Jehannot', 'date': 'um 1497'}\n",
      "{'place': 'Paris', 'GWids': '13081', 'printer': 'Pierre Le Dru und Etienne Jehannot', 'date': 'vor 27.IX.1498', 'bookseller': 'Robin Challot'}\n",
      "{'place': 'Paris', 'GWids': '13166', 'printer': 'Pierre Le Dru(?)', 'date': '8.III.14991500', 'bookseller': 'Jean Poitevin'}\n",
      "{'place': 'Paris', 'GWids': 'Sp. 553c', 'printer': 'Pierre Le Dru(?)', 'date': 'um 1502/03', 'bookseller': 'Jean Poitevin'}\n",
      "{'place': 'Paris', 'GWids': 'Sp. 553b', 'printer': 'Guillaume Le Rouge', 'date': 'nicht vor 1502', 'bookseller': 'Antoine Vérard'}\n",
      "{'place': 'Paris', 'GWids': '13087', 'printer': 'Pierre Le Rouge', 'date': 'um 1490'}\n",
      "{'place': 'Paris', 'GWids': '13041', 'printer': 'Pierre Le Rouge(?)', 'date': 'um 1490', 'bookseller': 'Antoine Vérard'}\n",
      "{'place': 'Paris', 'GWids': '13268', 'printer': 'Pierre Le Rouge(?)', 'date': '20.VIII.1490', 'bookseller': 'Antoine Vérard'}\n",
      "{'place': 'Paris', 'GWids': '13271', 'printer': 'Pierre Le Rouge', 'date': '9.V.1491', 'bookseller': 'Vincent Commin'}\n",
      "{'place': 'Paris', 'GWids': '13173', 'printer': 'Pierre Levet', 'date': '20.II.148889', 'bookseller': 'Antoine Vérard'}\n",
      "{'place': 'Paris', 'GWids': '13089', 'printer': 'Guy Marchant', 'date': '5.I.148990', 'bookseller': 'Antoine Vérard'}\n",
      "{'place': 'Paris', 'GWids': '13059', 'printer': 'Guy Marchant', 'date': 'um 1490', 'bookseller': 'Antoine Vérard(?)'}\n",
      "{'place': 'Paris', 'GWids': '13174', 'printer': 'Denis Meslier', 'date': 'um 1490'}\n",
      "{'place': 'Paris', 'GWids': '13270', 'printer': 'Denis Meslier', 'date': '8.V. um 1491/92'}\n",
      "{'place': 'Paris', 'GWids': '13269', 'printer': 'Denis Meslier', 'date': 'um 1491'}\n",
      "{'place': 'Paris', 'GWids': '13137', 'printer': 'Jean Morand(?)', 'date': '2.VII.1492', 'bookseller': 'Jean de Coulonces bzw. Robin Challot'}\n",
      "{'place': 'Paris', 'GWids': '13149', 'printer': 'Jean Morand(?)', 'date': 'um 1493(?)'}\n",
      "{'place': 'Paris', 'GWids': '13117', 'printer': 'Jean Morand', 'date': '12.II.149293', 'bookseller': 'Geoffroi de Marnef'}\n",
      "{'place': 'Paris', 'GWids': '13118', 'printer': 'Jean Morand', 'date': '7.III.149293', 'bookseller': 'Enguilbert de Marnef und Jean Alexandre'}\n",
      "{'place': 'Paris', 'GWids': '13151', 'printer': 'Jean Morand', 'date': '20.VI.1493', 'bookseller': 'Geoffroi de Marnef'}\n",
      "{'place': 'Paris', 'GWids': '13152', 'printer': 'Jean Morand', 'date': '13.VIII.1493', 'bookseller': 'Geoffroi de Marnef'}\n",
      "{'place': 'Paris', 'GWids': '13097', 'printer': 'Jean Morand(?)', 'date': '8.VII.1495', 'bookseller': 'Antoine Vérard'}\n",
      "{'place': 'Paris', 'GWids': '13096', 'printer': 'Jean Morand(?)', 'date': '8.VII.1495', 'bookseller': 'Antoine Vérard'}\n",
      "{'place': 'Paris', 'GWids': '13275', 'printer': 'Jean Morand', 'date': '22.X.1498', 'bookseller': 'Antoine Vérard'}\n",
      "{'place': 'Paris', 'GWids': '13119', 'printer': 'Laurent Philippe', 'date': '10.VII.1493'}\n",
      "{'place': 'Paris', 'GWids': '13156', 'printer': 'Johann Philippi', 'date': '1497', 'bookseller': 'Thielmann Kerver in Paris und Jean Richard in Rouen'}\n",
      "{'place': 'Paris', 'GWids': '13157', 'printer': 'Johann Philippi', 'date': '27.VI.1497', 'bookseller': 'Thielmann Kerver'}\n",
      "{'place': 'Paris', 'GWids': '13158', 'printer': 'Johann Philippi', 'date': '15.VII.1497', 'bookseller': 'Thielmann Kerver'}\n",
      "{'place': 'Paris', 'GWids': '13297', 'printer': 'Johann Philippi', 'date': '20.XII.1497', 'bookseller': 'Thielmann Kerver'}\n",
      "{'place': 'Paris', 'GWids': '13160', 'printer': 'Johann Philippi', 'date': '16.I.149798', 'bookseller': 'Jacques Bezanceau in Poitiers und Thielmann Kerver in Paris'}\n",
      "{'place': 'Paris', 'GWids': '13130', 'printer': 'Johann Philippi', 'date': 'nicht vor 1500'}\n",
      "{'place': 'Paris', 'GWids': '13145', 'printer': 'Philippe Pigouchet', 'date': 'um 1491/92', 'bookseller': 'die Brüder de Marnef'}\n",
      "{'place': 'Paris', 'GWids': '13042', 'printer': 'Philippe Pigouchet', 'date': '1491', 'bookseller': 'Simon Vostre'}\n",
      "{'place': 'Paris', 'GWids': '13290', 'printer': 'Philippe Pigouchet', 'date': '11.VII.1491', 'bookseller': 'Simon Vostre'}\n",
      "{'place': 'Paris', 'GWids': '13146', 'printer': 'Philippe Pigouchet', 'date': '5.VIII.1491', 'bookseller': 'Simon Vostre'}\n",
      "{'place': 'Paris', 'GWids': '13147', 'printer': 'Philippe Pigouchet z.T.', 'date': '1.XII.1491', 'bookseller': 'die Brüder de Marnef'}\n",
      "{'place': 'Paris', 'GWids': '13090', 'printer': 'Philippe Pigouchet', 'date': '24.XII.1491', 'bookseller': 'Simon Vostre'}\n",
      "{'place': 'Paris', 'GWids': '13291', 'printer': 'Philippe Pigouchet', 'date': '5.I.149192', 'bookseller': 'Simon Vostre'}\n",
      "{'place': 'Paris', 'GWids': '13292', 'printer': 'Philippe Pigouchet', 'date': '20.I.149192', 'bookseller': 'Simon Vostre'}\n",
      "{'place': 'Paris', 'GWids': '13132', 'printer': 'Philippe Pigouchet', 'date': '21.II.149192'}\n",
      "{'place': 'Paris', 'GWids': '13148', 'printer': 'Philippe Pigouchet', 'date': '1.III.149192', 'bookseller': 'Simon Vostre'}\n",
      "{'place': 'Paris', 'GWids': '13293', 'printer': 'Philippe Pigouchet', 'date': '13.III.149192', 'bookseller': 'Simon Vostre'}\n",
      "{'place': 'Paris', 'GWids': '13135', 'printer': 'Philippe Pigouchet', 'date': 'um 1492'}\n",
      "{'place': 'Paris', 'GWids': '13133', 'printer': 'Philippe Pigouchet', 'date': 'um 1492'}\n",
      "{'place': 'Paris', 'GWids': '13134', 'printer': 'Philippe Pigouchet', 'date': 'um 1492'}\n",
      "{'place': 'Paris', 'GWids': '13043', 'printer': 'Philippe Pigouchet', 'date': 'um 1492', 'bookseller': 'Simon Vostre'}\n",
      "{'place': 'Paris', 'GWids': '13175', 'printer': 'Philippe Pigouchet', 'date': 'um 1492/93'}\n",
      "{'place': 'Paris', 'GWids': '13136', 'printer': 'Philippe Pigouchet', 'date': '7.V.1492', 'bookseller': 'Simon Vostre'}\n",
      "{'place': 'Paris', 'GWids': '13091', 'printer': 'Philippe Pigouchet', 'date': '8.V.1492', 'bookseller': 'Simon Vostre'}\n",
      "{'place': 'Paris', 'GWids': '13044', 'printer': 'Philippe Pigouchet', 'date': '17.XI.1492', 'bookseller': 'Simon Vostre'}\n",
      "{'place': 'Paris', 'GWids': '13138', 'printer': 'Philippe Pigouchet', 'date': '22.II.149293', 'bookseller': 'Simon Vostre'}\n",
      "{'place': 'Paris', 'GWids': '13139', 'printer': 'Philippe Pigouchet', 'date': '11.III.149293', 'bookseller': 'Pierre Regnault in Caen'}\n",
      "{'place': 'Paris', 'GWids': '13150', 'printer': 'Philippe Pigouchet', 'date': 'um 1493', 'bookseller': 'sich selbst und die Brüder de Marnef'}\n",
      "{'place': 'Paris', 'GWids': '13073', 'printer': 'Philippe Pigouchet', 'date': 'um 1493'}\n",
      "{'place': 'Paris', 'GWids': '13294', 'printer': 'Philippe Pigouchet', 'date': '2.VIII.1493', 'bookseller': 'Simon Vostre'}\n",
      "{'place': 'Paris', 'GWids': '13153', 'printer': 'Philippe Pigouchet', 'date': '22.VIII.1493', 'bookseller': 'Simon Vostre'}\n",
      "{'place': 'Paris', 'GWids': '13060', 'printer': 'Philippe Pigouchet', 'date': '26.IX.1493', 'bookseller': 'Toussaint de Montjay'}\n",
      "{'place': 'Paris', 'GWids': '13140', 'printer': 'Philippe Pigouchet', 'date': '4.XII.1493', 'bookseller': 'Simon Vostre'}\n",
      "{'place': 'Paris', 'GWids': '13176', 'printer': 'Philippe Pigouchet', 'date': '1494', 'bookseller': 'Jean Richard in Rouen'}\n",
      "{'place': 'Paris', 'GWids': '13177', 'printer': 'Philippe Pigouchet', 'date': '19.IV.1494'}\n",
      "{'place': 'Paris', 'GWids': '13178', 'printer': 'Philippe Pigouchet', 'date': '2.VI.1494', 'bookseller': 'Simon Vostre'}\n",
      "{'place': 'Paris', 'GWids': '13179', 'printer': 'Philippe Pigouchet', 'date': '21.VIII.1494', 'bookseller': 'Simon Vostre'}\n",
      "{'place': 'Paris', 'GWids': '13154', 'printer': 'Philippe Pigouchet', 'date': '23.X.1494', 'bookseller': 'Simon Vostre'}\n",
      "{'place': 'Paris', 'GWids': '13180', 'printer': 'Philippe Pigouchet', 'date': '9.XII.1494'}\n",
      "{'place': 'Paris', 'GWids': '13181', 'printer': 'Philippe Pigouchet', 'date': '20.XII.1494'}\n",
      "{'place': 'Paris', 'GWids': '13183', 'printer': 'Philippe Pigouchet', 'date': '1495', 'bookseller': 'Jean Du Bois in Auxerre(?)'}\n",
      "{'place': 'Paris', 'GWids': '13182', 'printer': 'Philippe Pigouchet', 'date': '13.III.149495', 'bookseller': 'Simon Vostre'}\n",
      "{'place': 'Paris', 'GWids': '13074', 'printer': 'Philippe Pigouchet', 'date': '4.VII.1495', 'bookseller': 'Simon Vostre'}\n",
      "{'place': 'Paris', 'GWids': '13184', 'printer': 'Philippe Pigouchet', 'date': '30.VII.1495', 'bookseller': 'Toussaint de Montjay'}\n",
      "{'place': 'Paris', 'GWids': '13075', 'printer': 'Philippe Pigouchet', 'date': 'August/September 1495'}\n",
      "{'place': 'Paris', 'GWids': '13306', 'printer': 'Philippe Pigouchet', 'date': '6.X.1495', 'bookseller': 'Simon Vostre'}\n",
      "{'place': 'Paris', 'GWids': '13185', 'printer': 'Philippe Pigouchet', 'date': '13.XI.1495', 'bookseller': 'Simon Vostre'}\n",
      "{'place': 'Paris', 'GWids': '13248', 'printer': 'Philippe Pigouchet', 'date': '31.XII.1495', 'bookseller': 'Simon Vostre'}\n",
      "{'place': 'Paris', 'GWids': '13186', 'printer': 'Philippe Pigouchet', 'date': '13.II.149596', 'bookseller': 'Simon Vostre'}\n",
      "{'place': 'Paris', 'GWids': '13187', 'printer': 'Philippe Pigouchet', 'date': '22.V.1496', 'bookseller': 'Simon Vostre'}\n",
      "{'place': 'Paris', 'GWids': '13045', 'printer': 'Philippe Pigouchet', 'date': '20.VII.1496', 'bookseller': 'Macé Panthoul in Troyes'}\n",
      "{'place': 'Paris', 'GWids': '13249', 'printer': 'Philippe Pigouchet', 'date': '20.VIII.1496', 'bookseller': 'Simon Vostre'}\n",
      "{'place': 'Paris', 'GWids': '13307', 'printer': 'Philippe Pigouchet', 'date': '17.IX.1496', 'bookseller': 'Simon Vostre'}\n",
      "{'place': 'Paris', 'GWids': '13188', 'printer': 'Philippe Pigouchet', 'date': '19.XII.1496', 'bookseller': 'Simon Vostre'}\n",
      "{'place': 'Paris', 'GWids': '13189', 'printer': 'Philippe Pigouchet', 'date': '23.I.149697', 'bookseller': 'Simon Vostre'}\n",
      "{'place': 'Paris', 'GWids': '13190', 'printer': 'Philippe Pigouchet', 'date': '23.I.149697', 'bookseller': 'Simon Vostre'}\n",
      "{'place': 'Paris', 'GWids': '13191', 'printer': 'Philippe Pigouchet', 'date': '15.II.149697', 'bookseller': 'Simon Vostre'}\n",
      "{'place': 'Paris', 'GWids': '13192', 'printer': 'Philippe Pigouchet', 'date': '15.II.149697', 'bookseller': 'Simon Vostre'}\n",
      "{'place': 'Paris', 'GWids': '13250', 'printer': 'Philippe Pigouchet', 'date': '20.III.149697 und 17.IV.1497', 'bookseller': 'Simon Vostre'}\n",
      "{'place': 'Paris', 'GWids': '13251', 'printer': 'Philippe Pigouchet', 'date': 'um 1497', 'bookseller': 'Simon Vostre'}\n",
      "{'place': 'Paris', 'GWids': '13195', 'printer': 'Philippe Pigouchet', 'date': '17.IV.1497(?)', 'bookseller': 'Simon Vostre'}\n",
      "{'place': 'Paris', 'GWids': '13252', 'printer': 'Philippe Pigouchet', 'date': '9.VI.1497', 'bookseller': 'Simon Vostre'}\n",
      "{'place': 'Paris', 'GWids': '13196', 'printer': 'Philippe Pigouchet', 'date': '7.VII.1497', 'bookseller': 'Simon Vostre'}\n",
      "{'place': 'Paris', 'GWids': '13198', 'printer': 'Philippe Pigouchet', 'date': '8.VIII.1497', 'bookseller': 'Simon Vostre'}\n",
      "{'place': 'Paris', 'GWids': '13310', 'printer': 'Philippe Pigouchet', 'date': '4.XI.1497', 'bookseller': 'Simon Vostre'}\n",
      "{'place': 'Paris', 'GWids': '13202', 'printer': 'Philippe Pigouchet', 'date': '16.XI.1497'}\n",
      "{'place': 'Paris', 'GWids': '13203', 'printer': 'Philippe Pigouchet', 'date': '21.XI.1497', 'bookseller': 'Simon Vostre'}\n",
      "{'place': 'Paris', 'GWids': '13204', 'printer': 'Philippe Pigouchet', 'date': '21.XI.14 97/98(?)', 'bookseller': 'Simon Vostre'}\n",
      "{'place': 'Paris', 'GWids': '13205', 'printer': 'Philippe Pigouchet', 'date': '4.XII.1497', 'bookseller': 'Simon Vostre'}\n",
      "{'place': 'Paris', 'GWids': '13206', 'printer': 'Philippe Pigouchet', 'date': '23.XII.1497', 'bookseller': 'Simon Vostre'}\n",
      "{'place': 'Paris', 'GWids': '13208', 'printer': 'Philippe Pigouchet', 'date': '25.II.149798', 'bookseller': 'Simon Vostre'}\n",
      "{'place': 'Paris', 'GWids': '13207', 'printer': 'Philippe Pigouchet', 'date': '25.II.149798', 'bookseller': 'Simon Vostre'}\n",
      "{'place': 'Paris', 'GWids': '13209', 'printer': 'Philippe Pigouchet', 'date': '6.III.149798', 'bookseller': 'Simon Vostre'}\n",
      "{'place': 'Paris', 'GWids': '13141', 'printer': 'Philippe Pigouchet', 'date': 'um 1498'}\n",
      "{'place': 'Paris', 'GWids': '13082', 'printer': 'Philippe Pigouchet', 'date': 'um 1498'}\n",
      "{'place': 'Paris', 'GWids': '13212', 'printer': 'Philippe Pigouchet', 'date': '30.IV.1498', 'bookseller': 'Simon Vostre'}\n",
      "{'place': 'Paris', 'GWids': '13216', 'printer': 'Philippe Pigouchet', 'date': '16.V.1498', 'bookseller': 'Simon Vostre'}\n",
      "{'place': 'Paris', 'GWids': '13217', 'printer': 'Philippe Pigouchet', 'date': '9.VI.1498', 'bookseller': 'Simon Vostre'}\n",
      "{'place': 'Paris', 'GWids': '13220', 'printer': 'Philippe Pigouchet', 'date': '8.VIII.1498', 'bookseller': 'Simon Vostre'}\n",
      "{'place': 'Paris', 'GWids': '13219', 'printer': 'Philippe Pigouchet', 'date': '8.VIII.1498', 'bookseller': 'Simon Vostre'}\n",
      "{'place': 'Paris', 'GWids': '13218', 'printer': 'Philippe Pigouchet', 'date': '8.VIII.1498', 'bookseller': 'Simon Vostre'}\n",
      "{'place': 'Paris', 'GWids': '13210', 'printer': 'Philippe Pigouchet', 'date': 'vor 22.VIII.1498'}\n",
      "{'place': 'Paris', 'GWids': '13314', 'printer': 'Philippe Pigouchet', 'date': '22.VIII.1498', 'bookseller': 'Simon Vostre'}\n",
      "{'place': 'Paris', 'GWids': '13253', 'printer': 'Philippe Pigouchet', 'date': '16.IX.1498', 'bookseller': 'Simon Vostre'}\n",
      "{'place': 'Paris', 'GWids': '13254', 'printer': 'Philippe Pigouchet', 'date': '16.IX.1498', 'bookseller': 'Simon Vostre'}\n",
      "{'place': 'Paris', 'GWids': '13221', 'printer': 'Philippe Pigouchet', 'date': '8.XI.1498', 'bookseller': 'Jean Magdalene in Metz'}\n",
      "{'place': 'Paris', 'GWids': '13222', 'printer': 'Philippe Pigouchet', 'date': '23.XI.1498', 'bookseller': 'Simon Vostre'}\n",
      "{'place': 'Paris', 'GWids': '13223', 'printer': 'Philippe Pigouchet', 'date': '11.XII.1498', 'bookseller': 'Simon Vostre'}\n",
      "{'place': 'Paris', 'GWids': '13255', 'printer': 'Philippe Pigouchet', 'date': 'um 1499'}\n",
      "{'place': 'Paris', 'GWids': '13229', 'printer': 'Philippe Pigouchet', 'date': '19.IV.1499', 'bookseller': 'Simon Vostre'}\n",
      "{'place': 'Paris', 'GWids': '13230', 'printer': 'Philippe Pigouchet', 'date': '12.VI.1499', 'bookseller': 'Simon Vostre'}\n",
      "{'place': 'Paris', 'GWids': '13048', 'printer': 'Philippe Pigouchet', 'date': '6.VII.1499', 'bookseller': 'Simon Vostre'}\n",
      "{'place': 'Paris', 'GWids': '13256', 'printer': 'Philippe Pigouchet', 'date': '15.X.1499', 'bookseller': 'Simon Vostre'}\n",
      "{'place': 'Paris', 'GWids': '13257', 'printer': 'Philippe Pigouchet', 'date': '22.XI.1499', 'bookseller': 'Simon Vostre'}\n",
      "{'place': 'Paris', 'GWids': '13232', 'printer': 'Philippe Pigouchet', 'date': '20.XII.1499', 'bookseller': 'Simon Vostre'}\n",
      "{'place': 'Paris', 'GWids': '13231', 'printer': 'Philippe Pigouchet', 'date': '20.XII.1499', 'bookseller': 'Jean Lagache in Arras'}\n",
      "{'place': 'Paris', 'GWids': '1314110', 'printer': 'Philippe Pigouchet', 'date': '20.I.14991500', 'bookseller': 'Macé Panthoul in Troyes'}\n",
      "{'place': 'Paris', 'GWids': '13233', 'printer': 'Philippe Pigouchet', 'date': '11.II.14991500'}\n",
      "{'place': 'Paris', 'GWids': '13236', 'printer': 'Philippe Pigouchet', 'date': 'um 1500'}\n",
      "{'place': 'Paris', 'GWids': '13260', 'printer': 'Philippe Pigouchet', 'date': 'um 1500', 'bookseller': 'Simon Vostre'}\n",
      "{'place': 'Paris', 'GWids': '13318', 'printer': 'Philippe Pigouchet', 'date': 'um 1500', 'bookseller': 'Simon Vostre'}\n",
      "{'place': 'Paris', 'GWids': '13259', 'printer': 'Philippe Pigouchet', 'date': 'um 1500', 'bookseller': 'Simon Vostre'}\n",
      "{'place': 'Paris', 'GWids': '13084', 'printer': 'Philippe Pigouchet', 'date': '25.IV.1500', 'bookseller': 'Simon Vostre'}\n",
      "{'place': 'Paris', 'GWids': '13085', 'printer': 'Philippe Pigouchet', 'date': '25.IV.1500', 'bookseller': 'Simon Vostre'}\n",
      "{'place': 'Paris', 'GWids': '13238', 'printer': 'Philippe Pigouchet', 'date': '28.IV.1500', 'bookseller': 'Simon Vostre'}\n",
      "{'place': 'Paris', 'GWids': '13239', 'printer': 'Philippe Pigouchet', 'date': '28.IV.1500', 'bookseller': 'Simon Vostre'}\n",
      "{'place': 'Paris', 'GWids': '13240', 'printer': 'Philippe Pigouchet', 'date': '25.VI.1500', 'bookseller': 'Simon Vostre'}\n",
      "{'place': 'Paris', 'GWids': '13241', 'printer': 'Philippe Pigouchet', 'date': '28.VI.1500', 'bookseller': 'Simon Vostre'}\n",
      "{'place': 'Paris', 'GWids': '13242', 'printer': 'Philippe Pigouchet', 'date': '27.VII.1500', 'bookseller': 'Simon Vostre'}\n",
      "{'place': 'Paris', 'GWids': '13243', 'printer': 'Philippe Pigouchet', 'date': '12.X.1500'}\n",
      "{'place': 'Paris', 'GWids': '13262', 'printer': 'Philippe Pigouchet', 'date': '13.II.150001(?)', 'bookseller': 'Narcisse Bruno'}\n",
      "{'place': 'Paris', 'GWids': '13263', 'printer': 'Philippe Pigouchet', 'date': 'nach 1500(?)', 'bookseller': 'Simon Vostre'}\n",
      "{'place': 'Paris', 'GWids': 'Sp. 599a', 'printer': 'Philippe Pigouchet', 'date': 'nicht vor 1501', 'bookseller': 'Simon Vostre'}\n",
      "{'place': 'Paris', 'GWids': '13273', 'printer': 'Jean Poitevin', 'date': '2.VII.1498'}\n",
      "{'place': 'Paris', 'GWids': '13274', 'printer': 'Jean Poitevin', 'date': '15.X.1498'}\n",
      "{'place': 'Paris', 'GWids': 'Sp. 633b', 'printer': 'Pierre Roffet', 'date': 'nicht vor 1524'}\n",
      "{'place': 'Paris', 'GWids': '13121', 'printer': 'Michel Toulouse', 'date': '3.III. nicht nach 1496'}\n",
      "{'place': 'Paris', 'GWids': '13088', 'printer': 'Antoine Vérard', 'date': '27.II.148788'}\n",
      "{'place': 'Paris', 'GWids': '13279', 'printer': 'Antoine Vérard', 'date': 'um 1488/90'}\n",
      "{'place': 'Paris', 'GWids': '13112', 'printer': 'Antoine Vérard', 'date': '20.X.1489'}\n",
      "{'place': 'Paris', 'GWids': '13113', 'printer': 'Antoine Vérard', 'date': '20.II.148990'}\n",
      "{'place': 'Paris', 'GWids': '13317', 'printer': 'Antoine Vérard', 'date': '10.IV.148990'}\n",
      "{'place': 'Paris', 'GWids': '13280', 'printer': 'Antoine Vérard', 'date': 'um 1490'}\n",
      "{'place': 'Paris', 'GWids': '13281', 'printer': 'Antoine Vérard', 'date': 'um 1490'}\n",
      "{'place': 'Paris', 'GWids': '13282', 'printer': 'Antoine Vérard', 'date': 'um 1490'}\n",
      "{'place': 'Paris', 'GWids': '13283', 'printer': 'Antoine Vérard', 'date': 'um 1490'}\n",
      "{'place': 'Paris', 'GWids': '13247', 'printer': 'Antoine Vérard', 'date': 'um 1490'}\n",
      "{'place': 'Paris', 'GWids': '13296', 'printer': 'Antoine Vérard', 'date': 'um 1490'}\n",
      "{'place': 'Paris', 'GWids': '13115', 'printer': 'Antoine Vérard', 'date': '20.VII.1490'}\n",
      "{'place': 'Paris', 'GWids': '13277', 'printer': 'Antoine Vérard', 'date': 'vor 25.X.1499'}\n",
      "{'place': 'Paris', 'GWids': '13276', 'printer': 'Antoine Vérard', 'date': 'vor 25.X.1499'}\n",
      "{'place': 'Paris', 'GWids': '13287', 'printer': 'Antoine Vérard(?)', 'date': 'um 1500(?)'}\n",
      "{'place': 'Paris', 'GWids': 'Sp. 599b', 'date': 'nach 1500', 'bookseller': 'Antoine Vérard(?)'}\n",
      "{'place': 'Paris', 'GWids': 'Sp. 646b', 'date': '18.VIII.1502', 'bookseller': 'Antoine Vérard'}\n",
      "{'place': 'Paris', 'GWids': 'Sp. 612a', 'date': 'nach 1500', 'bookseller': 'Simon Vostre'}\n",
      "{'place': 'Paris', 'GWids': 'Sp. 486a', 'date': 'nicht vor 1512', 'bookseller': 'Simon Vostre'}\n",
      "{'place': 'Paris', 'GWids': '13052', 'printer': 'Georg Wolff', 'date': 'um 1490'}\n",
      "{'place': 'Paris', 'GWids': '13305', 'printer': 'Georg Wolff und Johann Philippi', 'date': '20.IX.1494'}\n",
      "{'place': 'Paris', 'GWids': '13161', 'printer': 'Georg Wolff und Thielmann Kerver', 'date': '28.VI.1498', 'bookseller': 'Geoffroi de Marnef'}\n",
      "{'place': 'Paris', 'GWids': '13101', 'printer': 'Georg Wolff und Thielmann Kerver', 'date': '26.IV.1499'}\n",
      "{'place': 'Paris oder Rouen', 'GWids': '13057', 'printer': 'Drucker des Breviarium Rothomagense (GW 5437)', 'date': 'um 1480'}\n",
      "{'place': 'Paris oder Rouen', 'GWids': '13093', 'printer': 'Drucker der Horae ad usum Sarum (GW 13093)', 'date': '1495'}\n",
      "{'place': 'Poitiers', 'GWids': '13319', 'printer': 'Jean Bouyer', 'date': 'um 1479'}\n",
      "{'place': 'Poitiers', 'GWids': '13320', 'printer': 'Jean Bouyer und Pierre Bellescullée', 'date': 'um 1489'}\n",
      "{'place': 'Reutlingen', 'GWids': '12987', 'printer': 'Michael Greyff', 'date': '1492'}\n",
      "{'place': 'Rom', 'GWids': '13352', 'printer': 'Johann Bulle', 'date': 'um 1478/79'}\n",
      "{'place': 'Rom', 'GWids': '13353', 'printer': 'Georg Herolt', 'date': '17.III.1481'}\n",
      "{'place': 'Rom', 'GWids': '13351', 'printer': 'Theobald Schenkbecher', 'date': 'um 1473'}\n",
      "{'place': 'Rouen', 'GWids': '13321', 'printer': 'ohne Drucker', 'date': 'um 1494(?)'}\n",
      "{'place': 'Rouen', 'GWids': '13325', 'printer': 'Jean Le Bourgeois', 'date': 'um 1499'}\n",
      "{'place': 'Rouen', 'GWids': '13322', 'printer': 'Jacques Le Forestier', 'date': '4.X.1494'}\n",
      "{'place': 'Rouen', 'GWids': '13323', 'printer': 'Jacques Le Forestier', 'date': 'um 1498'}\n",
      "{'place': 'Rouen', 'GWids': '13324', 'printer': 'Jacques Le Forestier', 'date': '30.V.1498', 'bookseller': 'Robert Macé in Caen'}\n",
      "{'place': 'Schoonhoven', 'GWids': '13437', 'printer': 'Fratres apud S. Michaelem in den Hem', 'date': '5.X.1496'}\n",
      "{'place': 'Schoonhoven', 'GWids': '13438', 'printer': 'Fratres apud S. Michaelem in den Hem', 'date': '28.III.1498'}\n",
      "{'place': 'Schoonhoven', 'GWids': '13414', 'printer': 'Fratres apud S. Michaelem in den Hem', 'date': '12.III.1500'}\n",
      "{'place': 'Schoonhoven', 'GWids': '13415', 'printer': 'Fratres apud S. Michaelem in den Hem', 'date': 'nach 1500(?)'}\n",
      "{'place': 'Schoonhoven', 'GWids': '13416', 'printer': 'Fratres apud S. Michaelem in den Hem', 'date': 'nach 1500(?)'}\n",
      "{'place': 'Speyer', 'GWids': '12966', 'printer': 'Peter Drach d.M.', 'date': '21.I.1488'}\n",
      "{'place': 'Strassburg', 'GWids': '12967', 'printer': 'Drucker des Henricus Ariminensis (Georg Reyser)', 'date': 'um 1478'}\n",
      "{'place': 'Strassburg', 'GWids': '12968', 'printer': 'Johann Grüninger', 'date': 'nicht nach 1496'}\n",
      "{'place': 'Strassburg', 'GWids': '12970', 'printer': 'Johann Grüninger', 'date': 'nach 28.III. 1498'}\n",
      "{'place': 'Strassburg', 'GWids': '12971', 'printer': 'Johann Grüninger', 'date': '1500'}\n",
      "{'place': 'Strassburg', 'GWids': '12972', 'printer': 'Johann Grüninger', 'date': '31.I.1500'}\n",
      "{'place': 'Strassburg', 'GWids': '12969', 'printer': 'Wilhelm Schaffener', 'date': '13.III.1498'}\n",
      "{'place': 'Strassburg', 'GWids': '12973', 'printer': 'Wilhelm Schaffener', 'date': '15.III.1500'}\n",
      "{'place': 'Stuttgart', 'GWids': '12974', 'printer': 'Drucker der Erwählung Maximilians (H 10929)', 'date': 'um 1486'}\n",
      "{'place': 'Tours', 'GWids': '13326', 'printer': 'Mathieu Latheron auf Veranlassung von Jean Turreau', 'date': '7.V.1496'}\n",
      "{'place': 'Troyes', 'GWids': '13327', 'printer': 'Guillaume Le Rouge', 'date': '31.I.149394'}\n",
      "{'place': 'Turin', 'GWids': '13354', 'printer': 'Jacobinus Suigus und Nicolaus de Benedictis', 'date': '31.I.1495'}\n",
      "{'place': 'Ulm', 'GWids': '12989', 'printer': 'Konrad Dinckmut', 'date': 'um 1480'}\n",
      "{'place': 'Ulm', 'GWids': '12990', 'printer': 'Konrad Dinckmut', 'date': '1484'}\n",
      "{'place': 'Ulm', 'GWids': '12976', 'printer': 'Konrad Dinckmut', 'date': 'nicht nach 1485'}\n",
      "{'place': 'Ulm', 'GWids': '12977', 'printer': 'Konrad Dinckmut', 'date': 'um 1487'}\n",
      "{'place': 'Ulm', 'GWids': '12991', 'printer': 'Konrad Dinckmut', 'date': 'um 1488/91'}\n",
      "{'place': 'Ulm', 'GWids': '12993', 'printer': 'Konrad Dinckmut', 'date': '1491'}\n",
      "{'place': 'Ulm', 'GWids': '12992', 'printer': 'Johann Reger', 'date': 'um 1491'}\n",
      "{'place': 'Ulm', 'GWids': '12994', 'printer': 'Johann Reger', 'date': '3.VI.1491'}\n",
      "{'place': 'Ulm', 'GWids': '12979', 'printer': 'Johann Schäffler', 'date': '22.IX.1492'}\n",
      "{'place': 'Ulm', 'GWids': '12995', 'printer': 'Johann Schäffler', 'date': 'um 1493'}\n",
      "{'place': 'Ulm', 'GWids': '12980', 'printer': 'Johann Schäffler', 'date': '1494'}\n",
      "{'place': 'Ulm', 'GWids': '12988', 'printer': 'Johann Zainer d.Ä.', 'date': 'um 1476'}\n",
      "{'place': 'Ulm', 'GWids': '12975', 'printer': 'Johann Zainer d.Ä.', 'date': 'um 1482'}\n",
      "{'place': 'Ulm', 'GWids': '12978', 'printer': 'Johann Zainer d.Ä.', 'date': 'um 1488'}\n",
      "{'place': 'Urach', 'GWids': '12996', 'printer': 'Konrad Fyner', 'date': 'um 1482'}\n",
      "{'place': 'Vadstena', 'GWids': '13448', 'printer': 'Monasterium S. Birgittae', 'date': 'vor 15.X.1495'}\n",
      "{'place': 'Valencia', 'GWids': '13442', 'printer': 'Drucker des Officium BMV (GW 13442)', 'date': '7.XI.1486'}\n",
      "{'place': 'Valencia', 'GWids': '13443', 'printer': 'Peter Hagembach und Leonhard Hutz', 'date': '21.II.1494', 'bookseller': 'Jacobus de Villa'}\n",
      "{'place': 'Venedig', 'GWids': 'Sp. 674a', 'printer': 'ohne Drucker', 'date': 'um 1474'}\n",
      "{'place': 'Venedig', 'GWids': '13364', 'printer': 'Georgius Arrivabene und Paganinus de Paganinis', 'date': '1484'}\n",
      "{'place': 'Venedig', 'GWids': '13366', 'printer': 'Georgius Arrivabene und Paganinus de Paganinis', 'date': '1.IV.1485'}\n",
      "{'place': 'Venedig', 'GWids': '13395', 'printer': 'Bernardinus de Choris', 'date': '29.III.1488'}\n",
      "{'place': 'Venedig', 'GWids': '13360', 'printer': 'Christoph Arnold', 'date': '13.VI.1478'}\n",
      "{'place': 'Venedig', 'GWids': '13397', 'printer': 'Drucker der Horae (GW 13397)', 'date': 'um 1495(?)'}\n",
      "{'place': 'Venedig', 'GWids': '13376', 'printer': 'Johann Emerich', 'date': '6.V.1493'}\n",
      "{'place': 'Venedig', 'GWids': '13379', 'printer': 'Johann Emerich', 'date': '30.XI.1494'}\n",
      "{'place': 'Venedig', 'GWids': '13381', 'printer': 'Johann Emerich', 'date': '31.VII.1496', 'bookseller': 'Lucantonio Giunta'}\n",
      "{'place': 'Venedig', 'GWids': '13382', 'printer': 'Johann Emerich', 'date': '31.VIII.1496', 'bookseller': 'Lucantonio Giunta'}\n",
      "{'place': 'Venedig', 'GWids': '13383', 'printer': 'Johann Emerich', 'date': '9.V.1497'}\n",
      "{'place': 'Venedig', 'GWids': '13384', 'printer': 'Johann Emerich', 'date': '31.VII.1497', 'bookseller': 'Lucantonio Giunta'}\n",
      "{'place': 'Venedig', 'GWids': '13387', 'printer': 'Johann Emerich', 'date': '30.IX.1498', 'bookseller': 'Lucantonio Giunta'}\n",
      "{'place': 'Venedig', 'GWids': '13388', 'printer': 'Johann Emerich', 'date': '21.V.1499', 'bookseller': 'Lucantonio Giunta'}\n",
      "{'place': 'Venedig', 'GWids': '13361', 'printer': 'Nicolaus Girardengus', 'date': '10.XI.1481'}\n",
      "{'place': 'Venedig', 'GWids': '13368', 'printer': 'Johann Hamann', 'date': '1488'}\n",
      "{'place': 'Venedig', 'GWids': '13370', 'printer': 'Johann Hamann', 'date': '1490'}\n",
      "{'place': 'Venedig', 'GWids': '13371', 'printer': 'Johann Hamann', 'date': '4.XII.1490'}\n",
      "{'place': 'Venedig', 'GWids': '13372', 'printer': 'Johann Hamann', 'date': '3.XII.1491'}\n",
      "{'place': 'Venedig', 'GWids': '13374', 'printer': 'Johann Hamann', 'date': '4.II.149293'}\n",
      "{'place': 'Venedig', 'GWids': '13375', 'printer': 'Johann Hamann', 'date': '14 93'}\n",
      "{'place': 'Venedig', 'GWids': '13377', 'printer': 'Johann Hamann', 'date': '1494', 'bookseller': 'Gerard Barrevelt und Frederick Egmondt'}\n",
      "{'place': 'Venedig', 'GWids': '13380', 'printer': 'Johann Hamann', 'date': '14.XI.1495', 'bookseller': 'Johann Volkarth'}\n",
      "{'place': 'Venedig', 'GWids': '13385', 'printer': 'Johann Hamann', 'date': '1.X.1497', 'bookseller': 'Octavianus Scotus'}\n",
      "{'place': 'Venedig', 'GWids': 'Sp. 674b', 'printer': 'Nicolas Jenson'}\n",
      "{'place': 'Venedig', 'GWids': '13355', 'printer': 'Nicolas Jenson', 'date': '1474'}\n",
      "{'place': 'Venedig', 'GWids': '13356', 'printer': 'Nicolas Jenson', 'date': 'um 1475'}\n",
      "{'place': 'Venedig', 'GWids': '13357', 'printer': 'Nicolas Jenson', 'date': 'um 1475', 'bookseller': '? Raphael Zovenzonius'}\n",
      "{'place': 'Venedig', 'GWids': '13358', 'printer': 'Nicolas Jenson', 'date': '1475'}\n",
      "{'place': 'Venedig', 'GWids': '13365', 'printer': 'Johann Leoviller', 'date': 'um 1485/88'}\n",
      "{'place': 'Venedig', 'GWids': '13367', 'printer': 'Johann Leoviller', 'date': '1486'}\n",
      "{'place': 'Venedig', 'GWids': '13396', 'printer': 'Aldus Manutius', 'date': '5.XII.1497'}\n",
      "{'place': 'Venedig', 'GWids': '13363', 'printer': 'Nikolaus von Frankfurt', 'date': '1482'}\n",
      "{'place': 'Venedig', 'GWids': '13359', 'printer': 'Andreas de Paltaszichis', 'date': '20.IV.1478'}\n",
      "{'place': 'Venedig', 'GWids': '13373', 'printer': 'Theodorus de Ragazonibus', 'date': '12.VII.1492'}\n",
      "{'place': 'Venedig', 'GWids': '13378', 'printer': 'Hieronymus de Sanctis', 'date': '26.IV.1494'}\n",
      "{'place': 'Venedig', 'GWids': '13362', 'printer': 'Andreas Torresanus', 'date': '22.XII.1481', 'bookseller': 'Johann von Köln, Nicolas Jenson und Genossen'}\n",
      "{'place': 'Venedig', 'GWids': '13369', 'printer': 'Andreas Torresanus', 'date': '23.VII.1489'}\n",
      "{'place': 'Venedig', 'GWids': 'Sp. 693a', 'printer': 'Bernardinus de Vitalibus', 'date': 'Januar 14 9 3 vielmehr 1533'}\n",
      "{'place': 'Venedig', 'GWids': '13386', 'printer': 'Antonius de Zanchis', 'date': '14.VII.1498'}\n",
      "{'place': 'Verona', 'GWids': '13389', 'printer': 'Boninus de Boninis', 'date': '24.X.1481'}\n",
      "{'place': 'Westminster', 'GWids': '13021', 'printer': 'William Caxton', 'date': 'um 1478'}\n",
      "{'place': 'Westminster', 'GWids': '13022', 'printer': 'William Caxton', 'date': 'um 1484'}\n",
      "{'place': 'Westminster', 'GWids': '13023', 'printer': 'William Caxton oder Wynkyn de Worde', 'date': 'um 1491/94'}\n",
      "{'place': 'Westminster', 'GWids': '13024', 'printer': 'William Caxton oder Wynkyn de Worde', 'date': 'um 1491/94'}\n",
      "{'place': 'Westminster', 'GWids': '13028', 'printer': 'Julian Notary', 'date': '2.IV.1500'}\n",
      "{'place': 'Westminster', 'GWids': '13025', 'printer': 'Wynkyn de Worde auf Veranlassung von Elisabeth(von York), Königin von England, und Margaret Beaufort', 'date': 'um 1493'}\n",
      "{'place': 'Westminster', 'GWids': '13026', 'printer': 'Wynkyn de Worde', 'date': 'um 1493/94'}\n",
      "{'place': 'Westminster', 'GWids': '13027', 'printer': 'Wynkyn de Worde', 'date': 'um 1494'}\n",
      "{'place': 'Zaragoza', 'GWids': '13446', 'printer': 'Georg Coci und Genossen', 'date': '30.VII.1500'}\n",
      "{'place': 'Zaragoza', 'GWids': '13444', 'printer': 'Paul Hurus', 'date': 'um 1490'}\n",
      "{'place': 'Zaragoza', 'GWids': '13445', 'printer': 'Paul Hurus', 'date': '9.III.1499'}\n"
     ]
    }
   ],
   "source": [
    "new_data2 = []\n",
    "\n",
    "for statement in new_data:\n",
    "    # Create a copy of the dictionary to avoid modifying the original\n",
    "    entry = statement.copy()\n",
    "    \n",
    "    \n",
    "    if 'für' in entry['printer']:\n",
    "        # print(entry['printer'])\n",
    "        # Split the \"printer\" \n",
    "        entry['bookseller'] = entry['printer'].split('für')[1].strip()\n",
    "        entry['printer'] = entry['printer'].split('für')[0].strip()\n",
    "\n",
    "    if entry['printer'] == '':\n",
    "        entry.pop('printer', None)\n",
    "    # Append the modified entry to the new_data list\n",
    "    new_data2.append(entry)\n",
    "\n",
    "# Display the modified data\n",
    "for entry in new_data2:\n",
    "    print(entry)\n"
   ]
  },
  {
   "cell_type": "markdown",
   "metadata": {},
   "source": [
    "Both following cells are used to check the values from the different fields. The first one in relation to GW-ids, the second as an index."
   ]
  },
  {
   "cell_type": "code",
   "execution_count": 11,
   "metadata": {
    "tags": []
   },
   "outputs": [
    {
     "name": "stdout",
     "output_type": "stream",
     "text": [
      "Sp. 701a ohne Drucker\n",
      "13404 Adriaan van Liesveldt\n",
      "13405 Adriaan van Liesveldt\n",
      "13419 Adriaan van Liesveldt\n",
      "13406 Adriaan van Liesveldt\n",
      "13421 Adriaan van Liesveldt\n",
      "13422 Adriaan van Liesveldt\n",
      "13418 Govert Bac\n",
      "13420 Govert Bac\n",
      "13400 Gerard Leeu\n",
      "13399 Gerard Leeu\n",
      "13401 Gerard Leeu\n",
      "13417 Gerard Leeu\n",
      "13403 Gerard Leeu\n",
      "13402 Gerard Leeu oder Adriaan van Liesveldt\n",
      "12982 Anton Sorg\n",
      "12983 Anton Sorg\n",
      "12945 Anton Sorg\n",
      "12946 Anton Sorg\n",
      "12947 Anton Sorg\n",
      "12981 Günther Zainer\n",
      "13439 Johann Gherlinc\n",
      "13440 Johann Gherlinc\n",
      "12949 Johann Amerbach\n",
      "12948 Bernhard Richel\n",
      "12950 Michael Wenssler\n",
      "12951 Jakob Wolff\n",
      "13390 Ugo Rugerius\n",
      "13407 William Caxton\n",
      "13423 Fratres vitae communis\n",
      "13427 Hendrik Eckert\n",
      "13428 Hendrik Eckert\n",
      "13424 Jakob van der Meer\n",
      "13425 Jakob van der Meer\n",
      "13426 Christian Snellaert\n",
      "12944 ohne Drucker\n",
      "13408 Richard Paffraet\n",
      "13409 Richard Paffraet\n",
      "13410 Richard Paffraet\n",
      "13329 Andreas Belfortis\n",
      "13330 Laurentius de Rubeis\n",
      "Sp. 695a ohne Drucker\n",
      "13391 Apud S. Jacobum de Ripoli\n",
      "13332 Francesco di Dino\n",
      "13393 Antonio di Francesco\n",
      "13331 Nicolaus Laurentii\n",
      "13394 Laurentius de Morgianis und Johann Petri\n",
      "13392 Johann Petri\n",
      "13029 Louis Cruse\n",
      "13030 Louis Cruse\n",
      "13031 Louis Cruse\n",
      "13032 Drucker des Missale Romanum (H 11399) (Louis Cruse?)\n",
      "13411 Arend de Keysere\n",
      "13412 Arend de Keysere\n",
      "13429 Collacie Broeders\n",
      "13413 Gerard Leeu\n",
      "13033 Michel Andrieu\n",
      "13430 Peregrinus Barmentlo\n",
      "13431 Peregrinus Barmentlo\n",
      "12952 Drucker des Celtis (Johann Kachelofen)\n",
      "13328 Drucker der Horae (GW 13328)\n",
      "12953 Markus Reinhard\n",
      "12954 Markus Reinhard\n",
      "Sp. 436a Markus Reinhard\n",
      "12984 Markus Reinhard\n",
      "12997 Drucker der Getzijden (GW 12997)\n",
      "12955 Retro Minores\n",
      "13447 Sweipolt Fiol\n",
      "13432 Hugo Janszoen\n",
      "13433 Hugo Janszoen\n",
      "13434 Hugo Janszoen\n",
      "13435 Hugo Janszoen\n",
      "13436 Hugo Janszoen\n",
      "12956 Konrad Kachelofen\n",
      "12998 Konrad Kachelofen\n",
      "12957 Melchior Lotter\n",
      "12958 Melchior Lotter\n",
      "13017 Julian Notary, Jean Barbier und I. H.\n",
      "13014 Richard Pynson\n",
      "13015 Richard Pynson\n",
      "13016 Richard Pynson\n",
      "13018 Richard Pynson\n",
      "13019 Richard Pynson\n",
      "13020 Richard Pynson\n",
      "13013 Wilhelmus de Machlinia\n",
      "13006 Steffen Arndes\n",
      "13008 Steffen Arndes\n",
      "13009 Steffen Arndes\n",
      "13011 Steffen Arndes\n",
      "12959 Lukas Brandis\n",
      "12999 Lukas Brandis\n",
      "13010 Lukas Brandis(?)\n",
      "12960 Matthäus Brandis\n",
      "13007 Drucker von Sixtus IV., Ave Maria (Einbl 389)\n",
      "13001 Bartholomäus Ghotan\n",
      "13002 Bartholomäus Ghotan\n",
      "13003 Bartholomäus Ghotan\n",
      "13005 Bartholomäus Ghotan(?)\n",
      "13004 Mohnkopfdrucker (Hans van Ghetelen)\n",
      "12961 Mohnkopfdrucker (Hans van Ghetelen)\n",
      "13000 Johann Snell\n",
      "13038 Nicolaus de Benedictis\n",
      "13037 Nicolaus de Benedictis\n",
      "13035 Jean Du Pré\n",
      "13036 Jean Du Pré\n",
      "Sp. 429a Jacobinus Suigus und Nicolaus de Benedictis\n",
      "13034 Jean Trechsel\n",
      "13039 Jean de Vingle(?)\n",
      "12962 Moritz Brandis\n",
      "12963 Moritz Brandis\n",
      "13012 Albert Ravenstein und Joachim Westval\n",
      "13334 Christoph Valdarfer\n",
      "13333 Antonius Zarotus\n",
      "12964 Albrecht Kunne\n",
      "13441 Johann Luschner\n",
      "13040 Etienne Larcher\n",
      "13347 Ayolfus de Cantono\n",
      "13336 Konrad Guldenmund\n",
      "13350 Martin von Amsterdam\n",
      "13335 Matthias von Olmütz\n",
      "1333510 Matthias von Olmütz\n",
      "13337 Matthias von Olmütz\n",
      "13338 Matthias von Olmütz\n",
      "13339 Matthias von Olmütz\n",
      "13340 Matthias von Olmütz\n",
      "13342 Matthias von Olmütz\n",
      "13343 Matthias von Olmütz\n",
      "13345 Matthias von Olmütz\n",
      "13341 Christian Preller\n",
      "13343 Christian Preller\n",
      "13346 Christian Preller\n",
      "13348 Christian Preller\n",
      "13349 Christian Preller\n",
      "Sp. 712a ohne Drucker\n",
      "13398 ohne Drucker\n",
      "12986 Friedrich Creussner\n",
      "12985 Drucker der Rochuslegende (H 13928)\n",
      "12965 Fratres Ordinis Eremitarum S. Augustini\n",
      "Sp. 443a Friedrich Peypus\n",
      "13049 ohne Drucker\n",
      "Sp. 553a ohne Drucker\n",
      "Sp. 487a ohne Drucker\n",
      "Sp. 654a ohne Drucker\n",
      "Sp. 519b Guillaume Anabat\n",
      "Sp. 633a Guillaume Anabat\n",
      "13258 André Bocard\n",
      "13234 André Bocard\n",
      "13300 André Bocard(?)\n",
      "13302 André Bocard\n",
      "Sp. 643a André Bocard\n",
      "13103 André Bocard\n",
      "13105 André Bocard\n",
      "13106 André Bocard\n",
      "13304 André Bocard\n",
      "13303 André Bocard\n",
      "13053 Jean Bonhomme\n",
      "13050 Jean Bonhomme\n",
      "13266 Antoine Caillaut\n",
      "13131 Antoine Caillaut\n",
      "13172 Antoine Caillaut\n",
      "13289 Antoine Caillaut\n",
      "Sp. 655a Antoine Chappiel\n",
      "13261 None\n",
      "13092 Drucker der Horae (GW 13092)\n",
      "13142 Jean Du Pré\n",
      "13143 Jean Du Pré\n",
      "13144 Jean Du Pré\n",
      "13054 Jean Du Pré\n",
      "13063 Jean Du Pré\n",
      "13055 Jean Du Pré\n",
      "13111 Jean Du Pré\n",
      "13316 Jean Du Pré\n",
      "13064 Jean Du Pré\n",
      "13051 Jean Du Pré(?)\n",
      "13065 Jean Du Pré\n",
      "13066 Jean Du Pré\n",
      "13264 Jean Du Pré\n",
      "13265 Jean Du Pré\n",
      "13067 Jean Du Pré\n",
      "13246 Jean Du Pré\n",
      "13267 Jean Du Pré\n",
      "13068 Jean Du Pré\n",
      "13069 Jean Du Pré\n",
      "13070 Jean Du Pré\n",
      "13284 Jean Du Pré\n",
      "13114 Jean Du Pré\n",
      "13071 Jean Du Pré\n",
      "13056 Jean Du Pré(?)\n",
      "13116 Jean Du Pré\n",
      "13072 Jean Du Pré(?)\n",
      "13094 Jean Du Pré\n",
      "13095 Jean Du Pré\n",
      "13098 Jean Du Pré\n",
      "13076 Jean Du Pré\n",
      "13061 Ulrich Gering und Berthold Remboldt\n",
      "13062 Ulrich Gering und Berthold Remboldt\n",
      "13245 Ulrich Gering und Berthold Remboldt\n",
      "13083 Ulrich Gering und Berthold Remboldt\n",
      "13077 Johann Higman\n",
      "13080 Johann Higman\n",
      "Sp. 598a Nicolas Higman\n",
      "Sp. 598b Nicolas Higman\n",
      "13086 Wolfgang Hopyl\n",
      "13120 Etienne Jehannot\n",
      "13122 Etienne Jehannot\n",
      "13078 Etienne Jehannot\n",
      "13193 Etienne Jehannot\n",
      "13308 Etienne Jehannot\n",
      "13046 Etienne Jehannot\n",
      "13194 Etienne Jehannot\n",
      "13309 Etienne Jehannot\n",
      "13123 Etienne Jehannot\n",
      "13124 Etienne Jehannot\n",
      "13125 Etienne Jehannot\n",
      "13127 Etienne Jehannot\n",
      "13126 Etienne Jehannot\n",
      "13129 Etienne Jehannot\n",
      "13128 Etienne Jehannot\n",
      "13155 Etienne Jehannot\n",
      "13197 Etienne Jehannot\n",
      "13199 Etienne Jehannot\n",
      "13058 Etienne Jehannot\n",
      "13200 Etienne Jehannot\n",
      "13201 Etienne Jehannot\n",
      "13159 Etienne Jehannot\n",
      "13099 Etienne Jehannot\n",
      "13272 Etienne Jehannot\n",
      "13311 Etienne Jehannot\n",
      "13214 Etienne Jehannot\n",
      "13213 Etienne Jehannot\n",
      "13215 Etienne Jehannot\n",
      "13313 Etienne Jehannot\n",
      "13312 Etienne Jehannot\n",
      "13162 Etienne Jehannot\n",
      "13164 Etienne Jehannot\n",
      "13224 Etienne Jehannot\n",
      "13226 Etienne Jehannot\n",
      "13225 Etienne Jehannot\n",
      "13295 Etienne Jehannot\n",
      "13227 Etienne Jehannot\n",
      "13235 Etienne Jehannot\n",
      "13228 Etienne Jehannot\n",
      "13165 Etienne Jehannot(?)\n",
      "13278 Etienne Jehannot\n",
      "13167 Etienne Jehannot\n",
      "13299 Etienne Jehannot oder Jean Jehannot\n",
      "13211 Jean Jehannot\n",
      "13047 Thielmann Kerver\n",
      "13163 Thielmann Kerver\n",
      "13298 Thielmann Kerver\n",
      "13100 Thielmann Kerver\n",
      "13285 Thielmann Kerver\n",
      "13102 Thielmann Kerver\n",
      "13286 Thielmann Kerver\n",
      "13171 Thielmann Kerver\n",
      "13237 Thielmann Kerver\n",
      "13288 Thielmann Kerver\n",
      "13301 Thielmann Kerver\n",
      "13169 Thielmann Kerver\n",
      "13170 Thielmann Kerver\n",
      "13168 Thielmann Kerver\n",
      "13315 Thielmann Kerver\n",
      "Sp. 646a Thielmann Kerver\n",
      "13104 Thielmann Kerver\n",
      "13107 Thielmann Kerver\n",
      "13108 Thielmann Kerver\n",
      "13109 Thielmann Kerver\n",
      "13244 Thielmann Kerver\n",
      "13110 Thielmann Kerver\n",
      "Sp. 519a Thielmann Kerver\n",
      "13079 Pierre Le Dru und Etienne Jehannot\n",
      "13081 Pierre Le Dru und Etienne Jehannot\n",
      "13166 Pierre Le Dru(?)\n",
      "Sp. 553c Pierre Le Dru(?)\n",
      "Sp. 553b Guillaume Le Rouge\n",
      "13087 Pierre Le Rouge\n",
      "13041 Pierre Le Rouge(?)\n",
      "13268 Pierre Le Rouge(?)\n",
      "13271 Pierre Le Rouge\n",
      "13173 Pierre Levet\n",
      "13089 Guy Marchant\n",
      "13059 Guy Marchant\n",
      "13174 Denis Meslier\n",
      "13270 Denis Meslier\n",
      "13269 Denis Meslier\n",
      "13137 Jean Morand(?)\n",
      "13149 Jean Morand(?)\n",
      "13117 Jean Morand\n",
      "13118 Jean Morand\n",
      "13151 Jean Morand\n",
      "13152 Jean Morand\n",
      "13097 Jean Morand(?)\n",
      "13096 Jean Morand(?)\n",
      "13275 Jean Morand\n",
      "13119 Laurent Philippe\n",
      "13156 Johann Philippi\n",
      "13157 Johann Philippi\n",
      "13158 Johann Philippi\n",
      "13297 Johann Philippi\n",
      "13160 Johann Philippi\n",
      "13130 Johann Philippi\n",
      "13145 Philippe Pigouchet\n",
      "13042 Philippe Pigouchet\n",
      "13290 Philippe Pigouchet\n",
      "13146 Philippe Pigouchet\n",
      "13147 Philippe Pigouchet z.T.\n",
      "13090 Philippe Pigouchet\n",
      "13291 Philippe Pigouchet\n",
      "13292 Philippe Pigouchet\n",
      "13132 Philippe Pigouchet\n",
      "13148 Philippe Pigouchet\n",
      "13293 Philippe Pigouchet\n",
      "13135 Philippe Pigouchet\n",
      "13133 Philippe Pigouchet\n",
      "13134 Philippe Pigouchet\n",
      "13043 Philippe Pigouchet\n",
      "13175 Philippe Pigouchet\n",
      "13136 Philippe Pigouchet\n",
      "13091 Philippe Pigouchet\n",
      "13044 Philippe Pigouchet\n",
      "13138 Philippe Pigouchet\n",
      "13139 Philippe Pigouchet\n",
      "13150 Philippe Pigouchet\n",
      "13073 Philippe Pigouchet\n",
      "13294 Philippe Pigouchet\n",
      "13153 Philippe Pigouchet\n",
      "13060 Philippe Pigouchet\n",
      "13140 Philippe Pigouchet\n",
      "13176 Philippe Pigouchet\n",
      "13177 Philippe Pigouchet\n",
      "13178 Philippe Pigouchet\n",
      "13179 Philippe Pigouchet\n",
      "13154 Philippe Pigouchet\n",
      "13180 Philippe Pigouchet\n",
      "13181 Philippe Pigouchet\n",
      "13183 Philippe Pigouchet\n",
      "13182 Philippe Pigouchet\n",
      "13074 Philippe Pigouchet\n",
      "13184 Philippe Pigouchet\n",
      "13075 Philippe Pigouchet\n",
      "13306 Philippe Pigouchet\n",
      "13185 Philippe Pigouchet\n",
      "13248 Philippe Pigouchet\n",
      "13186 Philippe Pigouchet\n",
      "13187 Philippe Pigouchet\n",
      "13045 Philippe Pigouchet\n",
      "13249 Philippe Pigouchet\n",
      "13307 Philippe Pigouchet\n",
      "13188 Philippe Pigouchet\n",
      "13189 Philippe Pigouchet\n",
      "13190 Philippe Pigouchet\n",
      "13191 Philippe Pigouchet\n",
      "13192 Philippe Pigouchet\n",
      "13250 Philippe Pigouchet\n",
      "13251 Philippe Pigouchet\n",
      "13195 Philippe Pigouchet\n",
      "13252 Philippe Pigouchet\n",
      "13196 Philippe Pigouchet\n",
      "13198 Philippe Pigouchet\n",
      "13310 Philippe Pigouchet\n",
      "13202 Philippe Pigouchet\n",
      "13203 Philippe Pigouchet\n",
      "13204 Philippe Pigouchet\n",
      "13205 Philippe Pigouchet\n",
      "13206 Philippe Pigouchet\n",
      "13208 Philippe Pigouchet\n",
      "13207 Philippe Pigouchet\n",
      "13209 Philippe Pigouchet\n",
      "13141 Philippe Pigouchet\n",
      "13082 Philippe Pigouchet\n",
      "13212 Philippe Pigouchet\n",
      "13216 Philippe Pigouchet\n",
      "13217 Philippe Pigouchet\n",
      "13220 Philippe Pigouchet\n",
      "13219 Philippe Pigouchet\n",
      "13218 Philippe Pigouchet\n",
      "13210 Philippe Pigouchet\n",
      "13314 Philippe Pigouchet\n",
      "13253 Philippe Pigouchet\n",
      "13254 Philippe Pigouchet\n",
      "13221 Philippe Pigouchet\n",
      "13222 Philippe Pigouchet\n",
      "13223 Philippe Pigouchet\n",
      "13255 Philippe Pigouchet\n",
      "13229 Philippe Pigouchet\n",
      "13230 Philippe Pigouchet\n",
      "13048 Philippe Pigouchet\n",
      "13256 Philippe Pigouchet\n",
      "13257 Philippe Pigouchet\n",
      "13232 Philippe Pigouchet\n",
      "13231 Philippe Pigouchet\n",
      "1314110 Philippe Pigouchet\n",
      "13233 Philippe Pigouchet\n",
      "13236 Philippe Pigouchet\n",
      "13260 Philippe Pigouchet\n",
      "13318 Philippe Pigouchet\n",
      "13259 Philippe Pigouchet\n",
      "13084 Philippe Pigouchet\n",
      "13085 Philippe Pigouchet\n",
      "13238 Philippe Pigouchet\n",
      "13239 Philippe Pigouchet\n",
      "13240 Philippe Pigouchet\n",
      "13241 Philippe Pigouchet\n",
      "13242 Philippe Pigouchet\n",
      "13243 Philippe Pigouchet\n",
      "13262 Philippe Pigouchet\n",
      "13263 Philippe Pigouchet\n",
      "Sp. 599a Philippe Pigouchet\n",
      "13273 Jean Poitevin\n",
      "13274 Jean Poitevin\n",
      "Sp. 633b Pierre Roffet\n",
      "13121 Michel Toulouse\n",
      "13088 Antoine Vérard\n",
      "13279 Antoine Vérard\n",
      "13112 Antoine Vérard\n",
      "13113 Antoine Vérard\n",
      "13317 Antoine Vérard\n",
      "13280 Antoine Vérard\n",
      "13281 Antoine Vérard\n",
      "13282 Antoine Vérard\n",
      "13283 Antoine Vérard\n",
      "13247 Antoine Vérard\n",
      "13296 Antoine Vérard\n",
      "13115 Antoine Vérard\n",
      "13277 Antoine Vérard\n",
      "13276 Antoine Vérard\n",
      "13287 Antoine Vérard(?)\n",
      "Sp. 599b None\n",
      "Sp. 646b None\n",
      "Sp. 612a None\n",
      "Sp. 486a None\n",
      "13052 Georg Wolff\n",
      "13305 Georg Wolff und Johann Philippi\n",
      "13161 Georg Wolff und Thielmann Kerver\n",
      "13101 Georg Wolff und Thielmann Kerver\n",
      "13057 Drucker des Breviarium Rothomagense (GW 5437)\n",
      "13093 Drucker der Horae ad usum Sarum (GW 13093)\n",
      "13319 Jean Bouyer\n",
      "13320 Jean Bouyer und Pierre Bellescullée\n",
      "12987 Michael Greyff\n",
      "13352 Johann Bulle\n",
      "13353 Georg Herolt\n",
      "13351 Theobald Schenkbecher\n",
      "13321 ohne Drucker\n",
      "13325 Jean Le Bourgeois\n",
      "13322 Jacques Le Forestier\n",
      "13323 Jacques Le Forestier\n",
      "13324 Jacques Le Forestier\n",
      "13437 Fratres apud S. Michaelem in den Hem\n",
      "13438 Fratres apud S. Michaelem in den Hem\n",
      "13414 Fratres apud S. Michaelem in den Hem\n",
      "13415 Fratres apud S. Michaelem in den Hem\n",
      "13416 Fratres apud S. Michaelem in den Hem\n",
      "12966 Peter Drach d.M.\n",
      "12967 Drucker des Henricus Ariminensis (Georg Reyser)\n",
      "12968 Johann Grüninger\n",
      "12970 Johann Grüninger\n",
      "12971 Johann Grüninger\n",
      "12972 Johann Grüninger\n",
      "12969 Wilhelm Schaffener\n",
      "12973 Wilhelm Schaffener\n",
      "12974 Drucker der Erwählung Maximilians (H 10929)\n",
      "13326 Mathieu Latheron auf Veranlassung von Jean Turreau\n",
      "13327 Guillaume Le Rouge\n",
      "13354 Jacobinus Suigus und Nicolaus de Benedictis\n",
      "12989 Konrad Dinckmut\n",
      "12990 Konrad Dinckmut\n",
      "12976 Konrad Dinckmut\n",
      "12977 Konrad Dinckmut\n",
      "12991 Konrad Dinckmut\n",
      "12993 Konrad Dinckmut\n",
      "12992 Johann Reger\n",
      "12994 Johann Reger\n",
      "12979 Johann Schäffler\n",
      "12995 Johann Schäffler\n",
      "12980 Johann Schäffler\n",
      "12988 Johann Zainer d.Ä.\n",
      "12975 Johann Zainer d.Ä.\n",
      "12978 Johann Zainer d.Ä.\n",
      "12996 Konrad Fyner\n",
      "13448 Monasterium S. Birgittae\n",
      "13442 Drucker des Officium BMV (GW 13442)\n",
      "13443 Peter Hagembach und Leonhard Hutz\n",
      "Sp. 674a ohne Drucker\n",
      "13364 Georgius Arrivabene und Paganinus de Paganinis\n",
      "13366 Georgius Arrivabene und Paganinus de Paganinis\n",
      "13395 Bernardinus de Choris\n",
      "13360 Christoph Arnold\n",
      "13397 Drucker der Horae (GW 13397)\n",
      "13376 Johann Emerich\n",
      "13379 Johann Emerich\n",
      "13381 Johann Emerich\n",
      "13382 Johann Emerich\n",
      "13383 Johann Emerich\n",
      "13384 Johann Emerich\n",
      "13387 Johann Emerich\n",
      "13388 Johann Emerich\n",
      "13361 Nicolaus Girardengus\n",
      "13368 Johann Hamann\n",
      "13370 Johann Hamann\n",
      "13371 Johann Hamann\n",
      "13372 Johann Hamann\n",
      "13374 Johann Hamann\n",
      "13375 Johann Hamann\n",
      "13377 Johann Hamann\n",
      "13380 Johann Hamann\n",
      "13385 Johann Hamann\n",
      "Sp. 674b Nicolas Jenson\n",
      "13355 Nicolas Jenson\n",
      "13356 Nicolas Jenson\n",
      "13357 Nicolas Jenson\n",
      "13358 Nicolas Jenson\n",
      "13365 Johann Leoviller\n",
      "13367 Johann Leoviller\n",
      "13396 Aldus Manutius\n",
      "13363 Nikolaus von Frankfurt\n",
      "13359 Andreas de Paltaszichis\n",
      "13373 Theodorus de Ragazonibus\n",
      "13378 Hieronymus de Sanctis\n",
      "13362 Andreas Torresanus\n",
      "13369 Andreas Torresanus\n",
      "Sp. 693a Bernardinus de Vitalibus\n",
      "13386 Antonius de Zanchis\n",
      "13389 Boninus de Boninis\n",
      "13021 William Caxton\n",
      "13022 William Caxton\n",
      "13023 William Caxton oder Wynkyn de Worde\n",
      "13024 William Caxton oder Wynkyn de Worde\n",
      "13028 Julian Notary\n",
      "13025 Wynkyn de Worde auf Veranlassung von Elisabeth(von York), Königin von England, und Margaret Beaufort\n",
      "13026 Wynkyn de Worde\n",
      "13027 Wynkyn de Worde\n",
      "13446 Georg Coci und Genossen\n",
      "13444 Paul Hurus\n",
      "13445 Paul Hurus\n"
     ]
    }
   ],
   "source": [
    "for data in new_data2: \n",
    "    print(data.get(\"GWids\"), data.get(\"printer\"))"
   ]
  },
  {
   "cell_type": "code",
   "execution_count": 12,
   "metadata": {
    "tags": []
   },
   "outputs": [
    {
     "name": "stdout",
     "output_type": "stream",
     "text": [
      "Jean Bouyer\n",
      "Anton Sorg\n",
      "Jacques Le Forestier\n",
      "Jakob Wolff\n",
      "Jean Trechsel\n",
      "Albrecht Kunne\n",
      "Jean Bonhomme\n",
      "Johann Zainer d.Ä.\n",
      "Drucker von Sixtus IV., Ave Maria (Einbl 389)\n",
      "Guillaume Anabat\n",
      "Etienne Jehannot oder Jean Jehannot\n",
      "Johann Leoviller\n",
      "Lukas Brandis\n",
      "Wynkyn de Worde\n",
      "Theodorus de Ragazonibus\n",
      "Drucker des Celtis (Johann Kachelofen)\n",
      "Albert Ravenstein und Joachim Westval\n",
      "Drucker der Getzijden (GW 12997)\n",
      "Francesco di Dino\n",
      "Peter Drach d.M.\n",
      "Nicolaus de Benedictis\n",
      "Philippe Pigouchet\n",
      "Bartholomäus Ghotan(?)\n",
      "Jacobinus Suigus und Nicolaus de Benedictis\n",
      "Denis Meslier\n",
      "Jean Bouyer und Pierre Bellescullée\n",
      "Jean Du Pré\n",
      "Konrad Dinckmut\n",
      "Etienne Larcher\n",
      "Pierre Roffet\n",
      "Georg Wolff und Thielmann Kerver\n",
      "Adriaan van Liesveldt\n",
      "Laurentius de Morgianis und Johann Petri\n",
      "Guillaume Le Rouge\n",
      "Drucker des Henricus Ariminensis (Georg Reyser)\n",
      "Laurentius de Rubeis\n",
      "Fratres vitae communis\n",
      "Ugo Rugerius\n",
      "Jean de Vingle(?)\n",
      "Antonius Zarotus\n",
      "Drucker der Rochuslegende (H 13928)\n",
      "Wilhelm Schaffener\n",
      "Johann Grüninger\n",
      "Christian Snellaert\n",
      "Theobald Schenkbecher\n",
      "Mathieu Latheron auf Veranlassung von Jean Turreau\n",
      "Hugo Janszoen\n",
      "Michel Andrieu\n",
      "Drucker des Missale Romanum (H 11399) (Louis Cruse?)\n",
      "Georg Wolff und Johann Philippi\n",
      "Retro Minores\n",
      "Jean Du Pré(?)\n",
      "Fratres apud S. Michaelem in den Hem\n",
      "Gerard Leeu oder Adriaan van Liesveldt\n",
      "Drucker der Horae (GW 13092)\n",
      "Antoine Caillaut\n",
      "Bernardinus de Choris\n",
      "Antoine Vérard(?)\n",
      "Jakob van der Meer\n",
      "Georgius Arrivabene und Paganinus de Paganinis\n",
      "Mohnkopfdrucker (Hans van Ghetelen)\n",
      "Christoph Arnold\n",
      "Aldus Manutius\n",
      "Johann Philippi\n",
      "Johann Bulle\n",
      "Johann Petri\n",
      "Bartholomäus Ghotan\n",
      "Georg Coci und Genossen\n",
      "Nicolas Higman\n",
      "Richard Paffraet\n",
      "Andreas Torresanus\n",
      "Friedrich Creussner\n",
      "Wilhelmus de Machlinia\n",
      "Johann Hamann\n",
      "Drucker des Breviarium Rothomagense (GW 5437)\n",
      "Markus Reinhard\n",
      "Johann Snell\n",
      "Konrad Fyner\n",
      "Nicolaus Girardengus\n",
      "Richard Pynson\n",
      "Pierre Le Dru und Etienne Jehannot\n",
      "Johann Luschner\n",
      "Guy Marchant\n",
      "Peter Hagembach und Leonhard Hutz\n",
      "Christian Preller\n",
      "William Caxton oder Wynkyn de Worde\n",
      "Johann Gherlinc\n",
      "Hendrik Eckert\n",
      "Antoine Vérard\n",
      "Michel Toulouse\n",
      "Collacie Broeders\n",
      "Bernardinus de Vitalibus\n",
      "Jean Poitevin\n",
      "Hieronymus de Sanctis\n",
      "Georg Wolff\n",
      "Drucker des Officium BMV (GW 13442)\n",
      "Martin von Amsterdam\n",
      "Georg Herolt\n",
      "Ulrich Gering und Berthold Remboldt\n",
      "Antonius de Zanchis\n",
      "Lukas Brandis(?)\n",
      "Jean Le Bourgeois\n",
      "Wynkyn de Worde auf Veranlassung von Elisabeth(von York), Königin von England, und Margaret Beaufort\n",
      "Peregrinus Barmentlo\n",
      "Sweipolt Fiol\n",
      "Apud S. Jacobum de Ripoli\n",
      "Louis Cruse\n",
      "Drucker der Erwählung Maximilians (H 10929)\n",
      "Jean Morand(?)\n",
      "Philippe Pigouchet z.T.\n",
      "Konrad Kachelofen\n",
      "Arend de Keysere\n",
      "Friedrich Peypus\n",
      "Pierre Levet\n",
      "Pierre Le Rouge(?)\n",
      "Jean Morand\n",
      "Boninus de Boninis\n",
      "Johann Higman\n",
      "Drucker der Horae (GW 13397)\n",
      "William Caxton\n",
      "Moritz Brandis\n",
      "Govert Bac\n",
      "Jean Jehannot\n",
      "Matthias von Olmütz\n",
      "Melchior Lotter\n",
      "Gerard Leeu\n",
      "Matthäus Brandis\n",
      "Drucker der Horae ad usum Sarum (GW 13093)\n",
      "Julian Notary\n",
      "Konrad Guldenmund\n",
      "Pierre Le Rouge\n",
      "Bernhard Richel\n",
      "Steffen Arndes\n",
      "Fratres Ordinis Eremitarum S. Augustini\n",
      "Wolfgang Hopyl\n",
      "Thielmann Kerver\n",
      "Günther Zainer\n",
      "Laurent Philippe\n",
      "Johann Schäffler\n",
      "André Bocard\n",
      "Michael Wenssler\n",
      "Johann Amerbach\n",
      "Nicolas Jenson\n",
      "Nicolaus Laurentii\n",
      "Drucker der Horae (GW 13328)\n",
      "Johann Emerich\n",
      "Etienne Jehannot(?)\n",
      "Johann Reger\n",
      "Julian Notary, Jean Barbier und I. H.\n",
      "Antoine Chappiel\n",
      "Monasterium S. Birgittae\n",
      "Andreas Belfortis\n",
      "Ayolfus de Cantono\n",
      "Pierre Le Dru(?)\n",
      "Andreas de Paltaszichis\n",
      "Christoph Valdarfer\n",
      "Nikolaus von Frankfurt\n",
      "André Bocard(?)\n",
      "ohne Drucker\n",
      "Etienne Jehannot\n",
      "Michael Greyff\n",
      "Paul Hurus\n",
      "Antonio di Francesco\n"
     ]
    }
   ],
   "source": [
    "key = 'printer'\n",
    "# Use a set to collect unique values of a \"key\" in item when the key is present\n",
    "unique_series = set(item[key] for item in new_data2 if key in item)\n",
    "# Convert the set back to a list if needed\n",
    "unique_series_list = list(unique_series)\n",
    "print('\\n'.join(unique_series_list))"
   ]
  },
  {
   "cell_type": "markdown",
   "metadata": {},
   "source": [
    "# Printers and booksellers of books of hours as a network (Export edges)"
   ]
  },
  {
   "cell_type": "markdown",
   "metadata": {},
   "source": [
    "In the variable \"new_data2\", we have a list of dictionaries describing each edition with the information \"place\", \"printer\", \"bookseller\", \"date\", \"GWids\" if they exist. \n",
    "The following cell creates a list of \"edges\", with each couple \"printer+bookseller\", the number of occurrences, the list of GWids and the list of dates, both separated by the character \"|\"."
   ]
  },
  {
   "cell_type": "code",
   "execution_count": 13,
   "metadata": {
    "tags": []
   },
   "outputs": [
    {
     "name": "stdout",
     "output_type": "stream",
     "text": [
      "CSV file 'output.csv' has been created.\n"
     ]
    }
   ],
   "source": [
    "import csv\n",
    "\n",
    "# Sample list of dictionaries\n",
    "list_of_dicts = new_data2\n",
    "\n",
    "# Create a CSV file with the specified columns\n",
    "csv_file_path = 'output.csv'\n",
    "\n",
    "# Create a CSV file with the specified columns and delimiter\n",
    "csv_file_path = 'output.csv'\n",
    "\n",
    "with open(csv_file_path, 'w', newline='', encoding='utf-8') as csvfile:\n",
    "    fieldnames = ['printer', 'bookseller', 'weight', 'GWids', 'date', 'place']\n",
    "    writer = csv.DictWriter(csvfile, fieldnames=fieldnames, delimiter=';')\n",
    "\n",
    "    # Write the header to the CSV file\n",
    "    writer.writeheader()\n",
    "\n",
    "    # Create a dictionary to keep track of weights and other values\n",
    "    data_dict = {}\n",
    "\n",
    "    # Iterate through the list of dictionaries\n",
    "    for entry in list_of_dicts:\n",
    "        printer = entry.get('printer', '')\n",
    "        bookseller = entry.get('bookseller', '')\n",
    "        gwids = entry.get('GWids', '')\n",
    "        date = entry.get('date', '')\n",
    "        place = entry.get('place', '')\n",
    "\n",
    "        # Calculate the weight based on the combination of 'printer' and 'bookseller'\n",
    "        key = (printer, bookseller)\n",
    "        data_key = (printer, bookseller, gwids, date)\n",
    "        data_dict.setdefault(key, {'weight': 0, 'GWids': set(), 'date': set(), 'place': set()})\n",
    "\n",
    "        # Increment the weight and add GWids, date, and place to the sets\n",
    "        data_dict[key]['weight'] += 1\n",
    "        data_dict[key]['GWids'].add(gwids)\n",
    "        data_dict[key]['date'].add(date)\n",
    "        data_dict[key]['place'].add(place)\n",
    "\n",
    "    # Write the grouped data to the CSV file\n",
    "    for (printer, bookseller), values in data_dict.items():\n",
    "        writer.writerow({\n",
    "            'printer': printer,\n",
    "            'bookseller': bookseller,\n",
    "            'weight': values['weight'],\n",
    "            'GWids': '|'.join(values['GWids']),\n",
    "            'date': '|'.join(values['date']),\n",
    "            'place': '|'.join(values['place'])\n",
    "        })\n",
    "\n",
    "print(f\"CSV file '{csv_file_path}' has been created.\")\n"
   ]
  },
  {
   "cell_type": "markdown",
   "metadata": {},
   "source": [
    "## graph"
   ]
  },
  {
   "cell_type": "code",
   "execution_count": 14,
   "metadata": {
    "tags": []
   },
   "outputs": [],
   "source": [
    "import pandas as pd\n",
    "import networkx as nx\n",
    "import matplotlib.pyplot as plt"
   ]
  },
  {
   "cell_type": "code",
   "execution_count": 15,
   "metadata": {
    "tags": []
   },
   "outputs": [
    {
     "data": {
      "text/html": [
       "<div>\n",
       "<style scoped>\n",
       "    .dataframe tbody tr th:only-of-type {\n",
       "        vertical-align: middle;\n",
       "    }\n",
       "\n",
       "    .dataframe tbody tr th {\n",
       "        vertical-align: top;\n",
       "    }\n",
       "\n",
       "    .dataframe thead th {\n",
       "        text-align: right;\n",
       "    }\n",
       "</style>\n",
       "<table border=\"1\" class=\"dataframe\">\n",
       "  <thead>\n",
       "    <tr style=\"text-align: right;\">\n",
       "      <th></th>\n",
       "      <th>printer</th>\n",
       "      <th>bookseller</th>\n",
       "      <th>weight</th>\n",
       "      <th>GWids</th>\n",
       "      <th>date</th>\n",
       "      <th>place</th>\n",
       "    </tr>\n",
       "  </thead>\n",
       "  <tbody>\n",
       "    <tr>\n",
       "      <th>0</th>\n",
       "      <td>ohne Drucker</td>\n",
       "      <td>NaN</td>\n",
       "      <td>11</td>\n",
       "      <td>Sp. 487a|Sp. 674a|Sp. 654a|Sp. 712a|13321|1294...</td>\n",
       "      <td>|1488|um 1500|um 1494(?)|nicht vor 1493|um 147...</td>\n",
       "      <td>Antwerpen|Rouen|Paris|Deutschland(?)|Florenz|V...</td>\n",
       "    </tr>\n",
       "    <tr>\n",
       "      <th>1</th>\n",
       "      <td>Adriaan van Liesveldt</td>\n",
       "      <td>NaN</td>\n",
       "      <td>6</td>\n",
       "      <td>13419|13404|13406|13421|13422|13405</td>\n",
       "      <td>9.VIII.1494|1498(?)|22.VI.1494|29.VII.1495|13....</td>\n",
       "      <td>Antwerpen</td>\n",
       "    </tr>\n",
       "    <tr>\n",
       "      <th>2</th>\n",
       "      <td>Govert Bac</td>\n",
       "      <td>NaN</td>\n",
       "      <td>2</td>\n",
       "      <td>13418|13420</td>\n",
       "      <td>nicht vor 1493|1495</td>\n",
       "      <td>Antwerpen</td>\n",
       "    </tr>\n",
       "    <tr>\n",
       "      <th>3</th>\n",
       "      <td>Gerard Leeu</td>\n",
       "      <td>NaN</td>\n",
       "      <td>6</td>\n",
       "      <td>13417|13400|13399|13403|13413|13401</td>\n",
       "      <td>um 1483/84|13.III.1492|14 87|1487|27.VII.1489|...</td>\n",
       "      <td>Antwerpen|Gouda</td>\n",
       "    </tr>\n",
       "    <tr>\n",
       "      <th>4</th>\n",
       "      <td>Gerard Leeu oder Adriaan van Liesveldt</td>\n",
       "      <td>NaN</td>\n",
       "      <td>1</td>\n",
       "      <td>13402</td>\n",
       "      <td>nicht vor 30.IV.1491, nicht nach 1492 oder nic...</td>\n",
       "      <td>Antwerpen</td>\n",
       "    </tr>\n",
       "    <tr>\n",
       "      <th>...</th>\n",
       "      <td>...</td>\n",
       "      <td>...</td>\n",
       "      <td>...</td>\n",
       "      <td>...</td>\n",
       "      <td>...</td>\n",
       "      <td>...</td>\n",
       "    </tr>\n",
       "    <tr>\n",
       "      <th>218</th>\n",
       "      <td>Julian Notary</td>\n",
       "      <td>NaN</td>\n",
       "      <td>1</td>\n",
       "      <td>13028</td>\n",
       "      <td>2.IV.1500</td>\n",
       "      <td>Westminster</td>\n",
       "    </tr>\n",
       "    <tr>\n",
       "      <th>219</th>\n",
       "      <td>Wynkyn de Worde auf Veranlassung von Elisabeth...</td>\n",
       "      <td>NaN</td>\n",
       "      <td>1</td>\n",
       "      <td>13025</td>\n",
       "      <td>um 1493</td>\n",
       "      <td>Westminster</td>\n",
       "    </tr>\n",
       "    <tr>\n",
       "      <th>220</th>\n",
       "      <td>Wynkyn de Worde</td>\n",
       "      <td>NaN</td>\n",
       "      <td>2</td>\n",
       "      <td>13026|13027</td>\n",
       "      <td>um 1493/94|um 1494</td>\n",
       "      <td>Westminster</td>\n",
       "    </tr>\n",
       "    <tr>\n",
       "      <th>221</th>\n",
       "      <td>Georg Coci und Genossen</td>\n",
       "      <td>NaN</td>\n",
       "      <td>1</td>\n",
       "      <td>13446</td>\n",
       "      <td>30.VII.1500</td>\n",
       "      <td>Zaragoza</td>\n",
       "    </tr>\n",
       "    <tr>\n",
       "      <th>222</th>\n",
       "      <td>Paul Hurus</td>\n",
       "      <td>NaN</td>\n",
       "      <td>2</td>\n",
       "      <td>13445|13444</td>\n",
       "      <td>9.III.1499|um 1490</td>\n",
       "      <td>Zaragoza</td>\n",
       "    </tr>\n",
       "  </tbody>\n",
       "</table>\n",
       "<p>223 rows × 6 columns</p>\n",
       "</div>"
      ],
      "text/plain": [
       "                                               printer bookseller  weight  \\\n",
       "0                                         ohne Drucker        NaN      11   \n",
       "1                                Adriaan van Liesveldt        NaN       6   \n",
       "2                                           Govert Bac        NaN       2   \n",
       "3                                          Gerard Leeu        NaN       6   \n",
       "4               Gerard Leeu oder Adriaan van Liesveldt        NaN       1   \n",
       "..                                                 ...        ...     ...   \n",
       "218                                      Julian Notary        NaN       1   \n",
       "219  Wynkyn de Worde auf Veranlassung von Elisabeth...        NaN       1   \n",
       "220                                    Wynkyn de Worde        NaN       2   \n",
       "221                            Georg Coci und Genossen        NaN       1   \n",
       "222                                         Paul Hurus        NaN       2   \n",
       "\n",
       "                                                 GWids  \\\n",
       "0    Sp. 487a|Sp. 674a|Sp. 654a|Sp. 712a|13321|1294...   \n",
       "1                  13419|13404|13406|13421|13422|13405   \n",
       "2                                          13418|13420   \n",
       "3                  13417|13400|13399|13403|13413|13401   \n",
       "4                                                13402   \n",
       "..                                                 ...   \n",
       "218                                              13028   \n",
       "219                                              13025   \n",
       "220                                        13026|13027   \n",
       "221                                              13446   \n",
       "222                                        13445|13444   \n",
       "\n",
       "                                                  date  \\\n",
       "0    |1488|um 1500|um 1494(?)|nicht vor 1493|um 147...   \n",
       "1    9.VIII.1494|1498(?)|22.VI.1494|29.VII.1495|13....   \n",
       "2                                  nicht vor 1493|1495   \n",
       "3    um 1483/84|13.III.1492|14 87|1487|27.VII.1489|...   \n",
       "4    nicht vor 30.IV.1491, nicht nach 1492 oder nic...   \n",
       "..                                                 ...   \n",
       "218                                          2.IV.1500   \n",
       "219                                            um 1493   \n",
       "220                                 um 1493/94|um 1494   \n",
       "221                                        30.VII.1500   \n",
       "222                                 9.III.1499|um 1490   \n",
       "\n",
       "                                                 place  \n",
       "0    Antwerpen|Rouen|Paris|Deutschland(?)|Florenz|V...  \n",
       "1                                            Antwerpen  \n",
       "2                                            Antwerpen  \n",
       "3                                      Antwerpen|Gouda  \n",
       "4                                            Antwerpen  \n",
       "..                                                 ...  \n",
       "218                                        Westminster  \n",
       "219                                        Westminster  \n",
       "220                                        Westminster  \n",
       "221                                           Zaragoza  \n",
       "222                                           Zaragoza  \n",
       "\n",
       "[223 rows x 6 columns]"
      ]
     },
     "execution_count": 15,
     "metadata": {},
     "output_type": "execute_result"
    }
   ],
   "source": [
    "# Load your CSV file into a DataFrame\n",
    "# The CSV file should have two columns, let's call them 'Node1' and 'Node2'\n",
    "# Each row represents an edge between Node1 and Node2\n",
    "csv_file_path = './output.csv'  # Replace with the path to your CSV file\n",
    "df = pd.read_csv(csv_file_path, sep=';')\n",
    "df"
   ]
  },
  {
   "cell_type": "markdown",
   "metadata": {},
   "source": [
    "The created dataframe contains many rows with \"NaN\" values, most of times when there is no bookseller information, sometimes when there is no printer information. We will filter out this rows."
   ]
  },
  {
   "cell_type": "code",
   "execution_count": 16,
   "metadata": {
    "tags": []
   },
   "outputs": [
    {
     "data": {
      "text/html": [
       "<div>\n",
       "<style scoped>\n",
       "    .dataframe tbody tr th:only-of-type {\n",
       "        vertical-align: middle;\n",
       "    }\n",
       "\n",
       "    .dataframe tbody tr th {\n",
       "        vertical-align: top;\n",
       "    }\n",
       "\n",
       "    .dataframe thead th {\n",
       "        text-align: right;\n",
       "    }\n",
       "</style>\n",
       "<table border=\"1\" class=\"dataframe\">\n",
       "  <thead>\n",
       "    <tr style=\"text-align: right;\">\n",
       "      <th></th>\n",
       "      <th>printer</th>\n",
       "      <th>bookseller</th>\n",
       "      <th>weight</th>\n",
       "      <th>GWids</th>\n",
       "      <th>date</th>\n",
       "      <th>place</th>\n",
       "    </tr>\n",
       "  </thead>\n",
       "  <tbody>\n",
       "    <tr>\n",
       "      <th>42</th>\n",
       "      <td>Julian Notary, Jean Barbier und I. H.</td>\n",
       "      <td>Wynkyn de Worde</td>\n",
       "      <td>1</td>\n",
       "      <td>13017</td>\n",
       "      <td>3.IV.1497</td>\n",
       "      <td>London</td>\n",
       "    </tr>\n",
       "    <tr>\n",
       "      <th>54</th>\n",
       "      <td>Nicolaus de Benedictis</td>\n",
       "      <td>Boninus de Boninis</td>\n",
       "      <td>2</td>\n",
       "      <td>13038|13037</td>\n",
       "      <td>20.III.1499|20.V.1499</td>\n",
       "      <td>Lyon</td>\n",
       "    </tr>\n",
       "    <tr>\n",
       "      <th>56</th>\n",
       "      <td>Jacobinus Suigus und Nicolaus de Benedictis</td>\n",
       "      <td>Boninus de Boninis</td>\n",
       "      <td>1</td>\n",
       "      <td>Sp. 429a</td>\n",
       "      <td>26.VIII.1500 vielmehr 1501</td>\n",
       "      <td>Lyon</td>\n",
       "    </tr>\n",
       "    <tr>\n",
       "      <th>68</th>\n",
       "      <td>Martin von Amsterdam</td>\n",
       "      <td>Andreas Ihyracensis</td>\n",
       "      <td>1</td>\n",
       "      <td>13350</td>\n",
       "      <td>27.I.1499</td>\n",
       "      <td>Neapel</td>\n",
       "    </tr>\n",
       "    <tr>\n",
       "      <th>71</th>\n",
       "      <td>Christian Preller</td>\n",
       "      <td>Antoine Gontier</td>\n",
       "      <td>1</td>\n",
       "      <td>13343</td>\n",
       "      <td>9.IV.1490</td>\n",
       "      <td>Neapel</td>\n",
       "    </tr>\n",
       "    <tr>\n",
       "      <th>...</th>\n",
       "      <td>...</td>\n",
       "      <td>...</td>\n",
       "      <td>...</td>\n",
       "      <td>...</td>\n",
       "      <td>...</td>\n",
       "      <td>...</td>\n",
       "    </tr>\n",
       "    <tr>\n",
       "      <th>201</th>\n",
       "      <td>Johann Hamann</td>\n",
       "      <td>Gerard Barrevelt und Frederick Egmondt</td>\n",
       "      <td>1</td>\n",
       "      <td>13377</td>\n",
       "      <td>1494</td>\n",
       "      <td>Venedig</td>\n",
       "    </tr>\n",
       "    <tr>\n",
       "      <th>202</th>\n",
       "      <td>Johann Hamann</td>\n",
       "      <td>Johann Volkarth</td>\n",
       "      <td>1</td>\n",
       "      <td>13380</td>\n",
       "      <td>14.XI.1495</td>\n",
       "      <td>Venedig</td>\n",
       "    </tr>\n",
       "    <tr>\n",
       "      <th>203</th>\n",
       "      <td>Johann Hamann</td>\n",
       "      <td>Octavianus Scotus</td>\n",
       "      <td>1</td>\n",
       "      <td>13385</td>\n",
       "      <td>1.X.1497</td>\n",
       "      <td>Venedig</td>\n",
       "    </tr>\n",
       "    <tr>\n",
       "      <th>205</th>\n",
       "      <td>Nicolas Jenson</td>\n",
       "      <td>? Raphael Zovenzonius</td>\n",
       "      <td>1</td>\n",
       "      <td>13357</td>\n",
       "      <td>um 1475</td>\n",
       "      <td>Venedig</td>\n",
       "    </tr>\n",
       "    <tr>\n",
       "      <th>212</th>\n",
       "      <td>Andreas Torresanus</td>\n",
       "      <td>Johann von Köln, Nicolas Jenson und Genossen</td>\n",
       "      <td>1</td>\n",
       "      <td>13362</td>\n",
       "      <td>22.XII.1481</td>\n",
       "      <td>Venedig</td>\n",
       "    </tr>\n",
       "  </tbody>\n",
       "</table>\n",
       "<p>72 rows × 6 columns</p>\n",
       "</div>"
      ],
      "text/plain": [
       "                                         printer  \\\n",
       "42         Julian Notary, Jean Barbier und I. H.   \n",
       "54                        Nicolaus de Benedictis   \n",
       "56   Jacobinus Suigus und Nicolaus de Benedictis   \n",
       "68                          Martin von Amsterdam   \n",
       "71                             Christian Preller   \n",
       "..                                           ...   \n",
       "201                                Johann Hamann   \n",
       "202                                Johann Hamann   \n",
       "203                                Johann Hamann   \n",
       "205                               Nicolas Jenson   \n",
       "212                           Andreas Torresanus   \n",
       "\n",
       "                                       bookseller  weight        GWids  \\\n",
       "42                                Wynkyn de Worde       1        13017   \n",
       "54                             Boninus de Boninis       2  13038|13037   \n",
       "56                             Boninus de Boninis       1     Sp. 429a   \n",
       "68                            Andreas Ihyracensis       1        13350   \n",
       "71                                Antoine Gontier       1        13343   \n",
       "..                                            ...     ...          ...   \n",
       "201        Gerard Barrevelt und Frederick Egmondt       1        13377   \n",
       "202                               Johann Volkarth       1        13380   \n",
       "203                             Octavianus Scotus       1        13385   \n",
       "205                         ? Raphael Zovenzonius       1        13357   \n",
       "212  Johann von Köln, Nicolas Jenson und Genossen       1        13362   \n",
       "\n",
       "                           date    place  \n",
       "42                    3.IV.1497   London  \n",
       "54        20.III.1499|20.V.1499     Lyon  \n",
       "56   26.VIII.1500 vielmehr 1501     Lyon  \n",
       "68                    27.I.1499   Neapel  \n",
       "71                    9.IV.1490   Neapel  \n",
       "..                          ...      ...  \n",
       "201                        1494  Venedig  \n",
       "202                  14.XI.1495  Venedig  \n",
       "203                    1.X.1497  Venedig  \n",
       "205                     um 1475  Venedig  \n",
       "212                 22.XII.1481  Venedig  \n",
       "\n",
       "[72 rows x 6 columns]"
      ]
     },
     "execution_count": 16,
     "metadata": {},
     "output_type": "execute_result"
    }
   ],
   "source": [
    "filtered_df = df.dropna(subset=['printer', 'bookseller'])\n",
    "filtered_df"
   ]
  },
  {
   "cell_type": "code",
   "execution_count": 17,
   "metadata": {
    "tags": []
   },
   "outputs": [
    {
     "name": "stdout",
     "output_type": "stream",
     "text": [
      "Number of nodes: 87\n",
      "Number of edges: 72\n"
     ]
    },
    {
     "data": {
      "image/png": "[encoded data removed]",
      "text/plain": [
       "<Figure size 640x480 with 1 Axes>"
      ]
     },
     "metadata": {},
     "output_type": "display_data"
    },
    {
     "name": "stdout",
     "output_type": "stream",
     "text": [
      "\n",
      "Degree Centrality:\n",
      "Node Julian Notary, Jean Barbier und I. H.: 0.0116\n",
      "Node Wynkyn de Worde: 0.0116\n",
      "Node Nicolaus de Benedictis: 0.0116\n",
      "Node Boninus de Boninis: 0.0233\n",
      "Node Jacobinus Suigus und Nicolaus de Benedictis: 0.0116\n",
      "Node Martin von Amsterdam: 0.0116\n",
      "Node Andreas Ihyracensis: 0.0116\n",
      "Node Christian Preller: 0.0116\n",
      "Node Antoine Gontier: 0.0116\n",
      "Node Friedrich Peypus: 0.0116\n",
      "Node Johann Koberger: 0.0116\n",
      "Node Guillaume Anabat: 0.0116\n",
      "Node Gilles und Germain Hardouyn: 0.0116\n",
      "Node André Bocard: 0.0233\n",
      "Node Antoine Vérard(?): 0.0233\n",
      "Node André Bocard(?): 0.0116\n",
      "Node Antoine Vérard: 0.1279\n",
      "Node Antoine Caillaut: 0.0233\n",
      "Node Antoine Chappiel: 0.0116\n",
      "Node Germain Hardouyn: 0.0116\n",
      "Node Jean Du Pré: 0.0349\n",
      "Node Denis Meslier: 0.0116\n",
      "Node Ulrich Gering und Berthold Remboldt: 0.0116\n",
      "Node Simon Vostre: 0.0349\n",
      "Node Johann Higman: 0.0116\n",
      "Node Willem Houtmaert in Antwerpen: 0.0116\n",
      "Node Nicolas Higman: 0.0116\n",
      "Node Etienne Jehannot: 0.1047\n",
      "Node Johannes de Campis in Cambrai: 0.0116\n",
      "Node Pierre Regnault in Caen: 0.0233\n",
      "Node Jean Petit: 0.0116\n",
      "Node Denis Roce: 0.0116\n",
      "Node die Brüder de Marnef: 0.0349\n",
      "Node Pierre Pasquier: 0.0116\n",
      "Node Jean Poitevin: 0.0233\n",
      "Node Gilles Hardouyn: 0.0116\n",
      "Node Jean Jehannot: 0.0116\n",
      "Node Nicolaus Lecomte: 0.0116\n",
      "Node Thielmann Kerver: 0.0930\n",
      "Node Robert Macé in Caen: 0.0233\n",
      "Node Gilles Remacle: 0.0116\n",
      "Node Hugues Pageot in Dijon: 0.0116\n",
      "Node Guillaume Eustace: 0.0116\n",
      "Node Jean Petit in Paris und Pierre Cochery in Le Mans: 0.0116\n",
      "Node Gauche Preta in Châlons: 0.0116\n",
      "Node sich selbst, Gilles Remacle und Guillaume Eustace: 0.0116\n",
      "Node Pierre Le Dru und Etienne Jehannot: 0.0116\n",
      "Node Robin Challot: 0.0116\n",
      "Node Pierre Le Dru(?): 0.0116\n",
      "Node Guillaume Le Rouge: 0.0116\n",
      "Node Pierre Le Rouge(?): 0.0116\n",
      "Node Pierre Le Rouge: 0.0116\n",
      "Node Vincent Commin: 0.0116\n",
      "Node Pierre Levet: 0.0116\n",
      "Node Guy Marchant: 0.0233\n",
      "Node Jean Morand(?): 0.0233\n",
      "Node Jean de Coulonces bzw. Robin Challot: 0.0116\n",
      "Node Jean Morand: 0.0349\n",
      "Node Geoffroi de Marnef: 0.0233\n",
      "Node Enguilbert de Marnef und Jean Alexandre: 0.0116\n",
      "Node Johann Philippi: 0.0349\n",
      "Node Thielmann Kerver in Paris und Jean Richard in Rouen: 0.0116\n",
      "Node Jacques Bezanceau in Poitiers und Thielmann Kerver in Paris: 0.0116\n",
      "Node Philippe Pigouchet: 0.1279\n",
      "Node Philippe Pigouchet z.T.: 0.0116\n",
      "Node sich selbst und die Brüder de Marnef: 0.0116\n",
      "Node Toussaint de Montjay: 0.0116\n",
      "Node Jean Richard in Rouen: 0.0116\n",
      "Node Jean Du Bois in Auxerre(?): 0.0116\n",
      "Node Macé Panthoul in Troyes: 0.0116\n",
      "Node Jean Magdalene in Metz: 0.0116\n",
      "Node Jean Lagache in Arras: 0.0116\n",
      "Node Narcisse Bruno: 0.0116\n",
      "Node Georg Wolff und Thielmann Kerver: 0.0116\n",
      "Node Jacques Le Forestier: 0.0116\n",
      "Node Peter Hagembach und Leonhard Hutz: 0.0116\n",
      "Node Jacobus de Villa: 0.0116\n",
      "Node Johann Emerich: 0.0116\n",
      "Node Lucantonio Giunta: 0.0116\n",
      "Node Johann Hamann: 0.0349\n",
      "Node Gerard Barrevelt und Frederick Egmondt: 0.0116\n",
      "Node Johann Volkarth: 0.0116\n",
      "Node Octavianus Scotus: 0.0116\n",
      "Node Nicolas Jenson: 0.0116\n",
      "Node ? Raphael Zovenzonius: 0.0116\n",
      "Node Andreas Torresanus: 0.0116\n",
      "Node Johann von Köln, Nicolas Jenson und Genossen: 0.0116\n"
     ]
    }
   ],
   "source": [
    "# Create an empty graph\n",
    "G = nx.Graph()\n",
    "\n",
    "# Add edges from the DataFrame to the graph\n",
    "\n",
    "# G.add_edges_from(filtered_df[['printer', 'bookseller']].values)\n",
    "G.add_weighted_edges_from(filtered_df[['printer', 'bookseller', 'weight']].values)\n",
    "\n",
    "# Print basic information about the graph\n",
    "print(f\"Number of nodes: {G.number_of_nodes()}\")\n",
    "print(f\"Number of edges: {G.number_of_edges()}\")\n",
    "\n",
    "# Draw the network graph\n",
    "pos = nx.kamada_kawai_layout(G)  # You can use different layout algorithms \n",
    "                                            #spring_layout \n",
    "                                            #fruchterman_reingold_layout \n",
    "                                            #kamada_kawai_layout\n",
    "nx.draw(G, pos, with_labels=True, node_size=100, node_color='skyblue', font_size=8)\n",
    "plt.title('Network Graph')\n",
    "plt.show()\n",
    "\n",
    "# Perform network analysis\n",
    "degree_centrality = nx.degree_centrality(G)\n",
    "print(\"\\nDegree Centrality:\")\n",
    "for node, centrality in degree_centrality.items():\n",
    "    print(f\"Node {node}: {centrality:.4f}\")\n",
    "\n",
    "# You can explore more network analysis metrics and functions provided by NetworkX\n",
    "# For example, betweenness_centrality, closeness_centrality, etc."
   ]
  },
  {
   "cell_type": "markdown",
   "metadata": {},
   "source": [
    "Creating an interactive graph"
   ]
  },
  {
   "cell_type": "code",
   "execution_count": 21,
   "metadata": {
    "scrolled": true,
    "tags": []
   },
   "outputs": [
    {
     "name": "stdout",
     "output_type": "stream",
     "text": [
      "plotly :  5.9.0\n"
     ]
    },
    {
     "data": {
      "application/vnd.plotly.v1+json": {
       "config": {
        "plotlyServerURL": "https://plot.ly"
       },
       "data": [
        {
         "hoverinfo": "text",
         "marker": {
          "color": "skyblue",
          "size": 10
         },
         "mode": "markers",
         "text": "Julian Notary, Jean Barbier und I. H.",
         "type": "scatter",
         "x": [
          0.8523893592964603
         ],
         "y": [
          -0.11237311775696501
         ]
        },
        {
         "hoverinfo": "text",
         "marker": {
          "color": "skyblue",
          "size": 10
         },
         "mode": "markers",
         "text": "Wynkyn de Worde",
         "type": "scatter",
         "x": [
          0.7792090689938204
         ],
         "y": [
          -0.10800201204181767
         ]
        },
        {
         "hoverinfo": "text",
         "marker": {
          "color": "skyblue",
          "size": 10
         },
         "mode": "markers",
         "text": "Nicolaus de Benedictis",
         "type": "scatter",
         "x": [
          -0.08785183200395623
         ],
         "y": [
          0.961982275586413
         ]
        },
        {
         "hoverinfo": "text",
         "marker": {
          "color": "skyblue",
          "size": 10
         },
         "mode": "markers",
         "text": "Boninus de Boninis",
         "type": "scatter",
         "x": [
          -0.11931471777360868
         ],
         "y": [
          0.9623855906499961
         ]
        },
        {
         "hoverinfo": "text",
         "marker": {
          "color": "skyblue",
          "size": 10
         },
         "mode": "markers",
         "text": "Jacobinus Suigus und Nicolaus de Benedictis",
         "type": "scatter",
         "x": [
          -0.14591613344735888
         ],
         "y": [
          1
         ]
        },
        {
         "hoverinfo": "text",
         "marker": {
          "color": "skyblue",
          "size": 10
         },
         "mode": "markers",
         "text": "Martin von Amsterdam",
         "type": "scatter",
         "x": [
          0.6656481367594784
         ],
         "y": [
          0.4709356591569285
         ]
        },
        {
         "hoverinfo": "text",
         "marker": {
          "color": "skyblue",
          "size": 10
         },
         "mode": "markers",
         "text": "Andreas Ihyracensis",
         "type": "scatter",
         "x": [
          0.6963965453053762
         ],
         "y": [
          0.4530160787640414
         ]
        },
        {
         "hoverinfo": "text",
         "marker": {
          "color": "skyblue",
          "size": 10
         },
         "mode": "markers",
         "text": "Christian Preller",
         "type": "scatter",
         "x": [
          -0.8126854456992423
         ],
         "y": [
          0.3903370882481933
         ]
        },
        {
         "hoverinfo": "text",
         "marker": {
          "color": "skyblue",
          "size": 10
         },
         "mode": "markers",
         "text": "Antoine Gontier",
         "type": "scatter",
         "x": [
          -0.8472837226841338
         ],
         "y": [
          0.38297628264110284
         ]
        },
        {
         "hoverinfo": "text",
         "marker": {
          "color": "skyblue",
          "size": 10
         },
         "mode": "markers",
         "text": "Friedrich Peypus",
         "type": "scatter",
         "x": [
          0.2876485915807303
         ],
         "y": [
          0.8238824895326969
         ]
        },
        {
         "hoverinfo": "text",
         "marker": {
          "color": "skyblue",
          "size": 10
         },
         "mode": "markers",
         "text": "Johann Koberger",
         "type": "scatter",
         "x": [
          0.31465914096322595
         ],
         "y": [
          0.8799247086741236
         ]
        },
        {
         "hoverinfo": "text",
         "marker": {
          "color": "skyblue",
          "size": 10
         },
         "mode": "markers",
         "text": "Guillaume Anabat",
         "type": "scatter",
         "x": [
          -0.9728529090734721
         ],
         "y": [
          -0.28280672210658087
         ]
        },
        {
         "hoverinfo": "text",
         "marker": {
          "color": "skyblue",
          "size": 10
         },
         "mode": "markers",
         "text": "Gilles und Germain Hardouyn",
         "type": "scatter",
         "x": [
          -0.9441853372996893
         ],
         "y": [
          -0.27575378053852984
         ]
        },
        {
         "hoverinfo": "text",
         "marker": {
          "color": "skyblue",
          "size": 10
         },
         "mode": "markers",
         "text": "André Bocard",
         "type": "scatter",
         "x": [
          -0.052991530157687775
         ],
         "y": [
          0.30255687299589507
         ]
        },
        {
         "hoverinfo": "text",
         "marker": {
          "color": "skyblue",
          "size": 10
         },
         "mode": "markers",
         "text": "Antoine Vérard(?)",
         "type": "scatter",
         "x": [
          -0.006483833999752863
         ],
         "y": [
          0.36725253844021427
         ]
        },
        {
         "hoverinfo": "text",
         "marker": {
          "color": "skyblue",
          "size": 10
         },
         "mode": "markers",
         "text": "André Bocard(?)",
         "type": "scatter",
         "x": [
          -0.06694875189828725
         ],
         "y": [
          0.3479133472596732
         ]
        },
        {
         "hoverinfo": "text",
         "marker": {
          "color": "skyblue",
          "size": 10
         },
         "mode": "markers",
         "text": "Antoine Vérard",
         "type": "scatter",
         "x": [
          -0.08775727140148025
         ],
         "y": [
          0.26631181458927883
         ]
        },
        {
         "hoverinfo": "text",
         "marker": {
          "color": "skyblue",
          "size": 10
         },
         "mode": "markers",
         "text": "Antoine Caillaut",
         "type": "scatter",
         "x": [
          -0.09916811291046948
         ],
         "y": [
          0.2970808648903127
         ]
        },
        {
         "hoverinfo": "text",
         "marker": {
          "color": "skyblue",
          "size": 10
         },
         "mode": "markers",
         "text": "Antoine Chappiel",
         "type": "scatter",
         "x": [
          -0.592398234741294
         ],
         "y": [
          -0.6923665885215706
         ]
        },
        {
         "hoverinfo": "text",
         "marker": {
          "color": "skyblue",
          "size": 10
         },
         "mode": "markers",
         "text": "Germain Hardouyn",
         "type": "scatter",
         "x": [
          -0.5485396646098896
         ],
         "y": [
          -0.6500420158358864
         ]
        },
        {
         "hoverinfo": "text",
         "marker": {
          "color": "skyblue",
          "size": 10
         },
         "mode": "markers",
         "text": "Jean Du Pré",
         "type": "scatter",
         "x": [
          -0.12633723786635
         ],
         "y": [
          0.28290422615609956
         ]
        },
        {
         "hoverinfo": "text",
         "marker": {
          "color": "skyblue",
          "size": 10
         },
         "mode": "markers",
         "text": "Denis Meslier",
         "type": "scatter",
         "x": [
          -0.19796892789334852
         ],
         "y": [
          0.3175067883537227
         ]
        },
        {
         "hoverinfo": "text",
         "marker": {
          "color": "skyblue",
          "size": 10
         },
         "mode": "markers",
         "text": "Ulrich Gering und Berthold Remboldt",
         "type": "scatter",
         "x": [
          -0.24791721452325774
         ],
         "y": [
          -0.0993145498510491
         ]
        },
        {
         "hoverinfo": "text",
         "marker": {
          "color": "skyblue",
          "size": 10
         },
         "mode": "markers",
         "text": "Simon Vostre",
         "type": "scatter",
         "x": [
          -0.17252957042773062
         ],
         "y": [
          -0.04831308532533802
         ]
        },
        {
         "hoverinfo": "text",
         "marker": {
          "color": "skyblue",
          "size": 10
         },
         "mode": "markers",
         "text": "Johann Higman",
         "type": "scatter",
         "x": [
          -0.13084972193034486
         ],
         "y": [
          -0.6430546637636475
         ]
        },
        {
         "hoverinfo": "text",
         "marker": {
          "color": "skyblue",
          "size": 10
         },
         "mode": "markers",
         "text": "Willem Houtmaert in Antwerpen",
         "type": "scatter",
         "x": [
          -0.1557250030276227
         ],
         "y": [
          -0.6798883905110044
         ]
        },
        {
         "hoverinfo": "text",
         "marker": {
          "color": "skyblue",
          "size": 10
         },
         "mode": "markers",
         "text": "Nicolas Higman",
         "type": "scatter",
         "x": [
          -0.20497821608498928
         ],
         "y": [
          -0.0808316711239252
         ]
        },
        {
         "hoverinfo": "text",
         "marker": {
          "color": "skyblue",
          "size": 10
         },
         "mode": "markers",
         "text": "Etienne Jehannot",
         "type": "scatter",
         "x": [
          -0.05569604148001072
         ],
         "y": [
          0.18655599212227753
         ]
        },
        {
         "hoverinfo": "text",
         "marker": {
          "color": "skyblue",
          "size": 10
         },
         "mode": "markers",
         "text": "Johannes de Campis in Cambrai",
         "type": "scatter",
         "x": [
          0.029070111771450878
         ],
         "y": [
          0.19077925516636618
         ]
        },
        {
         "hoverinfo": "text",
         "marker": {
          "color": "skyblue",
          "size": 10
         },
         "mode": "markers",
         "text": "Pierre Regnault in Caen",
         "type": "scatter",
         "x": [
          -0.09321301123994015
         ],
         "y": [
          0.10129144797107731
         ]
        },
        {
         "hoverinfo": "text",
         "marker": {
          "color": "skyblue",
          "size": 10
         },
         "mode": "markers",
         "text": "Jean Petit",
         "type": "scatter",
         "x": [
          0.0203891474309241
         ],
         "y": [
          0.22575367942476546
         ]
        },
        {
         "hoverinfo": "text",
         "marker": {
          "color": "skyblue",
          "size": 10
         },
         "mode": "markers",
         "text": "Denis Roce",
         "type": "scatter",
         "x": [
          -0.007039959976450998
         ],
         "y": [
          0.19653475872080772
         ]
        },
        {
         "hoverinfo": "text",
         "marker": {
          "color": "skyblue",
          "size": 10
         },
         "mode": "markers",
         "text": "die Brüder de Marnef",
         "type": "scatter",
         "x": [
          -0.09620097689357371
         ],
         "y": [
          0.059909040988435386
         ]
        },
        {
         "hoverinfo": "text",
         "marker": {
          "color": "skyblue",
          "size": 10
         },
         "mode": "markers",
         "text": "Pierre Pasquier",
         "type": "scatter",
         "x": [
          0.014748685054467366
         ],
         "y": [
          0.15827903292492848
         ]
        },
        {
         "hoverinfo": "text",
         "marker": {
          "color": "skyblue",
          "size": 10
         },
         "mode": "markers",
         "text": "Jean Poitevin",
         "type": "scatter",
         "x": [
          -0.031498861321180315
         ],
         "y": [
          0.16046292762370687
         ]
        },
        {
         "hoverinfo": "text",
         "marker": {
          "color": "skyblue",
          "size": 10
         },
         "mode": "markers",
         "text": "Gilles Hardouyn",
         "type": "scatter",
         "x": [
          -0.013355873886738593
         ],
         "y": [
          0.23615994944216553
         ]
        },
        {
         "hoverinfo": "text",
         "marker": {
          "color": "skyblue",
          "size": 10
         },
         "mode": "markers",
         "text": "Jean Jehannot",
         "type": "scatter",
         "x": [
          0.2930832553356206
         ],
         "y": [
          -0.8719700387871356
         ]
        },
        {
         "hoverinfo": "text",
         "marker": {
          "color": "skyblue",
          "size": 10
         },
         "mode": "markers",
         "text": "Nicolaus Lecomte",
         "type": "scatter",
         "x": [
          0.31380277409512386
         ],
         "y": [
          -0.8424369601958253
         ]
        },
        {
         "hoverinfo": "text",
         "marker": {
          "color": "skyblue",
          "size": 10
         },
         "mode": "markers",
         "text": "Thielmann Kerver",
         "type": "scatter",
         "x": [
          0.591340633277366
         ],
         "y": [
          -0.0845007574454604
         ]
        },
        {
         "hoverinfo": "text",
         "marker": {
          "color": "skyblue",
          "size": 10
         },
         "mode": "markers",
         "text": "Robert Macé in Caen",
         "type": "scatter",
         "x": [
          0.6633125028153365
         ],
         "y": [
          -0.11362134672389437
         ]
        },
        {
         "hoverinfo": "text",
         "marker": {
          "color": "skyblue",
          "size": 10
         },
         "mode": "markers",
         "text": "Gilles Remacle",
         "type": "scatter",
         "x": [
          0.5739785743238821
         ],
         "y": [
          -0.06453383266838704
         ]
        },
        {
         "hoverinfo": "text",
         "marker": {
          "color": "skyblue",
          "size": 10
         },
         "mode": "markers",
         "text": "Hugues Pageot in Dijon",
         "type": "scatter",
         "x": [
          0.6018708405970218
         ],
         "y": [
          -0.019391786658390423
         ]
        },
        {
         "hoverinfo": "text",
         "marker": {
          "color": "skyblue",
          "size": 10
         },
         "mode": "markers",
         "text": "Guillaume Eustace",
         "type": "scatter",
         "x": [
          0.5645868860039804
         ],
         "y": [
          -0.09555288142233478
         ]
        },
        {
         "hoverinfo": "text",
         "marker": {
          "color": "skyblue",
          "size": 10
         },
         "mode": "markers",
         "text": "Jean Petit in Paris und Pierre Cochery in Le Mans",
         "type": "scatter",
         "x": [
          0.5695160215237248
         ],
         "y": [
          -0.13843931242167937
         ]
        },
        {
         "hoverinfo": "text",
         "marker": {
          "color": "skyblue",
          "size": 10
         },
         "mode": "markers",
         "text": "Gauche Preta in Châlons",
         "type": "scatter",
         "x": [
          0.6604233218973153
         ],
         "y": [
          -0.06472558075049206
         ]
        },
        {
         "hoverinfo": "text",
         "marker": {
          "color": "skyblue",
          "size": 10
         },
         "mode": "markers",
         "text": "sich selbst, Gilles Remacle und Guillaume Eustace",
         "type": "scatter",
         "x": [
          0.6405639748562948
         ],
         "y": [
          -0.03304447930371658
         ]
        },
        {
         "hoverinfo": "text",
         "marker": {
          "color": "skyblue",
          "size": 10
         },
         "mode": "markers",
         "text": "Pierre Le Dru und Etienne Jehannot",
         "type": "scatter",
         "x": [
          -0.2544982948243329
         ],
         "y": [
          -0.8520731094843562
         ]
        },
        {
         "hoverinfo": "text",
         "marker": {
          "color": "skyblue",
          "size": 10
         },
         "mode": "markers",
         "text": "Robin Challot",
         "type": "scatter",
         "x": [
          -0.2860495458254048
         ],
         "y": [
          -0.8676879749543082
         ]
        },
        {
         "hoverinfo": "text",
         "marker": {
          "color": "skyblue",
          "size": 10
         },
         "mode": "markers",
         "text": "Pierre Le Dru(?)",
         "type": "scatter",
         "x": [
          0.013477538705116842
         ],
         "y": [
          0.12405643760503829
         ]
        },
        {
         "hoverinfo": "text",
         "marker": {
          "color": "skyblue",
          "size": 10
         },
         "mode": "markers",
         "text": "Guillaume Le Rouge",
         "type": "scatter",
         "x": [
          -0.10105059181538523
         ],
         "y": [
          0.34577675660165025
         ]
        },
        {
         "hoverinfo": "text",
         "marker": {
          "color": "skyblue",
          "size": 10
         },
         "mode": "markers",
         "text": "Pierre Le Rouge(?)",
         "type": "scatter",
         "x": [
          -0.11880969291510879
         ],
         "y": [
          0.23982779275895127
         ]
        },
        {
         "hoverinfo": "text",
         "marker": {
          "color": "skyblue",
          "size": 10
         },
         "mode": "markers",
         "text": "Pierre Le Rouge",
         "type": "scatter",
         "x": [
          -0.0158925119275923
         ],
         "y": [
          -0.7904224491943135
         ]
        },
        {
         "hoverinfo": "text",
         "marker": {
          "color": "skyblue",
          "size": 10
         },
         "mode": "markers",
         "text": "Vincent Commin",
         "type": "scatter",
         "x": [
          -0.04972976785533726
         ],
         "y": [
          -0.7833453848916027
         ]
        },
        {
         "hoverinfo": "text",
         "marker": {
          "color": "skyblue",
          "size": 10
         },
         "mode": "markers",
         "text": "Pierre Levet",
         "type": "scatter",
         "x": [
          -0.1394879014802143
         ],
         "y": [
          0.3265146014671464
         ]
        },
        {
         "hoverinfo": "text",
         "marker": {
          "color": "skyblue",
          "size": 10
         },
         "mode": "markers",
         "text": "Guy Marchant",
         "type": "scatter",
         "x": [
          -0.02800433973529084
         ],
         "y": [
          0.333454702440112
         ]
        },
        {
         "hoverinfo": "text",
         "marker": {
          "color": "skyblue",
          "size": 10
         },
         "mode": "markers",
         "text": "Jean Morand(?)",
         "type": "scatter",
         "x": [
          -0.16115157706086375
         ],
         "y": [
          0.25675189440760676
         ]
        },
        {
         "hoverinfo": "text",
         "marker": {
          "color": "skyblue",
          "size": 10
         },
         "mode": "markers",
         "text": "Jean de Coulonces bzw. Robin Challot",
         "type": "scatter",
         "x": [
          -0.23770585481721201
         ],
         "y": [
          0.2575769033276952
         ]
        },
        {
         "hoverinfo": "text",
         "marker": {
          "color": "skyblue",
          "size": 10
         },
         "mode": "markers",
         "text": "Jean Morand",
         "type": "scatter",
         "x": [
          -0.15230401329759394
         ],
         "y": [
          0.3968455335853309
         ]
        },
        {
         "hoverinfo": "text",
         "marker": {
          "color": "skyblue",
          "size": 10
         },
         "mode": "markers",
         "text": "Geoffroi de Marnef",
         "type": "scatter",
         "x": [
          -0.16953739267892337
         ],
         "y": [
          0.4533740833707105
         ]
        },
        {
         "hoverinfo": "text",
         "marker": {
          "color": "skyblue",
          "size": 10
         },
         "mode": "markers",
         "text": "Enguilbert de Marnef und Jean Alexandre",
         "type": "scatter",
         "x": [
          -0.2071104696761714
         ],
         "y": [
          0.4520705865762175
         ]
        },
        {
         "hoverinfo": "text",
         "marker": {
          "color": "skyblue",
          "size": 10
         },
         "mode": "markers",
         "text": "Johann Philippi",
         "type": "scatter",
         "x": [
          0.6143038307752582
         ],
         "y": [
          -0.13896391098481062
         ]
        },
        {
         "hoverinfo": "text",
         "marker": {
          "color": "skyblue",
          "size": 10
         },
         "mode": "markers",
         "text": "Thielmann Kerver in Paris und Jean Richard in Rouen",
         "type": "scatter",
         "x": [
          0.665756585178197
         ],
         "y": [
          -0.18591195697205098
         ]
        },
        {
         "hoverinfo": "text",
         "marker": {
          "color": "skyblue",
          "size": 10
         },
         "mode": "markers",
         "text": "Jacques Bezanceau in Poitiers und Thielmann Kerver in Paris",
         "type": "scatter",
         "x": [
          0.6293571348532481
         ],
         "y": [
          -0.20439008286901397
         ]
        },
        {
         "hoverinfo": "text",
         "marker": {
          "color": "skyblue",
          "size": 10
         },
         "mode": "markers",
         "text": "Philippe Pigouchet",
         "type": "scatter",
         "x": [
          -0.16196292478363153
         ],
         "y": [
          -0.039734685986759416
         ]
        },
        {
         "hoverinfo": "text",
         "marker": {
          "color": "skyblue",
          "size": 10
         },
         "mode": "markers",
         "text": "Philippe Pigouchet z.T.",
         "type": "scatter",
         "x": [
          -0.05691635104474618
         ],
         "y": [
          0.015440953478221912
         ]
        },
        {
         "hoverinfo": "text",
         "marker": {
          "color": "skyblue",
          "size": 10
         },
         "mode": "markers",
         "text": "sich selbst und die Brüder de Marnef",
         "type": "scatter",
         "x": [
          -0.23822519282931187
         ],
         "y": [
          -0.06240643995047953
         ]
        },
        {
         "hoverinfo": "text",
         "marker": {
          "color": "skyblue",
          "size": 10
         },
         "mode": "markers",
         "text": "Toussaint de Montjay",
         "type": "scatter",
         "x": [
          -0.12321359252322411
         ],
         "y": [
          -0.0658202113578905
         ]
        },
        {
         "hoverinfo": "text",
         "marker": {
          "color": "skyblue",
          "size": 10
         },
         "mode": "markers",
         "text": "Jean Richard in Rouen",
         "type": "scatter",
         "x": [
          -0.24257852420283516
         ],
         "y": [
          -0.031380905640114864
         ]
        },
        {
         "hoverinfo": "text",
         "marker": {
          "color": "skyblue",
          "size": 10
         },
         "mode": "markers",
         "text": "Jean Du Bois in Auxerre(?)",
         "type": "scatter",
         "x": [
          -0.12995091004245085
         ],
         "y": [
          -0.1161752799205075
         ]
        },
        {
         "hoverinfo": "text",
         "marker": {
          "color": "skyblue",
          "size": 10
         },
         "mode": "markers",
         "text": "Macé Panthoul in Troyes",
         "type": "scatter",
         "x": [
          -0.15762361184257484
         ],
         "y": [
          -0.0854741469481486
         ]
        },
        {
         "hoverinfo": "text",
         "marker": {
          "color": "skyblue",
          "size": 10
         },
         "mode": "markers",
         "text": "Jean Magdalene in Metz",
         "type": "scatter",
         "x": [
          -0.20638837514967256
         ],
         "y": [
          -0.11592444797903106
         ]
        },
        {
         "hoverinfo": "text",
         "marker": {
          "color": "skyblue",
          "size": 10
         },
         "mode": "markers",
         "text": "Jean Lagache in Arras",
         "type": "scatter",
         "x": [
          -0.1712941573783999
         ],
         "y": [
          -0.1256897200725001
         ]
        },
        {
         "hoverinfo": "text",
         "marker": {
          "color": "skyblue",
          "size": 10
         },
         "mode": "markers",
         "text": "Narcisse Bruno",
         "type": "scatter",
         "x": [
          -0.21931533142315696
         ],
         "y": [
          -0.005866855124669451
         ]
        },
        {
         "hoverinfo": "text",
         "marker": {
          "color": "skyblue",
          "size": 10
         },
         "mode": "markers",
         "text": "Georg Wolff und Thielmann Kerver",
         "type": "scatter",
         "x": [
          -0.19707728087255758
         ],
         "y": [
          0.523894922747307
         ]
        },
        {
         "hoverinfo": "text",
         "marker": {
          "color": "skyblue",
          "size": 10
         },
         "mode": "markers",
         "text": "Jacques Le Forestier",
         "type": "scatter",
         "x": [
          0.7228665185361337
         ],
         "y": [
          -0.13857658920277194
         ]
        },
        {
         "hoverinfo": "text",
         "marker": {
          "color": "skyblue",
          "size": 10
         },
         "mode": "markers",
         "text": "Peter Hagembach und Leonhard Hutz",
         "type": "scatter",
         "x": [
          0.4945706997070675
         ],
         "y": [
          -0.5351098475560722
         ]
        },
        {
         "hoverinfo": "text",
         "marker": {
          "color": "skyblue",
          "size": 10
         },
         "mode": "markers",
         "text": "Jacobus de Villa",
         "type": "scatter",
         "x": [
          0.52887225110112
         ],
         "y": [
          -0.5451985800024266
         ]
        },
        {
         "hoverinfo": "text",
         "marker": {
          "color": "skyblue",
          "size": 10
         },
         "mode": "markers",
         "text": "Johann Emerich",
         "type": "scatter",
         "x": [
          0.1906575573712177
         ],
         "y": [
          -0.11406795332916633
         ]
        },
        {
         "hoverinfo": "text",
         "marker": {
          "color": "skyblue",
          "size": 10
         },
         "mode": "markers",
         "text": "Lucantonio Giunta",
         "type": "scatter",
         "x": [
          0.21088872780756
         ],
         "y": [
          -0.10932075638350788
         ]
        },
        {
         "hoverinfo": "text",
         "marker": {
          "color": "skyblue",
          "size": 10
         },
         "mode": "markers",
         "text": "Johann Hamann",
         "type": "scatter",
         "x": [
          0.13450485224553288
         ],
         "y": [
          -0.7566783023403979
         ]
        },
        {
         "hoverinfo": "text",
         "marker": {
          "color": "skyblue",
          "size": 10
         },
         "mode": "markers",
         "text": "Gerard Barrevelt und Frederick Egmondt",
         "type": "scatter",
         "x": [
          0.14693591986373294
         ],
         "y": [
          -0.8209787008423097
         ]
        },
        {
         "hoverinfo": "text",
         "marker": {
          "color": "skyblue",
          "size": 10
         },
         "mode": "markers",
         "text": "Johann Volkarth",
         "type": "scatter",
         "x": [
          0.15923219458880716
         ],
         "y": [
          -0.7170548102411264
         ]
        },
        {
         "hoverinfo": "text",
         "marker": {
          "color": "skyblue",
          "size": 10
         },
         "mode": "markers",
         "text": "Octavianus Scotus",
         "type": "scatter",
         "x": [
          0.09980314365512162
         ],
         "y": [
          -0.7266272673731174
         ]
        },
        {
         "hoverinfo": "text",
         "marker": {
          "color": "skyblue",
          "size": 10
         },
         "mode": "markers",
         "text": "Nicolas Jenson",
         "type": "scatter",
         "x": [
          -0.6872416806894234
         ],
         "y": [
          0.6212841107780145
         ]
        },
        {
         "hoverinfo": "text",
         "marker": {
          "color": "skyblue",
          "size": 10
         },
         "mode": "markers",
         "text": "? Raphael Zovenzonius",
         "type": "scatter",
         "x": [
          -0.6560555937479022
         ],
         "y": [
          0.5911849010469034
         ]
        },
        {
         "hoverinfo": "text",
         "marker": {
          "color": "skyblue",
          "size": 10
         },
         "mode": "markers",
         "text": "Andreas Torresanus",
         "type": "scatter",
         "x": [
          -0.7987972603326972
         ],
         "y": [
          -0.01104653729798675
         ]
        },
        {
         "hoverinfo": "text",
         "marker": {
          "color": "skyblue",
          "size": 10
         },
         "mode": "markers",
         "text": "Johann von Köln, Nicolas Jenson und Genossen",
         "type": "scatter",
         "x": [
          -0.8582036712458376
         ],
         "y": [
          -0.013856409861056133
         ]
        },
        {
         "hoverinfo": "none",
         "line": {
          "color": "black",
          "width": 1
         },
         "mode": "lines",
         "type": "scatter",
         "x": [
          0.8523893592964603,
          0.7792090689938204,
          null
         ],
         "y": [
          -0.11237311775696501,
          -0.10800201204181767,
          null
         ]
        },
        {
         "hoverinfo": "none",
         "line": {
          "color": "black",
          "width": 1
         },
         "mode": "lines",
         "type": "scatter",
         "x": [
          -0.08785183200395623,
          -0.11931471777360868,
          null
         ],
         "y": [
          0.961982275586413,
          0.9623855906499961,
          null
         ]
        },
        {
         "hoverinfo": "none",
         "line": {
          "color": "black",
          "width": 1
         },
         "mode": "lines",
         "type": "scatter",
         "x": [
          -0.11931471777360868,
          -0.14591613344735888,
          null
         ],
         "y": [
          0.9623855906499961,
          1,
          null
         ]
        },
        {
         "hoverinfo": "none",
         "line": {
          "color": "black",
          "width": 1
         },
         "mode": "lines",
         "type": "scatter",
         "x": [
          0.6656481367594784,
          0.6963965453053762,
          null
         ],
         "y": [
          0.4709356591569285,
          0.4530160787640414,
          null
         ]
        },
        {
         "hoverinfo": "none",
         "line": {
          "color": "black",
          "width": 1
         },
         "mode": "lines",
         "type": "scatter",
         "x": [
          -0.8126854456992423,
          -0.8472837226841338,
          null
         ],
         "y": [
          0.3903370882481933,
          0.38297628264110284,
          null
         ]
        },
        {
         "hoverinfo": "none",
         "line": {
          "color": "black",
          "width": 1
         },
         "mode": "lines",
         "type": "scatter",
         "x": [
          0.2876485915807303,
          0.31465914096322595,
          null
         ],
         "y": [
          0.8238824895326969,
          0.8799247086741236,
          null
         ]
        },
        {
         "hoverinfo": "none",
         "line": {
          "color": "black",
          "width": 1
         },
         "mode": "lines",
         "type": "scatter",
         "x": [
          -0.9728529090734721,
          -0.9441853372996893,
          null
         ],
         "y": [
          -0.28280672210658087,
          -0.27575378053852984,
          null
         ]
        },
        {
         "hoverinfo": "none",
         "line": {
          "color": "black",
          "width": 1
         },
         "mode": "lines",
         "type": "scatter",
         "x": [
          -0.052991530157687775,
          -0.006483833999752863,
          null
         ],
         "y": [
          0.30255687299589507,
          0.36725253844021427,
          null
         ]
        },
        {
         "hoverinfo": "none",
         "line": {
          "color": "black",
          "width": 1
         },
         "mode": "lines",
         "type": "scatter",
         "x": [
          -0.052991530157687775,
          -0.08775727140148025,
          null
         ],
         "y": [
          0.30255687299589507,
          0.26631181458927883,
          null
         ]
        },
        {
         "hoverinfo": "none",
         "line": {
          "color": "black",
          "width": 1
         },
         "mode": "lines",
         "type": "scatter",
         "x": [
          -0.006483833999752863,
          -0.02800433973529084,
          null
         ],
         "y": [
          0.36725253844021427,
          0.333454702440112,
          null
         ]
        },
        {
         "hoverinfo": "none",
         "line": {
          "color": "black",
          "width": 1
         },
         "mode": "lines",
         "type": "scatter",
         "x": [
          -0.06694875189828725,
          -0.08775727140148025,
          null
         ],
         "y": [
          0.3479133472596732,
          0.26631181458927883,
          null
         ]
        },
        {
         "hoverinfo": "none",
         "line": {
          "color": "black",
          "width": 1
         },
         "mode": "lines",
         "type": "scatter",
         "x": [
          -0.08775727140148025,
          -0.09916811291046948,
          null
         ],
         "y": [
          0.26631181458927883,
          0.2970808648903127,
          null
         ]
        },
        {
         "hoverinfo": "none",
         "line": {
          "color": "black",
          "width": 1
         },
         "mode": "lines",
         "type": "scatter",
         "x": [
          -0.08775727140148025,
          -0.12633723786635,
          null
         ],
         "y": [
          0.26631181458927883,
          0.28290422615609956,
          null
         ]
        },
        {
         "hoverinfo": "none",
         "line": {
          "color": "black",
          "width": 1
         },
         "mode": "lines",
         "type": "scatter",
         "x": [
          -0.08775727140148025,
          -0.05569604148001072,
          null
         ],
         "y": [
          0.26631181458927883,
          0.18655599212227753,
          null
         ]
        },
        {
         "hoverinfo": "none",
         "line": {
          "color": "black",
          "width": 1
         },
         "mode": "lines",
         "type": "scatter",
         "x": [
          -0.08775727140148025,
          -0.10105059181538523,
          null
         ],
         "y": [
          0.26631181458927883,
          0.34577675660165025,
          null
         ]
        },
        {
         "hoverinfo": "none",
         "line": {
          "color": "black",
          "width": 1
         },
         "mode": "lines",
         "type": "scatter",
         "x": [
          -0.08775727140148025,
          -0.11880969291510879,
          null
         ],
         "y": [
          0.26631181458927883,
          0.23982779275895127,
          null
         ]
        },
        {
         "hoverinfo": "none",
         "line": {
          "color": "black",
          "width": 1
         },
         "mode": "lines",
         "type": "scatter",
         "x": [
          -0.08775727140148025,
          -0.1394879014802143,
          null
         ],
         "y": [
          0.26631181458927883,
          0.3265146014671464,
          null
         ]
        },
        {
         "hoverinfo": "none",
         "line": {
          "color": "black",
          "width": 1
         },
         "mode": "lines",
         "type": "scatter",
         "x": [
          -0.08775727140148025,
          -0.02800433973529084,
          null
         ],
         "y": [
          0.26631181458927883,
          0.333454702440112,
          null
         ]
        },
        {
         "hoverinfo": "none",
         "line": {
          "color": "black",
          "width": 1
         },
         "mode": "lines",
         "type": "scatter",
         "x": [
          -0.08775727140148025,
          -0.16115157706086375,
          null
         ],
         "y": [
          0.26631181458927883,
          0.25675189440760676,
          null
         ]
        },
        {
         "hoverinfo": "none",
         "line": {
          "color": "black",
          "width": 1
         },
         "mode": "lines",
         "type": "scatter",
         "x": [
          -0.08775727140148025,
          -0.15230401329759394,
          null
         ],
         "y": [
          0.26631181458927883,
          0.3968455335853309,
          null
         ]
        },
        {
         "hoverinfo": "none",
         "line": {
          "color": "black",
          "width": 1
         },
         "mode": "lines",
         "type": "scatter",
         "x": [
          -0.09916811291046948,
          -0.12633723786635,
          null
         ],
         "y": [
          0.2970808648903127,
          0.28290422615609956,
          null
         ]
        },
        {
         "hoverinfo": "none",
         "line": {
          "color": "black",
          "width": 1
         },
         "mode": "lines",
         "type": "scatter",
         "x": [
          -0.592398234741294,
          -0.5485396646098896,
          null
         ],
         "y": [
          -0.6923665885215706,
          -0.6500420158358864,
          null
         ]
        },
        {
         "hoverinfo": "none",
         "line": {
          "color": "black",
          "width": 1
         },
         "mode": "lines",
         "type": "scatter",
         "x": [
          -0.12633723786635,
          -0.19796892789334852,
          null
         ],
         "y": [
          0.28290422615609956,
          0.3175067883537227,
          null
         ]
        },
        {
         "hoverinfo": "none",
         "line": {
          "color": "black",
          "width": 1
         },
         "mode": "lines",
         "type": "scatter",
         "x": [
          -0.24791721452325774,
          -0.17252957042773062,
          null
         ],
         "y": [
          -0.0993145498510491,
          -0.04831308532533802,
          null
         ]
        },
        {
         "hoverinfo": "none",
         "line": {
          "color": "black",
          "width": 1
         },
         "mode": "lines",
         "type": "scatter",
         "x": [
          -0.17252957042773062,
          -0.20497821608498928,
          null
         ],
         "y": [
          -0.04831308532533802,
          -0.0808316711239252,
          null
         ]
        },
        {
         "hoverinfo": "none",
         "line": {
          "color": "black",
          "width": 1
         },
         "mode": "lines",
         "type": "scatter",
         "x": [
          -0.17252957042773062,
          -0.16196292478363153,
          null
         ],
         "y": [
          -0.04831308532533802,
          -0.039734685986759416,
          null
         ]
        },
        {
         "hoverinfo": "none",
         "line": {
          "color": "black",
          "width": 1
         },
         "mode": "lines",
         "type": "scatter",
         "x": [
          -0.13084972193034486,
          -0.1557250030276227,
          null
         ],
         "y": [
          -0.6430546637636475,
          -0.6798883905110044,
          null
         ]
        },
        {
         "hoverinfo": "none",
         "line": {
          "color": "black",
          "width": 1
         },
         "mode": "lines",
         "type": "scatter",
         "x": [
          -0.05569604148001072,
          0.029070111771450878,
          null
         ],
         "y": [
          0.18655599212227753,
          0.19077925516636618,
          null
         ]
        },
        {
         "hoverinfo": "none",
         "line": {
          "color": "black",
          "width": 1
         },
         "mode": "lines",
         "type": "scatter",
         "x": [
          -0.05569604148001072,
          -0.09321301123994015,
          null
         ],
         "y": [
          0.18655599212227753,
          0.10129144797107731,
          null
         ]
        },
        {
         "hoverinfo": "none",
         "line": {
          "color": "black",
          "width": 1
         },
         "mode": "lines",
         "type": "scatter",
         "x": [
          -0.05569604148001072,
          0.0203891474309241,
          null
         ],
         "y": [
          0.18655599212227753,
          0.22575367942476546,
          null
         ]
        },
        {
         "hoverinfo": "none",
         "line": {
          "color": "black",
          "width": 1
         },
         "mode": "lines",
         "type": "scatter",
         "x": [
          -0.05569604148001072,
          -0.007039959976450998,
          null
         ],
         "y": [
          0.18655599212227753,
          0.19653475872080772,
          null
         ]
        },
        {
         "hoverinfo": "none",
         "line": {
          "color": "black",
          "width": 1
         },
         "mode": "lines",
         "type": "scatter",
         "x": [
          -0.05569604148001072,
          -0.09620097689357371,
          null
         ],
         "y": [
          0.18655599212227753,
          0.059909040988435386,
          null
         ]
        },
        {
         "hoverinfo": "none",
         "line": {
          "color": "black",
          "width": 1
         },
         "mode": "lines",
         "type": "scatter",
         "x": [
          -0.05569604148001072,
          0.014748685054467366,
          null
         ],
         "y": [
          0.18655599212227753,
          0.15827903292492848,
          null
         ]
        },
        {
         "hoverinfo": "none",
         "line": {
          "color": "black",
          "width": 1
         },
         "mode": "lines",
         "type": "scatter",
         "x": [
          -0.05569604148001072,
          -0.031498861321180315,
          null
         ],
         "y": [
          0.18655599212227753,
          0.16046292762370687,
          null
         ]
        },
        {
         "hoverinfo": "none",
         "line": {
          "color": "black",
          "width": 1
         },
         "mode": "lines",
         "type": "scatter",
         "x": [
          -0.05569604148001072,
          -0.013355873886738593,
          null
         ],
         "y": [
          0.18655599212227753,
          0.23615994944216553,
          null
         ]
        },
        {
         "hoverinfo": "none",
         "line": {
          "color": "black",
          "width": 1
         },
         "mode": "lines",
         "type": "scatter",
         "x": [
          -0.09321301123994015,
          -0.16196292478363153,
          null
         ],
         "y": [
          0.10129144797107731,
          -0.039734685986759416,
          null
         ]
        },
        {
         "hoverinfo": "none",
         "line": {
          "color": "black",
          "width": 1
         },
         "mode": "lines",
         "type": "scatter",
         "x": [
          -0.09620097689357371,
          -0.16196292478363153,
          null
         ],
         "y": [
          0.059909040988435386,
          -0.039734685986759416,
          null
         ]
        },
        {
         "hoverinfo": "none",
         "line": {
          "color": "black",
          "width": 1
         },
         "mode": "lines",
         "type": "scatter",
         "x": [
          -0.09620097689357371,
          -0.05691635104474618,
          null
         ],
         "y": [
          0.059909040988435386,
          0.015440953478221912,
          null
         ]
        },
        {
         "hoverinfo": "none",
         "line": {
          "color": "black",
          "width": 1
         },
         "mode": "lines",
         "type": "scatter",
         "x": [
          -0.031498861321180315,
          0.013477538705116842,
          null
         ],
         "y": [
          0.16046292762370687,
          0.12405643760503829,
          null
         ]
        },
        {
         "hoverinfo": "none",
         "line": {
          "color": "black",
          "width": 1
         },
         "mode": "lines",
         "type": "scatter",
         "x": [
          0.2930832553356206,
          0.31380277409512386,
          null
         ],
         "y": [
          -0.8719700387871356,
          -0.8424369601958253,
          null
         ]
        },
        {
         "hoverinfo": "none",
         "line": {
          "color": "black",
          "width": 1
         },
         "mode": "lines",
         "type": "scatter",
         "x": [
          0.591340633277366,
          0.6633125028153365,
          null
         ],
         "y": [
          -0.0845007574454604,
          -0.11362134672389437,
          null
         ]
        },
        {
         "hoverinfo": "none",
         "line": {
          "color": "black",
          "width": 1
         },
         "mode": "lines",
         "type": "scatter",
         "x": [
          0.591340633277366,
          0.5739785743238821,
          null
         ],
         "y": [
          -0.0845007574454604,
          -0.06453383266838704,
          null
         ]
        },
        {
         "hoverinfo": "none",
         "line": {
          "color": "black",
          "width": 1
         },
         "mode": "lines",
         "type": "scatter",
         "x": [
          0.591340633277366,
          0.6018708405970218,
          null
         ],
         "y": [
          -0.0845007574454604,
          -0.019391786658390423,
          null
         ]
        },
        {
         "hoverinfo": "none",
         "line": {
          "color": "black",
          "width": 1
         },
         "mode": "lines",
         "type": "scatter",
         "x": [
          0.591340633277366,
          0.5645868860039804,
          null
         ],
         "y": [
          -0.0845007574454604,
          -0.09555288142233478,
          null
         ]
        },
        {
         "hoverinfo": "none",
         "line": {
          "color": "black",
          "width": 1
         },
         "mode": "lines",
         "type": "scatter",
         "x": [
          0.591340633277366,
          0.5695160215237248,
          null
         ],
         "y": [
          -0.0845007574454604,
          -0.13843931242167937,
          null
         ]
        },
        {
         "hoverinfo": "none",
         "line": {
          "color": "black",
          "width": 1
         },
         "mode": "lines",
         "type": "scatter",
         "x": [
          0.591340633277366,
          0.6604233218973153,
          null
         ],
         "y": [
          -0.0845007574454604,
          -0.06472558075049206,
          null
         ]
        },
        {
         "hoverinfo": "none",
         "line": {
          "color": "black",
          "width": 1
         },
         "mode": "lines",
         "type": "scatter",
         "x": [
          0.591340633277366,
          0.6405639748562948,
          null
         ],
         "y": [
          -0.0845007574454604,
          -0.03304447930371658,
          null
         ]
        },
        {
         "hoverinfo": "none",
         "line": {
          "color": "black",
          "width": 1
         },
         "mode": "lines",
         "type": "scatter",
         "x": [
          0.591340633277366,
          0.6143038307752582,
          null
         ],
         "y": [
          -0.0845007574454604,
          -0.13896391098481062,
          null
         ]
        },
        {
         "hoverinfo": "none",
         "line": {
          "color": "black",
          "width": 1
         },
         "mode": "lines",
         "type": "scatter",
         "x": [
          0.6633125028153365,
          0.7228665185361337,
          null
         ],
         "y": [
          -0.11362134672389437,
          -0.13857658920277194,
          null
         ]
        },
        {
         "hoverinfo": "none",
         "line": {
          "color": "black",
          "width": 1
         },
         "mode": "lines",
         "type": "scatter",
         "x": [
          -0.2544982948243329,
          -0.2860495458254048,
          null
         ],
         "y": [
          -0.8520731094843562,
          -0.8676879749543082,
          null
         ]
        },
        {
         "hoverinfo": "none",
         "line": {
          "color": "black",
          "width": 1
         },
         "mode": "lines",
         "type": "scatter",
         "x": [
          -0.0158925119275923,
          -0.04972976785533726,
          null
         ],
         "y": [
          -0.7904224491943135,
          -0.7833453848916027,
          null
         ]
        },
        {
         "hoverinfo": "none",
         "line": {
          "color": "black",
          "width": 1
         },
         "mode": "lines",
         "type": "scatter",
         "x": [
          -0.16115157706086375,
          -0.23770585481721201,
          null
         ],
         "y": [
          0.25675189440760676,
          0.2575769033276952,
          null
         ]
        },
        {
         "hoverinfo": "none",
         "line": {
          "color": "black",
          "width": 1
         },
         "mode": "lines",
         "type": "scatter",
         "x": [
          -0.15230401329759394,
          -0.16953739267892337,
          null
         ],
         "y": [
          0.3968455335853309,
          0.4533740833707105,
          null
         ]
        },
        {
         "hoverinfo": "none",
         "line": {
          "color": "black",
          "width": 1
         },
         "mode": "lines",
         "type": "scatter",
         "x": [
          -0.15230401329759394,
          -0.2071104696761714,
          null
         ],
         "y": [
          0.3968455335853309,
          0.4520705865762175,
          null
         ]
        },
        {
         "hoverinfo": "none",
         "line": {
          "color": "black",
          "width": 1
         },
         "mode": "lines",
         "type": "scatter",
         "x": [
          -0.16953739267892337,
          -0.19707728087255758,
          null
         ],
         "y": [
          0.4533740833707105,
          0.523894922747307,
          null
         ]
        },
        {
         "hoverinfo": "none",
         "line": {
          "color": "black",
          "width": 1
         },
         "mode": "lines",
         "type": "scatter",
         "x": [
          0.6143038307752582,
          0.665756585178197,
          null
         ],
         "y": [
          -0.13896391098481062,
          -0.18591195697205098,
          null
         ]
        },
        {
         "hoverinfo": "none",
         "line": {
          "color": "black",
          "width": 1
         },
         "mode": "lines",
         "type": "scatter",
         "x": [
          0.6143038307752582,
          0.6293571348532481,
          null
         ],
         "y": [
          -0.13896391098481062,
          -0.20439008286901397,
          null
         ]
        },
        {
         "hoverinfo": "none",
         "line": {
          "color": "black",
          "width": 1
         },
         "mode": "lines",
         "type": "scatter",
         "x": [
          -0.16196292478363153,
          -0.23822519282931187,
          null
         ],
         "y": [
          -0.039734685986759416,
          -0.06240643995047953,
          null
         ]
        },
        {
         "hoverinfo": "none",
         "line": {
          "color": "black",
          "width": 1
         },
         "mode": "lines",
         "type": "scatter",
         "x": [
          -0.16196292478363153,
          -0.12321359252322411,
          null
         ],
         "y": [
          -0.039734685986759416,
          -0.0658202113578905,
          null
         ]
        },
        {
         "hoverinfo": "none",
         "line": {
          "color": "black",
          "width": 1
         },
         "mode": "lines",
         "type": "scatter",
         "x": [
          -0.16196292478363153,
          -0.24257852420283516,
          null
         ],
         "y": [
          -0.039734685986759416,
          -0.031380905640114864,
          null
         ]
        },
        {
         "hoverinfo": "none",
         "line": {
          "color": "black",
          "width": 1
         },
         "mode": "lines",
         "type": "scatter",
         "x": [
          -0.16196292478363153,
          -0.12995091004245085,
          null
         ],
         "y": [
          -0.039734685986759416,
          -0.1161752799205075,
          null
         ]
        },
        {
         "hoverinfo": "none",
         "line": {
          "color": "black",
          "width": 1
         },
         "mode": "lines",
         "type": "scatter",
         "x": [
          -0.16196292478363153,
          -0.15762361184257484,
          null
         ],
         "y": [
          -0.039734685986759416,
          -0.0854741469481486,
          null
         ]
        },
        {
         "hoverinfo": "none",
         "line": {
          "color": "black",
          "width": 1
         },
         "mode": "lines",
         "type": "scatter",
         "x": [
          -0.16196292478363153,
          -0.20638837514967256,
          null
         ],
         "y": [
          -0.039734685986759416,
          -0.11592444797903106,
          null
         ]
        },
        {
         "hoverinfo": "none",
         "line": {
          "color": "black",
          "width": 1
         },
         "mode": "lines",
         "type": "scatter",
         "x": [
          -0.16196292478363153,
          -0.1712941573783999,
          null
         ],
         "y": [
          -0.039734685986759416,
          -0.1256897200725001,
          null
         ]
        },
        {
         "hoverinfo": "none",
         "line": {
          "color": "black",
          "width": 1
         },
         "mode": "lines",
         "type": "scatter",
         "x": [
          -0.16196292478363153,
          -0.21931533142315696,
          null
         ],
         "y": [
          -0.039734685986759416,
          -0.005866855124669451,
          null
         ]
        },
        {
         "hoverinfo": "none",
         "line": {
          "color": "black",
          "width": 1
         },
         "mode": "lines",
         "type": "scatter",
         "x": [
          0.4945706997070675,
          0.52887225110112,
          null
         ],
         "y": [
          -0.5351098475560722,
          -0.5451985800024266,
          null
         ]
        },
        {
         "hoverinfo": "none",
         "line": {
          "color": "black",
          "width": 1
         },
         "mode": "lines",
         "type": "scatter",
         "x": [
          0.1906575573712177,
          0.21088872780756,
          null
         ],
         "y": [
          -0.11406795332916633,
          -0.10932075638350788,
          null
         ]
        },
        {
         "hoverinfo": "none",
         "line": {
          "color": "black",
          "width": 1
         },
         "mode": "lines",
         "type": "scatter",
         "x": [
          0.13450485224553288,
          0.14693591986373294,
          null
         ],
         "y": [
          -0.7566783023403979,
          -0.8209787008423097,
          null
         ]
        },
        {
         "hoverinfo": "none",
         "line": {
          "color": "black",
          "width": 1
         },
         "mode": "lines",
         "type": "scatter",
         "x": [
          0.13450485224553288,
          0.15923219458880716,
          null
         ],
         "y": [
          -0.7566783023403979,
          -0.7170548102411264,
          null
         ]
        },
        {
         "hoverinfo": "none",
         "line": {
          "color": "black",
          "width": 1
         },
         "mode": "lines",
         "type": "scatter",
         "x": [
          0.13450485224553288,
          0.09980314365512162,
          null
         ],
         "y": [
          -0.7566783023403979,
          -0.7266272673731174,
          null
         ]
        },
        {
         "hoverinfo": "none",
         "line": {
          "color": "black",
          "width": 1
         },
         "mode": "lines",
         "type": "scatter",
         "x": [
          -0.6872416806894234,
          -0.6560555937479022,
          null
         ],
         "y": [
          0.6212841107780145,
          0.5911849010469034,
          null
         ]
        },
        {
         "hoverinfo": "none",
         "line": {
          "color": "black",
          "width": 1
         },
         "mode": "lines",
         "type": "scatter",
         "x": [
          -0.7987972603326972,
          -0.8582036712458376,
          null
         ],
         "y": [
          -0.01104653729798675,
          -0.013856409861056133,
          null
         ]
        }
       ],
       "layout": {
        "hovermode": "closest",
        "showlegend": false,
        "template": {
         "data": {
          "bar": [
           {
            "error_x": {
             "color": "#2a3f5f"
            },
            "error_y": {
             "color": "#2a3f5f"
            },
            "marker": {
             "line": {
              "color": "#E5ECF6",
              "width": 0.5
             },
             "pattern": {
              "fillmode": "overlay",
              "size": 10,
              "solidity": 0.2
             }
            },
            "type": "bar"
           }
          ],
          "barpolar": [
           {
            "marker": {
             "line": {
              "color": "#E5ECF6",
              "width": 0.5
             },
             "pattern": {
              "fillmode": "overlay",
              "size": 10,
              "solidity": 0.2
             }
            },
            "type": "barpolar"
           }
          ],
          "carpet": [
           {
            "aaxis": {
             "endlinecolor": "#2a3f5f",
             "gridcolor": "white",
             "linecolor": "white",
             "minorgridcolor": "white",
             "startlinecolor": "#2a3f5f"
            },
            "baxis": {
             "endlinecolor": "#2a3f5f",
             "gridcolor": "white",
             "linecolor": "white",
             "minorgridcolor": "white",
             "startlinecolor": "#2a3f5f"
            },
            "type": "carpet"
           }
          ],
          "choropleth": [
           {
            "colorbar": {
             "outlinewidth": 0,
             "ticks": ""
            },
            "type": "choropleth"
           }
          ],
          "contour": [
           {
            "colorbar": {
             "outlinewidth": 0,
             "ticks": ""
            },
            "colorscale": [
             [
              0,
              "#0d0887"
             ],
             [
              0.1111111111111111,
              "#46039f"
             ],
             [
              0.2222222222222222,
              "#7201a8"
             ],
             [
              0.3333333333333333,
              "#9c179e"
             ],
             [
              0.4444444444444444,
              "#bd3786"
             ],
             [
              0.5555555555555556,
              "#d8576b"
             ],
             [
              0.6666666666666666,
              "#ed7953"
             ],
             [
              0.7777777777777778,
              "#fb9f3a"
             ],
             [
              0.8888888888888888,
              "#fdca26"
             ],
             [
              1,
              "#f0f921"
             ]
            ],
            "type": "contour"
           }
          ],
          "contourcarpet": [
           {
            "colorbar": {
             "outlinewidth": 0,
             "ticks": ""
            },
            "type": "contourcarpet"
           }
          ],
          "heatmap": [
           {
            "colorbar": {
             "outlinewidth": 0,
             "ticks": ""
            },
            "colorscale": [
             [
              0,
              "#0d0887"
             ],
             [
              0.1111111111111111,
              "#46039f"
             ],
             [
              0.2222222222222222,
              "#7201a8"
             ],
             [
              0.3333333333333333,
              "#9c179e"
             ],
             [
              0.4444444444444444,
              "#bd3786"
             ],
             [
              0.5555555555555556,
              "#d8576b"
             ],
             [
              0.6666666666666666,
              "#ed7953"
             ],
             [
              0.7777777777777778,
              "#fb9f3a"
             ],
             [
              0.8888888888888888,
              "#fdca26"
             ],
             [
              1,
              "#f0f921"
             ]
            ],
            "type": "heatmap"
           }
          ],
          "heatmapgl": [
           {
            "colorbar": {
             "outlinewidth": 0,
             "ticks": ""
            },
            "colorscale": [
             [
              0,
              "#0d0887"
             ],
             [
              0.1111111111111111,
              "#46039f"
             ],
             [
              0.2222222222222222,
              "#7201a8"
             ],
             [
              0.3333333333333333,
              "#9c179e"
             ],
             [
              0.4444444444444444,
              "#bd3786"
             ],
             [
              0.5555555555555556,
              "#d8576b"
             ],
             [
              0.6666666666666666,
              "#ed7953"
             ],
             [
              0.7777777777777778,
              "#fb9f3a"
             ],
             [
              0.8888888888888888,
              "#fdca26"
             ],
             [
              1,
              "#f0f921"
             ]
            ],
            "type": "heatmapgl"
           }
          ],
          "histogram": [
           {
            "marker": {
             "pattern": {
              "fillmode": "overlay",
              "size": 10,
              "solidity": 0.2
             }
            },
            "type": "histogram"
           }
          ],
          "histogram2d": [
           {
            "colorbar": {
             "outlinewidth": 0,
             "ticks": ""
            },
            "colorscale": [
             [
              0,
              "#0d0887"
             ],
             [
              0.1111111111111111,
              "#46039f"
             ],
             [
              0.2222222222222222,
              "#7201a8"
             ],
             [
              0.3333333333333333,
              "#9c179e"
             ],
             [
              0.4444444444444444,
              "#bd3786"
             ],
             [
              0.5555555555555556,
              "#d8576b"
             ],
             [
              0.6666666666666666,
              "#ed7953"
             ],
             [
              0.7777777777777778,
              "#fb9f3a"
             ],
             [
              0.8888888888888888,
              "#fdca26"
             ],
             [
              1,
              "#f0f921"
             ]
            ],
            "type": "histogram2d"
           }
          ],
          "histogram2dcontour": [
           {
            "colorbar": {
             "outlinewidth": 0,
             "ticks": ""
            },
            "colorscale": [
             [
              0,
              "#0d0887"
             ],
             [
              0.1111111111111111,
              "#46039f"
             ],
             [
              0.2222222222222222,
              "#7201a8"
             ],
             [
              0.3333333333333333,
              "#9c179e"
             ],
             [
              0.4444444444444444,
              "#bd3786"
             ],
             [
              0.5555555555555556,
              "#d8576b"
             ],
             [
              0.6666666666666666,
              "#ed7953"
             ],
             [
              0.7777777777777778,
              "#fb9f3a"
             ],
             [
              0.8888888888888888,
              "#fdca26"
             ],
             [
              1,
              "#f0f921"
             ]
            ],
            "type": "histogram2dcontour"
           }
          ],
          "mesh3d": [
           {
            "colorbar": {
             "outlinewidth": 0,
             "ticks": ""
            },
            "type": "mesh3d"
           }
          ],
          "parcoords": [
           {
            "line": {
             "colorbar": {
              "outlinewidth": 0,
              "ticks": ""
             }
            },
            "type": "parcoords"
           }
          ],
          "pie": [
           {
            "automargin": true,
            "type": "pie"
           }
          ],
          "scatter": [
           {
            "fillpattern": {
             "fillmode": "overlay",
             "size": 10,
             "solidity": 0.2
            },
            "type": "scatter"
           }
          ],
          "scatter3d": [
           {
            "line": {
             "colorbar": {
              "outlinewidth": 0,
              "ticks": ""
             }
            },
            "marker": {
             "colorbar": {
              "outlinewidth": 0,
              "ticks": ""
             }
            },
            "type": "scatter3d"
           }
          ],
          "scattercarpet": [
           {
            "marker": {
             "colorbar": {
              "outlinewidth": 0,
              "ticks": ""
             }
            },
            "type": "scattercarpet"
           }
          ],
          "scattergeo": [
           {
            "marker": {
             "colorbar": {
              "outlinewidth": 0,
              "ticks": ""
             }
            },
            "type": "scattergeo"
           }
          ],
          "scattergl": [
           {
            "marker": {
             "colorbar": {
              "outlinewidth": 0,
              "ticks": ""
             }
            },
            "type": "scattergl"
           }
          ],
          "scattermapbox": [
           {
            "marker": {
             "colorbar": {
              "outlinewidth": 0,
              "ticks": ""
             }
            },
            "type": "scattermapbox"
           }
          ],
          "scatterpolar": [
           {
            "marker": {
             "colorbar": {
              "outlinewidth": 0,
              "ticks": ""
             }
            },
            "type": "scatterpolar"
           }
          ],
          "scatterpolargl": [
           {
            "marker": {
             "colorbar": {
              "outlinewidth": 0,
              "ticks": ""
             }
            },
            "type": "scatterpolargl"
           }
          ],
          "scatterternary": [
           {
            "marker": {
             "colorbar": {
              "outlinewidth": 0,
              "ticks": ""
             }
            },
            "type": "scatterternary"
           }
          ],
          "surface": [
           {
            "colorbar": {
             "outlinewidth": 0,
             "ticks": ""
            },
            "colorscale": [
             [
              0,
              "#0d0887"
             ],
             [
              0.1111111111111111,
              "#46039f"
             ],
             [
              0.2222222222222222,
              "#7201a8"
             ],
             [
              0.3333333333333333,
              "#9c179e"
             ],
             [
              0.4444444444444444,
              "#bd3786"
             ],
             [
              0.5555555555555556,
              "#d8576b"
             ],
             [
              0.6666666666666666,
              "#ed7953"
             ],
             [
              0.7777777777777778,
              "#fb9f3a"
             ],
             [
              0.8888888888888888,
              "#fdca26"
             ],
             [
              1,
              "#f0f921"
             ]
            ],
            "type": "surface"
           }
          ],
          "table": [
           {
            "cells": {
             "fill": {
              "color": "#EBF0F8"
             },
             "line": {
              "color": "white"
             }
            },
            "header": {
             "fill": {
              "color": "#C8D4E3"
             },
             "line": {
              "color": "white"
             }
            },
            "type": "table"
           }
          ]
         },
         "layout": {
          "annotationdefaults": {
           "arrowcolor": "#2a3f5f",
           "arrowhead": 0,
           "arrowwidth": 1
          },
          "autotypenumbers": "strict",
          "coloraxis": {
           "colorbar": {
            "outlinewidth": 0,
            "ticks": ""
           }
          },
          "colorscale": {
           "diverging": [
            [
             0,
             "#8e0152"
            ],
            [
             0.1,
             "#c51b7d"
            ],
            [
             0.2,
             "#de77ae"
            ],
            [
             0.3,
             "#f1b6da"
            ],
            [
             0.4,
             "#fde0ef"
            ],
            [
             0.5,
             "#f7f7f7"
            ],
            [
             0.6,
             "#e6f5d0"
            ],
            [
             0.7,
             "#b8e186"
            ],
            [
             0.8,
             "#7fbc41"
            ],
            [
             0.9,
             "#4d9221"
            ],
            [
             1,
             "#276419"
            ]
           ],
           "sequential": [
            [
             0,
             "#0d0887"
            ],
            [
             0.1111111111111111,
             "#46039f"
            ],
            [
             0.2222222222222222,
             "#7201a8"
            ],
            [
             0.3333333333333333,
             "#9c179e"
            ],
            [
             0.4444444444444444,
             "#bd3786"
            ],
            [
             0.5555555555555556,
             "#d8576b"
            ],
            [
             0.6666666666666666,
             "#ed7953"
            ],
            [
             0.7777777777777778,
             "#fb9f3a"
            ],
            [
             0.8888888888888888,
             "#fdca26"
            ],
            [
             1,
             "#f0f921"
            ]
           ],
           "sequentialminus": [
            [
             0,
             "#0d0887"
            ],
            [
             0.1111111111111111,
             "#46039f"
            ],
            [
             0.2222222222222222,
             "#7201a8"
            ],
            [
             0.3333333333333333,
             "#9c179e"
            ],
            [
             0.4444444444444444,
             "#bd3786"
            ],
            [
             0.5555555555555556,
             "#d8576b"
            ],
            [
             0.6666666666666666,
             "#ed7953"
            ],
            [
             0.7777777777777778,
             "#fb9f3a"
            ],
            [
             0.8888888888888888,
             "#fdca26"
            ],
            [
             1,
             "#f0f921"
            ]
           ]
          },
          "colorway": [
           "#636efa",
           "#EF553B",
           "#00cc96",
           "#ab63fa",
           "#FFA15A",
           "#19d3f3",
           "#FF6692",
           "#B6E880",
           "#FF97FF",
           "#FECB52"
          ],
          "font": {
           "color": "#2a3f5f"
          },
          "geo": {
           "bgcolor": "white",
           "lakecolor": "white",
           "landcolor": "#E5ECF6",
           "showlakes": true,
           "showland": true,
           "subunitcolor": "white"
          },
          "hoverlabel": {
           "align": "left"
          },
          "hovermode": "closest",
          "mapbox": {
           "style": "light"
          },
          "paper_bgcolor": "white",
          "plot_bgcolor": "#E5ECF6",
          "polar": {
           "angularaxis": {
            "gridcolor": "white",
            "linecolor": "white",
            "ticks": ""
           },
           "bgcolor": "#E5ECF6",
           "radialaxis": {
            "gridcolor": "white",
            "linecolor": "white",
            "ticks": ""
           }
          },
          "scene": {
           "xaxis": {
            "backgroundcolor": "#E5ECF6",
            "gridcolor": "white",
            "gridwidth": 2,
            "linecolor": "white",
            "showbackground": true,
            "ticks": "",
            "zerolinecolor": "white"
           },
           "yaxis": {
            "backgroundcolor": "#E5ECF6",
            "gridcolor": "white",
            "gridwidth": 2,
            "linecolor": "white",
            "showbackground": true,
            "ticks": "",
            "zerolinecolor": "white"
           },
           "zaxis": {
            "backgroundcolor": "#E5ECF6",
            "gridcolor": "white",
            "gridwidth": 2,
            "linecolor": "white",
            "showbackground": true,
            "ticks": "",
            "zerolinecolor": "white"
           }
          },
          "shapedefaults": {
           "line": {
            "color": "#2a3f5f"
           }
          },
          "ternary": {
           "aaxis": {
            "gridcolor": "white",
            "linecolor": "white",
            "ticks": ""
           },
           "baxis": {
            "gridcolor": "white",
            "linecolor": "white",
            "ticks": ""
           },
           "bgcolor": "#E5ECF6",
           "caxis": {
            "gridcolor": "white",
            "linecolor": "white",
            "ticks": ""
           }
          },
          "title": {
           "x": 0.05
          },
          "xaxis": {
           "automargin": true,
           "gridcolor": "white",
           "linecolor": "white",
           "ticks": "",
           "title": {
            "standoff": 15
           },
           "zerolinecolor": "white",
           "zerolinewidth": 2
          },
          "yaxis": {
           "automargin": true,
           "gridcolor": "white",
           "linecolor": "white",
           "ticks": "",
           "title": {
            "standoff": 15
           },
           "zerolinecolor": "white",
           "zerolinewidth": 2
          }
         }
        },
        "title": {
         "text": "Printers and Bookseller of Incunables Books of Hours"
        }
       }
      },
      "text/html": [
       "<div>                            <div id=\"270e8965-88d0-4771-8f2f-1a62815d25ca\" class=\"plotly-graph-div\" style=\"height:525px; width:100%;\"></div>            <script type=\"text/javascript\">                require([\"plotly\"], function(Plotly) {                    window.PLOTLYENV=window.PLOTLYENV || {};                                    if (document.getElementById(\"270e8965-88d0-4771-8f2f-1a62815d25ca\")) {                    Plotly.newPlot(                        \"270e8965-88d0-4771-8f2f-1a62815d25ca\",                        [{\"hoverinfo\":\"text\",\"marker\":{\"color\":\"skyblue\",\"size\":10},\"mode\":\"markers\",\"text\":\"Julian Notary, Jean Barbier und I. H.\",\"x\":[0.8523893592964603],\"y\":[-0.11237311775696501],\"type\":\"scatter\"},{\"hoverinfo\":\"text\",\"marker\":{\"color\":\"skyblue\",\"size\":10},\"mode\":\"markers\",\"text\":\"Wynkyn de Worde\",\"x\":[0.7792090689938204],\"y\":[-0.10800201204181767],\"type\":\"scatter\"},{\"hoverinfo\":\"text\",\"marker\":{\"color\":\"skyblue\",\"size\":10},\"mode\":\"markers\",\"text\":\"Nicolaus de Benedictis\",\"x\":[-0.08785183200395623],\"y\":[0.961982275586413],\"type\":\"scatter\"},{\"hoverinfo\":\"text\",\"marker\":{\"color\":\"skyblue\",\"size\":10},\"mode\":\"markers\",\"text\":\"Boninus de Boninis\",\"x\":[-0.11931471777360868],\"y\":[0.9623855906499961],\"type\":\"scatter\"},{\"hoverinfo\":\"text\",\"marker\":{\"color\":\"skyblue\",\"size\":10},\"mode\":\"markers\",\"text\":\"Jacobinus Suigus und Nicolaus de Benedictis\",\"x\":[-0.14591613344735888],\"y\":[1.0],\"type\":\"scatter\"},{\"hoverinfo\":\"text\",\"marker\":{\"color\":\"skyblue\",\"size\":10},\"mode\":\"markers\",\"text\":\"Martin von Amsterdam\",\"x\":[0.6656481367594784],\"y\":[0.4709356591569285],\"type\":\"scatter\"},{\"hoverinfo\":\"text\",\"marker\":{\"color\":\"skyblue\",\"size\":10},\"mode\":\"markers\",\"text\":\"Andreas Ihyracensis\",\"x\":[0.6963965453053762],\"y\":[0.4530160787640414],\"type\":\"scatter\"},{\"hoverinfo\":\"text\",\"marker\":{\"color\":\"skyblue\",\"size\":10},\"mode\":\"markers\",\"text\":\"Christian Preller\",\"x\":[-0.8126854456992423],\"y\":[0.3903370882481933],\"type\":\"scatter\"},{\"hoverinfo\":\"text\",\"marker\":{\"color\":\"skyblue\",\"size\":10},\"mode\":\"markers\",\"text\":\"Antoine Gontier\",\"x\":[-0.8472837226841338],\"y\":[0.38297628264110284],\"type\":\"scatter\"},{\"hoverinfo\":\"text\",\"marker\":{\"color\":\"skyblue\",\"size\":10},\"mode\":\"markers\",\"text\":\"Friedrich Peypus\",\"x\":[0.2876485915807303],\"y\":[0.8238824895326969],\"type\":\"scatter\"},{\"hoverinfo\":\"text\",\"marker\":{\"color\":\"skyblue\",\"size\":10},\"mode\":\"markers\",\"text\":\"Johann Koberger\",\"x\":[0.31465914096322595],\"y\":[0.8799247086741236],\"type\":\"scatter\"},{\"hoverinfo\":\"text\",\"marker\":{\"color\":\"skyblue\",\"size\":10},\"mode\":\"markers\",\"text\":\"Guillaume Anabat\",\"x\":[-0.9728529090734721],\"y\":[-0.28280672210658087],\"type\":\"scatter\"},{\"hoverinfo\":\"text\",\"marker\":{\"color\":\"skyblue\",\"size\":10},\"mode\":\"markers\",\"text\":\"Gilles und Germain Hardouyn\",\"x\":[-0.9441853372996893],\"y\":[-0.27575378053852984],\"type\":\"scatter\"},{\"hoverinfo\":\"text\",\"marker\":{\"color\":\"skyblue\",\"size\":10},\"mode\":\"markers\",\"text\":\"Andr\\u00e9 Bocard\",\"x\":[-0.052991530157687775],\"y\":[0.30255687299589507],\"type\":\"scatter\"},{\"hoverinfo\":\"text\",\"marker\":{\"color\":\"skyblue\",\"size\":10},\"mode\":\"markers\",\"text\":\"Antoine V\\u00e9rard(?)\",\"x\":[-0.006483833999752863],\"y\":[0.36725253844021427],\"type\":\"scatter\"},{\"hoverinfo\":\"text\",\"marker\":{\"color\":\"skyblue\",\"size\":10},\"mode\":\"markers\",\"text\":\"Andr\\u00e9 Bocard(?)\",\"x\":[-0.06694875189828725],\"y\":[0.3479133472596732],\"type\":\"scatter\"},{\"hoverinfo\":\"text\",\"marker\":{\"color\":\"skyblue\",\"size\":10},\"mode\":\"markers\",\"text\":\"Antoine V\\u00e9rard\",\"x\":[-0.08775727140148025],\"y\":[0.26631181458927883],\"type\":\"scatter\"},{\"hoverinfo\":\"text\",\"marker\":{\"color\":\"skyblue\",\"size\":10},\"mode\":\"markers\",\"text\":\"Antoine Caillaut\",\"x\":[-0.09916811291046948],\"y\":[0.2970808648903127],\"type\":\"scatter\"},{\"hoverinfo\":\"text\",\"marker\":{\"color\":\"skyblue\",\"size\":10},\"mode\":\"markers\",\"text\":\"Antoine Chappiel\",\"x\":[-0.592398234741294],\"y\":[-0.6923665885215706],\"type\":\"scatter\"},{\"hoverinfo\":\"text\",\"marker\":{\"color\":\"skyblue\",\"size\":10},\"mode\":\"markers\",\"text\":\"Germain Hardouyn\",\"x\":[-0.5485396646098896],\"y\":[-0.6500420158358864],\"type\":\"scatter\"},{\"hoverinfo\":\"text\",\"marker\":{\"color\":\"skyblue\",\"size\":10},\"mode\":\"markers\",\"text\":\"Jean Du Pr\\u00e9\",\"x\":[-0.12633723786635],\"y\":[0.28290422615609956],\"type\":\"scatter\"},{\"hoverinfo\":\"text\",\"marker\":{\"color\":\"skyblue\",\"size\":10},\"mode\":\"markers\",\"text\":\"Denis Meslier\",\"x\":[-0.19796892789334852],\"y\":[0.3175067883537227],\"type\":\"scatter\"},{\"hoverinfo\":\"text\",\"marker\":{\"color\":\"skyblue\",\"size\":10},\"mode\":\"markers\",\"text\":\"Ulrich Gering und Berthold Remboldt\",\"x\":[-0.24791721452325774],\"y\":[-0.0993145498510491],\"type\":\"scatter\"},{\"hoverinfo\":\"text\",\"marker\":{\"color\":\"skyblue\",\"size\":10},\"mode\":\"markers\",\"text\":\"Simon Vostre\",\"x\":[-0.17252957042773062],\"y\":[-0.04831308532533802],\"type\":\"scatter\"},{\"hoverinfo\":\"text\",\"marker\":{\"color\":\"skyblue\",\"size\":10},\"mode\":\"markers\",\"text\":\"Johann Higman\",\"x\":[-0.13084972193034486],\"y\":[-0.6430546637636475],\"type\":\"scatter\"},{\"hoverinfo\":\"text\",\"marker\":{\"color\":\"skyblue\",\"size\":10},\"mode\":\"markers\",\"text\":\"Willem Houtmaert in Antwerpen\",\"x\":[-0.1557250030276227],\"y\":[-0.6798883905110044],\"type\":\"scatter\"},{\"hoverinfo\":\"text\",\"marker\":{\"color\":\"skyblue\",\"size\":10},\"mode\":\"markers\",\"text\":\"Nicolas Higman\",\"x\":[-0.20497821608498928],\"y\":[-0.0808316711239252],\"type\":\"scatter\"},{\"hoverinfo\":\"text\",\"marker\":{\"color\":\"skyblue\",\"size\":10},\"mode\":\"markers\",\"text\":\"Etienne Jehannot\",\"x\":[-0.05569604148001072],\"y\":[0.18655599212227753],\"type\":\"scatter\"},{\"hoverinfo\":\"text\",\"marker\":{\"color\":\"skyblue\",\"size\":10},\"mode\":\"markers\",\"text\":\"Johannes de Campis in Cambrai\",\"x\":[0.029070111771450878],\"y\":[0.19077925516636618],\"type\":\"scatter\"},{\"hoverinfo\":\"text\",\"marker\":{\"color\":\"skyblue\",\"size\":10},\"mode\":\"markers\",\"text\":\"Pierre Regnault in Caen\",\"x\":[-0.09321301123994015],\"y\":[0.10129144797107731],\"type\":\"scatter\"},{\"hoverinfo\":\"text\",\"marker\":{\"color\":\"skyblue\",\"size\":10},\"mode\":\"markers\",\"text\":\"Jean Petit\",\"x\":[0.0203891474309241],\"y\":[0.22575367942476546],\"type\":\"scatter\"},{\"hoverinfo\":\"text\",\"marker\":{\"color\":\"skyblue\",\"size\":10},\"mode\":\"markers\",\"text\":\"Denis Roce\",\"x\":[-0.007039959976450998],\"y\":[0.19653475872080772],\"type\":\"scatter\"},{\"hoverinfo\":\"text\",\"marker\":{\"color\":\"skyblue\",\"size\":10},\"mode\":\"markers\",\"text\":\"die Br\\u00fcder de Marnef\",\"x\":[-0.09620097689357371],\"y\":[0.059909040988435386],\"type\":\"scatter\"},{\"hoverinfo\":\"text\",\"marker\":{\"color\":\"skyblue\",\"size\":10},\"mode\":\"markers\",\"text\":\"Pierre Pasquier\",\"x\":[0.014748685054467366],\"y\":[0.15827903292492848],\"type\":\"scatter\"},{\"hoverinfo\":\"text\",\"marker\":{\"color\":\"skyblue\",\"size\":10},\"mode\":\"markers\",\"text\":\"Jean Poitevin\",\"x\":[-0.031498861321180315],\"y\":[0.16046292762370687],\"type\":\"scatter\"},{\"hoverinfo\":\"text\",\"marker\":{\"color\":\"skyblue\",\"size\":10},\"mode\":\"markers\",\"text\":\"Gilles Hardouyn\",\"x\":[-0.013355873886738593],\"y\":[0.23615994944216553],\"type\":\"scatter\"},{\"hoverinfo\":\"text\",\"marker\":{\"color\":\"skyblue\",\"size\":10},\"mode\":\"markers\",\"text\":\"Jean Jehannot\",\"x\":[0.2930832553356206],\"y\":[-0.8719700387871356],\"type\":\"scatter\"},{\"hoverinfo\":\"text\",\"marker\":{\"color\":\"skyblue\",\"size\":10},\"mode\":\"markers\",\"text\":\"Nicolaus Lecomte\",\"x\":[0.31380277409512386],\"y\":[-0.8424369601958253],\"type\":\"scatter\"},{\"hoverinfo\":\"text\",\"marker\":{\"color\":\"skyblue\",\"size\":10},\"mode\":\"markers\",\"text\":\"Thielmann Kerver\",\"x\":[0.591340633277366],\"y\":[-0.0845007574454604],\"type\":\"scatter\"},{\"hoverinfo\":\"text\",\"marker\":{\"color\":\"skyblue\",\"size\":10},\"mode\":\"markers\",\"text\":\"Robert Mac\\u00e9 in Caen\",\"x\":[0.6633125028153365],\"y\":[-0.11362134672389437],\"type\":\"scatter\"},{\"hoverinfo\":\"text\",\"marker\":{\"color\":\"skyblue\",\"size\":10},\"mode\":\"markers\",\"text\":\"Gilles Remacle\",\"x\":[0.5739785743238821],\"y\":[-0.06453383266838704],\"type\":\"scatter\"},{\"hoverinfo\":\"text\",\"marker\":{\"color\":\"skyblue\",\"size\":10},\"mode\":\"markers\",\"text\":\"Hugues Pageot in Dijon\",\"x\":[0.6018708405970218],\"y\":[-0.019391786658390423],\"type\":\"scatter\"},{\"hoverinfo\":\"text\",\"marker\":{\"color\":\"skyblue\",\"size\":10},\"mode\":\"markers\",\"text\":\"Guillaume Eustace\",\"x\":[0.5645868860039804],\"y\":[-0.09555288142233478],\"type\":\"scatter\"},{\"hoverinfo\":\"text\",\"marker\":{\"color\":\"skyblue\",\"size\":10},\"mode\":\"markers\",\"text\":\"Jean Petit in Paris und Pierre Cochery in Le Mans\",\"x\":[0.5695160215237248],\"y\":[-0.13843931242167937],\"type\":\"scatter\"},{\"hoverinfo\":\"text\",\"marker\":{\"color\":\"skyblue\",\"size\":10},\"mode\":\"markers\",\"text\":\"Gauche Preta in Ch\\u00e2lons\",\"x\":[0.6604233218973153],\"y\":[-0.06472558075049206],\"type\":\"scatter\"},{\"hoverinfo\":\"text\",\"marker\":{\"color\":\"skyblue\",\"size\":10},\"mode\":\"markers\",\"text\":\"sich selbst, Gilles Remacle und Guillaume Eustace\",\"x\":[0.6405639748562948],\"y\":[-0.03304447930371658],\"type\":\"scatter\"},{\"hoverinfo\":\"text\",\"marker\":{\"color\":\"skyblue\",\"size\":10},\"mode\":\"markers\",\"text\":\"Pierre Le Dru und Etienne Jehannot\",\"x\":[-0.2544982948243329],\"y\":[-0.8520731094843562],\"type\":\"scatter\"},{\"hoverinfo\":\"text\",\"marker\":{\"color\":\"skyblue\",\"size\":10},\"mode\":\"markers\",\"text\":\"Robin Challot\",\"x\":[-0.2860495458254048],\"y\":[-0.8676879749543082],\"type\":\"scatter\"},{\"hoverinfo\":\"text\",\"marker\":{\"color\":\"skyblue\",\"size\":10},\"mode\":\"markers\",\"text\":\"Pierre Le Dru(?)\",\"x\":[0.013477538705116842],\"y\":[0.12405643760503829],\"type\":\"scatter\"},{\"hoverinfo\":\"text\",\"marker\":{\"color\":\"skyblue\",\"size\":10},\"mode\":\"markers\",\"text\":\"Guillaume Le Rouge\",\"x\":[-0.10105059181538523],\"y\":[0.34577675660165025],\"type\":\"scatter\"},{\"hoverinfo\":\"text\",\"marker\":{\"color\":\"skyblue\",\"size\":10},\"mode\":\"markers\",\"text\":\"Pierre Le Rouge(?)\",\"x\":[-0.11880969291510879],\"y\":[0.23982779275895127],\"type\":\"scatter\"},{\"hoverinfo\":\"text\",\"marker\":{\"color\":\"skyblue\",\"size\":10},\"mode\":\"markers\",\"text\":\"Pierre Le Rouge\",\"x\":[-0.0158925119275923],\"y\":[-0.7904224491943135],\"type\":\"scatter\"},{\"hoverinfo\":\"text\",\"marker\":{\"color\":\"skyblue\",\"size\":10},\"mode\":\"markers\",\"text\":\"Vincent Commin\",\"x\":[-0.04972976785533726],\"y\":[-0.7833453848916027],\"type\":\"scatter\"},{\"hoverinfo\":\"text\",\"marker\":{\"color\":\"skyblue\",\"size\":10},\"mode\":\"markers\",\"text\":\"Pierre Levet\",\"x\":[-0.1394879014802143],\"y\":[0.3265146014671464],\"type\":\"scatter\"},{\"hoverinfo\":\"text\",\"marker\":{\"color\":\"skyblue\",\"size\":10},\"mode\":\"markers\",\"text\":\"Guy Marchant\",\"x\":[-0.02800433973529084],\"y\":[0.333454702440112],\"type\":\"scatter\"},{\"hoverinfo\":\"text\",\"marker\":{\"color\":\"skyblue\",\"size\":10},\"mode\":\"markers\",\"text\":\"Jean Morand(?)\",\"x\":[-0.16115157706086375],\"y\":[0.25675189440760676],\"type\":\"scatter\"},{\"hoverinfo\":\"text\",\"marker\":{\"color\":\"skyblue\",\"size\":10},\"mode\":\"markers\",\"text\":\"Jean de Coulonces bzw. Robin Challot\",\"x\":[-0.23770585481721201],\"y\":[0.2575769033276952],\"type\":\"scatter\"},{\"hoverinfo\":\"text\",\"marker\":{\"color\":\"skyblue\",\"size\":10},\"mode\":\"markers\",\"text\":\"Jean Morand\",\"x\":[-0.15230401329759394],\"y\":[0.3968455335853309],\"type\":\"scatter\"},{\"hoverinfo\":\"text\",\"marker\":{\"color\":\"skyblue\",\"size\":10},\"mode\":\"markers\",\"text\":\"Geoffroi de Marnef\",\"x\":[-0.16953739267892337],\"y\":[0.4533740833707105],\"type\":\"scatter\"},{\"hoverinfo\":\"text\",\"marker\":{\"color\":\"skyblue\",\"size\":10},\"mode\":\"markers\",\"text\":\"Enguilbert de Marnef und Jean Alexandre\",\"x\":[-0.2071104696761714],\"y\":[0.4520705865762175],\"type\":\"scatter\"},{\"hoverinfo\":\"text\",\"marker\":{\"color\":\"skyblue\",\"size\":10},\"mode\":\"markers\",\"text\":\"Johann Philippi\",\"x\":[0.6143038307752582],\"y\":[-0.13896391098481062],\"type\":\"scatter\"},{\"hoverinfo\":\"text\",\"marker\":{\"color\":\"skyblue\",\"size\":10},\"mode\":\"markers\",\"text\":\"Thielmann Kerver in Paris und Jean Richard in Rouen\",\"x\":[0.665756585178197],\"y\":[-0.18591195697205098],\"type\":\"scatter\"},{\"hoverinfo\":\"text\",\"marker\":{\"color\":\"skyblue\",\"size\":10},\"mode\":\"markers\",\"text\":\"Jacques Bezanceau in Poitiers und Thielmann Kerver in Paris\",\"x\":[0.6293571348532481],\"y\":[-0.20439008286901397],\"type\":\"scatter\"},{\"hoverinfo\":\"text\",\"marker\":{\"color\":\"skyblue\",\"size\":10},\"mode\":\"markers\",\"text\":\"Philippe Pigouchet\",\"x\":[-0.16196292478363153],\"y\":[-0.039734685986759416],\"type\":\"scatter\"},{\"hoverinfo\":\"text\",\"marker\":{\"color\":\"skyblue\",\"size\":10},\"mode\":\"markers\",\"text\":\"Philippe Pigouchet z.T.\",\"x\":[-0.05691635104474618],\"y\":[0.015440953478221912],\"type\":\"scatter\"},{\"hoverinfo\":\"text\",\"marker\":{\"color\":\"skyblue\",\"size\":10},\"mode\":\"markers\",\"text\":\"sich selbst und die Br\\u00fcder de Marnef\",\"x\":[-0.23822519282931187],\"y\":[-0.06240643995047953],\"type\":\"scatter\"},{\"hoverinfo\":\"text\",\"marker\":{\"color\":\"skyblue\",\"size\":10},\"mode\":\"markers\",\"text\":\"Toussaint de Montjay\",\"x\":[-0.12321359252322411],\"y\":[-0.0658202113578905],\"type\":\"scatter\"},{\"hoverinfo\":\"text\",\"marker\":{\"color\":\"skyblue\",\"size\":10},\"mode\":\"markers\",\"text\":\"Jean Richard in Rouen\",\"x\":[-0.24257852420283516],\"y\":[-0.031380905640114864],\"type\":\"scatter\"},{\"hoverinfo\":\"text\",\"marker\":{\"color\":\"skyblue\",\"size\":10},\"mode\":\"markers\",\"text\":\"Jean Du Bois in Auxerre(?)\",\"x\":[-0.12995091004245085],\"y\":[-0.1161752799205075],\"type\":\"scatter\"},{\"hoverinfo\":\"text\",\"marker\":{\"color\":\"skyblue\",\"size\":10},\"mode\":\"markers\",\"text\":\"Mac\\u00e9 Panthoul in Troyes\",\"x\":[-0.15762361184257484],\"y\":[-0.0854741469481486],\"type\":\"scatter\"},{\"hoverinfo\":\"text\",\"marker\":{\"color\":\"skyblue\",\"size\":10},\"mode\":\"markers\",\"text\":\"Jean Magdalene in Metz\",\"x\":[-0.20638837514967256],\"y\":[-0.11592444797903106],\"type\":\"scatter\"},{\"hoverinfo\":\"text\",\"marker\":{\"color\":\"skyblue\",\"size\":10},\"mode\":\"markers\",\"text\":\"Jean Lagache in Arras\",\"x\":[-0.1712941573783999],\"y\":[-0.1256897200725001],\"type\":\"scatter\"},{\"hoverinfo\":\"text\",\"marker\":{\"color\":\"skyblue\",\"size\":10},\"mode\":\"markers\",\"text\":\"Narcisse Bruno\",\"x\":[-0.21931533142315696],\"y\":[-0.005866855124669451],\"type\":\"scatter\"},{\"hoverinfo\":\"text\",\"marker\":{\"color\":\"skyblue\",\"size\":10},\"mode\":\"markers\",\"text\":\"Georg Wolff und Thielmann Kerver\",\"x\":[-0.19707728087255758],\"y\":[0.523894922747307],\"type\":\"scatter\"},{\"hoverinfo\":\"text\",\"marker\":{\"color\":\"skyblue\",\"size\":10},\"mode\":\"markers\",\"text\":\"Jacques Le Forestier\",\"x\":[0.7228665185361337],\"y\":[-0.13857658920277194],\"type\":\"scatter\"},{\"hoverinfo\":\"text\",\"marker\":{\"color\":\"skyblue\",\"size\":10},\"mode\":\"markers\",\"text\":\"Peter Hagembach und Leonhard Hutz\",\"x\":[0.4945706997070675],\"y\":[-0.5351098475560722],\"type\":\"scatter\"},{\"hoverinfo\":\"text\",\"marker\":{\"color\":\"skyblue\",\"size\":10},\"mode\":\"markers\",\"text\":\"Jacobus de Villa\",\"x\":[0.52887225110112],\"y\":[-0.5451985800024266],\"type\":\"scatter\"},{\"hoverinfo\":\"text\",\"marker\":{\"color\":\"skyblue\",\"size\":10},\"mode\":\"markers\",\"text\":\"Johann Emerich\",\"x\":[0.1906575573712177],\"y\":[-0.11406795332916633],\"type\":\"scatter\"},{\"hoverinfo\":\"text\",\"marker\":{\"color\":\"skyblue\",\"size\":10},\"mode\":\"markers\",\"text\":\"Lucantonio Giunta\",\"x\":[0.21088872780756],\"y\":[-0.10932075638350788],\"type\":\"scatter\"},{\"hoverinfo\":\"text\",\"marker\":{\"color\":\"skyblue\",\"size\":10},\"mode\":\"markers\",\"text\":\"Johann Hamann\",\"x\":[0.13450485224553288],\"y\":[-0.7566783023403979],\"type\":\"scatter\"},{\"hoverinfo\":\"text\",\"marker\":{\"color\":\"skyblue\",\"size\":10},\"mode\":\"markers\",\"text\":\"Gerard Barrevelt und Frederick Egmondt\",\"x\":[0.14693591986373294],\"y\":[-0.8209787008423097],\"type\":\"scatter\"},{\"hoverinfo\":\"text\",\"marker\":{\"color\":\"skyblue\",\"size\":10},\"mode\":\"markers\",\"text\":\"Johann Volkarth\",\"x\":[0.15923219458880716],\"y\":[-0.7170548102411264],\"type\":\"scatter\"},{\"hoverinfo\":\"text\",\"marker\":{\"color\":\"skyblue\",\"size\":10},\"mode\":\"markers\",\"text\":\"Octavianus Scotus\",\"x\":[0.09980314365512162],\"y\":[-0.7266272673731174],\"type\":\"scatter\"},{\"hoverinfo\":\"text\",\"marker\":{\"color\":\"skyblue\",\"size\":10},\"mode\":\"markers\",\"text\":\"Nicolas Jenson\",\"x\":[-0.6872416806894234],\"y\":[0.6212841107780145],\"type\":\"scatter\"},{\"hoverinfo\":\"text\",\"marker\":{\"color\":\"skyblue\",\"size\":10},\"mode\":\"markers\",\"text\":\"? Raphael Zovenzonius\",\"x\":[-0.6560555937479022],\"y\":[0.5911849010469034],\"type\":\"scatter\"},{\"hoverinfo\":\"text\",\"marker\":{\"color\":\"skyblue\",\"size\":10},\"mode\":\"markers\",\"text\":\"Andreas Torresanus\",\"x\":[-0.7987972603326972],\"y\":[-0.01104653729798675],\"type\":\"scatter\"},{\"hoverinfo\":\"text\",\"marker\":{\"color\":\"skyblue\",\"size\":10},\"mode\":\"markers\",\"text\":\"Johann von K\\u00f6ln, Nicolas Jenson und Genossen\",\"x\":[-0.8582036712458376],\"y\":[-0.013856409861056133],\"type\":\"scatter\"},{\"hoverinfo\":\"none\",\"line\":{\"color\":\"black\",\"width\":1},\"mode\":\"lines\",\"x\":[0.8523893592964603,0.7792090689938204,null],\"y\":[-0.11237311775696501,-0.10800201204181767,null],\"type\":\"scatter\"},{\"hoverinfo\":\"none\",\"line\":{\"color\":\"black\",\"width\":1},\"mode\":\"lines\",\"x\":[-0.08785183200395623,-0.11931471777360868,null],\"y\":[0.961982275586413,0.9623855906499961,null],\"type\":\"scatter\"},{\"hoverinfo\":\"none\",\"line\":{\"color\":\"black\",\"width\":1},\"mode\":\"lines\",\"x\":[-0.11931471777360868,-0.14591613344735888,null],\"y\":[0.9623855906499961,1.0,null],\"type\":\"scatter\"},{\"hoverinfo\":\"none\",\"line\":{\"color\":\"black\",\"width\":1},\"mode\":\"lines\",\"x\":[0.6656481367594784,0.6963965453053762,null],\"y\":[0.4709356591569285,0.4530160787640414,null],\"type\":\"scatter\"},{\"hoverinfo\":\"none\",\"line\":{\"color\":\"black\",\"width\":1},\"mode\":\"lines\",\"x\":[-0.8126854456992423,-0.8472837226841338,null],\"y\":[0.3903370882481933,0.38297628264110284,null],\"type\":\"scatter\"},{\"hoverinfo\":\"none\",\"line\":{\"color\":\"black\",\"width\":1},\"mode\":\"lines\",\"x\":[0.2876485915807303,0.31465914096322595,null],\"y\":[0.8238824895326969,0.8799247086741236,null],\"type\":\"scatter\"},{\"hoverinfo\":\"none\",\"line\":{\"color\":\"black\",\"width\":1},\"mode\":\"lines\",\"x\":[-0.9728529090734721,-0.9441853372996893,null],\"y\":[-0.28280672210658087,-0.27575378053852984,null],\"type\":\"scatter\"},{\"hoverinfo\":\"none\",\"line\":{\"color\":\"black\",\"width\":1},\"mode\":\"lines\",\"x\":[-0.052991530157687775,-0.006483833999752863,null],\"y\":[0.30255687299589507,0.36725253844021427,null],\"type\":\"scatter\"},{\"hoverinfo\":\"none\",\"line\":{\"color\":\"black\",\"width\":1},\"mode\":\"lines\",\"x\":[-0.052991530157687775,-0.08775727140148025,null],\"y\":[0.30255687299589507,0.26631181458927883,null],\"type\":\"scatter\"},{\"hoverinfo\":\"none\",\"line\":{\"color\":\"black\",\"width\":1},\"mode\":\"lines\",\"x\":[-0.006483833999752863,-0.02800433973529084,null],\"y\":[0.36725253844021427,0.333454702440112,null],\"type\":\"scatter\"},{\"hoverinfo\":\"none\",\"line\":{\"color\":\"black\",\"width\":1},\"mode\":\"lines\",\"x\":[-0.06694875189828725,-0.08775727140148025,null],\"y\":[0.3479133472596732,0.26631181458927883,null],\"type\":\"scatter\"},{\"hoverinfo\":\"none\",\"line\":{\"color\":\"black\",\"width\":1},\"mode\":\"lines\",\"x\":[-0.08775727140148025,-0.09916811291046948,null],\"y\":[0.26631181458927883,0.2970808648903127,null],\"type\":\"scatter\"},{\"hoverinfo\":\"none\",\"line\":{\"color\":\"black\",\"width\":1},\"mode\":\"lines\",\"x\":[-0.08775727140148025,-0.12633723786635,null],\"y\":[0.26631181458927883,0.28290422615609956,null],\"type\":\"scatter\"},{\"hoverinfo\":\"none\",\"line\":{\"color\":\"black\",\"width\":1},\"mode\":\"lines\",\"x\":[-0.08775727140148025,-0.05569604148001072,null],\"y\":[0.26631181458927883,0.18655599212227753,null],\"type\":\"scatter\"},{\"hoverinfo\":\"none\",\"line\":{\"color\":\"black\",\"width\":1},\"mode\":\"lines\",\"x\":[-0.08775727140148025,-0.10105059181538523,null],\"y\":[0.26631181458927883,0.34577675660165025,null],\"type\":\"scatter\"},{\"hoverinfo\":\"none\",\"line\":{\"color\":\"black\",\"width\":1},\"mode\":\"lines\",\"x\":[-0.08775727140148025,-0.11880969291510879,null],\"y\":[0.26631181458927883,0.23982779275895127,null],\"type\":\"scatter\"},{\"hoverinfo\":\"none\",\"line\":{\"color\":\"black\",\"width\":1},\"mode\":\"lines\",\"x\":[-0.08775727140148025,-0.1394879014802143,null],\"y\":[0.26631181458927883,0.3265146014671464,null],\"type\":\"scatter\"},{\"hoverinfo\":\"none\",\"line\":{\"color\":\"black\",\"width\":1},\"mode\":\"lines\",\"x\":[-0.08775727140148025,-0.02800433973529084,null],\"y\":[0.26631181458927883,0.333454702440112,null],\"type\":\"scatter\"},{\"hoverinfo\":\"none\",\"line\":{\"color\":\"black\",\"width\":1},\"mode\":\"lines\",\"x\":[-0.08775727140148025,-0.16115157706086375,null],\"y\":[0.26631181458927883,0.25675189440760676,null],\"type\":\"scatter\"},{\"hoverinfo\":\"none\",\"line\":{\"color\":\"black\",\"width\":1},\"mode\":\"lines\",\"x\":[-0.08775727140148025,-0.15230401329759394,null],\"y\":[0.26631181458927883,0.3968455335853309,null],\"type\":\"scatter\"},{\"hoverinfo\":\"none\",\"line\":{\"color\":\"black\",\"width\":1},\"mode\":\"lines\",\"x\":[-0.09916811291046948,-0.12633723786635,null],\"y\":[0.2970808648903127,0.28290422615609956,null],\"type\":\"scatter\"},{\"hoverinfo\":\"none\",\"line\":{\"color\":\"black\",\"width\":1},\"mode\":\"lines\",\"x\":[-0.592398234741294,-0.5485396646098896,null],\"y\":[-0.6923665885215706,-0.6500420158358864,null],\"type\":\"scatter\"},{\"hoverinfo\":\"none\",\"line\":{\"color\":\"black\",\"width\":1},\"mode\":\"lines\",\"x\":[-0.12633723786635,-0.19796892789334852,null],\"y\":[0.28290422615609956,0.3175067883537227,null],\"type\":\"scatter\"},{\"hoverinfo\":\"none\",\"line\":{\"color\":\"black\",\"width\":1},\"mode\":\"lines\",\"x\":[-0.24791721452325774,-0.17252957042773062,null],\"y\":[-0.0993145498510491,-0.04831308532533802,null],\"type\":\"scatter\"},{\"hoverinfo\":\"none\",\"line\":{\"color\":\"black\",\"width\":1},\"mode\":\"lines\",\"x\":[-0.17252957042773062,-0.20497821608498928,null],\"y\":[-0.04831308532533802,-0.0808316711239252,null],\"type\":\"scatter\"},{\"hoverinfo\":\"none\",\"line\":{\"color\":\"black\",\"width\":1},\"mode\":\"lines\",\"x\":[-0.17252957042773062,-0.16196292478363153,null],\"y\":[-0.04831308532533802,-0.039734685986759416,null],\"type\":\"scatter\"},{\"hoverinfo\":\"none\",\"line\":{\"color\":\"black\",\"width\":1},\"mode\":\"lines\",\"x\":[-0.13084972193034486,-0.1557250030276227,null],\"y\":[-0.6430546637636475,-0.6798883905110044,null],\"type\":\"scatter\"},{\"hoverinfo\":\"none\",\"line\":{\"color\":\"black\",\"width\":1},\"mode\":\"lines\",\"x\":[-0.05569604148001072,0.029070111771450878,null],\"y\":[0.18655599212227753,0.19077925516636618,null],\"type\":\"scatter\"},{\"hoverinfo\":\"none\",\"line\":{\"color\":\"black\",\"width\":1},\"mode\":\"lines\",\"x\":[-0.05569604148001072,-0.09321301123994015,null],\"y\":[0.18655599212227753,0.10129144797107731,null],\"type\":\"scatter\"},{\"hoverinfo\":\"none\",\"line\":{\"color\":\"black\",\"width\":1},\"mode\":\"lines\",\"x\":[-0.05569604148001072,0.0203891474309241,null],\"y\":[0.18655599212227753,0.22575367942476546,null],\"type\":\"scatter\"},{\"hoverinfo\":\"none\",\"line\":{\"color\":\"black\",\"width\":1},\"mode\":\"lines\",\"x\":[-0.05569604148001072,-0.007039959976450998,null],\"y\":[0.18655599212227753,0.19653475872080772,null],\"type\":\"scatter\"},{\"hoverinfo\":\"none\",\"line\":{\"color\":\"black\",\"width\":1},\"mode\":\"lines\",\"x\":[-0.05569604148001072,-0.09620097689357371,null],\"y\":[0.18655599212227753,0.059909040988435386,null],\"type\":\"scatter\"},{\"hoverinfo\":\"none\",\"line\":{\"color\":\"black\",\"width\":1},\"mode\":\"lines\",\"x\":[-0.05569604148001072,0.014748685054467366,null],\"y\":[0.18655599212227753,0.15827903292492848,null],\"type\":\"scatter\"},{\"hoverinfo\":\"none\",\"line\":{\"color\":\"black\",\"width\":1},\"mode\":\"lines\",\"x\":[-0.05569604148001072,-0.031498861321180315,null],\"y\":[0.18655599212227753,0.16046292762370687,null],\"type\":\"scatter\"},{\"hoverinfo\":\"none\",\"line\":{\"color\":\"black\",\"width\":1},\"mode\":\"lines\",\"x\":[-0.05569604148001072,-0.013355873886738593,null],\"y\":[0.18655599212227753,0.23615994944216553,null],\"type\":\"scatter\"},{\"hoverinfo\":\"none\",\"line\":{\"color\":\"black\",\"width\":1},\"mode\":\"lines\",\"x\":[-0.09321301123994015,-0.16196292478363153,null],\"y\":[0.10129144797107731,-0.039734685986759416,null],\"type\":\"scatter\"},{\"hoverinfo\":\"none\",\"line\":{\"color\":\"black\",\"width\":1},\"mode\":\"lines\",\"x\":[-0.09620097689357371,-0.16196292478363153,null],\"y\":[0.059909040988435386,-0.039734685986759416,null],\"type\":\"scatter\"},{\"hoverinfo\":\"none\",\"line\":{\"color\":\"black\",\"width\":1},\"mode\":\"lines\",\"x\":[-0.09620097689357371,-0.05691635104474618,null],\"y\":[0.059909040988435386,0.015440953478221912,null],\"type\":\"scatter\"},{\"hoverinfo\":\"none\",\"line\":{\"color\":\"black\",\"width\":1},\"mode\":\"lines\",\"x\":[-0.031498861321180315,0.013477538705116842,null],\"y\":[0.16046292762370687,0.12405643760503829,null],\"type\":\"scatter\"},{\"hoverinfo\":\"none\",\"line\":{\"color\":\"black\",\"width\":1},\"mode\":\"lines\",\"x\":[0.2930832553356206,0.31380277409512386,null],\"y\":[-0.8719700387871356,-0.8424369601958253,null],\"type\":\"scatter\"},{\"hoverinfo\":\"none\",\"line\":{\"color\":\"black\",\"width\":1},\"mode\":\"lines\",\"x\":[0.591340633277366,0.6633125028153365,null],\"y\":[-0.0845007574454604,-0.11362134672389437,null],\"type\":\"scatter\"},{\"hoverinfo\":\"none\",\"line\":{\"color\":\"black\",\"width\":1},\"mode\":\"lines\",\"x\":[0.591340633277366,0.5739785743238821,null],\"y\":[-0.0845007574454604,-0.06453383266838704,null],\"type\":\"scatter\"},{\"hoverinfo\":\"none\",\"line\":{\"color\":\"black\",\"width\":1},\"mode\":\"lines\",\"x\":[0.591340633277366,0.6018708405970218,null],\"y\":[-0.0845007574454604,-0.019391786658390423,null],\"type\":\"scatter\"},{\"hoverinfo\":\"none\",\"line\":{\"color\":\"black\",\"width\":1},\"mode\":\"lines\",\"x\":[0.591340633277366,0.5645868860039804,null],\"y\":[-0.0845007574454604,-0.09555288142233478,null],\"type\":\"scatter\"},{\"hoverinfo\":\"none\",\"line\":{\"color\":\"black\",\"width\":1},\"mode\":\"lines\",\"x\":[0.591340633277366,0.5695160215237248,null],\"y\":[-0.0845007574454604,-0.13843931242167937,null],\"type\":\"scatter\"},{\"hoverinfo\":\"none\",\"line\":{\"color\":\"black\",\"width\":1},\"mode\":\"lines\",\"x\":[0.591340633277366,0.6604233218973153,null],\"y\":[-0.0845007574454604,-0.06472558075049206,null],\"type\":\"scatter\"},{\"hoverinfo\":\"none\",\"line\":{\"color\":\"black\",\"width\":1},\"mode\":\"lines\",\"x\":[0.591340633277366,0.6405639748562948,null],\"y\":[-0.0845007574454604,-0.03304447930371658,null],\"type\":\"scatter\"},{\"hoverinfo\":\"none\",\"line\":{\"color\":\"black\",\"width\":1},\"mode\":\"lines\",\"x\":[0.591340633277366,0.6143038307752582,null],\"y\":[-0.0845007574454604,-0.13896391098481062,null],\"type\":\"scatter\"},{\"hoverinfo\":\"none\",\"line\":{\"color\":\"black\",\"width\":1},\"mode\":\"lines\",\"x\":[0.6633125028153365,0.7228665185361337,null],\"y\":[-0.11362134672389437,-0.13857658920277194,null],\"type\":\"scatter\"},{\"hoverinfo\":\"none\",\"line\":{\"color\":\"black\",\"width\":1},\"mode\":\"lines\",\"x\":[-0.2544982948243329,-0.2860495458254048,null],\"y\":[-0.8520731094843562,-0.8676879749543082,null],\"type\":\"scatter\"},{\"hoverinfo\":\"none\",\"line\":{\"color\":\"black\",\"width\":1},\"mode\":\"lines\",\"x\":[-0.0158925119275923,-0.04972976785533726,null],\"y\":[-0.7904224491943135,-0.7833453848916027,null],\"type\":\"scatter\"},{\"hoverinfo\":\"none\",\"line\":{\"color\":\"black\",\"width\":1},\"mode\":\"lines\",\"x\":[-0.16115157706086375,-0.23770585481721201,null],\"y\":[0.25675189440760676,0.2575769033276952,null],\"type\":\"scatter\"},{\"hoverinfo\":\"none\",\"line\":{\"color\":\"black\",\"width\":1},\"mode\":\"lines\",\"x\":[-0.15230401329759394,-0.16953739267892337,null],\"y\":[0.3968455335853309,0.4533740833707105,null],\"type\":\"scatter\"},{\"hoverinfo\":\"none\",\"line\":{\"color\":\"black\",\"width\":1},\"mode\":\"lines\",\"x\":[-0.15230401329759394,-0.2071104696761714,null],\"y\":[0.3968455335853309,0.4520705865762175,null],\"type\":\"scatter\"},{\"hoverinfo\":\"none\",\"line\":{\"color\":\"black\",\"width\":1},\"mode\":\"lines\",\"x\":[-0.16953739267892337,-0.19707728087255758,null],\"y\":[0.4533740833707105,0.523894922747307,null],\"type\":\"scatter\"},{\"hoverinfo\":\"none\",\"line\":{\"color\":\"black\",\"width\":1},\"mode\":\"lines\",\"x\":[0.6143038307752582,0.665756585178197,null],\"y\":[-0.13896391098481062,-0.18591195697205098,null],\"type\":\"scatter\"},{\"hoverinfo\":\"none\",\"line\":{\"color\":\"black\",\"width\":1},\"mode\":\"lines\",\"x\":[0.6143038307752582,0.6293571348532481,null],\"y\":[-0.13896391098481062,-0.20439008286901397,null],\"type\":\"scatter\"},{\"hoverinfo\":\"none\",\"line\":{\"color\":\"black\",\"width\":1},\"mode\":\"lines\",\"x\":[-0.16196292478363153,-0.23822519282931187,null],\"y\":[-0.039734685986759416,-0.06240643995047953,null],\"type\":\"scatter\"},{\"hoverinfo\":\"none\",\"line\":{\"color\":\"black\",\"width\":1},\"mode\":\"lines\",\"x\":[-0.16196292478363153,-0.12321359252322411,null],\"y\":[-0.039734685986759416,-0.0658202113578905,null],\"type\":\"scatter\"},{\"hoverinfo\":\"none\",\"line\":{\"color\":\"black\",\"width\":1},\"mode\":\"lines\",\"x\":[-0.16196292478363153,-0.24257852420283516,null],\"y\":[-0.039734685986759416,-0.031380905640114864,null],\"type\":\"scatter\"},{\"hoverinfo\":\"none\",\"line\":{\"color\":\"black\",\"width\":1},\"mode\":\"lines\",\"x\":[-0.16196292478363153,-0.12995091004245085,null],\"y\":[-0.039734685986759416,-0.1161752799205075,null],\"type\":\"scatter\"},{\"hoverinfo\":\"none\",\"line\":{\"color\":\"black\",\"width\":1},\"mode\":\"lines\",\"x\":[-0.16196292478363153,-0.15762361184257484,null],\"y\":[-0.039734685986759416,-0.0854741469481486,null],\"type\":\"scatter\"},{\"hoverinfo\":\"none\",\"line\":{\"color\":\"black\",\"width\":1},\"mode\":\"lines\",\"x\":[-0.16196292478363153,-0.20638837514967256,null],\"y\":[-0.039734685986759416,-0.11592444797903106,null],\"type\":\"scatter\"},{\"hoverinfo\":\"none\",\"line\":{\"color\":\"black\",\"width\":1},\"mode\":\"lines\",\"x\":[-0.16196292478363153,-0.1712941573783999,null],\"y\":[-0.039734685986759416,-0.1256897200725001,null],\"type\":\"scatter\"},{\"hoverinfo\":\"none\",\"line\":{\"color\":\"black\",\"width\":1},\"mode\":\"lines\",\"x\":[-0.16196292478363153,-0.21931533142315696,null],\"y\":[-0.039734685986759416,-0.005866855124669451,null],\"type\":\"scatter\"},{\"hoverinfo\":\"none\",\"line\":{\"color\":\"black\",\"width\":1},\"mode\":\"lines\",\"x\":[0.4945706997070675,0.52887225110112,null],\"y\":[-0.5351098475560722,-0.5451985800024266,null],\"type\":\"scatter\"},{\"hoverinfo\":\"none\",\"line\":{\"color\":\"black\",\"width\":1},\"mode\":\"lines\",\"x\":[0.1906575573712177,0.21088872780756,null],\"y\":[-0.11406795332916633,-0.10932075638350788,null],\"type\":\"scatter\"},{\"hoverinfo\":\"none\",\"line\":{\"color\":\"black\",\"width\":1},\"mode\":\"lines\",\"x\":[0.13450485224553288,0.14693591986373294,null],\"y\":[-0.7566783023403979,-0.8209787008423097,null],\"type\":\"scatter\"},{\"hoverinfo\":\"none\",\"line\":{\"color\":\"black\",\"width\":1},\"mode\":\"lines\",\"x\":[0.13450485224553288,0.15923219458880716,null],\"y\":[-0.7566783023403979,-0.7170548102411264,null],\"type\":\"scatter\"},{\"hoverinfo\":\"none\",\"line\":{\"color\":\"black\",\"width\":1},\"mode\":\"lines\",\"x\":[0.13450485224553288,0.09980314365512162,null],\"y\":[-0.7566783023403979,-0.7266272673731174,null],\"type\":\"scatter\"},{\"hoverinfo\":\"none\",\"line\":{\"color\":\"black\",\"width\":1},\"mode\":\"lines\",\"x\":[-0.6872416806894234,-0.6560555937479022,null],\"y\":[0.6212841107780145,0.5911849010469034,null],\"type\":\"scatter\"},{\"hoverinfo\":\"none\",\"line\":{\"color\":\"black\",\"width\":1},\"mode\":\"lines\",\"x\":[-0.7987972603326972,-0.8582036712458376,null],\"y\":[-0.01104653729798675,-0.013856409861056133,null],\"type\":\"scatter\"}],                        {\"template\":{\"data\":{\"histogram2dcontour\":[{\"type\":\"histogram2dcontour\",\"colorbar\":{\"outlinewidth\":0,\"ticks\":\"\"},\"colorscale\":[[0.0,\"#0d0887\"],[0.1111111111111111,\"#46039f\"],[0.2222222222222222,\"#7201a8\"],[0.3333333333333333,\"#9c179e\"],[0.4444444444444444,\"#bd3786\"],[0.5555555555555556,\"#d8576b\"],[0.6666666666666666,\"#ed7953\"],[0.7777777777777778,\"#fb9f3a\"],[0.8888888888888888,\"#fdca26\"],[1.0,\"#f0f921\"]]}],\"choropleth\":[{\"type\":\"choropleth\",\"colorbar\":{\"outlinewidth\":0,\"ticks\":\"\"}}],\"histogram2d\":[{\"type\":\"histogram2d\",\"colorbar\":{\"outlinewidth\":0,\"ticks\":\"\"},\"colorscale\":[[0.0,\"#0d0887\"],[0.1111111111111111,\"#46039f\"],[0.2222222222222222,\"#7201a8\"],[0.3333333333333333,\"#9c179e\"],[0.4444444444444444,\"#bd3786\"],[0.5555555555555556,\"#d8576b\"],[0.6666666666666666,\"#ed7953\"],[0.7777777777777778,\"#fb9f3a\"],[0.8888888888888888,\"#fdca26\"],[1.0,\"#f0f921\"]]}],\"heatmap\":[{\"type\":\"heatmap\",\"colorbar\":{\"outlinewidth\":0,\"ticks\":\"\"},\"colorscale\":[[0.0,\"#0d0887\"],[0.1111111111111111,\"#46039f\"],[0.2222222222222222,\"#7201a8\"],[0.3333333333333333,\"#9c179e\"],[0.4444444444444444,\"#bd3786\"],[0.5555555555555556,\"#d8576b\"],[0.6666666666666666,\"#ed7953\"],[0.7777777777777778,\"#fb9f3a\"],[0.8888888888888888,\"#fdca26\"],[1.0,\"#f0f921\"]]}],\"heatmapgl\":[{\"type\":\"heatmapgl\",\"colorbar\":{\"outlinewidth\":0,\"ticks\":\"\"},\"colorscale\":[[0.0,\"#0d0887\"],[0.1111111111111111,\"#46039f\"],[0.2222222222222222,\"#7201a8\"],[0.3333333333333333,\"#9c179e\"],[0.4444444444444444,\"#bd3786\"],[0.5555555555555556,\"#d8576b\"],[0.6666666666666666,\"#ed7953\"],[0.7777777777777778,\"#fb9f3a\"],[0.8888888888888888,\"#fdca26\"],[1.0,\"#f0f921\"]]}],\"contourcarpet\":[{\"type\":\"contourcarpet\",\"colorbar\":{\"outlinewidth\":0,\"ticks\":\"\"}}],\"contour\":[{\"type\":\"contour\",\"colorbar\":{\"outlinewidth\":0,\"ticks\":\"\"},\"colorscale\":[[0.0,\"#0d0887\"],[0.1111111111111111,\"#46039f\"],[0.2222222222222222,\"#7201a8\"],[0.3333333333333333,\"#9c179e\"],[0.4444444444444444,\"#bd3786\"],[0.5555555555555556,\"#d8576b\"],[0.6666666666666666,\"#ed7953\"],[0.7777777777777778,\"#fb9f3a\"],[0.8888888888888888,\"#fdca26\"],[1.0,\"#f0f921\"]]}],\"surface\":[{\"type\":\"surface\",\"colorbar\":{\"outlinewidth\":0,\"ticks\":\"\"},\"colorscale\":[[0.0,\"#0d0887\"],[0.1111111111111111,\"#46039f\"],[0.2222222222222222,\"#7201a8\"],[0.3333333333333333,\"#9c179e\"],[0.4444444444444444,\"#bd3786\"],[0.5555555555555556,\"#d8576b\"],[0.6666666666666666,\"#ed7953\"],[0.7777777777777778,\"#fb9f3a\"],[0.8888888888888888,\"#fdca26\"],[1.0,\"#f0f921\"]]}],\"mesh3d\":[{\"type\":\"mesh3d\",\"colorbar\":{\"outlinewidth\":0,\"ticks\":\"\"}}],\"scatter\":[{\"fillpattern\":{\"fillmode\":\"overlay\",\"size\":10,\"solidity\":0.2},\"type\":\"scatter\"}],\"parcoords\":[{\"type\":\"parcoords\",\"line\":{\"colorbar\":{\"outlinewidth\":0,\"ticks\":\"\"}}}],\"scatterpolargl\":[{\"type\":\"scatterpolargl\",\"marker\":{\"colorbar\":{\"outlinewidth\":0,\"ticks\":\"\"}}}],\"bar\":[{\"error_x\":{\"color\":\"#2a3f5f\"},\"error_y\":{\"color\":\"#2a3f5f\"},\"marker\":{\"line\":{\"color\":\"#E5ECF6\",\"width\":0.5},\"pattern\":{\"fillmode\":\"overlay\",\"size\":10,\"solidity\":0.2}},\"type\":\"bar\"}],\"scattergeo\":[{\"type\":\"scattergeo\",\"marker\":{\"colorbar\":{\"outlinewidth\":0,\"ticks\":\"\"}}}],\"scatterpolar\":[{\"type\":\"scatterpolar\",\"marker\":{\"colorbar\":{\"outlinewidth\":0,\"ticks\":\"\"}}}],\"histogram\":[{\"marker\":{\"pattern\":{\"fillmode\":\"overlay\",\"size\":10,\"solidity\":0.2}},\"type\":\"histogram\"}],\"scattergl\":[{\"type\":\"scattergl\",\"marker\":{\"colorbar\":{\"outlinewidth\":0,\"ticks\":\"\"}}}],\"scatter3d\":[{\"type\":\"scatter3d\",\"line\":{\"colorbar\":{\"outlinewidth\":0,\"ticks\":\"\"}},\"marker\":{\"colorbar\":{\"outlinewidth\":0,\"ticks\":\"\"}}}],\"scattermapbox\":[{\"type\":\"scattermapbox\",\"marker\":{\"colorbar\":{\"outlinewidth\":0,\"ticks\":\"\"}}}],\"scatterternary\":[{\"type\":\"scatterternary\",\"marker\":{\"colorbar\":{\"outlinewidth\":0,\"ticks\":\"\"}}}],\"scattercarpet\":[{\"type\":\"scattercarpet\",\"marker\":{\"colorbar\":{\"outlinewidth\":0,\"ticks\":\"\"}}}],\"carpet\":[{\"aaxis\":{\"endlinecolor\":\"#2a3f5f\",\"gridcolor\":\"white\",\"linecolor\":\"white\",\"minorgridcolor\":\"white\",\"startlinecolor\":\"#2a3f5f\"},\"baxis\":{\"endlinecolor\":\"#2a3f5f\",\"gridcolor\":\"white\",\"linecolor\":\"white\",\"minorgridcolor\":\"white\",\"startlinecolor\":\"#2a3f5f\"},\"type\":\"carpet\"}],\"table\":[{\"cells\":{\"fill\":{\"color\":\"#EBF0F8\"},\"line\":{\"color\":\"white\"}},\"header\":{\"fill\":{\"color\":\"#C8D4E3\"},\"line\":{\"color\":\"white\"}},\"type\":\"table\"}],\"barpolar\":[{\"marker\":{\"line\":{\"color\":\"#E5ECF6\",\"width\":0.5},\"pattern\":{\"fillmode\":\"overlay\",\"size\":10,\"solidity\":0.2}},\"type\":\"barpolar\"}],\"pie\":[{\"automargin\":true,\"type\":\"pie\"}]},\"layout\":{\"autotypenumbers\":\"strict\",\"colorway\":[\"#636efa\",\"#EF553B\",\"#00cc96\",\"#ab63fa\",\"#FFA15A\",\"#19d3f3\",\"#FF6692\",\"#B6E880\",\"#FF97FF\",\"#FECB52\"],\"font\":{\"color\":\"#2a3f5f\"},\"hovermode\":\"closest\",\"hoverlabel\":{\"align\":\"left\"},\"paper_bgcolor\":\"white\",\"plot_bgcolor\":\"#E5ECF6\",\"polar\":{\"bgcolor\":\"#E5ECF6\",\"angularaxis\":{\"gridcolor\":\"white\",\"linecolor\":\"white\",\"ticks\":\"\"},\"radialaxis\":{\"gridcolor\":\"white\",\"linecolor\":\"white\",\"ticks\":\"\"}},\"ternary\":{\"bgcolor\":\"#E5ECF6\",\"aaxis\":{\"gridcolor\":\"white\",\"linecolor\":\"white\",\"ticks\":\"\"},\"baxis\":{\"gridcolor\":\"white\",\"linecolor\":\"white\",\"ticks\":\"\"},\"caxis\":{\"gridcolor\":\"white\",\"linecolor\":\"white\",\"ticks\":\"\"}},\"coloraxis\":{\"colorbar\":{\"outlinewidth\":0,\"ticks\":\"\"}},\"colorscale\":{\"sequential\":[[0.0,\"#0d0887\"],[0.1111111111111111,\"#46039f\"],[0.2222222222222222,\"#7201a8\"],[0.3333333333333333,\"#9c179e\"],[0.4444444444444444,\"#bd3786\"],[0.5555555555555556,\"#d8576b\"],[0.6666666666666666,\"#ed7953\"],[0.7777777777777778,\"#fb9f3a\"],[0.8888888888888888,\"#fdca26\"],[1.0,\"#f0f921\"]],\"sequentialminus\":[[0.0,\"#0d0887\"],[0.1111111111111111,\"#46039f\"],[0.2222222222222222,\"#7201a8\"],[0.3333333333333333,\"#9c179e\"],[0.4444444444444444,\"#bd3786\"],[0.5555555555555556,\"#d8576b\"],[0.6666666666666666,\"#ed7953\"],[0.7777777777777778,\"#fb9f3a\"],[0.8888888888888888,\"#fdca26\"],[1.0,\"#f0f921\"]],\"diverging\":[[0,\"#8e0152\"],[0.1,\"#c51b7d\"],[0.2,\"#de77ae\"],[0.3,\"#f1b6da\"],[0.4,\"#fde0ef\"],[0.5,\"#f7f7f7\"],[0.6,\"#e6f5d0\"],[0.7,\"#b8e186\"],[0.8,\"#7fbc41\"],[0.9,\"#4d9221\"],[1,\"#276419\"]]},\"xaxis\":{\"gridcolor\":\"white\",\"linecolor\":\"white\",\"ticks\":\"\",\"title\":{\"standoff\":15},\"zerolinecolor\":\"white\",\"automargin\":true,\"zerolinewidth\":2},\"yaxis\":{\"gridcolor\":\"white\",\"linecolor\":\"white\",\"ticks\":\"\",\"title\":{\"standoff\":15},\"zerolinecolor\":\"white\",\"automargin\":true,\"zerolinewidth\":2},\"scene\":{\"xaxis\":{\"backgroundcolor\":\"#E5ECF6\",\"gridcolor\":\"white\",\"linecolor\":\"white\",\"showbackground\":true,\"ticks\":\"\",\"zerolinecolor\":\"white\",\"gridwidth\":2},\"yaxis\":{\"backgroundcolor\":\"#E5ECF6\",\"gridcolor\":\"white\",\"linecolor\":\"white\",\"showbackground\":true,\"ticks\":\"\",\"zerolinecolor\":\"white\",\"gridwidth\":2},\"zaxis\":{\"backgroundcolor\":\"#E5ECF6\",\"gridcolor\":\"white\",\"linecolor\":\"white\",\"showbackground\":true,\"ticks\":\"\",\"zerolinecolor\":\"white\",\"gridwidth\":2}},\"shapedefaults\":{\"line\":{\"color\":\"#2a3f5f\"}},\"annotationdefaults\":{\"arrowcolor\":\"#2a3f5f\",\"arrowhead\":0,\"arrowwidth\":1},\"geo\":{\"bgcolor\":\"white\",\"landcolor\":\"#E5ECF6\",\"subunitcolor\":\"white\",\"showland\":true,\"showlakes\":true,\"lakecolor\":\"white\"},\"title\":{\"x\":0.05},\"mapbox\":{\"style\":\"light\"}}},\"showlegend\":false,\"title\":{\"text\":\"Printers and Bookseller of Incunables Books of Hours\"},\"hovermode\":\"closest\"},                        {\"responsive\": true}                    ).then(function(){\n",
       "                            \n",
       "var gd = document.getElementById('270e8965-88d0-4771-8f2f-1a62815d25ca');\n",
       "var x = new MutationObserver(function (mutations, observer) {{\n",
       "        var display = window.getComputedStyle(gd).display;\n",
       "        if (!display || display === 'none') {{\n",
       "            console.log([gd, 'removed!']);\n",
       "            Plotly.purge(gd);\n",
       "            observer.disconnect();\n",
       "        }}\n",
       "}});\n",
       "\n",
       "// Listen for the removal of the full notebook cells\n",
       "var notebookContainer = gd.closest('#notebook-container');\n",
       "if (notebookContainer) {{\n",
       "    x.observe(notebookContainer, {childList: true});\n",
       "}}\n",
       "\n",
       "// Listen for the clearing of the current output cell\n",
       "var outputEl = gd.closest('.output');\n",
       "if (outputEl) {{\n",
       "    x.observe(outputEl, {childList: true});\n",
       "}}\n",
       "\n",
       "                        })                };                });            </script>        </div>"
      ]
     },
     "metadata": {},
     "output_type": "display_data"
    }
   ],
   "source": [
    "\n",
    "import plotly\n",
    "import plotly.express as px\n",
    "import plotly.io as pio\n",
    "from plotly.subplots import make_subplots\n",
    "import plotly.graph_objects as go\n",
    "print(\"plotly : \", plotly.__version__)\n",
    "\n",
    "\n",
    "# Compute node positions using the spring layout algorithm\n",
    "pos = nx.spring_layout(G)\n",
    "\n",
    "# Create a Plotly figure\n",
    "fig = go.Figure()\n",
    "\n",
    "# Add nodes to the figure using go.Scatter\n",
    "for node, (x, y) in pos.items():\n",
    "    fig.add_trace(go.Scatter(\n",
    "        x=[x],\n",
    "        y=[y],\n",
    "        mode='markers',\n",
    "        marker=dict(size=10, color='skyblue'),\n",
    "        text=node,\n",
    "        hoverinfo='text'\n",
    "    ))\n",
    "\n",
    "# Add edges to the figure using go.Scatter\n",
    "for edge in G.edges():\n",
    "    x0, y0 = pos[edge[0]]\n",
    "    x1, y1 = pos[edge[1]]\n",
    "\n",
    "    fig.add_trace(go.Scatter(\n",
    "        x=[x0, x1, None],\n",
    "        y=[y0, y1, None],\n",
    "        mode='lines',\n",
    "        line=dict(color='black', width=1),\n",
    "        hoverinfo='none'\n",
    "    ))\n",
    "\n",
    "# Set layout options\n",
    "fig.update_layout(\n",
    "    showlegend=False,\n",
    "    title='Printers and Bookseller of Incunables Books of Hours',\n",
    "    hovermode='closest'\n",
    ")\n",
    "\n",
    "# Show the figure\n",
    "fig.show()\n",
    "\n",
    "\n",
    "# Write the figure to an HTML file\n",
    "pio.write_html(fig, file='GW-Printers-Booksellers-interactive_network_graph.html')"
   ]
  },
  {
   "cell_type": "code",
   "execution_count": null,
   "metadata": {},
   "outputs": [],
   "source": []
  }
 ],
 "metadata": {
  "kernelspec": {
   "display_name": "Python 3 (ipykernel)",
   "language": "python",
   "name": "python3"
  },
  "language_info": {
   "codemirror_mode": {
    "name": "ipython",
    "version": 3
   },
   "file_extension": ".py",
   "mimetype": "text/x-python",
   "name": "python",
   "nbconvert_exporter": "python",
   "pygments_lexer": "ipython3",
   "version": "3.11.5"
  },
  "vscode": {
   "interpreter": {
    "hash": "4cab2e3c59f82d31ef33573b56569893ba7388f3e17b6676d60d91498ea89ea5"
   }
  }
 },
 "nbformat": 4,
 "nbformat_minor": 4
}
