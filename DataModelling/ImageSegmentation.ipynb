{
 "cells": [
  {
   "cell_type": "markdown",
   "metadata": {},
   "source": [
    "# Image Segmentation: first steps\n"
   ]
  },
  {
   "cell_type": "markdown",
   "metadata": {
    "tags": []
   },
   "source": [
    "<a href=\"https://colab.research.google.com/github/oriflamms/LivreQuanti2023/blob/main/DataModelling/ImageSegmentation.ipynb\" target=\"_parent\"><img src=\"https://colab.research.google.com/assets/colab-badge.svg\" alt=\"Open In Colab\"/></a>"
   ]
  },
  {
   "cell_type": "code",
   "execution_count": null,
   "metadata": {},
   "outputs": [],
   "source": [
    "!yolo predict model=yolov8s.pt source='https://iiif.irht.cnrs.fr/iiif/ark:/63955/vbeojj64ek6s/1516,690,864,1388/full/0/default.jpg'"
   ]
  },
  {
   "cell_type": "markdown",
   "metadata": {
    "jp-MarkdownHeadingCollapsed": true,
    "tags": []
   },
   "source": [
    "# Printers and booksellers of books of hours as a network (Export edges)"
   ]
  },
  {
   "cell_type": "markdown",
   "metadata": {},
   "source": [
    "In the variable \"new_data2\", we have a list of dictionaries describing each edition with the information \"place\", \"printer\", \"bookseller\", \"date\", \"GWids\" if they exist. \n",
    "The following cell creates a list of \"edges\", with each couple \"printer+bookseller\", the number of occurrences, the list of GWids and the list of dates, both separated by the character \"|\"."
   ]
  },
  {
   "cell_type": "code",
   "execution_count": 13,
   "metadata": {
    "tags": []
   },
   "outputs": [
    {
     "name": "stdout",
     "output_type": "stream",
     "text": [
      "CSV file 'output.csv' has been created.\n"
     ]
    }
   ],
   "source": [
    "import csv\n",
    "\n",
    "# Sample list of dictionaries\n",
    "list_of_dicts = new_data2\n",
    "\n",
    "# Create a CSV file with the specified columns\n",
    "csv_file_path = 'output.csv'\n",
    "\n",
    "# Create a CSV file with the specified columns and delimiter\n",
    "csv_file_path = 'output.csv'\n",
    "\n",
    "with open(csv_file_path, 'w', newline='', encoding='utf-8') as csvfile:\n",
    "    fieldnames = ['printer', 'bookseller', 'weight', 'GWids', 'date', 'place']\n",
    "    writer = csv.DictWriter(csvfile, fieldnames=fieldnames, delimiter=';')\n",
    "\n",
    "    # Write the header to the CSV file\n",
    "    writer.writeheader()\n",
    "\n",
    "    # Create a dictionary to keep track of weights and other values\n",
    "    data_dict = {}\n",
    "\n",
    "    # Iterate through the list of dictionaries\n",
    "    for entry in list_of_dicts:\n",
    "        printer = entry.get('printer', '')\n",
    "        bookseller = entry.get('bookseller', '')\n",
    "        gwids = entry.get('GWids', '')\n",
    "        date = entry.get('date', '')\n",
    "        place = entry.get('place', '')\n",
    "\n",
    "        # Calculate the weight based on the combination of 'printer' and 'bookseller'\n",
    "        key = (printer, bookseller)\n",
    "        data_key = (printer, bookseller, gwids, date)\n",
    "        data_dict.setdefault(key, {'weight': 0, 'GWids': set(), 'date': set(), 'place': set()})\n",
    "\n",
    "        # Increment the weight and add GWids, date, and place to the sets\n",
    "        data_dict[key]['weight'] += 1\n",
    "        data_dict[key]['GWids'].add(gwids)\n",
    "        data_dict[key]['date'].add(date)\n",
    "        data_dict[key]['place'].add(place)\n",
    "\n",
    "    # Write the grouped data to the CSV file\n",
    "    for (printer, bookseller), values in data_dict.items():\n",
    "        writer.writerow({\n",
    "            'printer': printer,\n",
    "            'bookseller': bookseller,\n",
    "            'weight': values['weight'],\n",
    "            'GWids': '|'.join(values['GWids']),\n",
    "            'date': '|'.join(values['date']),\n",
    "            'place': '|'.join(values['place'])\n",
    "        })\n",
    "\n",
    "print(f\"CSV file '{csv_file_path}' has been created.\")\n"
   ]
  },
  {
   "cell_type": "markdown",
   "metadata": {},
   "source": [
    "## graph"
   ]
  },
  {
   "cell_type": "code",
   "execution_count": 14,
   "metadata": {
    "tags": []
   },
   "outputs": [],
   "source": [
    "import pandas as pd\n",
    "import networkx as nx\n",
    "import matplotlib.pyplot as plt"
   ]
  },
  {
   "cell_type": "code",
   "execution_count": 15,
   "metadata": {
    "tags": []
   },
   "outputs": [
    {
     "data": {
      "text/html": [
       "<div>\n",
       "<style scoped>\n",
       "    .dataframe tbody tr th:only-of-type {\n",
       "        vertical-align: middle;\n",
       "    }\n",
       "\n",
       "    .dataframe tbody tr th {\n",
       "        vertical-align: top;\n",
       "    }\n",
       "\n",
       "    .dataframe thead th {\n",
       "        text-align: right;\n",
       "    }\n",
       "</style>\n",
       "<table border=\"1\" class=\"dataframe\">\n",
       "  <thead>\n",
       "    <tr style=\"text-align: right;\">\n",
       "      <th></th>\n",
       "      <th>printer</th>\n",
       "      <th>bookseller</th>\n",
       "      <th>weight</th>\n",
       "      <th>GWids</th>\n",
       "      <th>date</th>\n",
       "      <th>place</th>\n",
       "    </tr>\n",
       "  </thead>\n",
       "  <tbody>\n",
       "    <tr>\n",
       "      <th>0</th>\n",
       "      <td>ohne Drucker</td>\n",
       "      <td>NaN</td>\n",
       "      <td>11</td>\n",
       "      <td>Sp. 487a|Sp. 674a|Sp. 654a|Sp. 712a|13321|1294...</td>\n",
       "      <td>|1488|um 1500|um 1494(?)|nicht vor 1493|um 147...</td>\n",
       "      <td>Antwerpen|Rouen|Paris|Deutschland(?)|Florenz|V...</td>\n",
       "    </tr>\n",
       "    <tr>\n",
       "      <th>1</th>\n",
       "      <td>Adriaan van Liesveldt</td>\n",
       "      <td>NaN</td>\n",
       "      <td>6</td>\n",
       "      <td>13419|13404|13406|13421|13422|13405</td>\n",
       "      <td>9.VIII.1494|1498(?)|22.VI.1494|29.VII.1495|13....</td>\n",
       "      <td>Antwerpen</td>\n",
       "    </tr>\n",
       "    <tr>\n",
       "      <th>2</th>\n",
       "      <td>Govert Bac</td>\n",
       "      <td>NaN</td>\n",
       "      <td>2</td>\n",
       "      <td>13418|13420</td>\n",
       "      <td>nicht vor 1493|1495</td>\n",
       "      <td>Antwerpen</td>\n",
       "    </tr>\n",
       "    <tr>\n",
       "      <th>3</th>\n",
       "      <td>Gerard Leeu</td>\n",
       "      <td>NaN</td>\n",
       "      <td>6</td>\n",
       "      <td>13417|13400|13399|13403|13413|13401</td>\n",
       "      <td>um 1483/84|13.III.1492|14 87|1487|27.VII.1489|...</td>\n",
       "      <td>Antwerpen|Gouda</td>\n",
       "    </tr>\n",
       "    <tr>\n",
       "      <th>4</th>\n",
       "      <td>Gerard Leeu oder Adriaan van Liesveldt</td>\n",
       "      <td>NaN</td>\n",
       "      <td>1</td>\n",
       "      <td>13402</td>\n",
       "      <td>nicht vor 30.IV.1491, nicht nach 1492 oder nic...</td>\n",
       "      <td>Antwerpen</td>\n",
       "    </tr>\n",
       "    <tr>\n",
       "      <th>...</th>\n",
       "      <td>...</td>\n",
       "      <td>...</td>\n",
       "      <td>...</td>\n",
       "      <td>...</td>\n",
       "      <td>...</td>\n",
       "      <td>...</td>\n",
       "    </tr>\n",
       "    <tr>\n",
       "      <th>218</th>\n",
       "      <td>Julian Notary</td>\n",
       "      <td>NaN</td>\n",
       "      <td>1</td>\n",
       "      <td>13028</td>\n",
       "      <td>2.IV.1500</td>\n",
       "      <td>Westminster</td>\n",
       "    </tr>\n",
       "    <tr>\n",
       "      <th>219</th>\n",
       "      <td>Wynkyn de Worde auf Veranlassung von Elisabeth...</td>\n",
       "      <td>NaN</td>\n",
       "      <td>1</td>\n",
       "      <td>13025</td>\n",
       "      <td>um 1493</td>\n",
       "      <td>Westminster</td>\n",
       "    </tr>\n",
       "    <tr>\n",
       "      <th>220</th>\n",
       "      <td>Wynkyn de Worde</td>\n",
       "      <td>NaN</td>\n",
       "      <td>2</td>\n",
       "      <td>13026|13027</td>\n",
       "      <td>um 1493/94|um 1494</td>\n",
       "      <td>Westminster</td>\n",
       "    </tr>\n",
       "    <tr>\n",
       "      <th>221</th>\n",
       "      <td>Georg Coci und Genossen</td>\n",
       "      <td>NaN</td>\n",
       "      <td>1</td>\n",
       "      <td>13446</td>\n",
       "      <td>30.VII.1500</td>\n",
       "      <td>Zaragoza</td>\n",
       "    </tr>\n",
       "    <tr>\n",
       "      <th>222</th>\n",
       "      <td>Paul Hurus</td>\n",
       "      <td>NaN</td>\n",
       "      <td>2</td>\n",
       "      <td>13445|13444</td>\n",
       "      <td>9.III.1499|um 1490</td>\n",
       "      <td>Zaragoza</td>\n",
       "    </tr>\n",
       "  </tbody>\n",
       "</table>\n",
       "<p>223 rows × 6 columns</p>\n",
       "</div>"
      ],
      "text/plain": [
       "                                               printer bookseller  weight  \\\n",
       "0                                         ohne Drucker        NaN      11   \n",
       "1                                Adriaan van Liesveldt        NaN       6   \n",
       "2                                           Govert Bac        NaN       2   \n",
       "3                                          Gerard Leeu        NaN       6   \n",
       "4               Gerard Leeu oder Adriaan van Liesveldt        NaN       1   \n",
       "..                                                 ...        ...     ...   \n",
       "218                                      Julian Notary        NaN       1   \n",
       "219  Wynkyn de Worde auf Veranlassung von Elisabeth...        NaN       1   \n",
       "220                                    Wynkyn de Worde        NaN       2   \n",
       "221                            Georg Coci und Genossen        NaN       1   \n",
       "222                                         Paul Hurus        NaN       2   \n",
       "\n",
       "                                                 GWids  \\\n",
       "0    Sp. 487a|Sp. 674a|Sp. 654a|Sp. 712a|13321|1294...   \n",
       "1                  13419|13404|13406|13421|13422|13405   \n",
       "2                                          13418|13420   \n",
       "3                  13417|13400|13399|13403|13413|13401   \n",
       "4                                                13402   \n",
       "..                                                 ...   \n",
       "218                                              13028   \n",
       "219                                              13025   \n",
       "220                                        13026|13027   \n",
       "221                                              13446   \n",
       "222                                        13445|13444   \n",
       "\n",
       "                                                  date  \\\n",
       "0    |1488|um 1500|um 1494(?)|nicht vor 1493|um 147...   \n",
       "1    9.VIII.1494|1498(?)|22.VI.1494|29.VII.1495|13....   \n",
       "2                                  nicht vor 1493|1495   \n",
       "3    um 1483/84|13.III.1492|14 87|1487|27.VII.1489|...   \n",
       "4    nicht vor 30.IV.1491, nicht nach 1492 oder nic...   \n",
       "..                                                 ...   \n",
       "218                                          2.IV.1500   \n",
       "219                                            um 1493   \n",
       "220                                 um 1493/94|um 1494   \n",
       "221                                        30.VII.1500   \n",
       "222                                 9.III.1499|um 1490   \n",
       "\n",
       "                                                 place  \n",
       "0    Antwerpen|Rouen|Paris|Deutschland(?)|Florenz|V...  \n",
       "1                                            Antwerpen  \n",
       "2                                            Antwerpen  \n",
       "3                                      Antwerpen|Gouda  \n",
       "4                                            Antwerpen  \n",
       "..                                                 ...  \n",
       "218                                        Westminster  \n",
       "219                                        Westminster  \n",
       "220                                        Westminster  \n",
       "221                                           Zaragoza  \n",
       "222                                           Zaragoza  \n",
       "\n",
       "[223 rows x 6 columns]"
      ]
     },
     "execution_count": 15,
     "metadata": {},
     "output_type": "execute_result"
    }
   ],
   "source": [
    "# Load your CSV file into a DataFrame\n",
    "# The CSV file should have two columns, let's call them 'Node1' and 'Node2'\n",
    "# Each row represents an edge between Node1 and Node2\n",
    "csv_file_path = './output.csv'  # Replace with the path to your CSV file\n",
    "df = pd.read_csv(csv_file_path, sep=';')\n",
    "df"
   ]
  },
  {
   "cell_type": "markdown",
   "metadata": {},
   "source": [
    "The created dataframe contains many rows with \"NaN\" values, most of times when there is no bookseller information, sometimes when there is no printer information. We will filter out this rows."
   ]
  },
  {
   "cell_type": "code",
   "execution_count": 16,
   "metadata": {
    "tags": []
   },
   "outputs": [
    {
     "data": {
      "text/html": [
       "<div>\n",
       "<style scoped>\n",
       "    .dataframe tbody tr th:only-of-type {\n",
       "        vertical-align: middle;\n",
       "    }\n",
       "\n",
       "    .dataframe tbody tr th {\n",
       "        vertical-align: top;\n",
       "    }\n",
       "\n",
       "    .dataframe thead th {\n",
       "        text-align: right;\n",
       "    }\n",
       "</style>\n",
       "<table border=\"1\" class=\"dataframe\">\n",
       "  <thead>\n",
       "    <tr style=\"text-align: right;\">\n",
       "      <th></th>\n",
       "      <th>printer</th>\n",
       "      <th>bookseller</th>\n",
       "      <th>weight</th>\n",
       "      <th>GWids</th>\n",
       "      <th>date</th>\n",
       "      <th>place</th>\n",
       "    </tr>\n",
       "  </thead>\n",
       "  <tbody>\n",
       "    <tr>\n",
       "      <th>42</th>\n",
       "      <td>Julian Notary, Jean Barbier und I. H.</td>\n",
       "      <td>Wynkyn de Worde</td>\n",
       "      <td>1</td>\n",
       "      <td>13017</td>\n",
       "      <td>3.IV.1497</td>\n",
       "      <td>London</td>\n",
       "    </tr>\n",
       "    <tr>\n",
       "      <th>54</th>\n",
       "      <td>Nicolaus de Benedictis</td>\n",
       "      <td>Boninus de Boninis</td>\n",
       "      <td>2</td>\n",
       "      <td>13038|13037</td>\n",
       "      <td>20.III.1499|20.V.1499</td>\n",
       "      <td>Lyon</td>\n",
       "    </tr>\n",
       "    <tr>\n",
       "      <th>56</th>\n",
       "      <td>Jacobinus Suigus und Nicolaus de Benedictis</td>\n",
       "      <td>Boninus de Boninis</td>\n",
       "      <td>1</td>\n",
       "      <td>Sp. 429a</td>\n",
       "      <td>26.VIII.1500 vielmehr 1501</td>\n",
       "      <td>Lyon</td>\n",
       "    </tr>\n",
       "    <tr>\n",
       "      <th>68</th>\n",
       "      <td>Martin von Amsterdam</td>\n",
       "      <td>Andreas Ihyracensis</td>\n",
       "      <td>1</td>\n",
       "      <td>13350</td>\n",
       "      <td>27.I.1499</td>\n",
       "      <td>Neapel</td>\n",
       "    </tr>\n",
       "    <tr>\n",
       "      <th>71</th>\n",
       "      <td>Christian Preller</td>\n",
       "      <td>Antoine Gontier</td>\n",
       "      <td>1</td>\n",
       "      <td>13343</td>\n",
       "      <td>9.IV.1490</td>\n",
       "      <td>Neapel</td>\n",
       "    </tr>\n",
       "    <tr>\n",
       "      <th>...</th>\n",
       "      <td>...</td>\n",
       "      <td>...</td>\n",
       "      <td>...</td>\n",
       "      <td>...</td>\n",
       "      <td>...</td>\n",
       "      <td>...</td>\n",
       "    </tr>\n",
       "    <tr>\n",
       "      <th>201</th>\n",
       "      <td>Johann Hamann</td>\n",
       "      <td>Gerard Barrevelt und Frederick Egmondt</td>\n",
       "      <td>1</td>\n",
       "      <td>13377</td>\n",
       "      <td>1494</td>\n",
       "      <td>Venedig</td>\n",
       "    </tr>\n",
       "    <tr>\n",
       "      <th>202</th>\n",
       "      <td>Johann Hamann</td>\n",
       "      <td>Johann Volkarth</td>\n",
       "      <td>1</td>\n",
       "      <td>13380</td>\n",
       "      <td>14.XI.1495</td>\n",
       "      <td>Venedig</td>\n",
       "    </tr>\n",
       "    <tr>\n",
       "      <th>203</th>\n",
       "      <td>Johann Hamann</td>\n",
       "      <td>Octavianus Scotus</td>\n",
       "      <td>1</td>\n",
       "      <td>13385</td>\n",
       "      <td>1.X.1497</td>\n",
       "      <td>Venedig</td>\n",
       "    </tr>\n",
       "    <tr>\n",
       "      <th>205</th>\n",
       "      <td>Nicolas Jenson</td>\n",
       "      <td>? Raphael Zovenzonius</td>\n",
       "      <td>1</td>\n",
       "      <td>13357</td>\n",
       "      <td>um 1475</td>\n",
       "      <td>Venedig</td>\n",
       "    </tr>\n",
       "    <tr>\n",
       "      <th>212</th>\n",
       "      <td>Andreas Torresanus</td>\n",
       "      <td>Johann von Köln, Nicolas Jenson und Genossen</td>\n",
       "      <td>1</td>\n",
       "      <td>13362</td>\n",
       "      <td>22.XII.1481</td>\n",
       "      <td>Venedig</td>\n",
       "    </tr>\n",
       "  </tbody>\n",
       "</table>\n",
       "<p>72 rows × 6 columns</p>\n",
       "</div>"
      ],
      "text/plain": [
       "                                         printer  \\\n",
       "42         Julian Notary, Jean Barbier und I. H.   \n",
       "54                        Nicolaus de Benedictis   \n",
       "56   Jacobinus Suigus und Nicolaus de Benedictis   \n",
       "68                          Martin von Amsterdam   \n",
       "71                             Christian Preller   \n",
       "..                                           ...   \n",
       "201                                Johann Hamann   \n",
       "202                                Johann Hamann   \n",
       "203                                Johann Hamann   \n",
       "205                               Nicolas Jenson   \n",
       "212                           Andreas Torresanus   \n",
       "\n",
       "                                       bookseller  weight        GWids  \\\n",
       "42                                Wynkyn de Worde       1        13017   \n",
       "54                             Boninus de Boninis       2  13038|13037   \n",
       "56                             Boninus de Boninis       1     Sp. 429a   \n",
       "68                            Andreas Ihyracensis       1        13350   \n",
       "71                                Antoine Gontier       1        13343   \n",
       "..                                            ...     ...          ...   \n",
       "201        Gerard Barrevelt und Frederick Egmondt       1        13377   \n",
       "202                               Johann Volkarth       1        13380   \n",
       "203                             Octavianus Scotus       1        13385   \n",
       "205                         ? Raphael Zovenzonius       1        13357   \n",
       "212  Johann von Köln, Nicolas Jenson und Genossen       1        13362   \n",
       "\n",
       "                           date    place  \n",
       "42                    3.IV.1497   London  \n",
       "54        20.III.1499|20.V.1499     Lyon  \n",
       "56   26.VIII.1500 vielmehr 1501     Lyon  \n",
       "68                    27.I.1499   Neapel  \n",
       "71                    9.IV.1490   Neapel  \n",
       "..                          ...      ...  \n",
       "201                        1494  Venedig  \n",
       "202                  14.XI.1495  Venedig  \n",
       "203                    1.X.1497  Venedig  \n",
       "205                     um 1475  Venedig  \n",
       "212                 22.XII.1481  Venedig  \n",
       "\n",
       "[72 rows x 6 columns]"
      ]
     },
     "execution_count": 16,
     "metadata": {},
     "output_type": "execute_result"
    }
   ],
   "source": [
    "filtered_df = df.dropna(subset=['printer', 'bookseller'])\n",
    "filtered_df"
   ]
  },
  {
   "cell_type": "code",
   "execution_count": 17,
   "metadata": {
    "tags": []
   },
   "outputs": [
    {
     "name": "stdout",
     "output_type": "stream",
     "text": [
      "Number of nodes: 87\n",
      "Number of edges: 72\n"
     ]
    },
    {
     "data": {
      "image/png": "[encoded data removed]",
      "text/plain": [
       "<Figure size 640x480 with 1 Axes>"
      ]
     },
     "metadata": {},
     "output_type": "display_data"
    },
    {
     "name": "stdout",
     "output_type": "stream",
     "text": [
      "\n",
      "Degree Centrality:\n",
      "Node Julian Notary, Jean Barbier und I. H.: 0.0116\n",
      "Node Wynkyn de Worde: 0.0116\n",
      "Node Nicolaus de Benedictis: 0.0116\n",
      "Node Boninus de Boninis: 0.0233\n",
      "Node Jacobinus Suigus und Nicolaus de Benedictis: 0.0116\n",
      "Node Martin von Amsterdam: 0.0116\n",
      "Node Andreas Ihyracensis: 0.0116\n",
      "Node Christian Preller: 0.0116\n",
      "Node Antoine Gontier: 0.0116\n",
      "Node Friedrich Peypus: 0.0116\n",
      "Node Johann Koberger: 0.0116\n",
      "Node Guillaume Anabat: 0.0116\n",
      "Node Gilles und Germain Hardouyn: 0.0116\n",
      "Node André Bocard: 0.0233\n",
      "Node Antoine Vérard(?): 0.0233\n",
      "Node André Bocard(?): 0.0116\n",
      "Node Antoine Vérard: 0.1279\n",
      "Node Antoine Caillaut: 0.0233\n",
      "Node Antoine Chappiel: 0.0116\n",
      "Node Germain Hardouyn: 0.0116\n",
      "Node Jean Du Pré: 0.0349\n",
      "Node Denis Meslier: 0.0116\n",
      "Node Ulrich Gering und Berthold Remboldt: 0.0116\n",
      "Node Simon Vostre: 0.0349\n",
      "Node Johann Higman: 0.0116\n",
      "Node Willem Houtmaert in Antwerpen: 0.0116\n",
      "Node Nicolas Higman: 0.0116\n",
      "Node Etienne Jehannot: 0.1047\n",
      "Node Johannes de Campis in Cambrai: 0.0116\n",
      "Node Pierre Regnault in Caen: 0.0233\n",
      "Node Jean Petit: 0.0116\n",
      "Node Denis Roce: 0.0116\n",
      "Node die Brüder de Marnef: 0.0349\n",
      "Node Pierre Pasquier: 0.0116\n",
      "Node Jean Poitevin: 0.0233\n",
      "Node Gilles Hardouyn: 0.0116\n",
      "Node Jean Jehannot: 0.0116\n",
      "Node Nicolaus Lecomte: 0.0116\n",
      "Node Thielmann Kerver: 0.0930\n",
      "Node Robert Macé in Caen: 0.0233\n",
      "Node Gilles Remacle: 0.0116\n",
      "Node Hugues Pageot in Dijon: 0.0116\n",
      "Node Guillaume Eustace: 0.0116\n",
      "Node Jean Petit in Paris und Pierre Cochery in Le Mans: 0.0116\n",
      "Node Gauche Preta in Châlons: 0.0116\n",
      "Node sich selbst, Gilles Remacle und Guillaume Eustace: 0.0116\n",
      "Node Pierre Le Dru und Etienne Jehannot: 0.0116\n",
      "Node Robin Challot: 0.0116\n",
      "Node Pierre Le Dru(?): 0.0116\n",
      "Node Guillaume Le Rouge: 0.0116\n",
      "Node Pierre Le Rouge(?): 0.0116\n",
      "Node Pierre Le Rouge: 0.0116\n",
      "Node Vincent Commin: 0.0116\n",
      "Node Pierre Levet: 0.0116\n",
      "Node Guy Marchant: 0.0233\n",
      "Node Jean Morand(?): 0.0233\n",
      "Node Jean de Coulonces bzw. Robin Challot: 0.0116\n",
      "Node Jean Morand: 0.0349\n",
      "Node Geoffroi de Marnef: 0.0233\n",
      "Node Enguilbert de Marnef und Jean Alexandre: 0.0116\n",
      "Node Johann Philippi: 0.0349\n",
      "Node Thielmann Kerver in Paris und Jean Richard in Rouen: 0.0116\n",
      "Node Jacques Bezanceau in Poitiers und Thielmann Kerver in Paris: 0.0116\n",
      "Node Philippe Pigouchet: 0.1279\n",
      "Node Philippe Pigouchet z.T.: 0.0116\n",
      "Node sich selbst und die Brüder de Marnef: 0.0116\n",
      "Node Toussaint de Montjay: 0.0116\n",
      "Node Jean Richard in Rouen: 0.0116\n",
      "Node Jean Du Bois in Auxerre(?): 0.0116\n",
      "Node Macé Panthoul in Troyes: 0.0116\n",
      "Node Jean Magdalene in Metz: 0.0116\n",
      "Node Jean Lagache in Arras: 0.0116\n",
      "Node Narcisse Bruno: 0.0116\n",
      "Node Georg Wolff und Thielmann Kerver: 0.0116\n",
      "Node Jacques Le Forestier: 0.0116\n",
      "Node Peter Hagembach und Leonhard Hutz: 0.0116\n",
      "Node Jacobus de Villa: 0.0116\n",
      "Node Johann Emerich: 0.0116\n",
      "Node Lucantonio Giunta: 0.0116\n",
      "Node Johann Hamann: 0.0349\n",
      "Node Gerard Barrevelt und Frederick Egmondt: 0.0116\n",
      "Node Johann Volkarth: 0.0116\n",
      "Node Octavianus Scotus: 0.0116\n",
      "Node Nicolas Jenson: 0.0116\n",
      "Node ? Raphael Zovenzonius: 0.0116\n",
      "Node Andreas Torresanus: 0.0116\n",
      "Node Johann von Köln, Nicolas Jenson und Genossen: 0.0116\n"
     ]
    }
   ],
   "source": [
    "# Create an empty graph\n",
    "G = nx.Graph()\n",
    "\n",
    "# Add edges from the DataFrame to the graph\n",
    "\n",
    "# G.add_edges_from(filtered_df[['printer', 'bookseller']].values)\n",
    "G.add_weighted_edges_from(filtered_df[['printer', 'bookseller', 'weight']].values)\n",
    "\n",
    "# Print basic information about the graph\n",
    "print(f\"Number of nodes: {G.number_of_nodes()}\")\n",
    "print(f\"Number of edges: {G.number_of_edges()}\")\n",
    "\n",
    "# Draw the network graph\n",
    "pos = nx.kamada_kawai_layout(G)  # You can use different layout algorithms \n",
    "                                            #spring_layout \n",
    "                                            #fruchterman_reingold_layout \n",
    "                                            #kamada_kawai_layout\n",
    "nx.draw(G, pos, with_labels=True, node_size=100, node_color='skyblue', font_size=8)\n",
    "plt.title('Network Graph')\n",
    "plt.show()\n",
    "\n",
    "# Perform network analysis\n",
    "degree_centrality = nx.degree_centrality(G)\n",
    "print(\"\\nDegree Centrality:\")\n",
    "for node, centrality in degree_centrality.items():\n",
    "    print(f\"Node {node}: {centrality:.4f}\")\n",
    "\n",
    "# You can explore more network analysis metrics and functions provided by NetworkX\n",
    "# For example, betweenness_centrality, closeness_centrality, etc."
   ]
  },
  {
   "cell_type": "markdown",
   "metadata": {},
   "source": [
    "Creating an interactive graph"
   ]
  },
  {
   "cell_type": "code",
   "execution_count": 21,
   "metadata": {
    "scrolled": true,
    "tags": []
   },
   "outputs": [
    {
     "name": "stdout",
     "output_type": "stream",
     "text": [
      "plotly :  5.9.0\n"
     ]
    },
    {
     "data": {
      "application/vnd.plotly.v1+json": {
       "config": {
        "plotlyServerURL": "https://plot.ly"
       },
       "data": [
        {
         "hoverinfo": "text",
         "marker": {
          "color": "skyblue",
          "size": 10
         },
         "mode": "markers",
         "text": "Julian Notary, Jean Barbier und I. H.",
         "type": "scatter",
         "x": [
          0.8523893592964603
         ],
         "y": [
          -0.11237311775696501
         ]
        },
        {
         "hoverinfo": "text",
         "marker": {
          "color": "skyblue",
          "size": 10
         },
         "mode": "markers",
         "text": "Wynkyn de Worde",
         "type": "scatter",
         "x": [
          0.7792090689938204
         ],
         "y": [
          -0.10800201204181767
         ]
        },
        {
         "hoverinfo": "text",
         "marker": {
          "color": "skyblue",
          "size": 10
         },
         "mode": "markers",
         "text": "Nicolaus de Benedictis",
         "type": "scatter",
         "x": [
          -0.08785183200395623
         ],
         "y": [
          0.961982275586413
         ]
        },
        {
         "hoverinfo": "text",
         "marker": {
          "color": "skyblue",
          "size": 10
         },
         "mode": "markers",
         "text": "Boninus de Boninis",
         "type": "scatter",
         "x": [
          -0.11931471777360868
         ],
         "y": [
          0.9623855906499961
         ]
        },
        {
         "hoverinfo": "text",
         "marker": {
          "color": "skyblue",
          "size": 10
         },
         "mode": "markers",
         "text": "Jacobinus Suigus und Nicolaus de Benedictis",
         "type": "scatter",
         "x": [
          -0.14591613344735888
         ],
         "y": [
          1
         ]
        },
        {
         "hoverinfo": "text",
         "marker": {
          "color": "skyblue",
          "size": 10
         },
         "mode": "markers",
         "text": "Martin von Amsterdam",
         "type": "scatter",
         "x": [
          0.6656481367594784
         ],
         "y": [
          0.4709356591569285
         ]
        },
        {
         "hoverinfo": "text",
         "marker": {
          "color": "skyblue",
          "size": 10
         },
         "mode": "markers",
         "text": "Andreas Ihyracensis",
         "type": "scatter",
         "x": [
          0.6963965453053762
         ],
         "y": [
          0.4530160787640414
         ]
        },
        {
         "hoverinfo": "text",
         "marker": {
          "color": "skyblue",
          "size": 10
         },
         "mode": "markers",
         "text": "Christian Preller",
         "type": "scatter",
         "x": [
          -0.8126854456992423
         ],
         "y": [
          0.3903370882481933
         ]
        },
        {
         "hoverinfo": "text",
         "marker": {
          "color": "skyblue",
          "size": 10
         },
         "mode": "markers",
         "text": "Antoine Gontier",
         "type": "scatter",
         "x": [
          -0.8472837226841338
         ],
         "y": [
          0.38297628264110284
         ]
        },
        {
         "hoverinfo": "text",
         "marker": {
          "color": "skyblue",
          "size": 10
         },
         "mode": "markers",
         "text": "Friedrich Peypus",
         "type": "scatter",
         "x": [
          0.2876485915807303
         ],
         "y": [
          0.8238824895326969
         ]
        },
        {
         "hoverinfo": "text",
         "marker": {
          "color": "skyblue",
          "size": 10
         },
         "mode": "markers",
         "text": "Johann Koberger",
         "type": "scatter",
         "x": [
          0.31465914096322595
         ],
         "y": [
          0.8799247086741236
         ]
        },
        {
         "hoverinfo": "text",
         "marker": {
          "color": "skyblue",
          "size": 10
         },
         "mode": "markers",
         "text": "Guillaume Anabat",
         "type": "scatter",
         "x": [
          -0.9728529090734721
         ],
         "y": [
          -0.28280672210658087
         ]
        },
        {
         "hoverinfo": "text",
         "marker": {
          "color": "skyblue",
          "size": 10
         },
         "mode": "markers",
         "text": "Gilles und Germain Hardouyn",
         "type": "scatter",
         "x": [
          -0.9441853372996893
         ],
         "y": [
          -0.27575378053852984
         ]
        },
        {
         "hoverinfo": "text",
         "marker": {
          "color": "skyblue",
          "size": 10
         },
         "mode": "markers",
         "text": "André Bocard",
         "type": "scatter",
         "x": [
          -0.052991530157687775
         ],
         "y": [
          0.30255687299589507
         ]
        },
        {
         "hoverinfo": "text",
         "marker": {
          "color": "skyblue",
          "size": 10
         },
         "mode": "markers",
         "text": "Antoine Vérard(?)",
         "type": "scatter",
         "x": [
          -0.006483833999752863
         ],
         "y": [
          0.36725253844021427
         ]
        },
        {
         "hoverinfo": "text",
         "marker": {
          "color": "skyblue",
          "size": 10
         },
         "mode": "markers",
         "text": "André Bocard(?)",
         "type": "scatter",
         "x": [
          -0.06694875189828725
         ],
         "y": [
          0.3479133472596732
         ]
        },
        {
         "hoverinfo": "text",
         "marker": {
          "color": "skyblue",
          "size": 10
         },
         "mode": "markers",
         "text": "Antoine Vérard",
         "type": "scatter",
         "x": [
          -0.08775727140148025
         ],
         "y": [
          0.26631181458927883
         ]
        },
        {
         "hoverinfo": "text",
         "marker": {
          "color": "skyblue",
          "size": 10
         },
         "mode": "markers",
         "text": "Antoine Caillaut",
         "type": "scatter",
         "x": [
          -0.09916811291046948
         ],
         "y": [
          0.2970808648903127
         ]
        },
        {
         "hoverinfo": "text",
         "marker": {
          "color": "skyblue",
          "size": 10
         },
         "mode": "markers",
         "text": "Antoine Chappiel",
         "type": "scatter",
         "x": [
          -0.592398234741294
         ],
         "y": [
          -0.6923665885215706
         ]
        },
        {
         "hoverinfo": "text",
         "marker": {
          "color": "skyblue",
          "size": 10
         },
         "mode": "markers",
         "text": "Germain Hardouyn",
         "type": "scatter",
         "x": [
          -0.5485396646098896
         ],
         "y": [
          -0.6500420158358864
         ]
        },
        {
         "hoverinfo": "text",
         "marker": {
          "color": "skyblue",
          "size": 10
         },
         "mode": "markers",
         "text": "Jean Du Pré",
         "type": "scatter",
         "x": [
          -0.12633723786635
         ],
         "y": [
          0.28290422615609956
         ]
        },
        {
         "hoverinfo": "text",
         "marker": {
          "color": "skyblue",
          "size": 10
         },
         "mode": "markers",
         "text": "Denis Meslier",
         "type": "scatter",
         "x": [
          -0.19796892789334852
         ],
         "y": [
          0.3175067883537227
         ]
        },
        {
         "hoverinfo": "text",
         "marker": {
          "color": "skyblue",
          "size": 10
         },
         "mode": "markers",
         "text": "Ulrich Gering und Berthold Remboldt",
         "type": "scatter",
         "x": [
          -0.24791721452325774
         ],
         "y": [
          -0.0993145498510491
         ]
        },
        {
         "hoverinfo": "text",
         "marker": {
          "color": "skyblue",
          "size": 10
         },
         "mode": "markers",
         "text": "Simon Vostre",
         "type": "scatter",
         "x": [
          -0.17252957042773062
         ],
         "y": [
          -0.04831308532533802
         ]
        },
        {
         "hoverinfo": "text",
         "marker": {
          "color": "skyblue",
          "size": 10
         },
         "mode": "markers",
         "text": "Johann Higman",
         "type": "scatter",
         "x": [
          -0.13084972193034486
         ],
         "y": [
          -0.6430546637636475
         ]
        },
        {
         "hoverinfo": "text",
         "marker": {
          "color": "skyblue",
          "size": 10
         },
         "mode": "markers",
         "text": "Willem Houtmaert in Antwerpen",
         "type": "scatter",
         "x": [
          -0.1557250030276227
         ],
         "y": [
          -0.6798883905110044
         ]
        },
        {
         "hoverinfo": "text",
         "marker": {
          "color": "skyblue",
          "size": 10
         },
         "mode": "markers",
         "text": "Nicolas Higman",
         "type": "scatter",
         "x": [
          -0.20497821608498928
         ],
         "y": [
          -0.0808316711239252
         ]
        },
        {
         "hoverinfo": "text",
         "marker": {
          "color": "skyblue",
          "size": 10
         },
         "mode": "markers",
         "text": "Etienne Jehannot",
         "type": "scatter",
         "x": [
          -0.05569604148001072
         ],
         "y": [
          0.18655599212227753
         ]
        },
        {
         "hoverinfo": "text",
         "marker": {
          "color": "skyblue",
          "size": 10
         },
         "mode": "markers",
         "text": "Johannes de Campis in Cambrai",
         "type": "scatter",
         "x": [
          0.029070111771450878
         ],
         "y": [
          0.19077925516636618
         ]
        },
        {
         "hoverinfo": "text",
         "marker": {
          "color": "skyblue",
          "size": 10
         },
         "mode": "markers",
         "text": "Pierre Regnault in Caen",
         "type": "scatter",
         "x": [
          -0.09321301123994015
         ],
         "y": [
          0.10129144797107731
         ]
        },
        {
         "hoverinfo": "text",
         "marker": {
          "color": "skyblue",
          "size": 10
         },
         "mode": "markers",
         "text": "Jean Petit",
         "type": "scatter",
         "x": [
          0.0203891474309241
         ],
         "y": [
          0.22575367942476546
         ]
        },
        {
         "hoverinfo": "text",
         "marker": {
          "color": "skyblue",
          "size": 10
         },
         "mode": "markers",
         "text": "Denis Roce",
         "type": "scatter",
         "x": [
          -0.007039959976450998
         ],
         "y": [
          0.19653475872080772
         ]
        },
        {
         "hoverinfo": "text",
         "marker": {
          "color": "skyblue",
          "size": 10
         },
         "mode": "markers",
         "text": "die Brüder de Marnef",
         "type": "scatter",
         "x": [
          -0.09620097689357371
         ],
         "y": [
          0.059909040988435386
         ]
        },
        {
         "hoverinfo": "text",
         "marker": {
          "color": "skyblue",
          "size": 10
         },
         "mode": "markers",
         "text": "Pierre Pasquier",
         "type": "scatter",
         "x": [
          0.014748685054467366
         ],
         "y": [
          0.15827903292492848
         ]
        },
        {
         "hoverinfo": "text",
         "marker": {
          "color": "skyblue",
          "size": 10
         },
         "mode": "markers",
         "text": "Jean Poitevin",
         "type": "scatter",
         "x": [
          -0.031498861321180315
         ],
         "y": [
          0.16046292762370687
         ]
        },
        {
         "hoverinfo": "text",
         "marker": {
          "color": "skyblue",
          "size": 10
         },
         "mode": "markers",
         "text": "Gilles Hardouyn",
         "type": "scatter",
         "x": [
          -0.013355873886738593
         ],
         "y": [
          0.23615994944216553
         ]
        },
        {
         "hoverinfo": "text",
         "marker": {
          "color": "skyblue",
          "size": 10
         },
         "mode": "markers",
         "text": "Jean Jehannot",
         "type": "scatter",
         "x": [
          0.2930832553356206
         ],
         "y": [
          -0.8719700387871356
         ]
        },
        {
         "hoverinfo": "text",
         "marker": {
          "color": "skyblue",
          "size": 10
         },
         "mode": "markers",
         "text": "Nicolaus Lecomte",
         "type": "scatter",
         "x": [
          0.31380277409512386
         ],
         "y": [
          -0.8424369601958253
         ]
        },
        {
         "hoverinfo": "text",
         "marker": {
          "color": "skyblue",
          "size": 10
         },
         "mode": "markers",
         "text": "Thielmann Kerver",
         "type": "scatter",
         "x": [
          0.591340633277366
         ],
         "y": [
          -0.0845007574454604
         ]
        },
        {
         "hoverinfo": "text",
         "marker": {
          "color": "skyblue",
          "size": 10
         },
         "mode": "markers",
         "text": "Robert Macé in Caen",
         "type": "scatter",
         "x": [
          0.6633125028153365
         ],
         "y": [
          -0.11362134672389437
         ]
        },
        {
         "hoverinfo": "text",
         "marker": {
          "color": "skyblue",
          "size": 10
         },
         "mode": "markers",
         "text": "Gilles Remacle",
         "type": "scatter",
         "x": [
          0.5739785743238821
         ],
         "y": [
          -0.06453383266838704
         ]
        },
        {
         "hoverinfo": "text",
         "marker": {
          "color": "skyblue",
          "size": 10
         },
         "mode": "markers",
         "text": "Hugues Pageot in Dijon",
         "type": "scatter",
         "x": [
          0.6018708405970218
         ],
         "y": [
          -0.019391786658390423
         ]
        },
        {
         "hoverinfo": "text",
         "marker": {
          "color": "skyblue",
          "size": 10
         },
         "mode": "markers",
         "text": "Guillaume Eustace",
         "type": "scatter",
         "x": [
          0.5645868860039804
         ],
         "y": [
          -0.09555288142233478
         ]
        },
        {
         "hoverinfo": "text",
         "marker": {
          "color": "skyblue",
          "size": 10
         },
         "mode": "markers",
         "text": "Jean Petit in Paris und Pierre Cochery in Le Mans",
         "type": "scatter",
         "x": [
          0.5695160215237248
         ],
         "y": [
          -0.13843931242167937
         ]
        },
        {
         "hoverinfo": "text",
         "marker": {
          "color": "skyblue",
          "size": 10
         },
         "mode": "markers",
         "text": "Gauche Preta in Châlons",
         "type": "scatter",
         "x": [
          0.6604233218973153
         ],
         "y": [
          -0.06472558075049206
         ]
        },
        {
         "hoverinfo": "text",
         "marker": {
          "color": "skyblue",
          "size": 10
         },
         "mode": "markers",
         "text": "sich selbst, Gilles Remacle und Guillaume Eustace",
         "type": "scatter",
         "x": [
          0.6405639748562948
         ],
         "y": [
          -0.03304447930371658
         ]
        },
        {
         "hoverinfo": "text",
         "marker": {
          "color": "skyblue",
          "size": 10
         },
         "mode": "markers",
         "text": "Pierre Le Dru und Etienne Jehannot",
         "type": "scatter",
         "x": [
          -0.2544982948243329
         ],
         "y": [
          -0.8520731094843562
         ]
        },
        {
         "hoverinfo": "text",
         "marker": {
          "color": "skyblue",
          "size": 10
         },
         "mode": "markers",
         "text": "Robin Challot",
         "type": "scatter",
         "x": [
          -0.2860495458254048
         ],
         "y": [
          -0.8676879749543082
         ]
        },
        {
         "hoverinfo": "text",
         "marker": {
          "color": "skyblue",
          "size": 10
         },
         "mode": "markers",
         "text": "Pierre Le Dru(?)",
         "type": "scatter",
         "x": [
          0.013477538705116842
         ],
         "y": [
          0.12405643760503829
         ]
        },
        {
         "hoverinfo": "text",
         "marker": {
          "color": "skyblue",
          "size": 10
         },
         "mode": "markers",
         "text": "Guillaume Le Rouge",
         "type": "scatter",
         "x": [
          -0.10105059181538523
         ],
         "y": [
          0.34577675660165025
         ]
        },
        {
         "hoverinfo": "text",
         "marker": {
          "color": "skyblue",
          "size": 10
         },
         "mode": "markers",
         "text": "Pierre Le Rouge(?)",
         "type": "scatter",
         "x": [
          -0.11880969291510879
         ],
         "y": [
          0.23982779275895127
         ]
        },
        {
         "hoverinfo": "text",
         "marker": {
          "color": "skyblue",
          "size": 10
         },
         "mode": "markers",
         "text": "Pierre Le Rouge",
         "type": "scatter",
         "x": [
          -0.0158925119275923
         ],
         "y": [
          -0.7904224491943135
         ]
        },
        {
         "hoverinfo": "text",
         "marker": {
          "color": "skyblue",
          "size": 10
         },
         "mode": "markers",
         "text": "Vincent Commin",
         "type": "scatter",
         "x": [
          -0.04972976785533726
         ],
         "y": [
          -0.7833453848916027
         ]
        },
        {
         "hoverinfo": "text",
         "marker": {
          "color": "skyblue",
          "size": 10
         },
         "mode": "markers",
         "text": "Pierre Levet",
         "type": "scatter",
         "x": [
          -0.1394879014802143
         ],
         "y": [
          0.3265146014671464
         ]
        },
        {
         "hoverinfo": "text",
         "marker": {
          "color": "skyblue",
          "size": 10
         },
         "mode": "markers",
         "text": "Guy Marchant",
         "type": "scatter",
         "x": [
          -0.02800433973529084
         ],
         "y": [
          0.333454702440112
         ]
        },
        {
         "hoverinfo": "text",
         "marker": {
          "color": "skyblue",
          "size": 10
         },
         "mode": "markers",
         "text": "Jean Morand(?)",
         "type": "scatter",
         "x": [
          -0.16115157706086375
         ],
         "y": [
          0.25675189440760676
         ]
        },
        {
         "hoverinfo": "text",
         "marker": {
          "color": "skyblue",
          "size": 10
         },
         "mode": "markers",
         "text": "Jean de Coulonces bzw. Robin Challot",
         "type": "scatter",
         "x": [
          -0.23770585481721201
         ],
         "y": [
          0.2575769033276952
         ]
        },
        {
         "hoverinfo": "text",
         "marker": {
          "color": "skyblue",
          "size": 10
         },
         "mode": "markers",
         "text": "Jean Morand",
         "type": "scatter",
         "x": [
          -0.15230401329759394
         ],
         "y": [
          0.3968455335853309
         ]
        },
        {
         "hoverinfo": "text",
         "marker": {
          "color": "skyblue",
          "size": 10
         },
         "mode": "markers",
         "text": "Geoffroi de Marnef",
         "type": "scatter",
         "x": [
          -0.16953739267892337
         ],
         "y": [
          0.4533740833707105
         ]
        },
        {
         "hoverinfo": "text",
         "marker": {
          "color": "skyblue",
          "size": 10
         },
         "mode": "markers",
         "text": "Enguilbert de Marnef und Jean Alexandre",
         "type": "scatter",
         "x": [
          -0.2071104696761714
         ],
         "y": [
          0.4520705865762175
         ]
        },
        {
         "hoverinfo": "text",
         "marker": {
          "color": "skyblue",
          "size": 10
         },
         "mode": "markers",
         "text": "Johann Philippi",
         "type": "scatter",
         "x": [
          0.6143038307752582
         ],
         "y": [
          -0.13896391098481062
         ]
        },
        {
         "hoverinfo": "text",
         "marker": {
          "color": "skyblue",
          "size": 10
         },
         "mode": "markers",
         "text": "Thielmann Kerver in Paris und Jean Richard in Rouen",
         "type": "scatter",
         "x": [
          0.665756585178197
         ],
         "y": [
          -0.18591195697205098
         ]
        },
        {
         "hoverinfo": "text",
         "marker": {
          "color": "skyblue",
          "size": 10
         },
         "mode": "markers",
         "text": "Jacques Bezanceau in Poitiers und Thielmann Kerver in Paris",
         "type": "scatter",
         "x": [
          0.6293571348532481
         ],
         "y": [
          -0.20439008286901397
         ]
        },
        {
         "hoverinfo": "text",
         "marker": {
          "color": "skyblue",
          "size": 10
         },
         "mode": "markers",
         "text": "Philippe Pigouchet",
         "type": "scatter",
         "x": [
          -0.16196292478363153
         ],
         "y": [
          -0.039734685986759416
         ]
        },
        {
         "hoverinfo": "text",
         "marker": {
          "color": "skyblue",
          "size": 10
         },
         "mode": "markers",
         "text": "Philippe Pigouchet z.T.",
         "type": "scatter",
         "x": [
          -0.05691635104474618
         ],
         "y": [
          0.015440953478221912
         ]
        },
        {
         "hoverinfo": "text",
         "marker": {
          "color": "skyblue",
          "size": 10
         },
         "mode": "markers",
         "text": "sich selbst und die Brüder de Marnef",
         "type": "scatter",
         "x": [
          -0.23822519282931187
         ],
         "y": [
          -0.06240643995047953
         ]
        },
        {
         "hoverinfo": "text",
         "marker": {
          "color": "skyblue",
          "size": 10
         },
         "mode": "markers",
         "text": "Toussaint de Montjay",
         "type": "scatter",
         "x": [
          -0.12321359252322411
         ],
         "y": [
          -0.0658202113578905
         ]
        },
        {
         "hoverinfo": "text",
         "marker": {
          "color": "skyblue",
          "size": 10
         },
         "mode": "markers",
         "text": "Jean Richard in Rouen",
         "type": "scatter",
         "x": [
          -0.24257852420283516
         ],
         "y": [
          -0.031380905640114864
         ]
        },
        {
         "hoverinfo": "text",
         "marker": {
          "color": "skyblue",
          "size": 10
         },
         "mode": "markers",
         "text": "Jean Du Bois in Auxerre(?)",
         "type": "scatter",
         "x": [
          -0.12995091004245085
         ],
         "y": [
          -0.1161752799205075
         ]
        },
        {
         "hoverinfo": "text",
         "marker": {
          "color": "skyblue",
          "size": 10
         },
         "mode": "markers",
         "text": "Macé Panthoul in Troyes",
         "type": "scatter",
         "x": [
          -0.15762361184257484
         ],
         "y": [
          -0.0854741469481486
         ]
        },
        {
         "hoverinfo": "text",
         "marker": {
          "color": "skyblue",
          "size": 10
         },
         "mode": "markers",
         "text": "Jean Magdalene in Metz",
         "type": "scatter",
         "x": [
          -0.20638837514967256
         ],
         "y": [
          -0.11592444797903106
         ]
        },
        {
         "hoverinfo": "text",
         "marker": {
          "color": "skyblue",
          "size": 10
         },
         "mode": "markers",
         "text": "Jean Lagache in Arras",
         "type": "scatter",
         "x": [
          -0.1712941573783999
         ],
         "y": [
          -0.1256897200725001
         ]
        },
        {
         "hoverinfo": "text",
         "marker": {
          "color": "skyblue",
          "size": 10
         },
         "mode": "markers",
         "text": "Narcisse Bruno",
         "type": "scatter",
         "x": [
          -0.21931533142315696
         ],
         "y": [
          -0.005866855124669451
         ]
        },
        {
         "hoverinfo": "text",
         "marker": {
          "color": "skyblue",
          "size": 10
         },
         "mode": "markers",
         "text": "Georg Wolff und Thielmann Kerver",
         "type": "scatter",
         "x": [
          -0.19707728087255758
         ],
         "y": [
          0.523894922747307
         ]
        },
        {
         "hoverinfo": "text",
         "marker": {
          "color": "skyblue",
          "size": 10
         },
         "mode": "markers",
         "text": "Jacques Le Forestier",
         "type": "scatter",
         "x": [
          0.7228665185361337
         ],
         "y": [
          -0.13857658920277194
         ]
        },
        {
         "hoverinfo": "text",
         "marker": {
          "color": "skyblue",
          "size": 10
         },
         "mode": "markers",
         "text": "Peter Hagembach und Leonhard Hutz",
         "type": "scatter",
         "x": [
          0.4945706997070675
         ],
         "y": [
          -0.5351098475560722
         ]
        },
        {
         "hoverinfo": "text",
         "marker": {
          "color": "skyblue",
          "size": 10
         },
         "mode": "markers",
         "text": "Jacobus de Villa",
         "type": "scatter",
         "x": [
          0.52887225110112
         ],
         "y": [
          -0.5451985800024266
         ]
        },
        {
         "hoverinfo": "text",
         "marker": {
          "color": "skyblue",
          "size": 10
         },
         "mode": "markers",
         "text": "Johann Emerich",
         "type": "scatter",
         "x": [
          0.1906575573712177
         ],
         "y": [
          -0.11406795332916633
         ]
        },
        {
         "hoverinfo": "text",
         "marker": {
          "color": "skyblue",
          "size": 10
         },
         "mode": "markers",
         "text": "Lucantonio Giunta",
         "type": "scatter",
         "x": [
          0.21088872780756
         ],
         "y": [
          -0.10932075638350788
         ]
        },
        {
         "hoverinfo": "text",
         "marker": {
          "color": "skyblue",
          "size": 10
         },
         "mode": "markers",
         "text": "Johann Hamann",
         "type": "scatter",
         "x": [
          0.13450485224553288
         ],
         "y": [
          -0.7566783023403979
         ]
        },
        {
         "hoverinfo": "text",
         "marker": {
          "color": "skyblue",
          "size": 10
         },
         "mode": "markers",
         "text": "Gerard Barrevelt und Frederick Egmondt",
         "type": "scatter",
         "x": [
          0.14693591986373294
         ],
         "y": [
          -0.8209787008423097
         ]
        },
        {
         "hoverinfo": "text",
         "marker": {
          "color": "skyblue",
          "size": 10
         },
         "mode": "markers",
         "text": "Johann Volkarth",
         "type": "scatter",
         "x": [
          0.15923219458880716
         ],
         "y": [
          -0.7170548102411264
         ]
        },
        {
         "hoverinfo": "text",
         "marker": {
          "color": "skyblue",
          "size": 10
         },
         "mode": "markers",
         "text": "Octavianus Scotus",
         "type": "scatter",
         "x": [
          0.09980314365512162
         ],
         "y": [
          -0.7266272673731174
         ]
        },
        {
         "hoverinfo": "text",
         "marker": {
          "color": "skyblue",
          "size": 10
         },
         "mode": "markers",
         "text": "Nicolas Jenson",
         "type": "scatter",
         "x": [
          -0.6872416806894234
         ],
         "y": [
          0.6212841107780145
         ]
        },
        {
         "hoverinfo": "text",
         "marker": {
          "color": "skyblue",
          "size": 10
         },
         "mode": "markers",
         "text": "? Raphael Zovenzonius",
         "type": "scatter",
         "x": [
          -0.6560555937479022
         ],
         "y": [
          0.5911849010469034
         ]
        },
        {
         "hoverinfo": "text",
         "marker": {
          "color": "skyblue",
          "size": 10
         },
         "mode": "markers",
         "text": "Andreas Torresanus",
         "type": "scatter",
         "x": [
          -0.7987972603326972
         ],
         "y": [
          -0.01104653729798675
         ]
        },
        {
         "hoverinfo": "text",
         "marker": {
          "color": "skyblue",
          "size": 10
         },
         "mode": "markers",
         "text": "Johann von Köln, Nicolas Jenson und Genossen",
         "type": "scatter",
         "x": [
          -0.8582036712458376
         ],
         "y": [
          -0.013856409861056133
         ]
        },
        {
         "hoverinfo": "none",
         "line": {
          "color": "black",
          "width": 1
         },
         "mode": "lines",
         "type": "scatter",
         "x": [
          0.8523893592964603,
          0.7792090689938204,
          null
         ],
         "y": [
          -0.11237311775696501,
          -0.10800201204181767,
          null
         ]
        },
        {
         "hoverinfo": "none",
         "line": {
          "color": "black",
          "width": 1
         },
         "mode": "lines",
         "type": "scatter",
         "x": [
          -0.08785183200395623,
          -0.11931471777360868,
          null
         ],
         "y": [
          0.961982275586413,
          0.9623855906499961,
          null
         ]
        },
        {
         "hoverinfo": "none",
         "line": {
          "color": "black",
          "width": 1
         },
         "mode": "lines",
         "type": "scatter",
         "x": [
          -0.11931471777360868,
          -0.14591613344735888,
          null
         ],
         "y": [
          0.9623855906499961,
          1,
          null
         ]
        },
        {
         "hoverinfo": "none",
         "line": {
          "color": "black",
          "width": 1
         },
         "mode": "lines",
         "type": "scatter",
         "x": [
          0.6656481367594784,
          0.6963965453053762,
          null
         ],
         "y": [
          0.4709356591569285,
          0.4530160787640414,
          null
         ]
        },
        {
         "hoverinfo": "none",
         "line": {
          "color": "black",
          "width": 1
         },
         "mode": "lines",
         "type": "scatter",
         "x": [
          -0.8126854456992423,
          -0.8472837226841338,
          null
         ],
         "y": [
          0.3903370882481933,
          0.38297628264110284,
          null
         ]
        },
        {
         "hoverinfo": "none",
         "line": {
          "color": "black",
          "width": 1
         },
         "mode": "lines",
         "type": "scatter",
         "x": [
          0.2876485915807303,
          0.31465914096322595,
          null
         ],
         "y": [
          0.8238824895326969,
          0.8799247086741236,
          null
         ]
        },
        {
         "hoverinfo": "none",
         "line": {
          "color": "black",
          "width": 1
         },
         "mode": "lines",
         "type": "scatter",
         "x": [
          -0.9728529090734721,
          -0.9441853372996893,
          null
         ],
         "y": [
          -0.28280672210658087,
          -0.27575378053852984,
          null
         ]
        },
        {
         "hoverinfo": "none",
         "line": {
          "color": "black",
          "width": 1
         },
         "mode": "lines",
         "type": "scatter",
         "x": [
          -0.052991530157687775,
          -0.006483833999752863,
          null
         ],
         "y": [
          0.30255687299589507,
          0.36725253844021427,
          null
         ]
        },
        {
         "hoverinfo": "none",
         "line": {
          "color": "black",
          "width": 1
         },
         "mode": "lines",
         "type": "scatter",
         "x": [
          -0.052991530157687775,
          -0.08775727140148025,
          null
         ],
         "y": [
          0.30255687299589507,
          0.26631181458927883,
          null
         ]
        },
        {
         "hoverinfo": "none",
         "line": {
          "color": "black",
          "width": 1
         },
         "mode": "lines",
         "type": "scatter",
         "x": [
          -0.006483833999752863,
          -0.02800433973529084,
          null
         ],
         "y": [
          0.36725253844021427,
          0.333454702440112,
          null
         ]
        },
        {
         "hoverinfo": "none",
         "line": {
          "color": "black",
          "width": 1
         },
         "mode": "lines",
         "type": "scatter",
         "x": [
          -0.06694875189828725,
          -0.08775727140148025,
          null
         ],
         "y": [
          0.3479133472596732,
          0.26631181458927883,
          null
         ]
        },
        {
         "hoverinfo": "none",
         "line": {
          "color": "black",
          "width": 1
         },
         "mode": "lines",
         "type": "scatter",
         "x": [
          -0.08775727140148025,
          -0.09916811291046948,
          null
         ],
         "y": [
          0.26631181458927883,
          0.2970808648903127,
          null
         ]
        },
        {
         "hoverinfo": "none",
         "line": {
          "color": "black",
          "width": 1
         },
         "mode": "lines",
         "type": "scatter",
         "x": [
          -0.08775727140148025,
          -0.12633723786635,
          null
         ],
         "y": [
          0.26631181458927883,
          0.28290422615609956,
          null
         ]
        },
        {
         "hoverinfo": "none",
         "line": {
          "color": "black",
          "width": 1
         },
         "mode": "lines",
         "type": "scatter",
         "x": [
          -0.08775727140148025,
          -0.05569604148001072,
          null
         ],
         "y": [
          0.26631181458927883,
          0.18655599212227753,
          null
         ]
        },
        {
         "hoverinfo": "none",
         "line": {
          "color": "black",
          "width": 1
         },
         "mode": "lines",
         "type": "scatter",
         "x": [
          -0.08775727140148025,
          -0.10105059181538523,
          null
         ],
         "y": [
          0.26631181458927883,
          0.34577675660165025,
          null
         ]
        },
        {
         "hoverinfo": "none",
         "line": {
          "color": "black",
          "width": 1
         },
         "mode": "lines",
         "type": "scatter",
         "x": [
          -0.08775727140148025,
          -0.11880969291510879,
          null
         ],
         "y": [
          0.26631181458927883,
          0.23982779275895127,
          null
         ]
        },
        {
         "hoverinfo": "none",
         "line": {
          "color": "black",
          "width": 1
         },
         "mode": "lines",
         "type": "scatter",
         "x": [
          -0.08775727140148025,
          -0.1394879014802143,
          null
         ],
         "y": [
          0.26631181458927883,
          0.3265146014671464,
          null
         ]
        },
        {
         "hoverinfo": "none",
         "line": {
          "color": "black",
          "width": 1
         },
         "mode": "lines",
         "type": "scatter",
         "x": [
          -0.08775727140148025,
          -0.02800433973529084,
          null
         ],
         "y": [
          0.26631181458927883,
          0.333454702440112,
          null
         ]
        },
        {
         "hoverinfo": "none",
         "line": {
          "color": "black",
          "width": 1
         },
         "mode": "lines",
         "type": "scatter",
         "x": [
          -0.08775727140148025,
          -0.16115157706086375,
          null
         ],
         "y": [
          0.26631181458927883,
          0.25675189440760676,
          null
         ]
        },
        {
         "hoverinfo": "none",
         "line": {
          "color": "black",
          "width": 1
         },
         "mode": "lines",
         "type": "scatter",
         "x": [
          -0.08775727140148025,
          -0.15230401329759394,
          null
         ],
         "y": [
          0.26631181458927883,
          0.3968455335853309,
          null
         ]
        },
        {
         "hoverinfo": "none",
         "line": {
          "color": "black",
          "width": 1
         },
         "mode": "lines",
         "type": "scatter",
         "x": [
          -0.09916811291046948,
          -0.12633723786635,
          null
         ],
         "y": [
          0.2970808648903127,
          0.28290422615609956,
          null
         ]
        },
        {
         "hoverinfo": "none",
         "line": {
          "color": "black",
          "width": 1
         },
         "mode": "lines",
         "type": "scatter",
         "x": [
          -0.592398234741294,
          -0.5485396646098896,
          null
         ],
         "y": [
          -0.6923665885215706,
          -0.6500420158358864,
          null
         ]
        },
        {
         "hoverinfo": "none",
         "line": {
          "color": "black",
          "width": 1
         },
         "mode": "lines",
         "type": "scatter",
         "x": [
          -0.12633723786635,
          -0.19796892789334852,
          null
         ],
         "y": [
          0.28290422615609956,
          0.3175067883537227,
          null
         ]
        },
        {
         "hoverinfo": "none",
         "line": {
          "color": "black",
          "width": 1
         },
         "mode": "lines",
         "type": "scatter",
         "x": [
          -0.24791721452325774,
          -0.17252957042773062,
          null
         ],
         "y": [
          -0.0993145498510491,
          -0.04831308532533802,
          null
         ]
        },
        {
         "hoverinfo": "none",
         "line": {
          "color": "black",
          "width": 1
         },
         "mode": "lines",
         "type": "scatter",
         "x": [
          -0.17252957042773062,
          -0.20497821608498928,
          null
         ],
         "y": [
          -0.04831308532533802,
          -0.0808316711239252,
          null
         ]
        },
        {
         "hoverinfo": "none",
         "line": {
          "color": "black",
          "width": 1
         },
         "mode": "lines",
         "type": "scatter",
         "x": [
          -0.17252957042773062,
          -0.16196292478363153,
          null
         ],
         "y": [
          -0.04831308532533802,
          -0.039734685986759416,
          null
         ]
        },
        {
         "hoverinfo": "none",
         "line": {
          "color": "black",
          "width": 1
         },
         "mode": "lines",
         "type": "scatter",
         "x": [
          -0.13084972193034486,
          -0.1557250030276227,
          null
         ],
         "y": [
          -0.6430546637636475,
          -0.6798883905110044,
          null
         ]
        },
        {
         "hoverinfo": "none",
         "line": {
          "color": "black",
          "width": 1
         },
         "mode": "lines",
         "type": "scatter",
         "x": [
          -0.05569604148001072,
          0.029070111771450878,
          null
         ],
         "y": [
          0.18655599212227753,
          0.19077925516636618,
          null
         ]
        },
        {
         "hoverinfo": "none",
         "line": {
          "color": "black",
          "width": 1
         },
         "mode": "lines",
         "type": "scatter",
         "x": [
          -0.05569604148001072,
          -0.09321301123994015,
          null
         ],
         "y": [
          0.18655599212227753,
          0.10129144797107731,
          null
         ]
        },
        {
         "hoverinfo": "none",
         "line": {
          "color": "black",
          "width": 1
         },
         "mode": "lines",
         "type": "scatter",
         "x": [
          -0.05569604148001072,
          0.0203891474309241,
          null
         ],
         "y": [
          0.18655599212227753,
          0.22575367942476546,
          null
         ]
        },
        {
         "hoverinfo": "none",
         "line": {
          "color": "black",
          "width": 1
         },
         "mode": "lines",
         "type": "scatter",
         "x": [
          -0.05569604148001072,
          -0.007039959976450998,
          null
         ],
         "y": [
          0.18655599212227753,
          0.19653475872080772,
          null
         ]
        },
        {
         "hoverinfo": "none",
         "line": {
          "color": "black",
          "width": 1
         },
         "mode": "lines",
         "type": "scatter",
         "x": [
          -0.05569604148001072,
          -0.09620097689357371,
          null
         ],
         "y": [
          0.18655599212227753,
          0.059909040988435386,
          null
         ]
        },
        {
         "hoverinfo": "none",
         "line": {
          "color": "black",
          "width": 1
         },
         "mode": "lines",
         "type": "scatter",
         "x": [
          -0.05569604148001072,
          0.014748685054467366,
          null
         ],
         "y": [
          0.18655599212227753,
          0.15827903292492848,
          null
         ]
        },
        {
         "hoverinfo": "none",
         "line": {
          "color": "black",
          "width": 1
         },
         "mode": "lines",
         "type": "scatter",
         "x": [
          -0.05569604148001072,
          -0.031498861321180315,
          null
         ],
         "y": [
          0.18655599212227753,
          0.16046292762370687,
          null
         ]
        },
        {
         "hoverinfo": "none",
         "line": {
          "color": "black",
          "width": 1
         },
         "mode": "lines",
         "type": "scatter",
         "x": [
          -0.05569604148001072,
          -0.013355873886738593,
          null
         ],
         "y": [
          0.18655599212227753,
          0.23615994944216553,
          null
         ]
        },
        {
         "hoverinfo": "none",
         "line": {
          "color": "black",
          "width": 1
         },
         "mode": "lines",
         "type": "scatter",
         "x": [
          -0.09321301123994015,
          -0.16196292478363153,
          null
         ],
         "y": [
          0.10129144797107731,
          -0.039734685986759416,
          null
         ]
        },
        {
         "hoverinfo": "none",
         "line": {
          "color": "black",
          "width": 1
         },
         "mode": "lines",
         "type": "scatter",
         "x": [
          -0.09620097689357371,
          -0.16196292478363153,
          null
         ],
         "y": [
          0.059909040988435386,
          -0.039734685986759416,
          null
         ]
        },
        {
         "hoverinfo": "none",
         "line": {
          "color": "black",
          "width": 1
         },
         "mode": "lines",
         "type": "scatter",
         "x": [
          -0.09620097689357371,
          -0.05691635104474618,
          null
         ],
         "y": [
          0.059909040988435386,
          0.015440953478221912,
          null
         ]
        },
        {
         "hoverinfo": "none",
         "line": {
          "color": "black",
          "width": 1
         },
         "mode": "lines",
         "type": "scatter",
         "x": [
          -0.031498861321180315,
          0.013477538705116842,
          null
         ],
         "y": [
          0.16046292762370687,
          0.12405643760503829,
          null
         ]
        },
        {
         "hoverinfo": "none",
         "line": {
          "color": "black",
          "width": 1
         },
         "mode": "lines",
         "type": "scatter",
         "x": [
          0.2930832553356206,
          0.31380277409512386,
          null
         ],
         "y": [
          -0.8719700387871356,
          -0.8424369601958253,
          null
         ]
        },
        {
         "hoverinfo": "none",
         "line": {
          "color": "black",
          "width": 1
         },
         "mode": "lines",
         "type": "scatter",
         "x": [
          0.591340633277366,
          0.6633125028153365,
          null
         ],
         "y": [
          -0.0845007574454604,
          -0.11362134672389437,
          null
         ]
        },
        {
         "hoverinfo": "none",
         "line": {
          "color": "black",
          "width": 1
         },
         "mode": "lines",
         "type": "scatter",
         "x": [
          0.591340633277366,
          0.5739785743238821,
          null
         ],
         "y": [
          -0.0845007574454604,
          -0.06453383266838704,
          null
         ]
        },
        {
         "hoverinfo": "none",
         "line": {
          "color": "black",
          "width": 1
         },
         "mode": "lines",
         "type": "scatter",
         "x": [
          0.591340633277366,
          0.6018708405970218,
          null
         ],
         "y": [
          -0.0845007574454604,
          -0.019391786658390423,
          null
         ]
        },
        {
         "hoverinfo": "none",
         "line": {
          "color": "black",
          "width": 1
         },
         "mode": "lines",
         "type": "scatter",
         "x": [
          0.591340633277366,
          0.5645868860039804,
          null
         ],
         "y": [
          -0.0845007574454604,
          -0.09555288142233478,
          null
         ]
        },
        {
         "hoverinfo": "none",
         "line": {
          "color": "black",
          "width": 1
         },
         "mode": "lines",
         "type": "scatter",
         "x": [
          0.591340633277366,
          0.5695160215237248,
          null
         ],
         "y": [
          -0.0845007574454604,
          -0.13843931242167937,
          null
         ]
        },
        {
         "hoverinfo": "none",
         "line": {
          "color": "black",
          "width": 1
         },
         "mode": "lines",
         "type": "scatter",
         "x": [
          0.591340633277366,
          0.6604233218973153,
          null
         ],
         "y": [
          -0.0845007574454604,
          -0.06472558075049206,
          null
         ]
        },
        {
         "hoverinfo": "none",
         "line": {
          "color": "black",
          "width": 1
         },
         "mode": "lines",
         "type": "scatter",
         "x": [
          0.591340633277366,
          0.6405639748562948,
          null
         ],
         "y": [
          -0.0845007574454604,
          -0.03304447930371658,
          null
         ]
        },
        {
         "hoverinfo": "none",
         "line": {
          "color": "black",
          "width": 1
         },
         "mode": "lines",
         "type": "scatter",
         "x": [
          0.591340633277366,
          0.6143038307752582,
          null
         ],
         "y": [
          -0.0845007574454604,
          -0.13896391098481062,
          null
         ]
        },
        {
         "hoverinfo": "none",
         "line": {
          "color": "black",
          "width": 1
         },
         "mode": "lines",
         "type": "scatter",
         "x": [
          0.6633125028153365,
          0.7228665185361337,
          null
         ],
         "y": [
          -0.11362134672389437,
          -0.13857658920277194,
          null
         ]
        },
        {
         "hoverinfo": "none",
         "line": {
          "color": "black",
          "width": 1
         },
         "mode": "lines",
         "type": "scatter",
         "x": [
          -0.2544982948243329,
          -0.2860495458254048,
          null
         ],
         "y": [
          -0.8520731094843562,
          -0.8676879749543082,
          null
         ]
        },
        {
         "hoverinfo": "none",
         "line": {
          "color": "black",
          "width": 1
         },
         "mode": "lines",
         "type": "scatter",
         "x": [
          -0.0158925119275923,
          -0.04972976785533726,
          null
         ],
         "y": [
          -0.7904224491943135,
          -0.7833453848916027,
          null
         ]
        },
        {
         "hoverinfo": "none",
         "line": {
          "color": "black",
          "width": 1
         },
         "mode": "lines",
         "type": "scatter",
         "x": [
          -0.16115157706086375,
          -0.23770585481721201,
          null
         ],
         "y": [
          0.25675189440760676,
          0.2575769033276952,
          null
         ]
        },
        {
         "hoverinfo": "none",
         "line": {
          "color": "black",
          "width": 1
         },
         "mode": "lines",
         "type": "scatter",
         "x": [
          -0.15230401329759394,
          -0.16953739267892337,
          null
         ],
         "y": [
          0.3968455335853309,
          0.4533740833707105,
          null
         ]
        },
        {
         "hoverinfo": "none",
         "line": {
          "color": "black",
          "width": 1
         },
         "mode": "lines",
         "type": "scatter",
         "x": [
          -0.15230401329759394,
          -0.2071104696761714,
          null
         ],
         "y": [
          0.3968455335853309,
          0.4520705865762175,
          null
         ]
        },
        {
         "hoverinfo": "none",
         "line": {
          "color": "black",
          "width": 1
         },
         "mode": "lines",
         "type": "scatter",
         "x": [
          -0.16953739267892337,
          -0.19707728087255758,
          null
         ],
         "y": [
          0.4533740833707105,
          0.523894922747307,
          null
         ]
        },
        {
         "hoverinfo": "none",
         "line": {
          "color": "black",
          "width": 1
         },
         "mode": "lines",
         "type": "scatter",
         "x": [
          0.6143038307752582,
          0.665756585178197,
          null
         ],
         "y": [
          -0.13896391098481062,
          -0.18591195697205098,
          null
         ]
        },
        {
         "hoverinfo": "none",
         "line": {
          "color": "black",
          "width": 1
         },
         "mode": "lines",
         "type": "scatter",
         "x": [
          0.6143038307752582,
          0.6293571348532481,
          null
         ],
         "y": [
          -0.13896391098481062,
          -0.20439008286901397,
          null
         ]
        },
        {
         "hoverinfo": "none",
         "line": {
          "color": "black",
          "width": 1
         },
         "mode": "lines",
         "type": "scatter",
         "x": [
          -0.16196292478363153,
          -0.23822519282931187,
          null
         ],
         "y": [
          -0.039734685986759416,
          -0.06240643995047953,
          null
         ]
        },
        {
         "hoverinfo": "none",
         "line": {
          "color": "black",
          "width": 1
         },
         "mode": "lines",
         "type": "scatter",
         "x": [
          -0.16196292478363153,
          -0.12321359252322411,
          null
         ],
         "y": [
          -0.039734685986759416,
          -0.0658202113578905,
          null
         ]
        },
        {
         "hoverinfo": "none",
         "line": {
          "color": "black",
          "width": 1
         },
         "mode": "lines",
         "type": "scatter",
         "x": [
          -0.16196292478363153,
          -0.24257852420283516,
          null
         ],
         "y": [
          -0.039734685986759416,
          -0.031380905640114864,
          null
         ]
        },
        {
         "hoverinfo": "none",
         "line": {
          "color": "black",
          "width": 1
         },
         "mode": "lines",
         "type": "scatter",
         "x": [
          -0.16196292478363153,
          -0.12995091004245085,
          null
         ],
         "y": [
          -0.039734685986759416,
          -0.1161752799205075,
          null
         ]
        },
        {
         "hoverinfo": "none",
         "line": {
          "color": "black",
          "width": 1
         },
         "mode": "lines",
         "type": "scatter",
         "x": [
          -0.16196292478363153,
          -0.15762361184257484,
          null
         ],
         "y": [
          -0.039734685986759416,
          -0.0854741469481486,
          null
         ]
        },
        {
         "hoverinfo": "none",
         "line": {
          "color": "black",
          "width": 1
         },
         "mode": "lines",
         "type": "scatter",
         "x": [
          -0.16196292478363153,
          -0.20638837514967256,
          null
         ],
         "y": [
          -0.039734685986759416,
          -0.11592444797903106,
          null
         ]
        },
        {
         "hoverinfo": "none",
         "line": {
          "color": "black",
          "width": 1
         },
         "mode": "lines",
         "type": "scatter",
         "x": [
          -0.16196292478363153,
          -0.1712941573783999,
          null
         ],
         "y": [
          -0.039734685986759416,
          -0.1256897200725001,
          null
         ]
        },
        {
         "hoverinfo": "none",
         "line": {
          "color": "black",
          "width": 1
         },
         "mode": "lines",
         "type": "scatter",
         "x": [
          -0.16196292478363153,
          -0.21931533142315696,
          null
         ],
         "y": [
          -0.039734685986759416,
          -0.005866855124669451,
          null
         ]
        },
        {
         "hoverinfo": "none",
         "line": {
          "color": "black",
          "width": 1
         },
         "mode": "lines",
         "type": "scatter",
         "x": [
          0.4945706997070675,
          0.52887225110112,
          null
         ],
         "y": [
          -0.5351098475560722,
          -0.5451985800024266,
          null
         ]
        },
        {
         "hoverinfo": "none",
         "line": {
          "color": "black",
          "width": 1
         },
         "mode": "lines",
         "type": "scatter",
         "x": [
          0.1906575573712177,
          0.21088872780756,
          null
         ],
         "y": [
          -0.11406795332916633,
          -0.10932075638350788,
          null
         ]
        },
        {
         "hoverinfo": "none",
         "line": {
          "color": "black",
          "width": 1
         },
         "mode": "lines",
         "type": "scatter",
         "x": [
          0.13450485224553288,
          0.14693591986373294,
          null
         ],
         "y": [
          -0.7566783023403979,
          -0.8209787008423097,
          null
         ]
        },
        {
         "hoverinfo": "none",
         "line": {
          "color": "black",
          "width": 1
         },
         "mode": "lines",
         "type": "scatter",
         "x": [
          0.13450485224553288,
          0.15923219458880716,
          null
         ],
         "y": [
          -0.7566783023403979,
          -0.7170548102411264,
          null
         ]
        },
        {
         "hoverinfo": "none",
         "line": {
          "color": "black",
          "width": 1
         },
         "mode": "lines",
         "type": "scatter",
         "x": [
          0.13450485224553288,
          0.09980314365512162,
          null
         ],
         "y": [
          -0.7566783023403979,
          -0.7266272673731174,
          null
         ]
        },
        {
         "hoverinfo": "none",
         "line": {
          "color": "black",
          "width": 1
         },
         "mode": "lines",
         "type": "scatter",
         "x": [
          -0.6872416806894234,
          -0.6560555937479022,
          null
         ],
         "y": [
          0.6212841107780145,
          0.5911849010469034,
          null
         ]
        },
        {
         "hoverinfo": "none",
         "line": {
          "color": "black",
          "width": 1
         },
         "mode": "lines",
         "type": "scatter",
         "x": [
          -0.7987972603326972,
          -0.8582036712458376,
          null
         ],
         "y": [
          -0.01104653729798675,
          -0.013856409861056133,
          null
         ]
        }
       ],
       "layout": {
        "autosize": true,
        "hovermode": "closest",
        "showlegend": false,
        "template": {
         "data": {
          "bar": [
           {
            "error_x": {
             "color": "#2a3f5f"
            },
            "error_y": {
             "color": "#2a3f5f"
            },
            "marker": {
             "line": {
              "color": "#E5ECF6",
              "width": 0.5
             },
             "pattern": {
              "fillmode": "overlay",
              "size": 10,
              "solidity": 0.2
             }
            },
            "type": "bar"
           }
          ],
          "barpolar": [
           {
            "marker": {
             "line": {
              "color": "#E5ECF6",
              "width": 0.5
             },
             "pattern": {
              "fillmode": "overlay",
              "size": 10,
              "solidity": 0.2
             }
            },
            "type": "barpolar"
           }
          ],
          "carpet": [
           {
            "aaxis": {
             "endlinecolor": "#2a3f5f",
             "gridcolor": "white",
             "linecolor": "white",
             "minorgridcolor": "white",
             "startlinecolor": "#2a3f5f"
            },
            "baxis": {
             "endlinecolor": "#2a3f5f",
             "gridcolor": "white",
             "linecolor": "white",
             "minorgridcolor": "white",
             "startlinecolor": "#2a3f5f"
            },
            "type": "carpet"
           }
          ],
          "choropleth": [
           {
            "colorbar": {
             "outlinewidth": 0,
             "ticks": ""
            },
            "type": "choropleth"
           }
          ],
          "contour": [
           {
            "colorbar": {
             "outlinewidth": 0,
             "ticks": ""
            },
            "colorscale": [
             [
              0,
              "#0d0887"
             ],
             [
              0.1111111111111111,
              "#46039f"
             ],
             [
              0.2222222222222222,
              "#7201a8"
             ],
             [
              0.3333333333333333,
              "#9c179e"
             ],
             [
              0.4444444444444444,
              "#bd3786"
             ],
             [
              0.5555555555555556,
              "#d8576b"
             ],
             [
              0.6666666666666666,
              "#ed7953"
             ],
             [
              0.7777777777777778,
              "#fb9f3a"
             ],
             [
              0.8888888888888888,
              "#fdca26"
             ],
             [
              1,
              "#f0f921"
             ]
            ],
            "type": "contour"
           }
          ],
          "contourcarpet": [
           {
            "colorbar": {
             "outlinewidth": 0,
             "ticks": ""
            },
            "type": "contourcarpet"
           }
          ],
          "heatmap": [
           {
            "colorbar": {
             "outlinewidth": 0,
             "ticks": ""
            },
            "colorscale": [
             [
              0,
              "#0d0887"
             ],
             [
              0.1111111111111111,
              "#46039f"
             ],
             [
              0.2222222222222222,
              "#7201a8"
             ],
             [
              0.3333333333333333,
              "#9c179e"
             ],
             [
              0.4444444444444444,
              "#bd3786"
             ],
             [
              0.5555555555555556,
              "#d8576b"
             ],
             [
              0.6666666666666666,
              "#ed7953"
             ],
             [
              0.7777777777777778,
              "#fb9f3a"
             ],
             [
              0.8888888888888888,
              "#fdca26"
             ],
             [
              1,
              "#f0f921"
             ]
            ],
            "type": "heatmap"
           }
          ],
          "heatmapgl": [
           {
            "colorbar": {
             "outlinewidth": 0,
             "ticks": ""
            },
            "colorscale": [
             [
              0,
              "#0d0887"
             ],
             [
              0.1111111111111111,
              "#46039f"
             ],
             [
              0.2222222222222222,
              "#7201a8"
             ],
             [
              0.3333333333333333,
              "#9c179e"
             ],
             [
              0.4444444444444444,
              "#bd3786"
             ],
             [
              0.5555555555555556,
              "#d8576b"
             ],
             [
              0.6666666666666666,
              "#ed7953"
             ],
             [
              0.7777777777777778,
              "#fb9f3a"
             ],
             [
              0.8888888888888888,
              "#fdca26"
             ],
             [
              1,
              "#f0f921"
             ]
            ],
            "type": "heatmapgl"
           }
          ],
          "histogram": [
           {
            "marker": {
             "pattern": {
              "fillmode": "overlay",
              "size": 10,
              "solidity": 0.2
             }
            },
            "type": "histogram"
           }
          ],
          "histogram2d": [
           {
            "colorbar": {
             "outlinewidth": 0,
             "ticks": ""
            },
            "colorscale": [
             [
              0,
              "#0d0887"
             ],
             [
              0.1111111111111111,
              "#46039f"
             ],
             [
              0.2222222222222222,
              "#7201a8"
             ],
             [
              0.3333333333333333,
              "#9c179e"
             ],
             [
              0.4444444444444444,
              "#bd3786"
             ],
             [
              0.5555555555555556,
              "#d8576b"
             ],
             [
              0.6666666666666666,
              "#ed7953"
             ],
             [
              0.7777777777777778,
              "#fb9f3a"
             ],
             [
              0.8888888888888888,
              "#fdca26"
             ],
             [
              1,
              "#f0f921"
             ]
            ],
            "type": "histogram2d"
           }
          ],
          "histogram2dcontour": [
           {
            "colorbar": {
             "outlinewidth": 0,
             "ticks": ""
            },
            "colorscale": [
             [
              0,
              "#0d0887"
             ],
             [
              0.1111111111111111,
              "#46039f"
             ],
             [
              0.2222222222222222,
              "#7201a8"
             ],
             [
              0.3333333333333333,
              "#9c179e"
             ],
             [
              0.4444444444444444,
              "#bd3786"
             ],
             [
              0.5555555555555556,
              "#d8576b"
             ],
             [
              0.6666666666666666,
              "#ed7953"
             ],
             [
              0.7777777777777778,
              "#fb9f3a"
             ],
             [
              0.8888888888888888,
              "#fdca26"
             ],
             [
              1,
              "#f0f921"
             ]
            ],
            "type": "histogram2dcontour"
           }
          ],
          "mesh3d": [
           {
            "colorbar": {
             "outlinewidth": 0,
             "ticks": ""
            },
            "type": "mesh3d"
           }
          ],
          "parcoords": [
           {
            "line": {
             "colorbar": {
              "outlinewidth": 0,
              "ticks": ""
             }
            },
            "type": "parcoords"
           }
          ],
          "pie": [
           {
            "automargin": true,
            "type": "pie"
           }
          ],
          "scatter": [
           {
            "fillpattern": {
             "fillmode": "overlay",
             "size": 10,
             "solidity": 0.2
            },
            "type": "scatter"
           }
          ],
          "scatter3d": [
           {
            "line": {
             "colorbar": {
              "outlinewidth": 0,
              "ticks": ""
             }
            },
            "marker": {
             "colorbar": {
              "outlinewidth": 0,
              "ticks": ""
             }
            },
            "type": "scatter3d"
           }
          ],
          "scattercarpet": [
           {
            "marker": {
             "colorbar": {
              "outlinewidth": 0,
              "ticks": ""
             }
            },
            "type": "scattercarpet"
           }
          ],
          "scattergeo": [
           {
            "marker": {
             "colorbar": {
              "outlinewidth": 0,
              "ticks": ""
             }
            },
            "type": "scattergeo"
           }
          ],
          "scattergl": [
           {
            "marker": {
             "colorbar": {
              "outlinewidth": 0,
              "ticks": ""
             }
            },
            "type": "scattergl"
           }
          ],
          "scattermapbox": [
           {
            "marker": {
             "colorbar": {
              "outlinewidth": 0,
              "ticks": ""
             }
            },
            "type": "scattermapbox"
           }
          ],
          "scatterpolar": [
           {
            "marker": {
             "colorbar": {
              "outlinewidth": 0,
              "ticks": ""
             }
            },
            "type": "scatterpolar"
           }
          ],
          "scatterpolargl": [
           {
            "marker": {
             "colorbar": {
              "outlinewidth": 0,
              "ticks": ""
             }
            },
            "type": "scatterpolargl"
           }
          ],
          "scatterternary": [
           {
            "marker": {
             "colorbar": {
              "outlinewidth": 0,
              "ticks": ""
             }
            },
            "type": "scatterternary"
           }
          ],
          "surface": [
           {
            "colorbar": {
             "outlinewidth": 0,
             "ticks": ""
            },
            "colorscale": [
             [
              0,
              "#0d0887"
             ],
             [
              0.1111111111111111,
              "#46039f"
             ],
             [
              0.2222222222222222,
              "#7201a8"
             ],
             [
              0.3333333333333333,
              "#9c179e"
             ],
             [
              0.4444444444444444,
              "#bd3786"
             ],
             [
              0.5555555555555556,
              "#d8576b"
             ],
             [
              0.6666666666666666,
              "#ed7953"
             ],
             [
              0.7777777777777778,
              "#fb9f3a"
             ],
             [
              0.8888888888888888,
              "#fdca26"
             ],
             [
              1,
              "#f0f921"
             ]
            ],
            "type": "surface"
           }
          ],
          "table": [
           {
            "cells": {
             "fill": {
              "color": "#EBF0F8"
             },
             "line": {
              "color": "white"
             }
            },
            "header": {
             "fill": {
              "color": "#C8D4E3"
             },
             "line": {
              "color": "white"
             }
            },
            "type": "table"
           }
          ]
         },
         "layout": {
          "annotationdefaults": {
           "arrowcolor": "#2a3f5f",
           "arrowhead": 0,
           "arrowwidth": 1
          },
          "autotypenumbers": "strict",
          "coloraxis": {
           "colorbar": {
            "outlinewidth": 0,
            "ticks": ""
           }
          },
          "colorscale": {
           "diverging": [
            [
             0,
             "#8e0152"
            ],
            [
             0.1,
             "#c51b7d"
            ],
            [
             0.2,
             "#de77ae"
            ],
            [
             0.3,
             "#f1b6da"
            ],
            [
             0.4,
             "#fde0ef"
            ],
            [
             0.5,
             "#f7f7f7"
            ],
            [
             0.6,
             "#e6f5d0"
            ],
            [
             0.7,
             "#b8e186"
            ],
            [
             0.8,
             "#7fbc41"
            ],
            [
             0.9,
             "#4d9221"
            ],
            [
             1,
             "#276419"
            ]
           ],
           "sequential": [
            [
             0,
             "#0d0887"
            ],
            [
             0.1111111111111111,
             "#46039f"
            ],
            [
             0.2222222222222222,
             "#7201a8"
            ],
            [
             0.3333333333333333,
             "#9c179e"
            ],
            [
             0.4444444444444444,
             "#bd3786"
            ],
            [
             0.5555555555555556,
             "#d8576b"
            ],
            [
             0.6666666666666666,
             "#ed7953"
            ],
            [
             0.7777777777777778,
             "#fb9f3a"
            ],
            [
             0.8888888888888888,
             "#fdca26"
            ],
            [
             1,
             "#f0f921"
            ]
           ],
           "sequentialminus": [
            [
             0,
             "#0d0887"
            ],
            [
             0.1111111111111111,
             "#46039f"
            ],
            [
             0.2222222222222222,
             "#7201a8"
            ],
            [
             0.3333333333333333,
             "#9c179e"
            ],
            [
             0.4444444444444444,
             "#bd3786"
            ],
            [
             0.5555555555555556,
             "#d8576b"
            ],
            [
             0.6666666666666666,
             "#ed7953"
            ],
            [
             0.7777777777777778,
             "#fb9f3a"
            ],
            [
             0.8888888888888888,
             "#fdca26"
            ],
            [
             1,
             "#f0f921"
            ]
           ]
          },
          "colorway": [
           "#636efa",
           "#EF553B",
           "#00cc96",
           "#ab63fa",
           "#FFA15A",
           "#19d3f3",
           "#FF6692",
           "#B6E880",
           "#FF97FF",
           "#FECB52"
          ],
          "font": {
           "color": "#2a3f5f"
          },
          "geo": {
           "bgcolor": "white",
           "lakecolor": "white",
           "landcolor": "#E5ECF6",
           "showlakes": true,
           "showland": true,
           "subunitcolor": "white"
          },
          "hoverlabel": {
           "align": "left"
          },
          "hovermode": "closest",
          "mapbox": {
           "style": "light"
          },
          "paper_bgcolor": "white",
          "plot_bgcolor": "#E5ECF6",
          "polar": {
           "angularaxis": {
            "gridcolor": "white",
            "linecolor": "white",
            "ticks": ""
           },
           "bgcolor": "#E5ECF6",
           "radialaxis": {
            "gridcolor": "white",
            "linecolor": "white",
            "ticks": ""
           }
          },
          "scene": {
           "xaxis": {
            "backgroundcolor": "#E5ECF6",
            "gridcolor": "white",
            "gridwidth": 2,
            "linecolor": "white",
            "showbackground": true,
            "ticks": "",
            "zerolinecolor": "white"
           },
           "yaxis": {
            "backgroundcolor": "#E5ECF6",
            "gridcolor": "white",
            "gridwidth": 2,
            "linecolor": "white",
            "showbackground": true,
            "ticks": "",
            "zerolinecolor": "white"
           },
           "zaxis": {
            "backgroundcolor": "#E5ECF6",
            "gridcolor": "white",
            "gridwidth": 2,
            "linecolor": "white",
            "showbackground": true,
            "ticks": "",
            "zerolinecolor": "white"
           }
          },
          "shapedefaults": {
           "line": {
            "color": "#2a3f5f"
           }
          },
          "ternary": {
           "aaxis": {
            "gridcolor": "white",
            "linecolor": "white",
            "ticks": ""
           },
           "baxis": {
            "gridcolor": "white",
            "linecolor": "white",
            "ticks": ""
           },
           "bgcolor": "#E5ECF6",
           "caxis": {
            "gridcolor": "white",
            "linecolor": "white",
            "ticks": ""
           }
          },
          "title": {
           "x": 0.05
          },
          "xaxis": {
           "automargin": true,
           "gridcolor": "white",
           "linecolor": "white",
           "ticks": "",
           "title": {
            "standoff": 15
           },
           "zerolinecolor": "white",
           "zerolinewidth": 2
          },
          "yaxis": {
           "automargin": true,
           "gridcolor": "white",
           "linecolor": "white",
           "ticks": "",
           "title": {
            "standoff": 15
           },
           "zerolinecolor": "white",
           "zerolinewidth": 2
          }
         }
        },
        "title": {
         "text": "Printers and Bookseller of Incunables Books of Hours"
        },
        "xaxis": {
         "autorange": true,
         "range": [
          -1.09318208056598,
          0.9727185307889682
         ],
         "type": "linear"
        },
        "yaxis": {
         "autorange": true,
         "range": [
          -1.0629235042821445,
          1.1909534654950087
         ],
         "type": "linear"
        }
       }
      },
      "image/png": "[encoded data removed]",
      "text/html": [
       "<div>                            <div id=\"270e8965-88d0-4771-8f2f-1a62815d25ca\" class=\"plotly-graph-div\" style=\"height:525px; width:100%;\"></div>            <script type=\"text/javascript\">                require([\"plotly\"], function(Plotly) {                    window.PLOTLYENV=window.PLOTLYENV || {};                                    if (document.getElementById(\"270e8965-88d0-4771-8f2f-1a62815d25ca\")) {                    Plotly.newPlot(                        \"270e8965-88d0-4771-8f2f-1a62815d25ca\",                        [{\"hoverinfo\":\"text\",\"marker\":{\"color\":\"skyblue\",\"size\":10},\"mode\":\"markers\",\"text\":\"Julian Notary, Jean Barbier und I. H.\",\"x\":[0.8523893592964603],\"y\":[-0.11237311775696501],\"type\":\"scatter\"},{\"hoverinfo\":\"text\",\"marker\":{\"color\":\"skyblue\",\"size\":10},\"mode\":\"markers\",\"text\":\"Wynkyn de Worde\",\"x\":[0.7792090689938204],\"y\":[-0.10800201204181767],\"type\":\"scatter\"},{\"hoverinfo\":\"text\",\"marker\":{\"color\":\"skyblue\",\"size\":10},\"mode\":\"markers\",\"text\":\"Nicolaus de Benedictis\",\"x\":[-0.08785183200395623],\"y\":[0.961982275586413],\"type\":\"scatter\"},{\"hoverinfo\":\"text\",\"marker\":{\"color\":\"skyblue\",\"size\":10},\"mode\":\"markers\",\"text\":\"Boninus de Boninis\",\"x\":[-0.11931471777360868],\"y\":[0.9623855906499961],\"type\":\"scatter\"},{\"hoverinfo\":\"text\",\"marker\":{\"color\":\"skyblue\",\"size\":10},\"mode\":\"markers\",\"text\":\"Jacobinus Suigus und Nicolaus de Benedictis\",\"x\":[-0.14591613344735888],\"y\":[1.0],\"type\":\"scatter\"},{\"hoverinfo\":\"text\",\"marker\":{\"color\":\"skyblue\",\"size\":10},\"mode\":\"markers\",\"text\":\"Martin von Amsterdam\",\"x\":[0.6656481367594784],\"y\":[0.4709356591569285],\"type\":\"scatter\"},{\"hoverinfo\":\"text\",\"marker\":{\"color\":\"skyblue\",\"size\":10},\"mode\":\"markers\",\"text\":\"Andreas Ihyracensis\",\"x\":[0.6963965453053762],\"y\":[0.4530160787640414],\"type\":\"scatter\"},{\"hoverinfo\":\"text\",\"marker\":{\"color\":\"skyblue\",\"size\":10},\"mode\":\"markers\",\"text\":\"Christian Preller\",\"x\":[-0.8126854456992423],\"y\":[0.3903370882481933],\"type\":\"scatter\"},{\"hoverinfo\":\"text\",\"marker\":{\"color\":\"skyblue\",\"size\":10},\"mode\":\"markers\",\"text\":\"Antoine Gontier\",\"x\":[-0.8472837226841338],\"y\":[0.38297628264110284],\"type\":\"scatter\"},{\"hoverinfo\":\"text\",\"marker\":{\"color\":\"skyblue\",\"size\":10},\"mode\":\"markers\",\"text\":\"Friedrich Peypus\",\"x\":[0.2876485915807303],\"y\":[0.8238824895326969],\"type\":\"scatter\"},{\"hoverinfo\":\"text\",\"marker\":{\"color\":\"skyblue\",\"size\":10},\"mode\":\"markers\",\"text\":\"Johann Koberger\",\"x\":[0.31465914096322595],\"y\":[0.8799247086741236],\"type\":\"scatter\"},{\"hoverinfo\":\"text\",\"marker\":{\"color\":\"skyblue\",\"size\":10},\"mode\":\"markers\",\"text\":\"Guillaume Anabat\",\"x\":[-0.9728529090734721],\"y\":[-0.28280672210658087],\"type\":\"scatter\"},{\"hoverinfo\":\"text\",\"marker\":{\"color\":\"skyblue\",\"size\":10},\"mode\":\"markers\",\"text\":\"Gilles und Germain Hardouyn\",\"x\":[-0.9441853372996893],\"y\":[-0.27575378053852984],\"type\":\"scatter\"},{\"hoverinfo\":\"text\",\"marker\":{\"color\":\"skyblue\",\"size\":10},\"mode\":\"markers\",\"text\":\"Andr\\u00e9 Bocard\",\"x\":[-0.052991530157687775],\"y\":[0.30255687299589507],\"type\":\"scatter\"},{\"hoverinfo\":\"text\",\"marker\":{\"color\":\"skyblue\",\"size\":10},\"mode\":\"markers\",\"text\":\"Antoine V\\u00e9rard(?)\",\"x\":[-0.006483833999752863],\"y\":[0.36725253844021427],\"type\":\"scatter\"},{\"hoverinfo\":\"text\",\"marker\":{\"color\":\"skyblue\",\"size\":10},\"mode\":\"markers\",\"text\":\"Andr\\u00e9 Bocard(?)\",\"x\":[-0.06694875189828725],\"y\":[0.3479133472596732],\"type\":\"scatter\"},{\"hoverinfo\":\"text\",\"marker\":{\"color\":\"skyblue\",\"size\":10},\"mode\":\"markers\",\"text\":\"Antoine V\\u00e9rard\",\"x\":[-0.08775727140148025],\"y\":[0.26631181458927883],\"type\":\"scatter\"},{\"hoverinfo\":\"text\",\"marker\":{\"color\":\"skyblue\",\"size\":10},\"mode\":\"markers\",\"text\":\"Antoine Caillaut\",\"x\":[-0.09916811291046948],\"y\":[0.2970808648903127],\"type\":\"scatter\"},{\"hoverinfo\":\"text\",\"marker\":{\"color\":\"skyblue\",\"size\":10},\"mode\":\"markers\",\"text\":\"Antoine Chappiel\",\"x\":[-0.592398234741294],\"y\":[-0.6923665885215706],\"type\":\"scatter\"},{\"hoverinfo\":\"text\",\"marker\":{\"color\":\"skyblue\",\"size\":10},\"mode\":\"markers\",\"text\":\"Germain Hardouyn\",\"x\":[-0.5485396646098896],\"y\":[-0.6500420158358864],\"type\":\"scatter\"},{\"hoverinfo\":\"text\",\"marker\":{\"color\":\"skyblue\",\"size\":10},\"mode\":\"markers\",\"text\":\"Jean Du Pr\\u00e9\",\"x\":[-0.12633723786635],\"y\":[0.28290422615609956],\"type\":\"scatter\"},{\"hoverinfo\":\"text\",\"marker\":{\"color\":\"skyblue\",\"size\":10},\"mode\":\"markers\",\"text\":\"Denis Meslier\",\"x\":[-0.19796892789334852],\"y\":[0.3175067883537227],\"type\":\"scatter\"},{\"hoverinfo\":\"text\",\"marker\":{\"color\":\"skyblue\",\"size\":10},\"mode\":\"markers\",\"text\":\"Ulrich Gering und Berthold Remboldt\",\"x\":[-0.24791721452325774],\"y\":[-0.0993145498510491],\"type\":\"scatter\"},{\"hoverinfo\":\"text\",\"marker\":{\"color\":\"skyblue\",\"size\":10},\"mode\":\"markers\",\"text\":\"Simon Vostre\",\"x\":[-0.17252957042773062],\"y\":[-0.04831308532533802],\"type\":\"scatter\"},{\"hoverinfo\":\"text\",\"marker\":{\"color\":\"skyblue\",\"size\":10},\"mode\":\"markers\",\"text\":\"Johann Higman\",\"x\":[-0.13084972193034486],\"y\":[-0.6430546637636475],\"type\":\"scatter\"},{\"hoverinfo\":\"text\",\"marker\":{\"color\":\"skyblue\",\"size\":10},\"mode\":\"markers\",\"text\":\"Willem Houtmaert in Antwerpen\",\"x\":[-0.1557250030276227],\"y\":[-0.6798883905110044],\"type\":\"scatter\"},{\"hoverinfo\":\"text\",\"marker\":{\"color\":\"skyblue\",\"size\":10},\"mode\":\"markers\",\"text\":\"Nicolas Higman\",\"x\":[-0.20497821608498928],\"y\":[-0.0808316711239252],\"type\":\"scatter\"},{\"hoverinfo\":\"text\",\"marker\":{\"color\":\"skyblue\",\"size\":10},\"mode\":\"markers\",\"text\":\"Etienne Jehannot\",\"x\":[-0.05569604148001072],\"y\":[0.18655599212227753],\"type\":\"scatter\"},{\"hoverinfo\":\"text\",\"marker\":{\"color\":\"skyblue\",\"size\":10},\"mode\":\"markers\",\"text\":\"Johannes de Campis in Cambrai\",\"x\":[0.029070111771450878],\"y\":[0.19077925516636618],\"type\":\"scatter\"},{\"hoverinfo\":\"text\",\"marker\":{\"color\":\"skyblue\",\"size\":10},\"mode\":\"markers\",\"text\":\"Pierre Regnault in Caen\",\"x\":[-0.09321301123994015],\"y\":[0.10129144797107731],\"type\":\"scatter\"},{\"hoverinfo\":\"text\",\"marker\":{\"color\":\"skyblue\",\"size\":10},\"mode\":\"markers\",\"text\":\"Jean Petit\",\"x\":[0.0203891474309241],\"y\":[0.22575367942476546],\"type\":\"scatter\"},{\"hoverinfo\":\"text\",\"marker\":{\"color\":\"skyblue\",\"size\":10},\"mode\":\"markers\",\"text\":\"Denis Roce\",\"x\":[-0.007039959976450998],\"y\":[0.19653475872080772],\"type\":\"scatter\"},{\"hoverinfo\":\"text\",\"marker\":{\"color\":\"skyblue\",\"size\":10},\"mode\":\"markers\",\"text\":\"die Br\\u00fcder de Marnef\",\"x\":[-0.09620097689357371],\"y\":[0.059909040988435386],\"type\":\"scatter\"},{\"hoverinfo\":\"text\",\"marker\":{\"color\":\"skyblue\",\"size\":10},\"mode\":\"markers\",\"text\":\"Pierre Pasquier\",\"x\":[0.014748685054467366],\"y\":[0.15827903292492848],\"type\":\"scatter\"},{\"hoverinfo\":\"text\",\"marker\":{\"color\":\"skyblue\",\"size\":10},\"mode\":\"markers\",\"text\":\"Jean Poitevin\",\"x\":[-0.031498861321180315],\"y\":[0.16046292762370687],\"type\":\"scatter\"},{\"hoverinfo\":\"text\",\"marker\":{\"color\":\"skyblue\",\"size\":10},\"mode\":\"markers\",\"text\":\"Gilles Hardouyn\",\"x\":[-0.013355873886738593],\"y\":[0.23615994944216553],\"type\":\"scatter\"},{\"hoverinfo\":\"text\",\"marker\":{\"color\":\"skyblue\",\"size\":10},\"mode\":\"markers\",\"text\":\"Jean Jehannot\",\"x\":[0.2930832553356206],\"y\":[-0.8719700387871356],\"type\":\"scatter\"},{\"hoverinfo\":\"text\",\"marker\":{\"color\":\"skyblue\",\"size\":10},\"mode\":\"markers\",\"text\":\"Nicolaus Lecomte\",\"x\":[0.31380277409512386],\"y\":[-0.8424369601958253],\"type\":\"scatter\"},{\"hoverinfo\":\"text\",\"marker\":{\"color\":\"skyblue\",\"size\":10},\"mode\":\"markers\",\"text\":\"Thielmann Kerver\",\"x\":[0.591340633277366],\"y\":[-0.0845007574454604],\"type\":\"scatter\"},{\"hoverinfo\":\"text\",\"marker\":{\"color\":\"skyblue\",\"size\":10},\"mode\":\"markers\",\"text\":\"Robert Mac\\u00e9 in Caen\",\"x\":[0.6633125028153365],\"y\":[-0.11362134672389437],\"type\":\"scatter\"},{\"hoverinfo\":\"text\",\"marker\":{\"color\":\"skyblue\",\"size\":10},\"mode\":\"markers\",\"text\":\"Gilles Remacle\",\"x\":[0.5739785743238821],\"y\":[-0.06453383266838704],\"type\":\"scatter\"},{\"hoverinfo\":\"text\",\"marker\":{\"color\":\"skyblue\",\"size\":10},\"mode\":\"markers\",\"text\":\"Hugues Pageot in Dijon\",\"x\":[0.6018708405970218],\"y\":[-0.019391786658390423],\"type\":\"scatter\"},{\"hoverinfo\":\"text\",\"marker\":{\"color\":\"skyblue\",\"size\":10},\"mode\":\"markers\",\"text\":\"Guillaume Eustace\",\"x\":[0.5645868860039804],\"y\":[-0.09555288142233478],\"type\":\"scatter\"},{\"hoverinfo\":\"text\",\"marker\":{\"color\":\"skyblue\",\"size\":10},\"mode\":\"markers\",\"text\":\"Jean Petit in Paris und Pierre Cochery in Le Mans\",\"x\":[0.5695160215237248],\"y\":[-0.13843931242167937],\"type\":\"scatter\"},{\"hoverinfo\":\"text\",\"marker\":{\"color\":\"skyblue\",\"size\":10},\"mode\":\"markers\",\"text\":\"Gauche Preta in Ch\\u00e2lons\",\"x\":[0.6604233218973153],\"y\":[-0.06472558075049206],\"type\":\"scatter\"},{\"hoverinfo\":\"text\",\"marker\":{\"color\":\"skyblue\",\"size\":10},\"mode\":\"markers\",\"text\":\"sich selbst, Gilles Remacle und Guillaume Eustace\",\"x\":[0.6405639748562948],\"y\":[-0.03304447930371658],\"type\":\"scatter\"},{\"hoverinfo\":\"text\",\"marker\":{\"color\":\"skyblue\",\"size\":10},\"mode\":\"markers\",\"text\":\"Pierre Le Dru und Etienne Jehannot\",\"x\":[-0.2544982948243329],\"y\":[-0.8520731094843562],\"type\":\"scatter\"},{\"hoverinfo\":\"text\",\"marker\":{\"color\":\"skyblue\",\"size\":10},\"mode\":\"markers\",\"text\":\"Robin Challot\",\"x\":[-0.2860495458254048],\"y\":[-0.8676879749543082],\"type\":\"scatter\"},{\"hoverinfo\":\"text\",\"marker\":{\"color\":\"skyblue\",\"size\":10},\"mode\":\"markers\",\"text\":\"Pierre Le Dru(?)\",\"x\":[0.013477538705116842],\"y\":[0.12405643760503829],\"type\":\"scatter\"},{\"hoverinfo\":\"text\",\"marker\":{\"color\":\"skyblue\",\"size\":10},\"mode\":\"markers\",\"text\":\"Guillaume Le Rouge\",\"x\":[-0.10105059181538523],\"y\":[0.34577675660165025],\"type\":\"scatter\"},{\"hoverinfo\":\"text\",\"marker\":{\"color\":\"skyblue\",\"size\":10},\"mode\":\"markers\",\"text\":\"Pierre Le Rouge(?)\",\"x\":[-0.11880969291510879],\"y\":[0.23982779275895127],\"type\":\"scatter\"},{\"hoverinfo\":\"text\",\"marker\":{\"color\":\"skyblue\",\"size\":10},\"mode\":\"markers\",\"text\":\"Pierre Le Rouge\",\"x\":[-0.0158925119275923],\"y\":[-0.7904224491943135],\"type\":\"scatter\"},{\"hoverinfo\":\"text\",\"marker\":{\"color\":\"skyblue\",\"size\":10},\"mode\":\"markers\",\"text\":\"Vincent Commin\",\"x\":[-0.04972976785533726],\"y\":[-0.7833453848916027],\"type\":\"scatter\"},{\"hoverinfo\":\"text\",\"marker\":{\"color\":\"skyblue\",\"size\":10},\"mode\":\"markers\",\"text\":\"Pierre Levet\",\"x\":[-0.1394879014802143],\"y\":[0.3265146014671464],\"type\":\"scatter\"},{\"hoverinfo\":\"text\",\"marker\":{\"color\":\"skyblue\",\"size\":10},\"mode\":\"markers\",\"text\":\"Guy Marchant\",\"x\":[-0.02800433973529084],\"y\":[0.333454702440112],\"type\":\"scatter\"},{\"hoverinfo\":\"text\",\"marker\":{\"color\":\"skyblue\",\"size\":10},\"mode\":\"markers\",\"text\":\"Jean Morand(?)\",\"x\":[-0.16115157706086375],\"y\":[0.25675189440760676],\"type\":\"scatter\"},{\"hoverinfo\":\"text\",\"marker\":{\"color\":\"skyblue\",\"size\":10},\"mode\":\"markers\",\"text\":\"Jean de Coulonces bzw. Robin Challot\",\"x\":[-0.23770585481721201],\"y\":[0.2575769033276952],\"type\":\"scatter\"},{\"hoverinfo\":\"text\",\"marker\":{\"color\":\"skyblue\",\"size\":10},\"mode\":\"markers\",\"text\":\"Jean Morand\",\"x\":[-0.15230401329759394],\"y\":[0.3968455335853309],\"type\":\"scatter\"},{\"hoverinfo\":\"text\",\"marker\":{\"color\":\"skyblue\",\"size\":10},\"mode\":\"markers\",\"text\":\"Geoffroi de Marnef\",\"x\":[-0.16953739267892337],\"y\":[0.4533740833707105],\"type\":\"scatter\"},{\"hoverinfo\":\"text\",\"marker\":{\"color\":\"skyblue\",\"size\":10},\"mode\":\"markers\",\"text\":\"Enguilbert de Marnef und Jean Alexandre\",\"x\":[-0.2071104696761714],\"y\":[0.4520705865762175],\"type\":\"scatter\"},{\"hoverinfo\":\"text\",\"marker\":{\"color\":\"skyblue\",\"size\":10},\"mode\":\"markers\",\"text\":\"Johann Philippi\",\"x\":[0.6143038307752582],\"y\":[-0.13896391098481062],\"type\":\"scatter\"},{\"hoverinfo\":\"text\",\"marker\":{\"color\":\"skyblue\",\"size\":10},\"mode\":\"markers\",\"text\":\"Thielmann Kerver in Paris und Jean Richard in Rouen\",\"x\":[0.665756585178197],\"y\":[-0.18591195697205098],\"type\":\"scatter\"},{\"hoverinfo\":\"text\",\"marker\":{\"color\":\"skyblue\",\"size\":10},\"mode\":\"markers\",\"text\":\"Jacques Bezanceau in Poitiers und Thielmann Kerver in Paris\",\"x\":[0.6293571348532481],\"y\":[-0.20439008286901397],\"type\":\"scatter\"},{\"hoverinfo\":\"text\",\"marker\":{\"color\":\"skyblue\",\"size\":10},\"mode\":\"markers\",\"text\":\"Philippe Pigouchet\",\"x\":[-0.16196292478363153],\"y\":[-0.039734685986759416],\"type\":\"scatter\"},{\"hoverinfo\":\"text\",\"marker\":{\"color\":\"skyblue\",\"size\":10},\"mode\":\"markers\",\"text\":\"Philippe Pigouchet z.T.\",\"x\":[-0.05691635104474618],\"y\":[0.015440953478221912],\"type\":\"scatter\"},{\"hoverinfo\":\"text\",\"marker\":{\"color\":\"skyblue\",\"size\":10},\"mode\":\"markers\",\"text\":\"sich selbst und die Br\\u00fcder de Marnef\",\"x\":[-0.23822519282931187],\"y\":[-0.06240643995047953],\"type\":\"scatter\"},{\"hoverinfo\":\"text\",\"marker\":{\"color\":\"skyblue\",\"size\":10},\"mode\":\"markers\",\"text\":\"Toussaint de Montjay\",\"x\":[-0.12321359252322411],\"y\":[-0.0658202113578905],\"type\":\"scatter\"},{\"hoverinfo\":\"text\",\"marker\":{\"color\":\"skyblue\",\"size\":10},\"mode\":\"markers\",\"text\":\"Jean Richard in Rouen\",\"x\":[-0.24257852420283516],\"y\":[-0.031380905640114864],\"type\":\"scatter\"},{\"hoverinfo\":\"text\",\"marker\":{\"color\":\"skyblue\",\"size\":10},\"mode\":\"markers\",\"text\":\"Jean Du Bois in Auxerre(?)\",\"x\":[-0.12995091004245085],\"y\":[-0.1161752799205075],\"type\":\"scatter\"},{\"hoverinfo\":\"text\",\"marker\":{\"color\":\"skyblue\",\"size\":10},\"mode\":\"markers\",\"text\":\"Mac\\u00e9 Panthoul in Troyes\",\"x\":[-0.15762361184257484],\"y\":[-0.0854741469481486],\"type\":\"scatter\"},{\"hoverinfo\":\"text\",\"marker\":{\"color\":\"skyblue\",\"size\":10},\"mode\":\"markers\",\"text\":\"Jean Magdalene in Metz\",\"x\":[-0.20638837514967256],\"y\":[-0.11592444797903106],\"type\":\"scatter\"},{\"hoverinfo\":\"text\",\"marker\":{\"color\":\"skyblue\",\"size\":10},\"mode\":\"markers\",\"text\":\"Jean Lagache in Arras\",\"x\":[-0.1712941573783999],\"y\":[-0.1256897200725001],\"type\":\"scatter\"},{\"hoverinfo\":\"text\",\"marker\":{\"color\":\"skyblue\",\"size\":10},\"mode\":\"markers\",\"text\":\"Narcisse Bruno\",\"x\":[-0.21931533142315696],\"y\":[-0.005866855124669451],\"type\":\"scatter\"},{\"hoverinfo\":\"text\",\"marker\":{\"color\":\"skyblue\",\"size\":10},\"mode\":\"markers\",\"text\":\"Georg Wolff und Thielmann Kerver\",\"x\":[-0.19707728087255758],\"y\":[0.523894922747307],\"type\":\"scatter\"},{\"hoverinfo\":\"text\",\"marker\":{\"color\":\"skyblue\",\"size\":10},\"mode\":\"markers\",\"text\":\"Jacques Le Forestier\",\"x\":[0.7228665185361337],\"y\":[-0.13857658920277194],\"type\":\"scatter\"},{\"hoverinfo\":\"text\",\"marker\":{\"color\":\"skyblue\",\"size\":10},\"mode\":\"markers\",\"text\":\"Peter Hagembach und Leonhard Hutz\",\"x\":[0.4945706997070675],\"y\":[-0.5351098475560722],\"type\":\"scatter\"},{\"hoverinfo\":\"text\",\"marker\":{\"color\":\"skyblue\",\"size\":10},\"mode\":\"markers\",\"text\":\"Jacobus de Villa\",\"x\":[0.52887225110112],\"y\":[-0.5451985800024266],\"type\":\"scatter\"},{\"hoverinfo\":\"text\",\"marker\":{\"color\":\"skyblue\",\"size\":10},\"mode\":\"markers\",\"text\":\"Johann Emerich\",\"x\":[0.1906575573712177],\"y\":[-0.11406795332916633],\"type\":\"scatter\"},{\"hoverinfo\":\"text\",\"marker\":{\"color\":\"skyblue\",\"size\":10},\"mode\":\"markers\",\"text\":\"Lucantonio Giunta\",\"x\":[0.21088872780756],\"y\":[-0.10932075638350788],\"type\":\"scatter\"},{\"hoverinfo\":\"text\",\"marker\":{\"color\":\"skyblue\",\"size\":10},\"mode\":\"markers\",\"text\":\"Johann Hamann\",\"x\":[0.13450485224553288],\"y\":[-0.7566783023403979],\"type\":\"scatter\"},{\"hoverinfo\":\"text\",\"marker\":{\"color\":\"skyblue\",\"size\":10},\"mode\":\"markers\",\"text\":\"Gerard Barrevelt und Frederick Egmondt\",\"x\":[0.14693591986373294],\"y\":[-0.8209787008423097],\"type\":\"scatter\"},{\"hoverinfo\":\"text\",\"marker\":{\"color\":\"skyblue\",\"size\":10},\"mode\":\"markers\",\"text\":\"Johann Volkarth\",\"x\":[0.15923219458880716],\"y\":[-0.7170548102411264],\"type\":\"scatter\"},{\"hoverinfo\":\"text\",\"marker\":{\"color\":\"skyblue\",\"size\":10},\"mode\":\"markers\",\"text\":\"Octavianus Scotus\",\"x\":[0.09980314365512162],\"y\":[-0.7266272673731174],\"type\":\"scatter\"},{\"hoverinfo\":\"text\",\"marker\":{\"color\":\"skyblue\",\"size\":10},\"mode\":\"markers\",\"text\":\"Nicolas Jenson\",\"x\":[-0.6872416806894234],\"y\":[0.6212841107780145],\"type\":\"scatter\"},{\"hoverinfo\":\"text\",\"marker\":{\"color\":\"skyblue\",\"size\":10},\"mode\":\"markers\",\"text\":\"? Raphael Zovenzonius\",\"x\":[-0.6560555937479022],\"y\":[0.5911849010469034],\"type\":\"scatter\"},{\"hoverinfo\":\"text\",\"marker\":{\"color\":\"skyblue\",\"size\":10},\"mode\":\"markers\",\"text\":\"Andreas Torresanus\",\"x\":[-0.7987972603326972],\"y\":[-0.01104653729798675],\"type\":\"scatter\"},{\"hoverinfo\":\"text\",\"marker\":{\"color\":\"skyblue\",\"size\":10},\"mode\":\"markers\",\"text\":\"Johann von K\\u00f6ln, Nicolas Jenson und Genossen\",\"x\":[-0.8582036712458376],\"y\":[-0.013856409861056133],\"type\":\"scatter\"},{\"hoverinfo\":\"none\",\"line\":{\"color\":\"black\",\"width\":1},\"mode\":\"lines\",\"x\":[0.8523893592964603,0.7792090689938204,null],\"y\":[-0.11237311775696501,-0.10800201204181767,null],\"type\":\"scatter\"},{\"hoverinfo\":\"none\",\"line\":{\"color\":\"black\",\"width\":1},\"mode\":\"lines\",\"x\":[-0.08785183200395623,-0.11931471777360868,null],\"y\":[0.961982275586413,0.9623855906499961,null],\"type\":\"scatter\"},{\"hoverinfo\":\"none\",\"line\":{\"color\":\"black\",\"width\":1},\"mode\":\"lines\",\"x\":[-0.11931471777360868,-0.14591613344735888,null],\"y\":[0.9623855906499961,1.0,null],\"type\":\"scatter\"},{\"hoverinfo\":\"none\",\"line\":{\"color\":\"black\",\"width\":1},\"mode\":\"lines\",\"x\":[0.6656481367594784,0.6963965453053762,null],\"y\":[0.4709356591569285,0.4530160787640414,null],\"type\":\"scatter\"},{\"hoverinfo\":\"none\",\"line\":{\"color\":\"black\",\"width\":1},\"mode\":\"lines\",\"x\":[-0.8126854456992423,-0.8472837226841338,null],\"y\":[0.3903370882481933,0.38297628264110284,null],\"type\":\"scatter\"},{\"hoverinfo\":\"none\",\"line\":{\"color\":\"black\",\"width\":1},\"mode\":\"lines\",\"x\":[0.2876485915807303,0.31465914096322595,null],\"y\":[0.8238824895326969,0.8799247086741236,null],\"type\":\"scatter\"},{\"hoverinfo\":\"none\",\"line\":{\"color\":\"black\",\"width\":1},\"mode\":\"lines\",\"x\":[-0.9728529090734721,-0.9441853372996893,null],\"y\":[-0.28280672210658087,-0.27575378053852984,null],\"type\":\"scatter\"},{\"hoverinfo\":\"none\",\"line\":{\"color\":\"black\",\"width\":1},\"mode\":\"lines\",\"x\":[-0.052991530157687775,-0.006483833999752863,null],\"y\":[0.30255687299589507,0.36725253844021427,null],\"type\":\"scatter\"},{\"hoverinfo\":\"none\",\"line\":{\"color\":\"black\",\"width\":1},\"mode\":\"lines\",\"x\":[-0.052991530157687775,-0.08775727140148025,null],\"y\":[0.30255687299589507,0.26631181458927883,null],\"type\":\"scatter\"},{\"hoverinfo\":\"none\",\"line\":{\"color\":\"black\",\"width\":1},\"mode\":\"lines\",\"x\":[-0.006483833999752863,-0.02800433973529084,null],\"y\":[0.36725253844021427,0.333454702440112,null],\"type\":\"scatter\"},{\"hoverinfo\":\"none\",\"line\":{\"color\":\"black\",\"width\":1},\"mode\":\"lines\",\"x\":[-0.06694875189828725,-0.08775727140148025,null],\"y\":[0.3479133472596732,0.26631181458927883,null],\"type\":\"scatter\"},{\"hoverinfo\":\"none\",\"line\":{\"color\":\"black\",\"width\":1},\"mode\":\"lines\",\"x\":[-0.08775727140148025,-0.09916811291046948,null],\"y\":[0.26631181458927883,0.2970808648903127,null],\"type\":\"scatter\"},{\"hoverinfo\":\"none\",\"line\":{\"color\":\"black\",\"width\":1},\"mode\":\"lines\",\"x\":[-0.08775727140148025,-0.12633723786635,null],\"y\":[0.26631181458927883,0.28290422615609956,null],\"type\":\"scatter\"},{\"hoverinfo\":\"none\",\"line\":{\"color\":\"black\",\"width\":1},\"mode\":\"lines\",\"x\":[-0.08775727140148025,-0.05569604148001072,null],\"y\":[0.26631181458927883,0.18655599212227753,null],\"type\":\"scatter\"},{\"hoverinfo\":\"none\",\"line\":{\"color\":\"black\",\"width\":1},\"mode\":\"lines\",\"x\":[-0.08775727140148025,-0.10105059181538523,null],\"y\":[0.26631181458927883,0.34577675660165025,null],\"type\":\"scatter\"},{\"hoverinfo\":\"none\",\"line\":{\"color\":\"black\",\"width\":1},\"mode\":\"lines\",\"x\":[-0.08775727140148025,-0.11880969291510879,null],\"y\":[0.26631181458927883,0.23982779275895127,null],\"type\":\"scatter\"},{\"hoverinfo\":\"none\",\"line\":{\"color\":\"black\",\"width\":1},\"mode\":\"lines\",\"x\":[-0.08775727140148025,-0.1394879014802143,null],\"y\":[0.26631181458927883,0.3265146014671464,null],\"type\":\"scatter\"},{\"hoverinfo\":\"none\",\"line\":{\"color\":\"black\",\"width\":1},\"mode\":\"lines\",\"x\":[-0.08775727140148025,-0.02800433973529084,null],\"y\":[0.26631181458927883,0.333454702440112,null],\"type\":\"scatter\"},{\"hoverinfo\":\"none\",\"line\":{\"color\":\"black\",\"width\":1},\"mode\":\"lines\",\"x\":[-0.08775727140148025,-0.16115157706086375,null],\"y\":[0.26631181458927883,0.25675189440760676,null],\"type\":\"scatter\"},{\"hoverinfo\":\"none\",\"line\":{\"color\":\"black\",\"width\":1},\"mode\":\"lines\",\"x\":[-0.08775727140148025,-0.15230401329759394,null],\"y\":[0.26631181458927883,0.3968455335853309,null],\"type\":\"scatter\"},{\"hoverinfo\":\"none\",\"line\":{\"color\":\"black\",\"width\":1},\"mode\":\"lines\",\"x\":[-0.09916811291046948,-0.12633723786635,null],\"y\":[0.2970808648903127,0.28290422615609956,null],\"type\":\"scatter\"},{\"hoverinfo\":\"none\",\"line\":{\"color\":\"black\",\"width\":1},\"mode\":\"lines\",\"x\":[-0.592398234741294,-0.5485396646098896,null],\"y\":[-0.6923665885215706,-0.6500420158358864,null],\"type\":\"scatter\"},{\"hoverinfo\":\"none\",\"line\":{\"color\":\"black\",\"width\":1},\"mode\":\"lines\",\"x\":[-0.12633723786635,-0.19796892789334852,null],\"y\":[0.28290422615609956,0.3175067883537227,null],\"type\":\"scatter\"},{\"hoverinfo\":\"none\",\"line\":{\"color\":\"black\",\"width\":1},\"mode\":\"lines\",\"x\":[-0.24791721452325774,-0.17252957042773062,null],\"y\":[-0.0993145498510491,-0.04831308532533802,null],\"type\":\"scatter\"},{\"hoverinfo\":\"none\",\"line\":{\"color\":\"black\",\"width\":1},\"mode\":\"lines\",\"x\":[-0.17252957042773062,-0.20497821608498928,null],\"y\":[-0.04831308532533802,-0.0808316711239252,null],\"type\":\"scatter\"},{\"hoverinfo\":\"none\",\"line\":{\"color\":\"black\",\"width\":1},\"mode\":\"lines\",\"x\":[-0.17252957042773062,-0.16196292478363153,null],\"y\":[-0.04831308532533802,-0.039734685986759416,null],\"type\":\"scatter\"},{\"hoverinfo\":\"none\",\"line\":{\"color\":\"black\",\"width\":1},\"mode\":\"lines\",\"x\":[-0.13084972193034486,-0.1557250030276227,null],\"y\":[-0.6430546637636475,-0.6798883905110044,null],\"type\":\"scatter\"},{\"hoverinfo\":\"none\",\"line\":{\"color\":\"black\",\"width\":1},\"mode\":\"lines\",\"x\":[-0.05569604148001072,0.029070111771450878,null],\"y\":[0.18655599212227753,0.19077925516636618,null],\"type\":\"scatter\"},{\"hoverinfo\":\"none\",\"line\":{\"color\":\"black\",\"width\":1},\"mode\":\"lines\",\"x\":[-0.05569604148001072,-0.09321301123994015,null],\"y\":[0.18655599212227753,0.10129144797107731,null],\"type\":\"scatter\"},{\"hoverinfo\":\"none\",\"line\":{\"color\":\"black\",\"width\":1},\"mode\":\"lines\",\"x\":[-0.05569604148001072,0.0203891474309241,null],\"y\":[0.18655599212227753,0.22575367942476546,null],\"type\":\"scatter\"},{\"hoverinfo\":\"none\",\"line\":{\"color\":\"black\",\"width\":1},\"mode\":\"lines\",\"x\":[-0.05569604148001072,-0.007039959976450998,null],\"y\":[0.18655599212227753,0.19653475872080772,null],\"type\":\"scatter\"},{\"hoverinfo\":\"none\",\"line\":{\"color\":\"black\",\"width\":1},\"mode\":\"lines\",\"x\":[-0.05569604148001072,-0.09620097689357371,null],\"y\":[0.18655599212227753,0.059909040988435386,null],\"type\":\"scatter\"},{\"hoverinfo\":\"none\",\"line\":{\"color\":\"black\",\"width\":1},\"mode\":\"lines\",\"x\":[-0.05569604148001072,0.014748685054467366,null],\"y\":[0.18655599212227753,0.15827903292492848,null],\"type\":\"scatter\"},{\"hoverinfo\":\"none\",\"line\":{\"color\":\"black\",\"width\":1},\"mode\":\"lines\",\"x\":[-0.05569604148001072,-0.031498861321180315,null],\"y\":[0.18655599212227753,0.16046292762370687,null],\"type\":\"scatter\"},{\"hoverinfo\":\"none\",\"line\":{\"color\":\"black\",\"width\":1},\"mode\":\"lines\",\"x\":[-0.05569604148001072,-0.013355873886738593,null],\"y\":[0.18655599212227753,0.23615994944216553,null],\"type\":\"scatter\"},{\"hoverinfo\":\"none\",\"line\":{\"color\":\"black\",\"width\":1},\"mode\":\"lines\",\"x\":[-0.09321301123994015,-0.16196292478363153,null],\"y\":[0.10129144797107731,-0.039734685986759416,null],\"type\":\"scatter\"},{\"hoverinfo\":\"none\",\"line\":{\"color\":\"black\",\"width\":1},\"mode\":\"lines\",\"x\":[-0.09620097689357371,-0.16196292478363153,null],\"y\":[0.059909040988435386,-0.039734685986759416,null],\"type\":\"scatter\"},{\"hoverinfo\":\"none\",\"line\":{\"color\":\"black\",\"width\":1},\"mode\":\"lines\",\"x\":[-0.09620097689357371,-0.05691635104474618,null],\"y\":[0.059909040988435386,0.015440953478221912,null],\"type\":\"scatter\"},{\"hoverinfo\":\"none\",\"line\":{\"color\":\"black\",\"width\":1},\"mode\":\"lines\",\"x\":[-0.031498861321180315,0.013477538705116842,null],\"y\":[0.16046292762370687,0.12405643760503829,null],\"type\":\"scatter\"},{\"hoverinfo\":\"none\",\"line\":{\"color\":\"black\",\"width\":1},\"mode\":\"lines\",\"x\":[0.2930832553356206,0.31380277409512386,null],\"y\":[-0.8719700387871356,-0.8424369601958253,null],\"type\":\"scatter\"},{\"hoverinfo\":\"none\",\"line\":{\"color\":\"black\",\"width\":1},\"mode\":\"lines\",\"x\":[0.591340633277366,0.6633125028153365,null],\"y\":[-0.0845007574454604,-0.11362134672389437,null],\"type\":\"scatter\"},{\"hoverinfo\":\"none\",\"line\":{\"color\":\"black\",\"width\":1},\"mode\":\"lines\",\"x\":[0.591340633277366,0.5739785743238821,null],\"y\":[-0.0845007574454604,-0.06453383266838704,null],\"type\":\"scatter\"},{\"hoverinfo\":\"none\",\"line\":{\"color\":\"black\",\"width\":1},\"mode\":\"lines\",\"x\":[0.591340633277366,0.6018708405970218,null],\"y\":[-0.0845007574454604,-0.019391786658390423,null],\"type\":\"scatter\"},{\"hoverinfo\":\"none\",\"line\":{\"color\":\"black\",\"width\":1},\"mode\":\"lines\",\"x\":[0.591340633277366,0.5645868860039804,null],\"y\":[-0.0845007574454604,-0.09555288142233478,null],\"type\":\"scatter\"},{\"hoverinfo\":\"none\",\"line\":{\"color\":\"black\",\"width\":1},\"mode\":\"lines\",\"x\":[0.591340633277366,0.5695160215237248,null],\"y\":[-0.0845007574454604,-0.13843931242167937,null],\"type\":\"scatter\"},{\"hoverinfo\":\"none\",\"line\":{\"color\":\"black\",\"width\":1},\"mode\":\"lines\",\"x\":[0.591340633277366,0.6604233218973153,null],\"y\":[-0.0845007574454604,-0.06472558075049206,null],\"type\":\"scatter\"},{\"hoverinfo\":\"none\",\"line\":{\"color\":\"black\",\"width\":1},\"mode\":\"lines\",\"x\":[0.591340633277366,0.6405639748562948,null],\"y\":[-0.0845007574454604,-0.03304447930371658,null],\"type\":\"scatter\"},{\"hoverinfo\":\"none\",\"line\":{\"color\":\"black\",\"width\":1},\"mode\":\"lines\",\"x\":[0.591340633277366,0.6143038307752582,null],\"y\":[-0.0845007574454604,-0.13896391098481062,null],\"type\":\"scatter\"},{\"hoverinfo\":\"none\",\"line\":{\"color\":\"black\",\"width\":1},\"mode\":\"lines\",\"x\":[0.6633125028153365,0.7228665185361337,null],\"y\":[-0.11362134672389437,-0.13857658920277194,null],\"type\":\"scatter\"},{\"hoverinfo\":\"none\",\"line\":{\"color\":\"black\",\"width\":1},\"mode\":\"lines\",\"x\":[-0.2544982948243329,-0.2860495458254048,null],\"y\":[-0.8520731094843562,-0.8676879749543082,null],\"type\":\"scatter\"},{\"hoverinfo\":\"none\",\"line\":{\"color\":\"black\",\"width\":1},\"mode\":\"lines\",\"x\":[-0.0158925119275923,-0.04972976785533726,null],\"y\":[-0.7904224491943135,-0.7833453848916027,null],\"type\":\"scatter\"},{\"hoverinfo\":\"none\",\"line\":{\"color\":\"black\",\"width\":1},\"mode\":\"lines\",\"x\":[-0.16115157706086375,-0.23770585481721201,null],\"y\":[0.25675189440760676,0.2575769033276952,null],\"type\":\"scatter\"},{\"hoverinfo\":\"none\",\"line\":{\"color\":\"black\",\"width\":1},\"mode\":\"lines\",\"x\":[-0.15230401329759394,-0.16953739267892337,null],\"y\":[0.3968455335853309,0.4533740833707105,null],\"type\":\"scatter\"},{\"hoverinfo\":\"none\",\"line\":{\"color\":\"black\",\"width\":1},\"mode\":\"lines\",\"x\":[-0.15230401329759394,-0.2071104696761714,null],\"y\":[0.3968455335853309,0.4520705865762175,null],\"type\":\"scatter\"},{\"hoverinfo\":\"none\",\"line\":{\"color\":\"black\",\"width\":1},\"mode\":\"lines\",\"x\":[-0.16953739267892337,-0.19707728087255758,null],\"y\":[0.4533740833707105,0.523894922747307,null],\"type\":\"scatter\"},{\"hoverinfo\":\"none\",\"line\":{\"color\":\"black\",\"width\":1},\"mode\":\"lines\",\"x\":[0.6143038307752582,0.665756585178197,null],\"y\":[-0.13896391098481062,-0.18591195697205098,null],\"type\":\"scatter\"},{\"hoverinfo\":\"none\",\"line\":{\"color\":\"black\",\"width\":1},\"mode\":\"lines\",\"x\":[0.6143038307752582,0.6293571348532481,null],\"y\":[-0.13896391098481062,-0.20439008286901397,null],\"type\":\"scatter\"},{\"hoverinfo\":\"none\",\"line\":{\"color\":\"black\",\"width\":1},\"mode\":\"lines\",\"x\":[-0.16196292478363153,-0.23822519282931187,null],\"y\":[-0.039734685986759416,-0.06240643995047953,null],\"type\":\"scatter\"},{\"hoverinfo\":\"none\",\"line\":{\"color\":\"black\",\"width\":1},\"mode\":\"lines\",\"x\":[-0.16196292478363153,-0.12321359252322411,null],\"y\":[-0.039734685986759416,-0.0658202113578905,null],\"type\":\"scatter\"},{\"hoverinfo\":\"none\",\"line\":{\"color\":\"black\",\"width\":1},\"mode\":\"lines\",\"x\":[-0.16196292478363153,-0.24257852420283516,null],\"y\":[-0.039734685986759416,-0.031380905640114864,null],\"type\":\"scatter\"},{\"hoverinfo\":\"none\",\"line\":{\"color\":\"black\",\"width\":1},\"mode\":\"lines\",\"x\":[-0.16196292478363153,-0.12995091004245085,null],\"y\":[-0.039734685986759416,-0.1161752799205075,null],\"type\":\"scatter\"},{\"hoverinfo\":\"none\",\"line\":{\"color\":\"black\",\"width\":1},\"mode\":\"lines\",\"x\":[-0.16196292478363153,-0.15762361184257484,null],\"y\":[-0.039734685986759416,-0.0854741469481486,null],\"type\":\"scatter\"},{\"hoverinfo\":\"none\",\"line\":{\"color\":\"black\",\"width\":1},\"mode\":\"lines\",\"x\":[-0.16196292478363153,-0.20638837514967256,null],\"y\":[-0.039734685986759416,-0.11592444797903106,null],\"type\":\"scatter\"},{\"hoverinfo\":\"none\",\"line\":{\"color\":\"black\",\"width\":1},\"mode\":\"lines\",\"x\":[-0.16196292478363153,-0.1712941573783999,null],\"y\":[-0.039734685986759416,-0.1256897200725001,null],\"type\":\"scatter\"},{\"hoverinfo\":\"none\",\"line\":{\"color\":\"black\",\"width\":1},\"mode\":\"lines\",\"x\":[-0.16196292478363153,-0.21931533142315696,null],\"y\":[-0.039734685986759416,-0.005866855124669451,null],\"type\":\"scatter\"},{\"hoverinfo\":\"none\",\"line\":{\"color\":\"black\",\"width\":1},\"mode\":\"lines\",\"x\":[0.4945706997070675,0.52887225110112,null],\"y\":[-0.5351098475560722,-0.5451985800024266,null],\"type\":\"scatter\"},{\"hoverinfo\":\"none\",\"line\":{\"color\":\"black\",\"width\":1},\"mode\":\"lines\",\"x\":[0.1906575573712177,0.21088872780756,null],\"y\":[-0.11406795332916633,-0.10932075638350788,null],\"type\":\"scatter\"},{\"hoverinfo\":\"none\",\"line\":{\"color\":\"black\",\"width\":1},\"mode\":\"lines\",\"x\":[0.13450485224553288,0.14693591986373294,null],\"y\":[-0.7566783023403979,-0.8209787008423097,null],\"type\":\"scatter\"},{\"hoverinfo\":\"none\",\"line\":{\"color\":\"black\",\"width\":1},\"mode\":\"lines\",\"x\":[0.13450485224553288,0.15923219458880716,null],\"y\":[-0.7566783023403979,-0.7170548102411264,null],\"type\":\"scatter\"},{\"hoverinfo\":\"none\",\"line\":{\"color\":\"black\",\"width\":1},\"mode\":\"lines\",\"x\":[0.13450485224553288,0.09980314365512162,null],\"y\":[-0.7566783023403979,-0.7266272673731174,null],\"type\":\"scatter\"},{\"hoverinfo\":\"none\",\"line\":{\"color\":\"black\",\"width\":1},\"mode\":\"lines\",\"x\":[-0.6872416806894234,-0.6560555937479022,null],\"y\":[0.6212841107780145,0.5911849010469034,null],\"type\":\"scatter\"},{\"hoverinfo\":\"none\",\"line\":{\"color\":\"black\",\"width\":1},\"mode\":\"lines\",\"x\":[-0.7987972603326972,-0.8582036712458376,null],\"y\":[-0.01104653729798675,-0.013856409861056133,null],\"type\":\"scatter\"}],                        {\"template\":{\"data\":{\"histogram2dcontour\":[{\"type\":\"histogram2dcontour\",\"colorbar\":{\"outlinewidth\":0,\"ticks\":\"\"},\"colorscale\":[[0.0,\"#0d0887\"],[0.1111111111111111,\"#46039f\"],[0.2222222222222222,\"#7201a8\"],[0.3333333333333333,\"#9c179e\"],[0.4444444444444444,\"#bd3786\"],[0.5555555555555556,\"#d8576b\"],[0.6666666666666666,\"#ed7953\"],[0.7777777777777778,\"#fb9f3a\"],[0.8888888888888888,\"#fdca26\"],[1.0,\"#f0f921\"]]}],\"choropleth\":[{\"type\":\"choropleth\",\"colorbar\":{\"outlinewidth\":0,\"ticks\":\"\"}}],\"histogram2d\":[{\"type\":\"histogram2d\",\"colorbar\":{\"outlinewidth\":0,\"ticks\":\"\"},\"colorscale\":[[0.0,\"#0d0887\"],[0.1111111111111111,\"#46039f\"],[0.2222222222222222,\"#7201a8\"],[0.3333333333333333,\"#9c179e\"],[0.4444444444444444,\"#bd3786\"],[0.5555555555555556,\"#d8576b\"],[0.6666666666666666,\"#ed7953\"],[0.7777777777777778,\"#fb9f3a\"],[0.8888888888888888,\"#fdca26\"],[1.0,\"#f0f921\"]]}],\"heatmap\":[{\"type\":\"heatmap\",\"colorbar\":{\"outlinewidth\":0,\"ticks\":\"\"},\"colorscale\":[[0.0,\"#0d0887\"],[0.1111111111111111,\"#46039f\"],[0.2222222222222222,\"#7201a8\"],[0.3333333333333333,\"#9c179e\"],[0.4444444444444444,\"#bd3786\"],[0.5555555555555556,\"#d8576b\"],[0.6666666666666666,\"#ed7953\"],[0.7777777777777778,\"#fb9f3a\"],[0.8888888888888888,\"#fdca26\"],[1.0,\"#f0f921\"]]}],\"heatmapgl\":[{\"type\":\"heatmapgl\",\"colorbar\":{\"outlinewidth\":0,\"ticks\":\"\"},\"colorscale\":[[0.0,\"#0d0887\"],[0.1111111111111111,\"#46039f\"],[0.2222222222222222,\"#7201a8\"],[0.3333333333333333,\"#9c179e\"],[0.4444444444444444,\"#bd3786\"],[0.5555555555555556,\"#d8576b\"],[0.6666666666666666,\"#ed7953\"],[0.7777777777777778,\"#fb9f3a\"],[0.8888888888888888,\"#fdca26\"],[1.0,\"#f0f921\"]]}],\"contourcarpet\":[{\"type\":\"contourcarpet\",\"colorbar\":{\"outlinewidth\":0,\"ticks\":\"\"}}],\"contour\":[{\"type\":\"contour\",\"colorbar\":{\"outlinewidth\":0,\"ticks\":\"\"},\"colorscale\":[[0.0,\"#0d0887\"],[0.1111111111111111,\"#46039f\"],[0.2222222222222222,\"#7201a8\"],[0.3333333333333333,\"#9c179e\"],[0.4444444444444444,\"#bd3786\"],[0.5555555555555556,\"#d8576b\"],[0.6666666666666666,\"#ed7953\"],[0.7777777777777778,\"#fb9f3a\"],[0.8888888888888888,\"#fdca26\"],[1.0,\"#f0f921\"]]}],\"surface\":[{\"type\":\"surface\",\"colorbar\":{\"outlinewidth\":0,\"ticks\":\"\"},\"colorscale\":[[0.0,\"#0d0887\"],[0.1111111111111111,\"#46039f\"],[0.2222222222222222,\"#7201a8\"],[0.3333333333333333,\"#9c179e\"],[0.4444444444444444,\"#bd3786\"],[0.5555555555555556,\"#d8576b\"],[0.6666666666666666,\"#ed7953\"],[0.7777777777777778,\"#fb9f3a\"],[0.8888888888888888,\"#fdca26\"],[1.0,\"#f0f921\"]]}],\"mesh3d\":[{\"type\":\"mesh3d\",\"colorbar\":{\"outlinewidth\":0,\"ticks\":\"\"}}],\"scatter\":[{\"fillpattern\":{\"fillmode\":\"overlay\",\"size\":10,\"solidity\":0.2},\"type\":\"scatter\"}],\"parcoords\":[{\"type\":\"parcoords\",\"line\":{\"colorbar\":{\"outlinewidth\":0,\"ticks\":\"\"}}}],\"scatterpolargl\":[{\"type\":\"scatterpolargl\",\"marker\":{\"colorbar\":{\"outlinewidth\":0,\"ticks\":\"\"}}}],\"bar\":[{\"error_x\":{\"color\":\"#2a3f5f\"},\"error_y\":{\"color\":\"#2a3f5f\"},\"marker\":{\"line\":{\"color\":\"#E5ECF6\",\"width\":0.5},\"pattern\":{\"fillmode\":\"overlay\",\"size\":10,\"solidity\":0.2}},\"type\":\"bar\"}],\"scattergeo\":[{\"type\":\"scattergeo\",\"marker\":{\"colorbar\":{\"outlinewidth\":0,\"ticks\":\"\"}}}],\"scatterpolar\":[{\"type\":\"scatterpolar\",\"marker\":{\"colorbar\":{\"outlinewidth\":0,\"ticks\":\"\"}}}],\"histogram\":[{\"marker\":{\"pattern\":{\"fillmode\":\"overlay\",\"size\":10,\"solidity\":0.2}},\"type\":\"histogram\"}],\"scattergl\":[{\"type\":\"scattergl\",\"marker\":{\"colorbar\":{\"outlinewidth\":0,\"ticks\":\"\"}}}],\"scatter3d\":[{\"type\":\"scatter3d\",\"line\":{\"colorbar\":{\"outlinewidth\":0,\"ticks\":\"\"}},\"marker\":{\"colorbar\":{\"outlinewidth\":0,\"ticks\":\"\"}}}],\"scattermapbox\":[{\"type\":\"scattermapbox\",\"marker\":{\"colorbar\":{\"outlinewidth\":0,\"ticks\":\"\"}}}],\"scatterternary\":[{\"type\":\"scatterternary\",\"marker\":{\"colorbar\":{\"outlinewidth\":0,\"ticks\":\"\"}}}],\"scattercarpet\":[{\"type\":\"scattercarpet\",\"marker\":{\"colorbar\":{\"outlinewidth\":0,\"ticks\":\"\"}}}],\"carpet\":[{\"aaxis\":{\"endlinecolor\":\"#2a3f5f\",\"gridcolor\":\"white\",\"linecolor\":\"white\",\"minorgridcolor\":\"white\",\"startlinecolor\":\"#2a3f5f\"},\"baxis\":{\"endlinecolor\":\"#2a3f5f\",\"gridcolor\":\"white\",\"linecolor\":\"white\",\"minorgridcolor\":\"white\",\"startlinecolor\":\"#2a3f5f\"},\"type\":\"carpet\"}],\"table\":[{\"cells\":{\"fill\":{\"color\":\"#EBF0F8\"},\"line\":{\"color\":\"white\"}},\"header\":{\"fill\":{\"color\":\"#C8D4E3\"},\"line\":{\"color\":\"white\"}},\"type\":\"table\"}],\"barpolar\":[{\"marker\":{\"line\":{\"color\":\"#E5ECF6\",\"width\":0.5},\"pattern\":{\"fillmode\":\"overlay\",\"size\":10,\"solidity\":0.2}},\"type\":\"barpolar\"}],\"pie\":[{\"automargin\":true,\"type\":\"pie\"}]},\"layout\":{\"autotypenumbers\":\"strict\",\"colorway\":[\"#636efa\",\"#EF553B\",\"#00cc96\",\"#ab63fa\",\"#FFA15A\",\"#19d3f3\",\"#FF6692\",\"#B6E880\",\"#FF97FF\",\"#FECB52\"],\"font\":{\"color\":\"#2a3f5f\"},\"hovermode\":\"closest\",\"hoverlabel\":{\"align\":\"left\"},\"paper_bgcolor\":\"white\",\"plot_bgcolor\":\"#E5ECF6\",\"polar\":{\"bgcolor\":\"#E5ECF6\",\"angularaxis\":{\"gridcolor\":\"white\",\"linecolor\":\"white\",\"ticks\":\"\"},\"radialaxis\":{\"gridcolor\":\"white\",\"linecolor\":\"white\",\"ticks\":\"\"}},\"ternary\":{\"bgcolor\":\"#E5ECF6\",\"aaxis\":{\"gridcolor\":\"white\",\"linecolor\":\"white\",\"ticks\":\"\"},\"baxis\":{\"gridcolor\":\"white\",\"linecolor\":\"white\",\"ticks\":\"\"},\"caxis\":{\"gridcolor\":\"white\",\"linecolor\":\"white\",\"ticks\":\"\"}},\"coloraxis\":{\"colorbar\":{\"outlinewidth\":0,\"ticks\":\"\"}},\"colorscale\":{\"sequential\":[[0.0,\"#0d0887\"],[0.1111111111111111,\"#46039f\"],[0.2222222222222222,\"#7201a8\"],[0.3333333333333333,\"#9c179e\"],[0.4444444444444444,\"#bd3786\"],[0.5555555555555556,\"#d8576b\"],[0.6666666666666666,\"#ed7953\"],[0.7777777777777778,\"#fb9f3a\"],[0.8888888888888888,\"#fdca26\"],[1.0,\"#f0f921\"]],\"sequentialminus\":[[0.0,\"#0d0887\"],[0.1111111111111111,\"#46039f\"],[0.2222222222222222,\"#7201a8\"],[0.3333333333333333,\"#9c179e\"],[0.4444444444444444,\"#bd3786\"],[0.5555555555555556,\"#d8576b\"],[0.6666666666666666,\"#ed7953\"],[0.7777777777777778,\"#fb9f3a\"],[0.8888888888888888,\"#fdca26\"],[1.0,\"#f0f921\"]],\"diverging\":[[0,\"#8e0152\"],[0.1,\"#c51b7d\"],[0.2,\"#de77ae\"],[0.3,\"#f1b6da\"],[0.4,\"#fde0ef\"],[0.5,\"#f7f7f7\"],[0.6,\"#e6f5d0\"],[0.7,\"#b8e186\"],[0.8,\"#7fbc41\"],[0.9,\"#4d9221\"],[1,\"#276419\"]]},\"xaxis\":{\"gridcolor\":\"white\",\"linecolor\":\"white\",\"ticks\":\"\",\"title\":{\"standoff\":15},\"zerolinecolor\":\"white\",\"automargin\":true,\"zerolinewidth\":2},\"yaxis\":{\"gridcolor\":\"white\",\"linecolor\":\"white\",\"ticks\":\"\",\"title\":{\"standoff\":15},\"zerolinecolor\":\"white\",\"automargin\":true,\"zerolinewidth\":2},\"scene\":{\"xaxis\":{\"backgroundcolor\":\"#E5ECF6\",\"gridcolor\":\"white\",\"linecolor\":\"white\",\"showbackground\":true,\"ticks\":\"\",\"zerolinecolor\":\"white\",\"gridwidth\":2},\"yaxis\":{\"backgroundcolor\":\"#E5ECF6\",\"gridcolor\":\"white\",\"linecolor\":\"white\",\"showbackground\":true,\"ticks\":\"\",\"zerolinecolor\":\"white\",\"gridwidth\":2},\"zaxis\":{\"backgroundcolor\":\"#E5ECF6\",\"gridcolor\":\"white\",\"linecolor\":\"white\",\"showbackground\":true,\"ticks\":\"\",\"zerolinecolor\":\"white\",\"gridwidth\":2}},\"shapedefaults\":{\"line\":{\"color\":\"#2a3f5f\"}},\"annotationdefaults\":{\"arrowcolor\":\"#2a3f5f\",\"arrowhead\":0,\"arrowwidth\":1},\"geo\":{\"bgcolor\":\"white\",\"landcolor\":\"#E5ECF6\",\"subunitcolor\":\"white\",\"showland\":true,\"showlakes\":true,\"lakecolor\":\"white\"},\"title\":{\"x\":0.05},\"mapbox\":{\"style\":\"light\"}}},\"showlegend\":false,\"title\":{\"text\":\"Printers and Bookseller of Incunables Books of Hours\"},\"hovermode\":\"closest\"},                        {\"responsive\": true}                    ).then(function(){\n",
       "                            \n",
       "var gd = document.getElementById('270e8965-88d0-4771-8f2f-1a62815d25ca');\n",
       "var x = new MutationObserver(function (mutations, observer) {{\n",
       "        var display = window.getComputedStyle(gd).display;\n",
       "        if (!display || display === 'none') {{\n",
       "            console.log([gd, 'removed!']);\n",
       "            Plotly.purge(gd);\n",
       "            observer.disconnect();\n",
       "        }}\n",
       "}});\n",
       "\n",
       "// Listen for the removal of the full notebook cells\n",
       "var notebookContainer = gd.closest('#notebook-container');\n",
       "if (notebookContainer) {{\n",
       "    x.observe(notebookContainer, {childList: true});\n",
       "}}\n",
       "\n",
       "// Listen for the clearing of the current output cell\n",
       "var outputEl = gd.closest('.output');\n",
       "if (outputEl) {{\n",
       "    x.observe(outputEl, {childList: true});\n",
       "}}\n",
       "\n",
       "                        })                };                });            </script>        </div>"
      ]
     },
     "metadata": {},
     "output_type": "display_data"
    }
   ],
   "source": [
    "\n",
    "import plotly\n",
    "import plotly.express as px\n",
    "import plotly.io as pio\n",
    "from plotly.subplots import make_subplots\n",
    "import plotly.graph_objects as go\n",
    "print(\"plotly : \", plotly.__version__)\n",
    "\n",
    "\n",
    "# Compute node positions using the spring layout algorithm\n",
    "pos = nx.spring_layout(G)\n",
    "\n",
    "# Create a Plotly figure\n",
    "fig = go.Figure()\n",
    "\n",
    "# Add nodes to the figure using go.Scatter\n",
    "for node, (x, y) in pos.items():\n",
    "    fig.add_trace(go.Scatter(\n",
    "        x=[x],\n",
    "        y=[y],\n",
    "        mode='markers',\n",
    "        marker=dict(size=10, color='skyblue'),\n",
    "        text=node,\n",
    "        hoverinfo='text'\n",
    "    ))\n",
    "\n",
    "# Add edges to the figure using go.Scatter\n",
    "for edge in G.edges():\n",
    "    x0, y0 = pos[edge[0]]\n",
    "    x1, y1 = pos[edge[1]]\n",
    "\n",
    "    fig.add_trace(go.Scatter(\n",
    "        x=[x0, x1, None],\n",
    "        y=[y0, y1, None],\n",
    "        mode='lines',\n",
    "        line=dict(color='black', width=1),\n",
    "        hoverinfo='none'\n",
    "    ))\n",
    "\n",
    "# Set layout options\n",
    "fig.update_layout(\n",
    "    showlegend=False,\n",
    "    title='Printers and Bookseller of Incunables Books of Hours',\n",
    "    hovermode='closest'\n",
    ")\n",
    "\n",
    "# Show the figure\n",
    "fig.show()\n",
    "\n",
    "\n",
    "# Write the figure to an HTML file\n",
    "pio.write_html(fig, file='GW-Printers-Booksellers-interactive_network_graph.html')"
   ]
  },
  {
   "cell_type": "code",
   "execution_count": null,
   "metadata": {},
   "outputs": [],
   "source": []
  }
 ],
 "metadata": {
  "kernelspec": {
   "display_name": "Python 3 (ipykernel)",
   "language": "python",
   "name": "python3"
  },
  "language_info": {
   "codemirror_mode": {
    "name": "ipython",
    "version": 3
   },
   "file_extension": ".py",
   "mimetype": "text/x-python",
   "name": "python",
   "nbconvert_exporter": "python",
   "pygments_lexer": "ipython3",
   "version": "3.11.5"
  },
  "vscode": {
   "interpreter": {
    "hash": "4cab2e3c59f82d31ef33573b56569893ba7388f3e17b6676d60d91498ea89ea5"
   }
  }
 },
 "nbformat": 4,
 "nbformat_minor": 4
}
